{
 "cells": [
  {
   "cell_type": "code",
   "execution_count": 1,
   "id": "795abc5b",
   "metadata": {},
   "outputs": [
    {
     "data": {
      "text/html": [
       "<div>\n",
       "<style scoped>\n",
       "    .dataframe tbody tr th:only-of-type {\n",
       "        vertical-align: middle;\n",
       "    }\n",
       "\n",
       "    .dataframe tbody tr th {\n",
       "        vertical-align: top;\n",
       "    }\n",
       "\n",
       "    .dataframe thead th {\n",
       "        text-align: right;\n",
       "    }\n",
       "</style>\n",
       "<table border=\"1\" class=\"dataframe\">\n",
       "  <thead>\n",
       "    <tr style=\"text-align: right;\">\n",
       "      <th></th>\n",
       "      <th>Number</th>\n",
       "      <th>Rating</th>\n",
       "      <th>Review</th>\n",
       "    </tr>\n",
       "  </thead>\n",
       "  <tbody>\n",
       "    <tr>\n",
       "      <th>0</th>\n",
       "      <td>1</td>\n",
       "      <td>Good</td>\n",
       "      <td>Flight was on time, aircraft clean, very good ...</td>\n",
       "    </tr>\n",
       "    <tr>\n",
       "      <th>1</th>\n",
       "      <td>2</td>\n",
       "      <td>Good</td>\n",
       "      <td>Great value flight at the right time from the ...</td>\n",
       "    </tr>\n",
       "    <tr>\n",
       "      <th>2</th>\n",
       "      <td>3</td>\n",
       "      <td>Good</td>\n",
       "      <td>We fly with this airline regularly and couldn’...</td>\n",
       "    </tr>\n",
       "    <tr>\n",
       "      <th>3</th>\n",
       "      <td>4</td>\n",
       "      <td>Good</td>\n",
       "      <td>I recently flew with Ryanair, and I was impres...</td>\n",
       "    </tr>\n",
       "    <tr>\n",
       "      <th>4</th>\n",
       "      <td>5</td>\n",
       "      <td>Good</td>\n",
       "      <td>The cabin crew was professional and friendly, ...</td>\n",
       "    </tr>\n",
       "  </tbody>\n",
       "</table>\n",
       "</div>"
      ],
      "text/plain": [
       "   Number Rating                                             Review\n",
       "0       1   Good  Flight was on time, aircraft clean, very good ...\n",
       "1       2   Good  Great value flight at the right time from the ...\n",
       "2       3   Good  We fly with this airline regularly and couldn’...\n",
       "3       4   Good  I recently flew with Ryanair, and I was impres...\n",
       "4       5   Good  The cabin crew was professional and friendly, ..."
      ]
     },
     "execution_count": 1,
     "metadata": {},
     "output_type": "execute_result"
    }
   ],
   "source": [
    "import pandas as pd\n",
    "import nltk\n",
    "\n",
    "import warnings\n",
    "warnings.filterwarnings('ignore') # We can suppress the warnings\n",
    "\n",
    "df = pd.read_csv('Sentiment_Analysis_Ryanair_Reviews.csv')\n",
    "\n",
    "df.head()"
   ]
  },
  {
   "cell_type": "code",
   "execution_count": 2,
   "id": "f50371a0",
   "metadata": {},
   "outputs": [
    {
     "name": "stdout",
     "output_type": "stream",
     "text": [
      "<class 'pandas.core.frame.DataFrame'>\n",
      "RangeIndex: 300 entries, 0 to 299\n",
      "Data columns (total 3 columns):\n",
      " #   Column  Non-Null Count  Dtype \n",
      "---  ------  --------------  ----- \n",
      " 0   Number  300 non-null    int64 \n",
      " 1   Rating  300 non-null    object\n",
      " 2   Review  300 non-null    object\n",
      "dtypes: int64(1), object(2)\n",
      "memory usage: 7.2+ KB\n"
     ]
    }
   ],
   "source": [
    "df.info()"
   ]
  },
  {
   "cell_type": "code",
   "execution_count": 3,
   "id": "52e1fa6d",
   "metadata": {},
   "outputs": [
    {
     "data": {
      "text/html": [
       "<div>\n",
       "<style scoped>\n",
       "    .dataframe tbody tr th:only-of-type {\n",
       "        vertical-align: middle;\n",
       "    }\n",
       "\n",
       "    .dataframe tbody tr th {\n",
       "        vertical-align: top;\n",
       "    }\n",
       "\n",
       "    .dataframe thead tr th {\n",
       "        text-align: left;\n",
       "    }\n",
       "\n",
       "    .dataframe thead tr:last-of-type th {\n",
       "        text-align: right;\n",
       "    }\n",
       "</style>\n",
       "<table border=\"1\" class=\"dataframe\">\n",
       "  <thead>\n",
       "    <tr>\n",
       "      <th></th>\n",
       "      <th colspan=\"8\" halign=\"left\">Number</th>\n",
       "    </tr>\n",
       "    <tr>\n",
       "      <th></th>\n",
       "      <th>count</th>\n",
       "      <th>mean</th>\n",
       "      <th>std</th>\n",
       "      <th>min</th>\n",
       "      <th>25%</th>\n",
       "      <th>50%</th>\n",
       "      <th>75%</th>\n",
       "      <th>max</th>\n",
       "    </tr>\n",
       "    <tr>\n",
       "      <th>Rating</th>\n",
       "      <th></th>\n",
       "      <th></th>\n",
       "      <th></th>\n",
       "      <th></th>\n",
       "      <th></th>\n",
       "      <th></th>\n",
       "      <th></th>\n",
       "      <th></th>\n",
       "    </tr>\n",
       "  </thead>\n",
       "  <tbody>\n",
       "    <tr>\n",
       "      <th>Bad</th>\n",
       "      <td>100.0</td>\n",
       "      <td>250.5</td>\n",
       "      <td>29.011492</td>\n",
       "      <td>201.0</td>\n",
       "      <td>225.75</td>\n",
       "      <td>250.5</td>\n",
       "      <td>275.25</td>\n",
       "      <td>300.0</td>\n",
       "    </tr>\n",
       "    <tr>\n",
       "      <th>Good</th>\n",
       "      <td>100.0</td>\n",
       "      <td>50.5</td>\n",
       "      <td>29.011492</td>\n",
       "      <td>1.0</td>\n",
       "      <td>25.75</td>\n",
       "      <td>50.5</td>\n",
       "      <td>75.25</td>\n",
       "      <td>100.0</td>\n",
       "    </tr>\n",
       "    <tr>\n",
       "      <th>Neutral</th>\n",
       "      <td>100.0</td>\n",
       "      <td>150.5</td>\n",
       "      <td>29.011492</td>\n",
       "      <td>101.0</td>\n",
       "      <td>125.75</td>\n",
       "      <td>150.5</td>\n",
       "      <td>175.25</td>\n",
       "      <td>200.0</td>\n",
       "    </tr>\n",
       "  </tbody>\n",
       "</table>\n",
       "</div>"
      ],
      "text/plain": [
       "        Number                                                       \n",
       "         count   mean        std    min     25%    50%     75%    max\n",
       "Rating                                                               \n",
       "Bad      100.0  250.5  29.011492  201.0  225.75  250.5  275.25  300.0\n",
       "Good     100.0   50.5  29.011492    1.0   25.75   50.5   75.25  100.0\n",
       "Neutral  100.0  150.5  29.011492  101.0  125.75  150.5  175.25  200.0"
      ]
     },
     "execution_count": 3,
     "metadata": {},
     "output_type": "execute_result"
    }
   ],
   "source": [
    "df.groupby('Rating').describe()"
   ]
  },
  {
   "cell_type": "code",
   "execution_count": 4,
   "id": "3bf9c722",
   "metadata": {},
   "outputs": [
    {
     "name": "stdout",
     "output_type": "stream",
     "text": [
      "0      Flight was on time, aircraft clean, very good ...\n",
      "1      Great value flight at the right time from the ...\n",
      "2      We fly with this airline regularly and couldn’...\n",
      "3      I recently flew with Ryanair, and I was impres...\n",
      "4      The cabin crew was professional and friendly, ...\n",
      "                             ...                        \n",
      "295    Another late departure, why do you recommend m...\n",
      "296    This airline is cheap, but they will find ways...\n",
      "297    Don't have priority by right for pregnants is ...\n",
      "298    Paid for a 10kg cabin bag online arrived at ga...\n",
      "299    Appalling...this company should go bankrupt. T...\n",
      "Name: Review, Length: 300, dtype: object\n"
     ]
    }
   ],
   "source": [
    "# Store the column of the dataframe named as \"text\"\n",
    "X = df['Review']\n",
    "\n",
    "# Display the value \"X\"\n",
    "print(X)"
   ]
  },
  {
   "cell_type": "code",
   "execution_count": 5,
   "id": "4a5bdb1a",
   "metadata": {},
   "outputs": [
    {
     "name": "stdout",
     "output_type": "stream",
     "text": [
      "0      Good\n",
      "1      Good\n",
      "2      Good\n",
      "3      Good\n",
      "4      Good\n",
      "       ... \n",
      "295     Bad\n",
      "296     Bad\n",
      "297     Bad\n",
      "298     Bad\n",
      "299     Bad\n",
      "Name: Rating, Length: 300, dtype: object\n"
     ]
    }
   ],
   "source": [
    "# Store the column if the dataframe named as  \"airline_sentiment\"\n",
    "y = df['Rating']\n",
    "\n",
    "# Display the column of the dataframe named as \"airline_sentiment\"\n",
    "print(y)"
   ]
  },
  {
   "cell_type": "markdown",
   "id": "ee76d839",
   "metadata": {},
   "source": [
    "# Cleaning Reviews"
   ]
  },
  {
   "cell_type": "code",
   "execution_count": 6,
   "id": "049ecc69",
   "metadata": {},
   "outputs": [
    {
     "data": {
      "text/html": [
       "<div>\n",
       "<style scoped>\n",
       "    .dataframe tbody tr th:only-of-type {\n",
       "        vertical-align: middle;\n",
       "    }\n",
       "\n",
       "    .dataframe tbody tr th {\n",
       "        vertical-align: top;\n",
       "    }\n",
       "\n",
       "    .dataframe thead tr th {\n",
       "        text-align: left;\n",
       "    }\n",
       "\n",
       "    .dataframe thead tr:last-of-type th {\n",
       "        text-align: right;\n",
       "    }\n",
       "</style>\n",
       "<table border=\"1\" class=\"dataframe\">\n",
       "  <thead>\n",
       "    <tr>\n",
       "      <th></th>\n",
       "      <th colspan=\"8\" halign=\"left\">Number</th>\n",
       "    </tr>\n",
       "    <tr>\n",
       "      <th></th>\n",
       "      <th>count</th>\n",
       "      <th>mean</th>\n",
       "      <th>std</th>\n",
       "      <th>min</th>\n",
       "      <th>25%</th>\n",
       "      <th>50%</th>\n",
       "      <th>75%</th>\n",
       "      <th>max</th>\n",
       "    </tr>\n",
       "    <tr>\n",
       "      <th>Rating</th>\n",
       "      <th></th>\n",
       "      <th></th>\n",
       "      <th></th>\n",
       "      <th></th>\n",
       "      <th></th>\n",
       "      <th></th>\n",
       "      <th></th>\n",
       "      <th></th>\n",
       "    </tr>\n",
       "  </thead>\n",
       "  <tbody>\n",
       "    <tr>\n",
       "      <th>Bad</th>\n",
       "      <td>100.0</td>\n",
       "      <td>250.5</td>\n",
       "      <td>29.011492</td>\n",
       "      <td>201.0</td>\n",
       "      <td>225.75</td>\n",
       "      <td>250.5</td>\n",
       "      <td>275.25</td>\n",
       "      <td>300.0</td>\n",
       "    </tr>\n",
       "    <tr>\n",
       "      <th>Good</th>\n",
       "      <td>100.0</td>\n",
       "      <td>50.5</td>\n",
       "      <td>29.011492</td>\n",
       "      <td>1.0</td>\n",
       "      <td>25.75</td>\n",
       "      <td>50.5</td>\n",
       "      <td>75.25</td>\n",
       "      <td>100.0</td>\n",
       "    </tr>\n",
       "    <tr>\n",
       "      <th>Neutral</th>\n",
       "      <td>100.0</td>\n",
       "      <td>150.5</td>\n",
       "      <td>29.011492</td>\n",
       "      <td>101.0</td>\n",
       "      <td>125.75</td>\n",
       "      <td>150.5</td>\n",
       "      <td>175.25</td>\n",
       "      <td>200.0</td>\n",
       "    </tr>\n",
       "  </tbody>\n",
       "</table>\n",
       "</div>"
      ],
      "text/plain": [
       "        Number                                                       \n",
       "         count   mean        std    min     25%    50%     75%    max\n",
       "Rating                                                               \n",
       "Bad      100.0  250.5  29.011492  201.0  225.75  250.5  275.25  300.0\n",
       "Good     100.0   50.5  29.011492    1.0   25.75   50.5   75.25  100.0\n",
       "Neutral  100.0  150.5  29.011492  101.0  125.75  150.5  175.25  200.0"
      ]
     },
     "execution_count": 6,
     "metadata": {},
     "output_type": "execute_result"
    }
   ],
   "source": [
    "df.groupby('Rating').describe()"
   ]
  },
  {
   "cell_type": "code",
   "execution_count": 7,
   "id": "00d056a3",
   "metadata": {},
   "outputs": [],
   "source": [
    "from sklearn.preprocessing import LabelEncoder\n",
    "label_encoder = LabelEncoder()\n",
    "df['Rating'] = label_encoder.fit_transform(df['Rating'])"
   ]
  },
  {
   "cell_type": "code",
   "execution_count": 8,
   "id": "6b694559",
   "metadata": {},
   "outputs": [
    {
     "data": {
      "text/html": [
       "<div>\n",
       "<style scoped>\n",
       "    .dataframe tbody tr th:only-of-type {\n",
       "        vertical-align: middle;\n",
       "    }\n",
       "\n",
       "    .dataframe tbody tr th {\n",
       "        vertical-align: top;\n",
       "    }\n",
       "\n",
       "    .dataframe thead tr th {\n",
       "        text-align: left;\n",
       "    }\n",
       "\n",
       "    .dataframe thead tr:last-of-type th {\n",
       "        text-align: right;\n",
       "    }\n",
       "</style>\n",
       "<table border=\"1\" class=\"dataframe\">\n",
       "  <thead>\n",
       "    <tr>\n",
       "      <th></th>\n",
       "      <th colspan=\"8\" halign=\"left\">Number</th>\n",
       "    </tr>\n",
       "    <tr>\n",
       "      <th></th>\n",
       "      <th>count</th>\n",
       "      <th>mean</th>\n",
       "      <th>std</th>\n",
       "      <th>min</th>\n",
       "      <th>25%</th>\n",
       "      <th>50%</th>\n",
       "      <th>75%</th>\n",
       "      <th>max</th>\n",
       "    </tr>\n",
       "    <tr>\n",
       "      <th>Rating</th>\n",
       "      <th></th>\n",
       "      <th></th>\n",
       "      <th></th>\n",
       "      <th></th>\n",
       "      <th></th>\n",
       "      <th></th>\n",
       "      <th></th>\n",
       "      <th></th>\n",
       "    </tr>\n",
       "  </thead>\n",
       "  <tbody>\n",
       "    <tr>\n",
       "      <th>0</th>\n",
       "      <td>100.0</td>\n",
       "      <td>250.5</td>\n",
       "      <td>29.011492</td>\n",
       "      <td>201.0</td>\n",
       "      <td>225.75</td>\n",
       "      <td>250.5</td>\n",
       "      <td>275.25</td>\n",
       "      <td>300.0</td>\n",
       "    </tr>\n",
       "    <tr>\n",
       "      <th>1</th>\n",
       "      <td>100.0</td>\n",
       "      <td>50.5</td>\n",
       "      <td>29.011492</td>\n",
       "      <td>1.0</td>\n",
       "      <td>25.75</td>\n",
       "      <td>50.5</td>\n",
       "      <td>75.25</td>\n",
       "      <td>100.0</td>\n",
       "    </tr>\n",
       "    <tr>\n",
       "      <th>2</th>\n",
       "      <td>100.0</td>\n",
       "      <td>150.5</td>\n",
       "      <td>29.011492</td>\n",
       "      <td>101.0</td>\n",
       "      <td>125.75</td>\n",
       "      <td>150.5</td>\n",
       "      <td>175.25</td>\n",
       "      <td>200.0</td>\n",
       "    </tr>\n",
       "  </tbody>\n",
       "</table>\n",
       "</div>"
      ],
      "text/plain": [
       "       Number                                                       \n",
       "        count   mean        std    min     25%    50%     75%    max\n",
       "Rating                                                              \n",
       "0       100.0  250.5  29.011492  201.0  225.75  250.5  275.25  300.0\n",
       "1       100.0   50.5  29.011492    1.0   25.75   50.5   75.25  100.0\n",
       "2       100.0  150.5  29.011492  101.0  125.75  150.5  175.25  200.0"
      ]
     },
     "execution_count": 8,
     "metadata": {},
     "output_type": "execute_result"
    }
   ],
   "source": [
    "df.groupby('Rating').describe()"
   ]
  },
  {
   "cell_type": "code",
   "execution_count": 9,
   "id": "da6a2d55",
   "metadata": {},
   "outputs": [
    {
     "name": "stderr",
     "output_type": "stream",
     "text": [
      "[nltk_data] Downloading package stopwords to\n",
      "[nltk_data]     C:\\Users\\jose\\AppData\\Roaming\\nltk_data...\n",
      "[nltk_data]   Package stopwords is already up-to-date!\n"
     ]
    }
   ],
   "source": [
    "from nltk.corpus import stopwords\n",
    "nltk.download('stopwords')\n",
    "\n",
    "import string\n",
    "from nltk.stem import PorterStemmer"
   ]
  },
  {
   "cell_type": "code",
   "execution_count": 10,
   "id": "32d741c8",
   "metadata": {},
   "outputs": [],
   "source": [
    "# Store the stopwords into the object named as \"stop_words\"\n",
    "stop_words = stopwords.words('english')\n",
    "\n",
    "# Store the string.punctuation into an object punct\n",
    "punct = string.punctuation\n",
    "\n",
    "# Initialise an object using a method PorterStemmer\n",
    "stemmer = PorterStemmer()"
   ]
  },
  {
   "cell_type": "code",
   "execution_count": 11,
   "id": "7f2646c2",
   "metadata": {},
   "outputs": [],
   "source": [
    "import re\n",
    "\n",
    "cleaned_data=[]\n",
    "\n",
    "# For loop from first value to length(X), ^a-zA-Z means include small and capital case letters\n",
    "\n",
    "for i in range(len(X)):\n",
    "    review = re.sub('[^a-zA-Z]', ' ', X.iloc[i])\n",
    "    review = review.lower().split()\n",
    "    review = [stemmer.stem(word) for word in review if (word not in stop_words) and (word not in punct)]\n",
    "    review = ' '.join(review)\n",
    "    cleaned_data.append(review)"
   ]
  },
  {
   "cell_type": "code",
   "execution_count": 12,
   "id": "3431edb3",
   "metadata": {},
   "outputs": [
    {
     "data": {
      "text/plain": [
       "['flight time aircraft clean good crew good leg room hour flight smooth good inform cockpit cabin crew paid return suck pay window seat front commun ryanair travel classic ancillari revenu email work fare permit one cabin bag one check bag look cost ba ei save massiv honest hour care food drink buy well done ryanair def use impress',\n",
       " 'great valu flight right time local airport staff alway friendli help suit need noth wrong',\n",
       " 'fli airlin regularli fault staff courteou friendli flight usual time never issu get compens coupl delay flight recent flight madeira arriv time felt safe skill captain madeira airport tricki howev land smooth',\n",
       " 'recent flew ryanair impress overal experi airlin offer frill cost effect option travel without compromis effici book process straightforward commit punctual evid throughout journey',\n",
       " 'cabin crew profession friendli make flight enjoy despit afford price seat comfort enough durat flight airlin dedic keep cost low reflect transpar price model allow passeng tailor experi accord need',\n",
       " 'addit amen may come extra cost appreci flexibl provid travel priorit budget friendli option overal ryanair provid reliabl econom choic look travel without break bank',\n",
       " 'travel often ryanair reliabl airlin time small delay airplan legroom often bigger regular cost airlin meal includ price mani regular cost airlin offer also noth like tap portug someth complet tasteless realiti get lower price almost servic averag airlin flight thessaloniki stockholm also pleasant experi usual cheap price valu money airlin',\n",
       " 'regular custom ryanair ove year know expect get pay bell whistl conveni cheap problem flight comfort could even got us min earli complain want someth fancier go elsewher budget airlin exactli get',\n",
       " 'flew berlin back ryanair fault punctual well organis cabin crew love posit fli experi',\n",
       " 'excel valu money basic frill great short flight servic great time staff nice friendli clean app realli help got regular updat email remind simpl straightforward headach travel famili kid',\n",
       " 'made big mistak person detail make book onlin marlena sort mani thank priceless help',\n",
       " 'flight alicant bristol flight slightli delay due mainten lead cabin crew fulli inform passeng lead cabin crew joy polit posit great leader',\n",
       " 'dread fli ryan air ba loyal custom honestli say realli posit experi',\n",
       " 'alway got everyth book cheap flight time check bag fast easi',\n",
       " 'must say flown mani time ryanair price servic alway excel love app also great check in',\n",
       " 'surpris ryanair depart time excel departur process return well experi arriv min earli',\n",
       " 'saw load bad review fli ryanair honestli say noth bad flight time delay staff love would percent fli also enough leg room',\n",
       " 'cannot fault ryanair staff brilliant flight enjoy would definit recommend',\n",
       " 'better legroom cleaner emir charg much though flight one way delay yet worth fli ryanair valu money',\n",
       " 'amaz fli ryanair print board pass work luton sort quickli polit amaz staff airport plane',\n",
       " 'flew cgn opo dtm ryanair complain got everyth book flight cheap flight time suit plan flight time fli ryanair',\n",
       " 'excel servic staff difficult circumst mani delay cancel updat info sent directli phone appear nice airport inform',\n",
       " 'good flight say minut late palma quick turn around minut fli ryanair com anytim leedsand bradford palma',\n",
       " 'better legroom cleaner emir charg much though flight one way delay yet worth fli ryanair valu money',\n",
       " 'fli year ryanair never issu luxuru pay bit attent book check overal fantast valu money',\n",
       " 'ryanair continu provid fast effici servic peopl complain airlin rememb like fli ireland realli high price ryanair offer freat servic great valu money',\n",
       " 'usual ryanair best price market fab flight bristol time land noth say cheap cheer great valu money',\n",
       " 'great valu money cheap qualiti flight wait polit staff cheap food drink recomand',\n",
       " 'alright famili thought ok know guy talk bad experi',\n",
       " 'world class super afford flight experi flight pula croatia stanst uk',\n",
       " 'far best airlin food amaz crew amaz far best thing ryanair price',\n",
       " 'good support center immedi respons call friendli staff good flight despit delay punctual',\n",
       " 'like say absolut brilliant servic special assist well happi servic first class',\n",
       " 'fault ryanair flown nearli ryanair flight last year never encount problem highli recommend',\n",
       " 'concern read neg review list baggag cancel flight problem would definit use',\n",
       " 'noth ever problem love friendli staff rememb get pay flown guy quit time year never anyth complain yet keep ryanair',\n",
       " 'thank agnieszka jose fantast servic wish ryanair employe like fli fr',\n",
       " 'member staff abl move seat partner could sit togeth ryanair said gay right',\n",
       " 'ryanair budget airlin get pay flight cologn stanst left time land earli cabin crew friendli complaint whatsoev',\n",
       " 'yet anoth cheap cheer flight time porto opinion cannot beat ryanair valu choic destin',\n",
       " 'thank great trip nice peopl around great chat good servic hope meet soon anoth good long chat sky',\n",
       " 'onlin check app realli good quick board nice staff good servic im absolut go ryanair first time ever',\n",
       " 'check onlin straight secur staff friendli gate board flight time everyth went smoothli',\n",
       " 'seat extrem comfort flight attend extrem kind would realli recommend airlin realli cheap fun fli',\n",
       " 'great job everyth perfect flight smooth fast servic okay got ask great servic price paid',\n",
       " 'ive fli ryanair sinc problem cabin crew usual friendli everyth good everytim fli',\n",
       " 'lisbon birmingham yet anoth cheap flight carrier flight littl delay issu aircraft clean tidi staff effici',\n",
       " 'book mani flight ryanair past year alway happi handl servic',\n",
       " 'excel airlin flown long time flight time board seamless significantli better low cost compani oper sofia airport',\n",
       " 'excel airlin new app easi use like ryanair long money pocket well card travel staff friendli also',\n",
       " 'got u paid terribl queue land safe fault friendli enough staff would recommend',\n",
       " 'ryanair good airlin dont understand hate come peopl land although sometim pretti rough time experi fine cheap problem legroom bit tight would recommend',\n",
       " 'flight okay late minut legroom enough short flight seat realli uncomfort price think perfect',\n",
       " 'flight cabin crew went plan fuss delay plane clean cabin crew friendli',\n",
       " 'flight june flight cancel french air strike ryanair rebook june back june plane comfort two half journey smoothli downsid flight cancel taken minut get touch ryanair help',\n",
       " 'first time flight ryanair plane clean servic good thing wrong coffe horribl tri food told food well',\n",
       " 'yet anoth cheap cheer flight okay coupl inconveni like chang outgo flight time earli morn even delay min way back take stride',\n",
       " 'great experi fli ryanair howev stop overbook flight staff friendli great tik tok page aswel love content',\n",
       " 'know get book price repeat book process time flight fact slow airport board',\n",
       " 'ok good journey staff pleasant well organis moan british pay extra luggag gate tri clever custom prewarn',\n",
       " 'behalf mother want say thank flight attend august sebastjan richter help flight heavi hand luggag',\n",
       " 'took flight birmingham dublin cheap flight get pay ok short flight comfort flight hour staff friendli',\n",
       " 'good staff limit legroom arm room expect fli low budget airlin smooth flight much turbul nice staff',\n",
       " 'fault ryanair flight took time leg room row better expect crew profession previou experi fli ryanair fli luggag may help',\n",
       " 'usual avoid cheap frill airlin ryanair get better fault flight either great crew process without issu great price',\n",
       " 'usual ryanair servic fairli basic go extra flight quit cheap say tin budget airlin frill food drink howev mighti expens take sandwich',\n",
       " 'past rubbish experi ryanair howev occas impress despit small delay clearli improv sinc last use',\n",
       " 'smooth airport flight far good see well done much appreci issu summer',\n",
       " 'smooth airport flight far good see well done much appreci issu summer',\n",
       " 'ryanair flight way time clean tidi good cabin crew staff know go get ryanair gener get pay good taxi ride',\n",
       " 'check secur quick board bit chaotic like mani flight day onboard leg room ok staff friendli pre order pizza chip kid thai green curri rice adult great arriv time baggag deliv quickli good flight',\n",
       " 'flight tenerif today servic absolut amaz airlin best terribl experi flight stewardess help welcom way enjoy',\n",
       " 'absolut smooth servic occas delay issu luggag courteou friendli cabin crew',\n",
       " 'prioriti went well even major patient seem plane full meal deal realli ok type flight friendli effici crew differ flight back',\n",
       " 'friendli help cabin crew excel flight captain nice experi without problem',\n",
       " 'found flight ancona london stanst ok check ok board ok flight ok problem peopl turn ppf mask extra luggag check',\n",
       " 'travel return malaga first time fli compani good expeiri journey polit pleasant staff',\n",
       " 'cheap qualiti travel realli budget airlin bu wing plane cheap seat comfort land hard that tradit',\n",
       " 'amaz land quit hard feel bumpi food realli good though howev recommend plane travel portug februari flight delay minut',\n",
       " 'great airlin great price except understand baggag polici get hit high extra fee paid enough baggag',\n",
       " 'mani peopl say compani good opinion one best low cost airlin abl fli less unthink year ago',\n",
       " 'good servic pleasant flight tall individu like recommend spend bit choos seat extra legroom overal good valu money',\n",
       " 'bad low cost compani thing improv overal pleasant fli',\n",
       " 'second time fli airlin realli good flight although foggi tenerif flight depart time',\n",
       " 'good experi delay check fast airport custom servic good',\n",
       " 'time polit ground handl staff covid precaut taken clen aircraft comfi seat ok stewardess make mani anounc board valu money',\n",
       " 'incred say michael leari must chang stanc master rude staff actual friendli help congratul',\n",
       " 'use ryan air yr alway calm safe sometim rude staff airplan choos ignor far content',\n",
       " 'like ryanair give chanc death ryanair good love new seat design good nice food oh cmon give ryanair tri pleas',\n",
       " 'hour flight pleasant surpris quick comfi friendli staff would continu recommend airlin short distanc',\n",
       " 'travel lockdown super offer plane almost empti enough space feel safe keep secur distanc',\n",
       " 'cheap effect revolutionis air travel europ much peopl complain continu travel enjoy cheap holiday',\n",
       " 'great airlin comfort flight arriv time staff great anyth need',\n",
       " 'manag go back home visit famili problem friendli staff good custom servic whole trip',\n",
       " 'outbound inbound flight time cabin servic ok frill expect paid exit seat plenti leg room everi possibl addit charg attach ok',\n",
       " 'brilliant flight ryanair flight time servic great amaz total recommend',\n",
       " 'good valu seem restrict premium sell allow everyon suitcas go overhead locker queue convinc work well',\n",
       " 'cheap airlin fast check need print ticket use ryanair app board pass staff friendli',\n",
       " 'flew liverpool anoth coupl th birthday first time ryanair complaint',\n",
       " 'plane full staff warm welcom whole experi simpli straightforward easi great valu money set bar look forward next flight let',\n",
       " 'despit littl notic part insur receiv full refund need cancel due lose parent expect thank',\n",
       " 'pretti okay mean enough space comfort seat okay drink coke good mean coke cant bad right low budget airlin good one',\n",
       " 'flight rather ok happen phone switch due weather reason enjoy thing flight lasagna non vegan',\n",
       " 'ryanair market cut price airlin frill seat space limit commun also credit card compromis shortli use flight sure coincid',\n",
       " 'teribl seat ever uncomfi caus frustrat long journey flight crew great seat like first bu seat hard dont reclin sat one posit take tole back fat peopl sit near make costrafob anxiou hour flight',\n",
       " 'quick flight pari barcelona thank late alway one thing make stress day travel fact onlin checkin aiport expens great manag onlin checkin',\n",
       " 'gave star aircraft bathroom clean importantli buy seat separ child parent think absolut illeg emerg situat child panic might someth wrong',\n",
       " 'purchas fast track ryanair flight faro porto back go fast track get pass ryanair seem sell servic pay airport easi money someth cannot actual sell pure rip',\n",
       " 'smell ok plane take fine flight fine land poor felt like plane jump',\n",
       " 'land time sat plane min wait slot park want midnight unaccept',\n",
       " 'flight attend rude insult passeng understood tire old impud impertin unaccept',\n",
       " 'cross wind take hard land got safe profession flight attend fli compani fit travel plan',\n",
       " 'flight grand plane staff deadli see littl gremlin check passport board pass gate th jan board would wanna take stick whole breath issu fantast air line fli',\n",
       " 'new type plane sit rear get minut peac cabin crew talk loud look ignor way italian crew member sat flight nothin talk loud could good flight guy loud',\n",
       " 'zara flight fr know let crew dont think pull weight other otherwis alway great',\n",
       " 'hour flight hour wait make uncomfort bottom perch flimsiest pad seat ever stiff neck also poorli pad headreast',\n",
       " 'ryanair mix reput reason well prioriti board though bit con almost everyon book take cabin bag board',\n",
       " 'wast money pay fast track none avail birmingham dublin airport ryanair happi take money even though servic avail',\n",
       " 'cheap option chair comfort staff constantli scream duti free promot also light late hour flight land midnight',\n",
       " 'round flight good arriv time check quick board okay comfort food drink okay expect bag arriv issu staff okay main benefit rout direct one uk genoa',\n",
       " 'offer compens deyal flight exapml coff voucher inform particulari deyal flight advanc',\n",
       " 'flight ryanair great delay last night ben gurion airport israel countri must avoid ryanair decid leav earlier announc whatsoev flight board show open gate last call plane alreadi left',\n",
       " 'least one suitcas ryanair turn inexpens bad time good servic',\n",
       " 'never problem ryanair like airlin book follow rule plane clean pilot crew good make pleasant experi',\n",
       " 'good flight overal depart quit late peopl queu set super comfort flight smooth return trip unev',\n",
       " 'call ryanair uk custom servic person mr ryan fail tell extra document requir print bring day flight knowledg brief note front current everyday chang govt rule guid passeng',\n",
       " 'expect get pay fact end work low fare get guess cannot say short flight mean know handl land gear speak one side land gear seem work guess book anyth els flight smooth take howev straight knicker smooth land thank co pilot would fli mayb ba avail',\n",
       " 'cheap ish ticket ad luggag flight ok unremark aircraft fairli clean crew ok carryon check point',\n",
       " 'oi tri use agift voucher last day cannot get book',\n",
       " 'low cost airlin littl custom servic care avoid pay extra fee carri larger suitcas check onlin pay attent everyth cheap use mani year continu',\n",
       " 'check went smoothli pay extra overweight ryanair precis time flight right',\n",
       " 'check realli bad one person desk wait least one hour otherwis ok',\n",
       " 'good staff good seat help onboard staff help us sinc babi let us row without anyon seat next us',\n",
       " 'trip ok part plane almost empti alloc seat person alreadi seat set ideal consid partner travel infant covid eventu ask seat somewher els room hostess accommod request',\n",
       " 'look like wait time boarder shorten howev hate wait outsid get plain start procedur bit later avoid us wait outsid part cheap good flight',\n",
       " 'flight cancel th juli ask refund email th octob say get chequ busi day still wait',\n",
       " 'plane full alway better servic good plane clean usual left time arriv earli',\n",
       " 'ryanair cancel refund trip tenerif end januari good sign let see trip advisor forthcom refund apart book la amer',\n",
       " 'airlin offer cheap ticket across multipl destin europ deliv qualiti price pay',\n",
       " 'airlin offer cheap ticket across europ deliv qualiti price pay quarantin flight got cancel receiv refund',\n",
       " 'covid distanc mani case peopl pack three row enough insist staff peopl wear mask correctli quit wear nose chin feel safe',\n",
       " 'flyt airlin say typic low cost minim servic flyt ok without delay also book ticket kyiv pari cancel due covid time propos receiv certif wait refund',\n",
       " 'flight tenerif strict measur place return flight crew enforc mask protocol numer passeng stand aisl mask airport health check document check day quarantin much differ spanish airport',\n",
       " 'ryanair probabl airlin best qualiti term servic custom support comfort could find time pre covid found nicer last time term legroomand seatcomfort would need someth',\n",
       " 'flight ok mayb littl late night mean arriv home late morn go work howev time enjoy day sardinia servic usual super loud make imposs sleep',\n",
       " 'got refund yeah hard arrang refund back card last week bad ryanair',\n",
       " 'lowcost airlin mani rule follow okay think could put peopl next ticket bought part pnr',\n",
       " 'ryanair cheapest compani travel europ time time choos import fli like christma strike someth happend difficult get anoth fli next hour',\n",
       " 'despit basic comfort h flight nice flight ryanair certainli corona time flight half full',\n",
       " 'airlin mean end best price pay expect take food onboard food rubbish price staff time good occas think favour',\n",
       " 'typic ryanair long stick polici fine buy anyth board take time effici',\n",
       " 'ryanair lowcost dont think expect anyth basic plane land fill peopl get next bunch get clean lot space comfort etc use ok price late charg',\n",
       " 'alway cheap experi never time that normal guess fli cheap servic best realli clean',\n",
       " 'typic ryan air flight delay hour go staff tri sell stuff constantli part job annoy staff never seem happi board usual hum drum ryan air',\n",
       " 'travel ryan air know like buy ticket want premium flight fli plane clean staff polit leg room small overal get want go would recommend',\n",
       " 'would like say flight good never problem compani sadli steward help rude due want happi occas noth airlin staff',\n",
       " 'flight arriv time seat confort must pay sit next spous kilo luggag plane clend two flight',\n",
       " 'good flight bournemouth airport small airport straightforward hassl problem flight time went well would recommend ryanair flight alicant',\n",
       " 'expect anyth fanci board air stair seat reclin economi level fli say time bonu',\n",
       " 'late board first wait gate stair minut tarmac minut cold wind sever peopl dress shirt servic board slow start girl busi chat get trolley readi hour flight offer refresh toilet properli clean wife use first',\n",
       " 'free airport transfer termin termin quick check prioriti book airport assist request book secur check fast enough time get coffe use toilet clean board okay except minut wait',\n",
       " 'fault ryanair never use often cheap servic alway good mean outstand budget airlin ate st time flight honestli panini love great servic fault',\n",
       " 'airport experi good delay holiday great sardinia fabulou weather peopl food drink excel',\n",
       " 'legroom expect servic poor flight time hate commerci sell lotteri ticket',\n",
       " 'ryanair refund flight even cancel within hour book leav review refer peopl',\n",
       " 'time nice flight crew greek went came back possit foreign compani taken kg suitcas made ticket book euro paid euro thing made check',\n",
       " 'budget airlin exactli get food drink price good maximum would hour condit flight prompt arriv way earli',\n",
       " 'cheap good valu book advanc worth everi penni also nice lunch flight staff good',\n",
       " 'ryanair flight usual time great keep chang price especi baggag confus flight fairli busi board easili probabl mani announc tri sell thing cabin staff friendli cost',\n",
       " 'flight bit noisi larg group passeng quit disropt ask flight crew number occas sit swop seat talk across passeng flight back much better',\n",
       " 'servic good flight took time consid weather flight attend friendli help also profession land howev bumpi think tbh could land plane blindfold better overal great valu though',\n",
       " 'nowher near qualiti similar budget airlin comfort seat poor food servic qualiti poor staff best see look though love job comparison airlin flown work would say mr leari',\n",
       " 'first time ryanair fli good board servic brilhant low coast acept entertenai exist',\n",
       " 'love fli ryanair cheap overal short flight took prioriti conveni',\n",
       " 'claim low cost airlin realli add extra seat uncomfort ever experienc',\n",
       " 'basic thrill cheap flight friendli attend neither eyebrow rais impress say',\n",
       " 'book cheap flight pragu flight typic economi flight ryanair staff friendli small seat drink snack expens expect',\n",
       " 'stop fli ryanair sinc setemb pula visit time found best lowest ticket price malta ryanair satisfi flight well servic receiv coud ask take account airfar price',\n",
       " 'get pay hr flight expect anyth much want get destin one piec want excel servic etc go somewher els pay extra',\n",
       " 'half hour late direct uncomfort seat littl leg room offer menu book came round take order tray way back dirti cheap flight frill',\n",
       " 'usual offer random seat flight quit okey easi way book quickest claim luggag',\n",
       " 'low budget airlin deliv mostli sell thrill everyth extra cost airlin differ plane clean crew friendli smooth land',\n",
       " 'hour flight well organ minu show blank window',\n",
       " 'delay problem luggag seat went plan arriv time possibl perform normal procedur without kind issu',\n",
       " 'everyth went smoothli check arriv anyth plane ryanair expens airlin would use',\n",
       " 'busi usual known advantag price flaw lack space lot walk order reach plane get destin harm done definit recommend low budget go elsewher otherwis',\n",
       " 'flight ok one way madrid london limit choic would like buy someth eat',\n",
       " 'ryanair get b frill pay extra get decent size cabin luggag bag prioriti book seat',\n",
       " 'cheap airlin cheap flight result cheap servic reduc air facil didnt mind low cost getaway birthday celebr frill flight ok',\n",
       " 'cheap cheer get pay mainli run time fast turn around seat exactli comfort',\n",
       " 'flight delay even though knew get airport check flight dublin left late inform until broado time wise alway',\n",
       " 'tri use ryanair find cheap alway delay pack like sardin',\n",
       " 'standard crew good low cost airlin holiday season price expens normal airlin',\n",
       " 'flight delay hour minut howev servic good crew te flight realli nice good flight overal',\n",
       " 'engin issu result hour delay commun poor fair compens quick acknowledg',\n",
       " 'serv trolley mani time food drink long land otherwis ok',\n",
       " 'fli anoth airlin possibl noth posit say flight spot time',\n",
       " 'check suitcas easi queu departur gate real pain good idea front rear load loos snooz cabin bag lost glass outward leg ryanair staff help',\n",
       " 'seat relax stay minut feel uncomfort imagin hour flight',\n",
       " 'ryanair simpl pay get',\n",
       " 'time destin back home get posibl freze outsid get hold back bord wait line buisniss need get wait free',\n",
       " 'checkin tri verifi book cannot unless date phone caus lot troubl end got someon thay troubl got end look anoth holiday',\n",
       " 'terribl delay steal peopl time hour delay time get plane would arriv destin anoth airlin',\n",
       " 'staff member friendli leg space lower budget airlin howev compani custom friendli us unabl pay food drink bank card',\n",
       " 'took flight itali romania forc pay euro backpack cm larger allow understand busi busi also mockeri would never fli ryanair ever',\n",
       " 'exhaust flight delay hour half put time current stand stair inform movement stuck stair pm wait excruci leav us sit go left stairway never',\n",
       " 'prioriti board myth luxembourg airport least ok sort passeng prioriti non prioriti passeng prioriti gate loung non prioriti get gate loung get mix take chanc',\n",
       " 'go ryanair allot say outrag unsanitari plane flight got delay nine flight alway delay',\n",
       " 'flew ryanair mayb occas everi time flight delay huge profit far year could least deliv spot servic',\n",
       " 'flight late plane incred untidi previou passeng crisp adorn floor brighter note crew pleasant enough flight cheap would nice sit someon els food though',\n",
       " 'good airlin seat dirti clean pay kg seat stiff reclin pad absolut disgust thing pleas crew friendli care',\n",
       " 'ryanair almost alway start late flight without reimburs cours rule alway strict client baggag kilo late check etc never',\n",
       " 'good thing ryanair cheap app user friendli fli frequent malmo zagreb back expirienc delay time last flight overbook delay without notic good luck fli ryanair',\n",
       " 'aw servic hour delay preboard leav jet way anoth minut done care long get money apolog noth',\n",
       " 'averag flight custom servic agent refus print pass seem annoy even ask said compani polici discuss final print one seem minor came bother help custom',\n",
       " 'went ryanair holiday way alright way back shock rude staff clean hard land angri peopl horrid fli airlin',\n",
       " 'lower fare plane alwatslay arriv depart staff averag onboard servic averag disorganis amateur profession',\n",
       " 'plan day trip santorini idea maxim time fli island earli morn depart last flight case flight delay lead longer wait airport reschedul activ',\n",
       " 'smallest cheapest uncomfort flight ever bigger averag ethiopian child terribl flight comfort',\n",
       " 'unhygen insect litter late flight long queue wait stair etc charg extra money everyth lot advertis sell board',\n",
       " 'made sure pay seat make sure spilt famili otherwis seat old',\n",
       " 'receiv messag even get citi hour away morn flight back home paid taxi realli hope get money back realli funni think ryanair custom much money account spend freak taxi',\n",
       " 'board ticket passport checker guy look passport ask old ofc accept repli gave passport back unnecceserali comment look much younger ok rude',\n",
       " 'ryanair direct personnel shannon airport peopl checkin counter limit capac solv problem terrifi make decis',\n",
       " 'feel like rip get go sone book last min deal morn phone ring afternoon book hotel told even up flight extra pay extra seat',\n",
       " 'ryanair check passeng hold step overcrowd seat bad air put warm freez tarmac done regul stop practic',\n",
       " 'board wors ever nobodi took account prioriti peopl prioriti went front rood personnel board gate',\n",
       " 'poor custom servic problem get readi play chat useless bot',\n",
       " 'poor custom servic secretli hidden extra price caus horribl issu aw horribl land worst airlin world',\n",
       " 'price ticket euro price check counter onlin euro comment necessari awar',\n",
       " 'crap compani alway delay matter season never time never advis',\n",
       " 'terribl kept us stair check ticket minut plane anoth hour dirt floor ugli last time ryanair',\n",
       " 'ryanair plane alway late vienna rhode flight stand hour late hour rhode vienna plane',\n",
       " 'appr flight stanst eindhoven time ryanair reliabl airlin',\n",
       " 'filthi seat hair sticki sweet left floor seat tray sticki drink spilt run seat front window dirti mucki finger print luggag bag dirti stow seat',\n",
       " 'hour late barrag shouti announc throughout flight made whole experi unnecessarili unpleas cheap ish cheer',\n",
       " 'simpli terribl late couldnt care less attitud cabin crew shout match ground crew checkin disgrac dont understand stay busi',\n",
       " 'care peopl put full bu wait front airplan alreadi wait min gate bu come',\n",
       " 'alway thought good way travel stone fit new type aircraft seat fit children shame let happen',\n",
       " 'first time ever year fli told put jacket overhead locker reserv prepaid luggag crew unfriendli pleasant fli',\n",
       " 'pilot butter bread land girl legit kid scream flight attend mean board absolut chao legroom ok never realli wors experi air koryo flight',\n",
       " 'week old plane seat tray dirti drink stain carpet plane max ryanair call name uncomfort seat ever travel knee tight seat front make sure kept elbow tuck aisl seat',\n",
       " 'lot bullc miss paper work turn lie technic error need go back termin wait ok happen got told would compens voucher eat drink sinc flight delay hour noon came hour search ryanair employe voucher nok joke voucher even cover l water bottl',\n",
       " 'wait month refund delay flight nobodi repli messag sever channel cabin crew impati rude',\n",
       " 'paid cabin bag peopl paid cabin bag bring rucksack cabin bag onboard',\n",
       " 'bitten back leg flight must flea seat carpet fast turnround time suppos time proper vacuum spray',\n",
       " 'departur almost time min late board went smoothli unfortun look plane clean flight',\n",
       " 'glad paid extra legroom husband tall sad idea extra legroom none',\n",
       " 'beauti relax flight ryanair glad arriv safe lanzarot realli annoy paid bu transfer accommod came option book flight dublin lanzarot nobodi show us pay taxi ask us pay transfer airport show us',\n",
       " 'peopl clap medal melt seat comfort upon arriv pay extra bag wish state flight first place',\n",
       " 'check process work app websit phone comput chat ryanair day flight said would solv solut airport charg insult ignor problem oblig pay would cancel flight last time peopl flight airlin',\n",
       " 'stuck flight ground refus let us fresh air hour food water',\n",
       " 'unless inch wait expect fasten seat belt paid extra leg room way way given seat belt extens way back legal switch seat',\n",
       " 'worst f flyight whole life buy watter e terribl never rynair',\n",
       " 'expens ticket poor custom support interest client opinion famili kid sleep airport floor commun ryanair',\n",
       " 'hour late go come littl often mislead inform provid untidi cabin top everyth',\n",
       " 'seat seat f floor seat front wall cover vomit one crew take care situat',\n",
       " 'ladi check passport flight told us bring hot drink plane rude drink basic full went plane attend said could bring drink disappoint',\n",
       " 'unpleas spanish check staff airport woman harass peopl unreason rude first last time lanzarot',\n",
       " 'worst airlin planet expens crap avoid airlin cost deliber separ famili member buy seat',\n",
       " 'cancel flight refund never offer worst costum support never help anyth almost lost mind tri deal',\n",
       " 'fit metal cage plenti space around yet want charg today flight glasgow lanzarot lack ethic human ryanair worst flight compani eveeer',\n",
       " 'delay come go ryanair farm flight anoth foreign budget airlin shock servic first last time incompet airlin advic avoid cost',\n",
       " 'ryanair worst airlin planet lie cheat gener lowest form human life top',\n",
       " 'first time travel ryanair last time never travel horribl',\n",
       " 'airplan tick cost dollar worth degrad horribl experi compani stand everyth never',\n",
       " 'horrend never use airlin avoid staff incred unpleas whole experi con tri ensur compani get money worst compani planet earth',\n",
       " 'never fli piec garbag airlin delay delay delay everi singl one flight delay',\n",
       " 'use card detail book someon els flight applic swap detail passeng detail ryanair want pay name chang passeng detail correct first place that scam avoid',\n",
       " 'airlin let check onlin requir cue collect board pass unless cours want pay addit amount check onlin',\n",
       " 'worst experi proper guidanc help airport charg money check baggag airport',\n",
       " 'forc queue airport print ticket unless pay extra buy seat mobil board pass without new low',\n",
       " 'forc queue airport print ticket unless pay extra buy seat mobil board pass without new low',\n",
       " 'ryanair unaccept made book intern flight issu invoic receipt compani work although book system let choos want invoic intern flight custom servic rude simpli care never book flight ryanair',\n",
       " 'flight delay apolog end fli differ airlin stanstead new low avoid worth',\n",
       " 'worst compani tri sell ticket dusseldorf actual stop weez airport km dusseldorf citi clear final destin',\n",
       " 'horribl experi take even free deni cost extra euro',\n",
       " 'hidden fee fee clearli state charg passeng mislead us bad custom servic',\n",
       " 'airport check fee hidden explicitli mention like fee book mislead peopl sooooo disappoint',\n",
       " 'worst experi ever pay sit togeth plan steward tri charg small bag plane even though size advertis free terribl experi stari finish never use avoid possibl',\n",
       " 'mani hidden fee worth check flight joke airlin free travel ryanair',\n",
       " 'worst air compani world never buy ticket flight cancel want refund money back',\n",
       " 'worst staff bergamo airport purpos make wait checkin close system incas issu checkin forc pay airport fee',\n",
       " 'uneth shadi hidden fee everi corner surpris secret breath air fee tell ahead time let check far ahead time also take cash nearli got strand oversea custom servic horribl worst airlin ever never use airlin',\n",
       " 'blond women work ryan air made pay check app work rude worker ever hope fire would never fli ryan air biggest joke',\n",
       " 'disgust cleanli one mani pictur attach aircraft unprofession accept everyon big luggag pillow three bag luggag accept size wheel complain steward desk start shout use swear word embarrass disgust compani ever',\n",
       " 'thiev took us pay onlin due websit work know pay regist person happen sever peopl give us money back scammer',\n",
       " 'airlin complet farc system work want charg incompet even look flight swissport incompet wors',\n",
       " 'horribl unfriendli cancel flight two day advanc care would reach final destin thing said suitabl ryanair flight next four day could get euro flight refund help much cours never ryanair',\n",
       " 'absolut horribl experi app let check regardless charg extortion amount check alreadi purchas cabin baggag still charg staff hopeless know go rude tbf fault work sh tti airlin terribl experi never',\n",
       " 'wait rina tirana airport hour side plane air condit ask glass water medic refus',\n",
       " 'ryan air horribl airlin never cheap rate big lie still get valu money',\n",
       " 'left strand foreign countri cancel flight refus refund flight trust',\n",
       " 'old airplan narrow old dirti seat seat half surfac normal postur',\n",
       " 'pay bag alreadi paid purchas ticket bought small bag hand luggag malta sofia issu back malta told pay pleas note purchas two way ticket luggag',\n",
       " 'anoth late departur recommend come h flught time departur still queue airpot could spend h product wait sort flight useless cheap price exus level servic',\n",
       " 'airlin cheap find way charg fee everi step way travel cannot refus pay rude sneaki take complet advantag would avoid use ryanair gladli pay higher price fare profession airlin least way know exactli much trip realli cost',\n",
       " 'prioriti right pregnant bad servic employe polit caus compani prioriti without pay woman right poor servic',\n",
       " 'paid kg cabin bag onlin arriv gate charg euro say check gate rip point tini print bottom ticket report consum complaint carri bag say prioriti allow overhead carri',\n",
       " 'appal compani go bankrupt flight miss due connect usher transfer go back secur next flight overbook get return back st flight came']"
      ]
     },
     "execution_count": 12,
     "metadata": {},
     "output_type": "execute_result"
    }
   ],
   "source": [
    "cleaned_data"
   ]
  },
  {
   "cell_type": "code",
   "execution_count": 13,
   "id": "3093a1f7",
   "metadata": {},
   "outputs": [
    {
     "name": "stdout",
     "output_type": "stream",
     "text": [
      "0      Good\n",
      "1      Good\n",
      "2      Good\n",
      "3      Good\n",
      "4      Good\n",
      "       ... \n",
      "295     Bad\n",
      "296     Bad\n",
      "297     Bad\n",
      "298     Bad\n",
      "299     Bad\n",
      "Name: Rating, Length: 300, dtype: object\n"
     ]
    }
   ],
   "source": [
    "print(y)"
   ]
  },
  {
   "cell_type": "code",
   "execution_count": 14,
   "id": "29b04d6c",
   "metadata": {},
   "outputs": [],
   "source": [
    "# Collect all columns into dataframe named as sentiment_ordering\n",
    "sentiment_ordering = ['Bad', 'Good', 'Neutral']\n",
    "\n",
    "# store all values into column named as \"y\"\n",
    "y = y.apply(lambda x: sentiment_ordering.index(x))"
   ]
  },
  {
   "cell_type": "code",
   "execution_count": 15,
   "id": "86dfe2ef",
   "metadata": {},
   "outputs": [
    {
     "data": {
      "text/plain": [
       "0    1\n",
       "1    1\n",
       "2    1\n",
       "3    1\n",
       "4    1\n",
       "Name: Rating, dtype: int64"
      ]
     },
     "execution_count": 15,
     "metadata": {},
     "output_type": "execute_result"
    }
   ],
   "source": [
    "y.head()"
   ]
  },
  {
   "cell_type": "markdown",
   "id": "ff1d185e",
   "metadata": {},
   "source": [
    "# Bag of Words using CountVectorizer"
   ]
  },
  {
   "cell_type": "code",
   "execution_count": 16,
   "id": "02528efb",
   "metadata": {},
   "outputs": [
    {
     "data": {
      "text/plain": [
       "(300, 1323)"
      ]
     },
     "execution_count": 16,
     "metadata": {},
     "output_type": "execute_result"
    }
   ],
   "source": [
    "from sklearn.feature_extraction.text import CountVectorizer\n",
    "\n",
    "# Instantiate an object cv by calling a method named as CountVectorzer()\n",
    "cv    = CountVectorizer( stop_words = ['ryanair', 'flight'])\n",
    "# max_features = 3000,\n",
    "\n",
    "# Train the dataset by calling a fit_transform() method\n",
    "X_fin = cv.fit_transform(cleaned_data).toarray()\n",
    "\n",
    "# Display the rows and colums\n",
    "X_fin.shape"
   ]
  },
  {
   "cell_type": "code",
   "execution_count": 39,
   "id": "54a56107",
   "metadata": {},
   "outputs": [
    {
     "name": "stdout",
     "output_type": "stream",
     "text": [
      "CountVectorizer(stop_words=['ryanair', 'flight'])\n"
     ]
    }
   ],
   "source": [
    "print(cv)"
   ]
  },
  {
   "cell_type": "code",
   "execution_count": 38,
   "id": "ad84f2db",
   "metadata": {},
   "outputs": [
    {
     "data": {
      "text/plain": [
       "array([[0, 0, 0, ..., 0, 0, 0],\n",
       "       [0, 0, 0, ..., 0, 0, 0],\n",
       "       [0, 0, 0, ..., 0, 0, 0],\n",
       "       ...,\n",
       "       [0, 0, 0, ..., 0, 0, 0],\n",
       "       [0, 0, 0, ..., 0, 0, 0],\n",
       "       [0, 0, 0, ..., 0, 0, 0]], dtype=int64)"
      ]
     },
     "execution_count": 38,
     "metadata": {},
     "output_type": "execute_result"
    }
   ],
   "source": [
    "X_fin"
   ]
  },
  {
   "cell_type": "code",
   "execution_count": 17,
   "id": "fa49ace7",
   "metadata": {},
   "outputs": [],
   "source": [
    "from sklearn.naive_bayes import MultinomialNB\n",
    "from sklearn.model_selection import train_test_split\n",
    "\n",
    "# Instantiate an object model by calling a method MultinomialNB()\n",
    "model = MultinomialNB()"
   ]
  },
  {
   "cell_type": "code",
   "execution_count": 18,
   "id": "25d84ab4",
   "metadata": {},
   "outputs": [],
   "source": [
    "# Split the dataset into training and testing parts\n",
    "X_train, X_test, y_train, y_test = train_test_split(X_fin, y, test_size = 0.3, random_state= 42)"
   ]
  },
  {
   "cell_type": "code",
   "execution_count": 19,
   "id": "fad3aa93",
   "metadata": {},
   "outputs": [
    {
     "data": {
      "text/html": [
       "<style>#sk-container-id-1 {color: black;}#sk-container-id-1 pre{padding: 0;}#sk-container-id-1 div.sk-toggleable {background-color: white;}#sk-container-id-1 label.sk-toggleable__label {cursor: pointer;display: block;width: 100%;margin-bottom: 0;padding: 0.3em;box-sizing: border-box;text-align: center;}#sk-container-id-1 label.sk-toggleable__label-arrow:before {content: \"▸\";float: left;margin-right: 0.25em;color: #696969;}#sk-container-id-1 label.sk-toggleable__label-arrow:hover:before {color: black;}#sk-container-id-1 div.sk-estimator:hover label.sk-toggleable__label-arrow:before {color: black;}#sk-container-id-1 div.sk-toggleable__content {max-height: 0;max-width: 0;overflow: hidden;text-align: left;background-color: #f0f8ff;}#sk-container-id-1 div.sk-toggleable__content pre {margin: 0.2em;color: black;border-radius: 0.25em;background-color: #f0f8ff;}#sk-container-id-1 input.sk-toggleable__control:checked~div.sk-toggleable__content {max-height: 200px;max-width: 100%;overflow: auto;}#sk-container-id-1 input.sk-toggleable__control:checked~label.sk-toggleable__label-arrow:before {content: \"▾\";}#sk-container-id-1 div.sk-estimator input.sk-toggleable__control:checked~label.sk-toggleable__label {background-color: #d4ebff;}#sk-container-id-1 div.sk-label input.sk-toggleable__control:checked~label.sk-toggleable__label {background-color: #d4ebff;}#sk-container-id-1 input.sk-hidden--visually {border: 0;clip: rect(1px 1px 1px 1px);clip: rect(1px, 1px, 1px, 1px);height: 1px;margin: -1px;overflow: hidden;padding: 0;position: absolute;width: 1px;}#sk-container-id-1 div.sk-estimator {font-family: monospace;background-color: #f0f8ff;border: 1px dotted black;border-radius: 0.25em;box-sizing: border-box;margin-bottom: 0.5em;}#sk-container-id-1 div.sk-estimator:hover {background-color: #d4ebff;}#sk-container-id-1 div.sk-parallel-item::after {content: \"\";width: 100%;border-bottom: 1px solid gray;flex-grow: 1;}#sk-container-id-1 div.sk-label:hover label.sk-toggleable__label {background-color: #d4ebff;}#sk-container-id-1 div.sk-serial::before {content: \"\";position: absolute;border-left: 1px solid gray;box-sizing: border-box;top: 0;bottom: 0;left: 50%;z-index: 0;}#sk-container-id-1 div.sk-serial {display: flex;flex-direction: column;align-items: center;background-color: white;padding-right: 0.2em;padding-left: 0.2em;position: relative;}#sk-container-id-1 div.sk-item {position: relative;z-index: 1;}#sk-container-id-1 div.sk-parallel {display: flex;align-items: stretch;justify-content: center;background-color: white;position: relative;}#sk-container-id-1 div.sk-item::before, #sk-container-id-1 div.sk-parallel-item::before {content: \"\";position: absolute;border-left: 1px solid gray;box-sizing: border-box;top: 0;bottom: 0;left: 50%;z-index: -1;}#sk-container-id-1 div.sk-parallel-item {display: flex;flex-direction: column;z-index: 1;position: relative;background-color: white;}#sk-container-id-1 div.sk-parallel-item:first-child::after {align-self: flex-end;width: 50%;}#sk-container-id-1 div.sk-parallel-item:last-child::after {align-self: flex-start;width: 50%;}#sk-container-id-1 div.sk-parallel-item:only-child::after {width: 0;}#sk-container-id-1 div.sk-dashed-wrapped {border: 1px dashed gray;margin: 0 0.4em 0.5em 0.4em;box-sizing: border-box;padding-bottom: 0.4em;background-color: white;}#sk-container-id-1 div.sk-label label {font-family: monospace;font-weight: bold;display: inline-block;line-height: 1.2em;}#sk-container-id-1 div.sk-label-container {text-align: center;}#sk-container-id-1 div.sk-container {/* jupyter's `normalize.less` sets `[hidden] { display: none; }` but bootstrap.min.css set `[hidden] { display: none !important; }` so we also need the `!important` here to be able to override the default hidden behavior on the sphinx rendered scikit-learn.org. See: https://github.com/scikit-learn/scikit-learn/issues/21755 */display: inline-block !important;position: relative;}#sk-container-id-1 div.sk-text-repr-fallback {display: none;}</style><div id=\"sk-container-id-1\" class=\"sk-top-container\"><div class=\"sk-text-repr-fallback\"><pre>MultinomialNB()</pre><b>In a Jupyter environment, please rerun this cell to show the HTML representation or trust the notebook. <br />On GitHub, the HTML representation is unable to render, please try loading this page with nbviewer.org.</b></div><div class=\"sk-container\" hidden><div class=\"sk-item\"><div class=\"sk-estimator sk-toggleable\"><input class=\"sk-toggleable__control sk-hidden--visually\" id=\"sk-estimator-id-1\" type=\"checkbox\" checked><label for=\"sk-estimator-id-1\" class=\"sk-toggleable__label sk-toggleable__label-arrow\">MultinomialNB</label><div class=\"sk-toggleable__content\"><pre>MultinomialNB()</pre></div></div></div></div></div>"
      ],
      "text/plain": [
       "MultinomialNB()"
      ]
     },
     "execution_count": 19,
     "metadata": {},
     "output_type": "execute_result"
    }
   ],
   "source": [
    "# Train the model by calling a method fit()\n",
    "model.fit(X_train,y_train)"
   ]
  },
  {
   "cell_type": "code",
   "execution_count": 20,
   "id": "372623ca",
   "metadata": {},
   "outputs": [],
   "source": [
    "# Call predict() method\n",
    "y_pred = model.predict(X_test)"
   ]
  },
  {
   "cell_type": "code",
   "execution_count": 21,
   "id": "a9fb52e1",
   "metadata": {},
   "outputs": [
    {
     "name": "stdout",
     "output_type": "stream",
     "text": [
      "              precision    recall  f1-score   support\n",
      "\n",
      "           0       0.77      0.63      0.69        27\n",
      "           1       0.56      0.66      0.61        35\n",
      "           2       0.41      0.39      0.40        28\n",
      "\n",
      "    accuracy                           0.57        90\n",
      "   macro avg       0.58      0.56      0.57        90\n",
      "weighted avg       0.58      0.57      0.57        90\n",
      "\n"
     ]
    }
   ],
   "source": [
    "from sklearn.metrics import classification_report\n",
    "\n",
    "# Instantiate a mthod named as Cla\n",
    "cf = classification_report(y_test, y_pred)\n",
    "\n",
    "# Display the values of an object cf\n",
    "print(cf)"
   ]
  },
  {
   "cell_type": "code",
   "execution_count": 22,
   "id": "fd1c1f0c",
   "metadata": {},
   "outputs": [
    {
     "data": {
      "text/plain": [
       "array([0.0011935 , 0.95580088, 0.04300562])"
      ]
     },
     "execution_count": 22,
     "metadata": {},
     "output_type": "execute_result"
    }
   ],
   "source": [
    "review = 'Good experience flying with them I recommend great friendly.'\n",
    "model.predict_proba(cv.transform([review]))[0]"
   ]
  },
  {
   "cell_type": "code",
   "execution_count": 23,
   "id": "2b7f4c15",
   "metadata": {},
   "outputs": [
    {
     "data": {
      "text/plain": [
       "array([0.00809985, 0.93435613, 0.05754403])"
      ]
     },
     "execution_count": 23,
     "metadata": {},
     "output_type": "execute_result"
    }
   ],
   "source": [
    "review = 'Excellent experience flying with them I recommend great friendly.'\n",
    "model.predict_proba(cv.transform([review]))[0]"
   ]
  },
  {
   "cell_type": "code",
   "execution_count": 24,
   "id": "607c3478",
   "metadata": {},
   "outputs": [
    {
     "data": {
      "text/plain": [
       "array([0.44488663, 0.11000383, 0.44510954])"
      ]
     },
     "execution_count": 24,
     "metadata": {},
     "output_type": "execute_result"
    }
   ],
   "source": [
    "review = 'poor experience with them I do not.'\n",
    "model.predict_proba(cv.transform([review]))[0]"
   ]
  },
  {
   "cell_type": "code",
   "execution_count": 25,
   "id": "2a5a5723",
   "metadata": {},
   "outputs": [
    {
     "data": {
      "text/plain": [
       "array([0.46653692, 0.19525542, 0.33820766])"
      ]
     },
     "execution_count": 25,
     "metadata": {},
     "output_type": "execute_result"
    }
   ],
   "source": [
    "review = 'bad experience avoid at all costs.'\n",
    "model.predict_proba(cv.transform([review]))[0]"
   ]
  },
  {
   "cell_type": "code",
   "execution_count": 26,
   "id": "206814fb",
   "metadata": {},
   "outputs": [
    {
     "data": {
      "text/plain": [
       "array([0.27818698, 0.13863413, 0.5831789 ])"
      ]
     },
     "execution_count": 26,
     "metadata": {},
     "output_type": "execute_result"
    }
   ],
   "source": [
    "review = 'What you pay is what you get low cost airline'\n",
    "model.predict_proba(cv.transform([review]))[0]"
   ]
  },
  {
   "cell_type": "code",
   "execution_count": 27,
   "id": "7b4ca2e8",
   "metadata": {},
   "outputs": [
    {
     "data": {
      "text/plain": [
       "0.1121153517628804"
      ]
     },
     "execution_count": 27,
     "metadata": {},
     "output_type": "execute_result"
    }
   ],
   "source": [
    "review = 'terrible experience flying with them I do not recommend.'\n",
    "model.predict_proba(cv.transform([review]))[0][2]"
   ]
  },
  {
   "cell_type": "code",
   "execution_count": 28,
   "id": "da56cffd",
   "metadata": {},
   "outputs": [
    {
     "data": {
      "text/plain": [
       "array([0.25086324, 0.33082187, 0.41831489])"
      ]
     },
     "execution_count": 28,
     "metadata": {},
     "output_type": "execute_result"
    }
   ],
   "source": [
    "review = 'terrible and bad experience travelling with ryanair.'\n",
    "model.predict_proba(cv.transform([review]))[0]"
   ]
  },
  {
   "cell_type": "code",
   "execution_count": 29,
   "id": "b043e3a9",
   "metadata": {},
   "outputs": [
    {
     "data": {
      "text/plain": [
       "array([0.00186711, 0.92278187, 0.07535102])"
      ]
     },
     "execution_count": 29,
     "metadata": {},
     "output_type": "execute_result"
    }
   ],
   "source": [
    "review = 'ryanair is a great company to fly with, great value for your money'\n",
    "model.predict_proba(cv.transform([review]))[0]"
   ]
  },
  {
   "cell_type": "markdown",
   "id": "aa7ef9b4",
   "metadata": {},
   "source": [
    "# Feature Generation using TF-IDF"
   ]
  },
  {
   "cell_type": "code",
   "execution_count": 30,
   "id": "e17c6d57",
   "metadata": {},
   "outputs": [],
   "source": [
    "from sklearn.feature_extraction.text import TfidfVectorizer\n",
    "\n",
    "# Create an object 'tf' by calling a method TfidfVectorizer()\n",
    "tfidf = TfidfVectorizer(max_features = 3000, stop_words = ['ryanair', 'flight']) \n",
    "\n",
    "# Train the dataset by calling a method fit_tranform() \n",
    "X_tfidf = tfidf.fit_transform(cleaned_data).toarray()"
   ]
  },
  {
   "cell_type": "code",
   "execution_count": 31,
   "id": "49446cc2",
   "metadata": {},
   "outputs": [],
   "source": [
    "from sklearn.naive_bayes import MultinomialNB\n",
    "from sklearn.model_selection import train_test_split\n",
    "\n",
    "# Instantiate an object model by calling a method MultinomialNB()\n",
    "model_tdidf = MultinomialNB()"
   ]
  },
  {
   "cell_type": "code",
   "execution_count": 32,
   "id": "688e14ea",
   "metadata": {},
   "outputs": [],
   "source": [
    "# Split the dataset into training and testing parts\n",
    "X_train, X_test, y_train, y_test = train_test_split(X_tfidf, y, test_size = 0.3)"
   ]
  },
  {
   "cell_type": "code",
   "execution_count": 33,
   "id": "953383a4",
   "metadata": {},
   "outputs": [
    {
     "data": {
      "text/html": [
       "<style>#sk-container-id-2 {color: black;}#sk-container-id-2 pre{padding: 0;}#sk-container-id-2 div.sk-toggleable {background-color: white;}#sk-container-id-2 label.sk-toggleable__label {cursor: pointer;display: block;width: 100%;margin-bottom: 0;padding: 0.3em;box-sizing: border-box;text-align: center;}#sk-container-id-2 label.sk-toggleable__label-arrow:before {content: \"▸\";float: left;margin-right: 0.25em;color: #696969;}#sk-container-id-2 label.sk-toggleable__label-arrow:hover:before {color: black;}#sk-container-id-2 div.sk-estimator:hover label.sk-toggleable__label-arrow:before {color: black;}#sk-container-id-2 div.sk-toggleable__content {max-height: 0;max-width: 0;overflow: hidden;text-align: left;background-color: #f0f8ff;}#sk-container-id-2 div.sk-toggleable__content pre {margin: 0.2em;color: black;border-radius: 0.25em;background-color: #f0f8ff;}#sk-container-id-2 input.sk-toggleable__control:checked~div.sk-toggleable__content {max-height: 200px;max-width: 100%;overflow: auto;}#sk-container-id-2 input.sk-toggleable__control:checked~label.sk-toggleable__label-arrow:before {content: \"▾\";}#sk-container-id-2 div.sk-estimator input.sk-toggleable__control:checked~label.sk-toggleable__label {background-color: #d4ebff;}#sk-container-id-2 div.sk-label input.sk-toggleable__control:checked~label.sk-toggleable__label {background-color: #d4ebff;}#sk-container-id-2 input.sk-hidden--visually {border: 0;clip: rect(1px 1px 1px 1px);clip: rect(1px, 1px, 1px, 1px);height: 1px;margin: -1px;overflow: hidden;padding: 0;position: absolute;width: 1px;}#sk-container-id-2 div.sk-estimator {font-family: monospace;background-color: #f0f8ff;border: 1px dotted black;border-radius: 0.25em;box-sizing: border-box;margin-bottom: 0.5em;}#sk-container-id-2 div.sk-estimator:hover {background-color: #d4ebff;}#sk-container-id-2 div.sk-parallel-item::after {content: \"\";width: 100%;border-bottom: 1px solid gray;flex-grow: 1;}#sk-container-id-2 div.sk-label:hover label.sk-toggleable__label {background-color: #d4ebff;}#sk-container-id-2 div.sk-serial::before {content: \"\";position: absolute;border-left: 1px solid gray;box-sizing: border-box;top: 0;bottom: 0;left: 50%;z-index: 0;}#sk-container-id-2 div.sk-serial {display: flex;flex-direction: column;align-items: center;background-color: white;padding-right: 0.2em;padding-left: 0.2em;position: relative;}#sk-container-id-2 div.sk-item {position: relative;z-index: 1;}#sk-container-id-2 div.sk-parallel {display: flex;align-items: stretch;justify-content: center;background-color: white;position: relative;}#sk-container-id-2 div.sk-item::before, #sk-container-id-2 div.sk-parallel-item::before {content: \"\";position: absolute;border-left: 1px solid gray;box-sizing: border-box;top: 0;bottom: 0;left: 50%;z-index: -1;}#sk-container-id-2 div.sk-parallel-item {display: flex;flex-direction: column;z-index: 1;position: relative;background-color: white;}#sk-container-id-2 div.sk-parallel-item:first-child::after {align-self: flex-end;width: 50%;}#sk-container-id-2 div.sk-parallel-item:last-child::after {align-self: flex-start;width: 50%;}#sk-container-id-2 div.sk-parallel-item:only-child::after {width: 0;}#sk-container-id-2 div.sk-dashed-wrapped {border: 1px dashed gray;margin: 0 0.4em 0.5em 0.4em;box-sizing: border-box;padding-bottom: 0.4em;background-color: white;}#sk-container-id-2 div.sk-label label {font-family: monospace;font-weight: bold;display: inline-block;line-height: 1.2em;}#sk-container-id-2 div.sk-label-container {text-align: center;}#sk-container-id-2 div.sk-container {/* jupyter's `normalize.less` sets `[hidden] { display: none; }` but bootstrap.min.css set `[hidden] { display: none !important; }` so we also need the `!important` here to be able to override the default hidden behavior on the sphinx rendered scikit-learn.org. See: https://github.com/scikit-learn/scikit-learn/issues/21755 */display: inline-block !important;position: relative;}#sk-container-id-2 div.sk-text-repr-fallback {display: none;}</style><div id=\"sk-container-id-2\" class=\"sk-top-container\"><div class=\"sk-text-repr-fallback\"><pre>MultinomialNB()</pre><b>In a Jupyter environment, please rerun this cell to show the HTML representation or trust the notebook. <br />On GitHub, the HTML representation is unable to render, please try loading this page with nbviewer.org.</b></div><div class=\"sk-container\" hidden><div class=\"sk-item\"><div class=\"sk-estimator sk-toggleable\"><input class=\"sk-toggleable__control sk-hidden--visually\" id=\"sk-estimator-id-2\" type=\"checkbox\" checked><label for=\"sk-estimator-id-2\" class=\"sk-toggleable__label sk-toggleable__label-arrow\">MultinomialNB</label><div class=\"sk-toggleable__content\"><pre>MultinomialNB()</pre></div></div></div></div></div>"
      ],
      "text/plain": [
       "MultinomialNB()"
      ]
     },
     "execution_count": 33,
     "metadata": {},
     "output_type": "execute_result"
    }
   ],
   "source": [
    "# Train the model by calling a method fit()\n",
    "model_tdidf.fit(X_train, y_train)"
   ]
  },
  {
   "cell_type": "code",
   "execution_count": 34,
   "id": "8e67593b",
   "metadata": {},
   "outputs": [],
   "source": [
    "# Call predict() method\n",
    "y_pred = model_tdidf.predict(X_test)"
   ]
  },
  {
   "cell_type": "code",
   "execution_count": 35,
   "id": "b43716cd",
   "metadata": {},
   "outputs": [
    {
     "name": "stdout",
     "output_type": "stream",
     "text": [
      "              precision    recall  f1-score   support\n",
      "\n",
      "           0       0.76      0.47      0.58        34\n",
      "           1       0.45      0.67      0.54        27\n",
      "           2       0.38      0.38      0.38        29\n",
      "\n",
      "    accuracy                           0.50        90\n",
      "   macro avg       0.53      0.51      0.50        90\n",
      "weighted avg       0.55      0.50      0.50        90\n",
      "\n"
     ]
    }
   ],
   "source": [
    "from sklearn.metrics import classification_report\n",
    "\n",
    "# Instantiate a mthod named as Cla\n",
    "cf = classification_report(y_test, y_pred)\n",
    "\n",
    "# Display the values of an object cf\n",
    "print(cf)"
   ]
  },
  {
   "cell_type": "code",
   "execution_count": 36,
   "id": "ec860aa0",
   "metadata": {},
   "outputs": [
    {
     "data": {
      "text/plain": [
       "array([0.25086324, 0.33082187, 0.41831489])"
      ]
     },
     "execution_count": 36,
     "metadata": {},
     "output_type": "execute_result"
    }
   ],
   "source": [
    "review = 'terrible and bad experience travelling with ryanair.'\n",
    "model.predict_proba(cv.transform([review]))[0]"
   ]
  },
  {
   "cell_type": "code",
   "execution_count": null,
   "id": "59a02f68",
   "metadata": {},
   "outputs": [],
   "source": []
  }
 ],
 "metadata": {
  "kernelspec": {
   "display_name": "Python 3 (ipykernel)",
   "language": "python",
   "name": "python3"
  },
  "language_info": {
   "codemirror_mode": {
    "name": "ipython",
    "version": 3
   },
   "file_extension": ".py",
   "mimetype": "text/x-python",
   "name": "python",
   "nbconvert_exporter": "python",
   "pygments_lexer": "ipython3",
   "version": "3.11.5"
  }
 },
 "nbformat": 4,
 "nbformat_minor": 5
}
