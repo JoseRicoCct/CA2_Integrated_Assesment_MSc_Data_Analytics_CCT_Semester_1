{
 "cells": [
  {
   "cell_type": "code",
   "execution_count": 1,
   "id": "795abc5b",
   "metadata": {},
   "outputs": [],
   "source": [
    "# Importing needed packages:\n",
    "\n",
    "import pandas as pd                                          # version: 2.0.3\n",
    "import nltk                                                  # version: 3.8.1\n",
    "from sklearn.preprocessing import LabelEncoder               # version scikit-learn: 1.3.0\n",
    "from sklearn.feature_extraction.text import CountVectorizer  # version scikit-learn: 1.3.0\n",
    "from sklearn.model_selection import train_test_split         # version scikit-learn: 1.3.0\n",
    "from sklearn.naive_bayes import MultinomialNB                # version scikit-learn: 1.3.0\n",
    "from sklearn.metrics import confusion_matrix, roc_curve, auc # version scikit-learn: 1.3.0\n",
    "import matplotlib.pyplot as plt                              # version: 3.7.2\n",
    "import seaborn as sns                                        # version: 0.12.2"
   ]
  },
  {
   "cell_type": "code",
   "execution_count": null,
   "id": "75f7e903",
   "metadata": {},
   "outputs": [],
   "source": [
    "import warnings\n",
    "warnings.filterwarnings('ignore') # We can suppress the warnings"
   ]
  },
  {
   "cell_type": "code",
   "execution_count": 2,
   "id": "f91b3731",
   "metadata": {},
   "outputs": [],
   "source": [
    "df = pd.read_csv('Sentiment_Analysis_Ryanair_Reviews.csv')\n",
    "df1 = pd.read_csv('Tweets.csv')"
   ]
  },
  {
   "cell_type": "code",
   "execution_count": 3,
   "id": "aca3f66c",
   "metadata": {},
   "outputs": [
    {
     "data": {
      "text/html": [
       "<div>\n",
       "<style scoped>\n",
       "    .dataframe tbody tr th:only-of-type {\n",
       "        vertical-align: middle;\n",
       "    }\n",
       "\n",
       "    .dataframe tbody tr th {\n",
       "        vertical-align: top;\n",
       "    }\n",
       "\n",
       "    .dataframe thead th {\n",
       "        text-align: right;\n",
       "    }\n",
       "</style>\n",
       "<table border=\"1\" class=\"dataframe\">\n",
       "  <thead>\n",
       "    <tr style=\"text-align: right;\">\n",
       "      <th></th>\n",
       "      <th>Number</th>\n",
       "      <th>Rating</th>\n",
       "      <th>Review</th>\n",
       "    </tr>\n",
       "  </thead>\n",
       "  <tbody>\n",
       "    <tr>\n",
       "      <th>0</th>\n",
       "      <td>1</td>\n",
       "      <td>Bad</td>\n",
       "      <td>Not on time. Not to destination or back home. ...</td>\n",
       "    </tr>\n",
       "    <tr>\n",
       "      <th>1</th>\n",
       "      <td>2</td>\n",
       "      <td>Bad</td>\n",
       "      <td>Checkin If you are trying to verify your booki...</td>\n",
       "    </tr>\n",
       "    <tr>\n",
       "      <th>2</th>\n",
       "      <td>3</td>\n",
       "      <td>Bad</td>\n",
       "      <td>Terrible delays. Stealing people's time. 2 hou...</td>\n",
       "    </tr>\n",
       "    <tr>\n",
       "      <th>3</th>\n",
       "      <td>4</td>\n",
       "      <td>Bad</td>\n",
       "      <td>The staff members were friendly and there was ...</td>\n",
       "    </tr>\n",
       "    <tr>\n",
       "      <th>4</th>\n",
       "      <td>5</td>\n",
       "      <td>Bad</td>\n",
       "      <td>I took a flight from Italy to Romania and they...</td>\n",
       "    </tr>\n",
       "  </tbody>\n",
       "</table>\n",
       "</div>"
      ],
      "text/plain": [
       "   Number Rating                                             Review\n",
       "0       1    Bad  Not on time. Not to destination or back home. ...\n",
       "1       2    Bad  Checkin If you are trying to verify your booki...\n",
       "2       3    Bad  Terrible delays. Stealing people's time. 2 hou...\n",
       "3       4    Bad  The staff members were friendly and there was ...\n",
       "4       5    Bad  I took a flight from Italy to Romania and they..."
      ]
     },
     "execution_count": 3,
     "metadata": {},
     "output_type": "execute_result"
    }
   ],
   "source": [
    "df.head()"
   ]
  },
  {
   "cell_type": "code",
   "execution_count": 4,
   "id": "b605a52b",
   "metadata": {},
   "outputs": [
    {
     "name": "stdout",
     "output_type": "stream",
     "text": [
      "<class 'pandas.core.frame.DataFrame'>\n",
      "RangeIndex: 600 entries, 0 to 599\n",
      "Data columns (total 3 columns):\n",
      " #   Column  Non-Null Count  Dtype \n",
      "---  ------  --------------  ----- \n",
      " 0   Number  600 non-null    int64 \n",
      " 1   Rating  600 non-null    object\n",
      " 2   Review  600 non-null    object\n",
      "dtypes: int64(1), object(2)\n",
      "memory usage: 14.2+ KB\n"
     ]
    }
   ],
   "source": [
    "df.info()"
   ]
  },
  {
   "cell_type": "code",
   "execution_count": 5,
   "id": "6f83654d",
   "metadata": {},
   "outputs": [
    {
     "name": "stdout",
     "output_type": "stream",
     "text": [
      "<class 'pandas.core.frame.DataFrame'>\n",
      "RangeIndex: 14640 entries, 0 to 14639\n",
      "Data columns (total 15 columns):\n",
      " #   Column                        Non-Null Count  Dtype  \n",
      "---  ------                        --------------  -----  \n",
      " 0   tweet_id                      14640 non-null  int64  \n",
      " 1   airline_sentiment             14640 non-null  object \n",
      " 2   airline_sentiment_confidence  14640 non-null  float64\n",
      " 3   negativereason                9178 non-null   object \n",
      " 4   negativereason_confidence     10522 non-null  float64\n",
      " 5   airline                       14640 non-null  object \n",
      " 6   airline_sentiment_gold        40 non-null     object \n",
      " 7   name                          14640 non-null  object \n",
      " 8   negativereason_gold           32 non-null     object \n",
      " 9   retweet_count                 14640 non-null  int64  \n",
      " 10  text                          14640 non-null  object \n",
      " 11  tweet_coord                   1019 non-null   object \n",
      " 12  tweet_created                 14640 non-null  object \n",
      " 13  tweet_location                9907 non-null   object \n",
      " 14  user_timezone                 9820 non-null   object \n",
      "dtypes: float64(2), int64(2), object(11)\n",
      "memory usage: 1.7+ MB\n"
     ]
    }
   ],
   "source": [
    "df1.info()"
   ]
  },
  {
   "cell_type": "markdown",
   "id": "7963571b",
   "metadata": {},
   "source": [
    "Cleaning a bit *Tweets.csv* dataset:"
   ]
  },
  {
   "cell_type": "code",
   "execution_count": 6,
   "id": "78180e24",
   "metadata": {},
   "outputs": [
    {
     "data": {
      "text/html": [
       "<div>\n",
       "<style scoped>\n",
       "    .dataframe tbody tr th:only-of-type {\n",
       "        vertical-align: middle;\n",
       "    }\n",
       "\n",
       "    .dataframe tbody tr th {\n",
       "        vertical-align: top;\n",
       "    }\n",
       "\n",
       "    .dataframe thead th {\n",
       "        text-align: right;\n",
       "    }\n",
       "</style>\n",
       "<table border=\"1\" class=\"dataframe\">\n",
       "  <thead>\n",
       "    <tr style=\"text-align: right;\">\n",
       "      <th></th>\n",
       "      <th>tweet_id</th>\n",
       "      <th>airline_sentiment</th>\n",
       "      <th>text</th>\n",
       "    </tr>\n",
       "  </thead>\n",
       "  <tbody>\n",
       "    <tr>\n",
       "      <th>0</th>\n",
       "      <td>570306133677760513</td>\n",
       "      <td>neutral</td>\n",
       "      <td>@VirginAmerica What @dhepburn said.</td>\n",
       "    </tr>\n",
       "    <tr>\n",
       "      <th>1</th>\n",
       "      <td>570301130888122368</td>\n",
       "      <td>positive</td>\n",
       "      <td>@VirginAmerica plus you've added commercials t...</td>\n",
       "    </tr>\n",
       "    <tr>\n",
       "      <th>2</th>\n",
       "      <td>570301083672813571</td>\n",
       "      <td>neutral</td>\n",
       "      <td>@VirginAmerica I didn't today... Must mean I n...</td>\n",
       "    </tr>\n",
       "    <tr>\n",
       "      <th>3</th>\n",
       "      <td>570301031407624196</td>\n",
       "      <td>negative</td>\n",
       "      <td>@VirginAmerica it's really aggressive to blast...</td>\n",
       "    </tr>\n",
       "    <tr>\n",
       "      <th>4</th>\n",
       "      <td>570300817074462722</td>\n",
       "      <td>negative</td>\n",
       "      <td>@VirginAmerica and it's a really big bad thing...</td>\n",
       "    </tr>\n",
       "  </tbody>\n",
       "</table>\n",
       "</div>"
      ],
      "text/plain": [
       "             tweet_id airline_sentiment  \\\n",
       "0  570306133677760513           neutral   \n",
       "1  570301130888122368          positive   \n",
       "2  570301083672813571           neutral   \n",
       "3  570301031407624196          negative   \n",
       "4  570300817074462722          negative   \n",
       "\n",
       "                                                text  \n",
       "0                @VirginAmerica What @dhepburn said.  \n",
       "1  @VirginAmerica plus you've added commercials t...  \n",
       "2  @VirginAmerica I didn't today... Must mean I n...  \n",
       "3  @VirginAmerica it's really aggressive to blast...  \n",
       "4  @VirginAmerica and it's a really big bad thing...  "
      ]
     },
     "execution_count": 6,
     "metadata": {},
     "output_type": "execute_result"
    }
   ],
   "source": [
    "# Dropping the 'STATISTIC Label' column it's irrelevant for the analysis\n",
    "sdf_col_drop = ['airline_sentiment_confidence','negativereason','negativereason_confidence','airline','airline_sentiment_gold',\n",
    "               'name','negativereason_gold','retweet_count','tweet_coord','tweet_created','tweet_location','user_timezone']\n",
    "df1.drop(sdf_col_drop ,axis=1, inplace=True) \n",
    "df1.head()"
   ]
  },
  {
   "cell_type": "code",
   "execution_count": 7,
   "id": "c030aaf7",
   "metadata": {},
   "outputs": [
    {
     "name": "stdout",
     "output_type": "stream",
     "text": [
      "<class 'pandas.core.frame.DataFrame'>\n",
      "RangeIndex: 14640 entries, 0 to 14639\n",
      "Data columns (total 3 columns):\n",
      " #   Column             Non-Null Count  Dtype \n",
      "---  ------             --------------  ----- \n",
      " 0   tweet_id           14640 non-null  int64 \n",
      " 1   airline_sentiment  14640 non-null  object\n",
      " 2   text               14640 non-null  object\n",
      "dtypes: int64(1), object(2)\n",
      "memory usage: 343.3+ KB\n"
     ]
    }
   ],
   "source": [
    "df1.info()"
   ]
  },
  {
   "cell_type": "code",
   "execution_count": 8,
   "id": "fdc0ff2f",
   "metadata": {},
   "outputs": [
    {
     "data": {
      "text/html": [
       "<div>\n",
       "<style scoped>\n",
       "    .dataframe tbody tr th:only-of-type {\n",
       "        vertical-align: middle;\n",
       "    }\n",
       "\n",
       "    .dataframe tbody tr th {\n",
       "        vertical-align: top;\n",
       "    }\n",
       "\n",
       "    .dataframe thead tr th {\n",
       "        text-align: left;\n",
       "    }\n",
       "\n",
       "    .dataframe thead tr:last-of-type th {\n",
       "        text-align: right;\n",
       "    }\n",
       "</style>\n",
       "<table border=\"1\" class=\"dataframe\">\n",
       "  <thead>\n",
       "    <tr>\n",
       "      <th></th>\n",
       "      <th colspan=\"8\" halign=\"left\">tweet_id</th>\n",
       "    </tr>\n",
       "    <tr>\n",
       "      <th></th>\n",
       "      <th>count</th>\n",
       "      <th>mean</th>\n",
       "      <th>std</th>\n",
       "      <th>min</th>\n",
       "      <th>25%</th>\n",
       "      <th>50%</th>\n",
       "      <th>75%</th>\n",
       "      <th>max</th>\n",
       "    </tr>\n",
       "    <tr>\n",
       "      <th>airline_sentiment</th>\n",
       "      <th></th>\n",
       "      <th></th>\n",
       "      <th></th>\n",
       "      <th></th>\n",
       "      <th></th>\n",
       "      <th></th>\n",
       "      <th></th>\n",
       "      <th></th>\n",
       "    </tr>\n",
       "  </thead>\n",
       "  <tbody>\n",
       "    <tr>\n",
       "      <th>negative</th>\n",
       "      <td>9178.0</td>\n",
       "      <td>5.692602e+17</td>\n",
       "      <td>7.572474e+14</td>\n",
       "      <td>5.675900e+17</td>\n",
       "      <td>5.686511e+17</td>\n",
       "      <td>5.695355e+17</td>\n",
       "      <td>5.698798e+17</td>\n",
       "      <td>5.703106e+17</td>\n",
       "    </tr>\n",
       "    <tr>\n",
       "      <th>neutral</th>\n",
       "      <td>3099.0</td>\n",
       "      <td>5.691841e+17</td>\n",
       "      <td>8.068405e+14</td>\n",
       "      <td>5.675883e+17</td>\n",
       "      <td>5.684852e+17</td>\n",
       "      <td>5.693080e+17</td>\n",
       "      <td>5.699305e+17</td>\n",
       "      <td>5.703093e+17</td>\n",
       "    </tr>\n",
       "    <tr>\n",
       "      <th>positive</th>\n",
       "      <td>2363.0</td>\n",
       "      <td>5.691006e+17</td>\n",
       "      <td>8.112476e+14</td>\n",
       "      <td>5.676555e+17</td>\n",
       "      <td>5.684331e+17</td>\n",
       "      <td>5.691980e+17</td>\n",
       "      <td>5.698788e+17</td>\n",
       "      <td>5.703093e+17</td>\n",
       "    </tr>\n",
       "  </tbody>\n",
       "</table>\n",
       "</div>"
      ],
      "text/plain": [
       "                  tweet_id                                            \\\n",
       "                     count          mean           std           min   \n",
       "airline_sentiment                                                      \n",
       "negative            9178.0  5.692602e+17  7.572474e+14  5.675900e+17   \n",
       "neutral             3099.0  5.691841e+17  8.068405e+14  5.675883e+17   \n",
       "positive            2363.0  5.691006e+17  8.112476e+14  5.676555e+17   \n",
       "\n",
       "                                                                           \n",
       "                            25%           50%           75%           max  \n",
       "airline_sentiment                                                          \n",
       "negative           5.686511e+17  5.695355e+17  5.698798e+17  5.703106e+17  \n",
       "neutral            5.684852e+17  5.693080e+17  5.699305e+17  5.703093e+17  \n",
       "positive           5.684331e+17  5.691980e+17  5.698788e+17  5.703093e+17  "
      ]
     },
     "execution_count": 8,
     "metadata": {},
     "output_type": "execute_result"
    }
   ],
   "source": [
    "df1.groupby('airline_sentiment').describe()"
   ]
  },
  {
   "cell_type": "markdown",
   "id": "021340b3",
   "metadata": {},
   "source": [
    "# Encoding Ryanair Rating:"
   ]
  },
  {
   "cell_type": "code",
   "execution_count": 9,
   "id": "6fdd1552",
   "metadata": {},
   "outputs": [
    {
     "data": {
      "text/html": [
       "<div>\n",
       "<style scoped>\n",
       "    .dataframe tbody tr th:only-of-type {\n",
       "        vertical-align: middle;\n",
       "    }\n",
       "\n",
       "    .dataframe tbody tr th {\n",
       "        vertical-align: top;\n",
       "    }\n",
       "\n",
       "    .dataframe thead tr th {\n",
       "        text-align: left;\n",
       "    }\n",
       "\n",
       "    .dataframe thead tr:last-of-type th {\n",
       "        text-align: right;\n",
       "    }\n",
       "</style>\n",
       "<table border=\"1\" class=\"dataframe\">\n",
       "  <thead>\n",
       "    <tr>\n",
       "      <th></th>\n",
       "      <th colspan=\"8\" halign=\"left\">Number</th>\n",
       "    </tr>\n",
       "    <tr>\n",
       "      <th></th>\n",
       "      <th>count</th>\n",
       "      <th>mean</th>\n",
       "      <th>std</th>\n",
       "      <th>min</th>\n",
       "      <th>25%</th>\n",
       "      <th>50%</th>\n",
       "      <th>75%</th>\n",
       "      <th>max</th>\n",
       "    </tr>\n",
       "    <tr>\n",
       "      <th>Rating</th>\n",
       "      <th></th>\n",
       "      <th></th>\n",
       "      <th></th>\n",
       "      <th></th>\n",
       "      <th></th>\n",
       "      <th></th>\n",
       "      <th></th>\n",
       "      <th></th>\n",
       "    </tr>\n",
       "  </thead>\n",
       "  <tbody>\n",
       "    <tr>\n",
       "      <th>0</th>\n",
       "      <td>200.0</td>\n",
       "      <td>100.5</td>\n",
       "      <td>57.879185</td>\n",
       "      <td>1.0</td>\n",
       "      <td>50.75</td>\n",
       "      <td>100.5</td>\n",
       "      <td>150.25</td>\n",
       "      <td>200.0</td>\n",
       "    </tr>\n",
       "    <tr>\n",
       "      <th>1</th>\n",
       "      <td>200.0</td>\n",
       "      <td>300.5</td>\n",
       "      <td>57.879185</td>\n",
       "      <td>201.0</td>\n",
       "      <td>250.75</td>\n",
       "      <td>300.5</td>\n",
       "      <td>350.25</td>\n",
       "      <td>400.0</td>\n",
       "    </tr>\n",
       "    <tr>\n",
       "      <th>2</th>\n",
       "      <td>200.0</td>\n",
       "      <td>500.5</td>\n",
       "      <td>57.879185</td>\n",
       "      <td>401.0</td>\n",
       "      <td>450.75</td>\n",
       "      <td>500.5</td>\n",
       "      <td>550.25</td>\n",
       "      <td>600.0</td>\n",
       "    </tr>\n",
       "  </tbody>\n",
       "</table>\n",
       "</div>"
      ],
      "text/plain": [
       "       Number                                                       \n",
       "        count   mean        std    min     25%    50%     75%    max\n",
       "Rating                                                              \n",
       "0       200.0  100.5  57.879185    1.0   50.75  100.5  150.25  200.0\n",
       "1       200.0  300.5  57.879185  201.0  250.75  300.5  350.25  400.0\n",
       "2       200.0  500.5  57.879185  401.0  450.75  500.5  550.25  600.0"
      ]
     },
     "execution_count": 9,
     "metadata": {},
     "output_type": "execute_result"
    }
   ],
   "source": [
    "label_encoder = LabelEncoder()\n",
    "df['Rating'] = label_encoder.fit_transform(df['Rating'])\n",
    "df.groupby('Rating').describe()"
   ]
  },
  {
   "cell_type": "markdown",
   "id": "14675ab1",
   "metadata": {},
   "source": [
    "# Encoding *Tweets.csv* airline_sentiment:"
   ]
  },
  {
   "cell_type": "code",
   "execution_count": 10,
   "id": "98654fae",
   "metadata": {},
   "outputs": [
    {
     "data": {
      "text/html": [
       "<div>\n",
       "<style scoped>\n",
       "    .dataframe tbody tr th:only-of-type {\n",
       "        vertical-align: middle;\n",
       "    }\n",
       "\n",
       "    .dataframe tbody tr th {\n",
       "        vertical-align: top;\n",
       "    }\n",
       "\n",
       "    .dataframe thead tr th {\n",
       "        text-align: left;\n",
       "    }\n",
       "\n",
       "    .dataframe thead tr:last-of-type th {\n",
       "        text-align: right;\n",
       "    }\n",
       "</style>\n",
       "<table border=\"1\" class=\"dataframe\">\n",
       "  <thead>\n",
       "    <tr>\n",
       "      <th></th>\n",
       "      <th colspan=\"8\" halign=\"left\">tweet_id</th>\n",
       "    </tr>\n",
       "    <tr>\n",
       "      <th></th>\n",
       "      <th>count</th>\n",
       "      <th>mean</th>\n",
       "      <th>std</th>\n",
       "      <th>min</th>\n",
       "      <th>25%</th>\n",
       "      <th>50%</th>\n",
       "      <th>75%</th>\n",
       "      <th>max</th>\n",
       "    </tr>\n",
       "    <tr>\n",
       "      <th>airline_sentiment</th>\n",
       "      <th></th>\n",
       "      <th></th>\n",
       "      <th></th>\n",
       "      <th></th>\n",
       "      <th></th>\n",
       "      <th></th>\n",
       "      <th></th>\n",
       "      <th></th>\n",
       "    </tr>\n",
       "  </thead>\n",
       "  <tbody>\n",
       "    <tr>\n",
       "      <th>0</th>\n",
       "      <td>9178.0</td>\n",
       "      <td>5.692602e+17</td>\n",
       "      <td>7.572474e+14</td>\n",
       "      <td>5.675900e+17</td>\n",
       "      <td>5.686511e+17</td>\n",
       "      <td>5.695355e+17</td>\n",
       "      <td>5.698798e+17</td>\n",
       "      <td>5.703106e+17</td>\n",
       "    </tr>\n",
       "    <tr>\n",
       "      <th>1</th>\n",
       "      <td>3099.0</td>\n",
       "      <td>5.691841e+17</td>\n",
       "      <td>8.068405e+14</td>\n",
       "      <td>5.675883e+17</td>\n",
       "      <td>5.684852e+17</td>\n",
       "      <td>5.693080e+17</td>\n",
       "      <td>5.699305e+17</td>\n",
       "      <td>5.703093e+17</td>\n",
       "    </tr>\n",
       "    <tr>\n",
       "      <th>2</th>\n",
       "      <td>2363.0</td>\n",
       "      <td>5.691006e+17</td>\n",
       "      <td>8.112476e+14</td>\n",
       "      <td>5.676555e+17</td>\n",
       "      <td>5.684331e+17</td>\n",
       "      <td>5.691980e+17</td>\n",
       "      <td>5.698788e+17</td>\n",
       "      <td>5.703093e+17</td>\n",
       "    </tr>\n",
       "  </tbody>\n",
       "</table>\n",
       "</div>"
      ],
      "text/plain": [
       "                  tweet_id                                            \\\n",
       "                     count          mean           std           min   \n",
       "airline_sentiment                                                      \n",
       "0                   9178.0  5.692602e+17  7.572474e+14  5.675900e+17   \n",
       "1                   3099.0  5.691841e+17  8.068405e+14  5.675883e+17   \n",
       "2                   2363.0  5.691006e+17  8.112476e+14  5.676555e+17   \n",
       "\n",
       "                                                                           \n",
       "                            25%           50%           75%           max  \n",
       "airline_sentiment                                                          \n",
       "0                  5.686511e+17  5.695355e+17  5.698798e+17  5.703106e+17  \n",
       "1                  5.684852e+17  5.693080e+17  5.699305e+17  5.703093e+17  \n",
       "2                  5.684331e+17  5.691980e+17  5.698788e+17  5.703093e+17  "
      ]
     },
     "execution_count": 10,
     "metadata": {},
     "output_type": "execute_result"
    }
   ],
   "source": [
    "label_encoder = LabelEncoder()\n",
    "df1['airline_sentiment'] = label_encoder.fit_transform(df1['airline_sentiment'])\n",
    "df1.groupby('airline_sentiment').describe()"
   ]
  },
  {
   "cell_type": "markdown",
   "id": "8a8f1346",
   "metadata": {},
   "source": [
    "# Vectorising Ryanair Reviews:"
   ]
  },
  {
   "cell_type": "code",
   "execution_count": 11,
   "id": "5394ff82",
   "metadata": {},
   "outputs": [],
   "source": [
    "vectorizer = CountVectorizer(ngram_range=(1,2), stop_words='english')\n",
    "x = vectorizer.fit_transform(df['Review'])\n",
    "y = df['Rating']"
   ]
  },
  {
   "cell_type": "code",
   "execution_count": 12,
   "id": "530f7413",
   "metadata": {},
   "outputs": [
    {
     "name": "stdout",
     "output_type": "stream",
     "text": [
      "  (0, 16720)\t1\n",
      "  (0, 4703)\t1\n",
      "  (0, 7923)\t1\n",
      "  (0, 12233)\t1\n",
      "  (0, 6900)\t1\n",
      "  (0, 11304)\t1\n",
      "  (0, 7136)\t1\n",
      "  (0, 7894)\t1\n",
      "  (0, 2237)\t1\n",
      "  (0, 8696)\t1\n",
      "  (0, 17829)\t1\n",
      "  (0, 9322)\t1\n",
      "  (0, 2389)\t1\n",
      "  (0, 10544)\t1\n",
      "  (0, 17863)\t1\n",
      "  (0, 6860)\t1\n",
      "  (0, 16754)\t1\n",
      "  (0, 4709)\t1\n",
      "  (0, 7932)\t1\n",
      "  (0, 12234)\t1\n",
      "  (0, 6901)\t1\n",
      "  (0, 11306)\t1\n",
      "  (0, 7144)\t1\n",
      "  (0, 7896)\t1\n",
      "  (0, 2238)\t1\n",
      "  :\t:\n",
      "  (598, 11033)\t1\n",
      "  (598, 16831)\t1\n",
      "  (598, 15169)\t1\n",
      "  (598, 4478)\t1\n",
      "  (598, 13493)\t1\n",
      "  (598, 16756)\t1\n",
      "  (599, 8696)\t1\n",
      "  (599, 9126)\t1\n",
      "  (599, 14747)\t1\n",
      "  (599, 9255)\t1\n",
      "  (599, 12372)\t1\n",
      "  (599, 1474)\t1\n",
      "  (599, 13584)\t1\n",
      "  (599, 9129)\t1\n",
      "  (599, 10729)\t1\n",
      "  (599, 11058)\t1\n",
      "  (599, 14827)\t1\n",
      "  (599, 4806)\t1\n",
      "  (599, 10786)\t1\n",
      "  (599, 11068)\t1\n",
      "  (599, 13598)\t1\n",
      "  (599, 8712)\t1\n",
      "  (599, 4807)\t1\n",
      "  (599, 9289)\t1\n",
      "  (599, 12377)\t1\n"
     ]
    }
   ],
   "source": [
    "print(x)"
   ]
  },
  {
   "cell_type": "code",
   "execution_count": 13,
   "id": "d73d733d",
   "metadata": {},
   "outputs": [
    {
     "name": "stdout",
     "output_type": "stream",
     "text": [
      "0      0\n",
      "1      0\n",
      "2      0\n",
      "3      0\n",
      "4      0\n",
      "      ..\n",
      "595    2\n",
      "596    2\n",
      "597    2\n",
      "598    2\n",
      "599    2\n",
      "Name: Rating, Length: 600, dtype: int32\n"
     ]
    }
   ],
   "source": [
    "print(y)"
   ]
  },
  {
   "cell_type": "markdown",
   "id": "41945ac7",
   "metadata": {},
   "source": [
    "# Vectorising Airlines *Tweets.csv* :"
   ]
  },
  {
   "cell_type": "code",
   "execution_count": 14,
   "id": "dc62cf28",
   "metadata": {},
   "outputs": [],
   "source": [
    "vectorizer1 = CountVectorizer(ngram_range=(1,2), stop_words='english')\n",
    "x1 = vectorizer1.fit_transform(df1['text'])\n",
    "y1 = df1['airline_sentiment']"
   ]
  },
  {
   "cell_type": "code",
   "execution_count": 15,
   "id": "fa5f8579",
   "metadata": {},
   "outputs": [
    {
     "name": "stdout",
     "output_type": "stream",
     "text": [
      "  (0, 94806)\t1\n",
      "  (0, 26789)\t1\n",
      "  (0, 74375)\t1\n",
      "  (0, 94876)\t1\n",
      "  (0, 26790)\t1\n",
      "  (1, 94806)\t1\n",
      "  (1, 67415)\t1\n",
      "  (1, 94331)\t1\n",
      "  (1, 6237)\t1\n",
      "  (1, 20861)\t1\n",
      "  (1, 31364)\t1\n",
      "  (1, 83247)\t1\n",
      "  (1, 95004)\t1\n",
      "  (1, 67458)\t1\n",
      "  (1, 94339)\t1\n",
      "  (1, 6242)\t1\n",
      "  (1, 20864)\t1\n",
      "  (1, 31463)\t1\n",
      "  (2, 94806)\t1\n",
      "  (2, 27062)\t1\n",
      "  (2, 86661)\t1\n",
      "  (2, 57507)\t1\n",
      "  (2, 60547)\t1\n",
      "  (2, 88409)\t1\n",
      "  (2, 94878)\t1\n",
      "  :\t:\n",
      "  (14638, 10359)\t1\n",
      "  (14638, 28494)\t1\n",
      "  (14638, 9086)\t1\n",
      "  (14638, 59586)\t1\n",
      "  (14638, 66146)\t1\n",
      "  (14638, 82272)\t1\n",
      "  (14638, 56627)\t1\n",
      "  (14639, 60547)\t1\n",
      "  (14639, 33556)\t2\n",
      "  (14639, 75693)\t1\n",
      "  (14639, 51700)\t1\n",
      "  (14639, 67460)\t1\n",
      "  (14639, 65231)\t1\n",
      "  (14639, 65293)\t1\n",
      "  (14639, 80916)\t1\n",
      "  (14639, 8413)\t1\n",
      "  (14639, 68071)\t1\n",
      "  (14639, 51882)\t1\n",
      "  (14639, 60692)\t1\n",
      "  (14639, 75762)\t1\n",
      "  (14639, 34731)\t1\n",
      "  (14639, 9186)\t1\n",
      "  (14639, 68088)\t1\n",
      "  (14639, 67473)\t1\n",
      "  (14639, 80941)\t1\n"
     ]
    }
   ],
   "source": [
    "print(x1)"
   ]
  },
  {
   "cell_type": "code",
   "execution_count": 16,
   "id": "880d72ea",
   "metadata": {},
   "outputs": [
    {
     "name": "stdout",
     "output_type": "stream",
     "text": [
      "0        1\n",
      "1        2\n",
      "2        1\n",
      "3        0\n",
      "4        0\n",
      "        ..\n",
      "14635    2\n",
      "14636    0\n",
      "14637    1\n",
      "14638    0\n",
      "14639    1\n",
      "Name: airline_sentiment, Length: 14640, dtype: int32\n"
     ]
    }
   ],
   "source": [
    "print(y1)"
   ]
  },
  {
   "cell_type": "markdown",
   "id": "da17195b",
   "metadata": {},
   "source": [
    "# Splitting Ryanair dataset so that 70% can be used for training and 30% for testing."
   ]
  },
  {
   "cell_type": "markdown",
   "id": "3a3eb2ee",
   "metadata": {},
   "source": [
    "Split the dataset so that 80% can be used for training and 20% for testing."
   ]
  },
  {
   "cell_type": "code",
   "execution_count": 17,
   "id": "23070ca6",
   "metadata": {},
   "outputs": [
    {
     "data": {
      "text/plain": [
       "((600, 18550), (600,), (420, 18550), (180, 18550), (420,), (180,))"
      ]
     },
     "execution_count": 17,
     "metadata": {},
     "output_type": "execute_result"
    }
   ],
   "source": [
    "x_train, x_test, y_train, y_test = train_test_split(x, y, test_size = 0.30, random_state = 0)\n",
    "x.shape, y.shape, x_train.shape, x_test.shape, y_train.shape, y_test.shape"
   ]
  },
  {
   "cell_type": "markdown",
   "id": "7a709fc3",
   "metadata": {},
   "source": [
    "# Splitting Airlines *Tweets.csv* dataset so that 70% can be used for training and 30% for testing"
   ]
  },
  {
   "cell_type": "code",
   "execution_count": 18,
   "id": "62153f3d",
   "metadata": {},
   "outputs": [
    {
     "data": {
      "text/plain": [
       "((14640, 100073), (14640,), (10248, 100073), (4392, 100073), (10248,), (4392,))"
      ]
     },
     "execution_count": 18,
     "metadata": {},
     "output_type": "execute_result"
    }
   ],
   "source": [
    "x1_train, x1_test, y1_train, y1_test = train_test_split(x1, y1, test_size = 0.30, random_state = 0)\n",
    "x1.shape, y1.shape, x1_train.shape, x1_test.shape, y1_train.shape, y1_test.shape"
   ]
  },
  {
   "cell_type": "markdown",
   "id": "202248e7",
   "metadata": {},
   "source": [
    "## Train a Naive Bayes classifier\n",
    "\n",
    "The next step is to train a Naive Bayes classifier. We'll use scikit-learn's [MultinomialDB](https://scikit-learn.org/stable/modules/generated/sklearn.naive_bayes.MultinomialNB.html) classifier, which is ideal for datasets vectorized by `CountVectorizer`."
   ]
  },
  {
   "cell_type": "code",
   "execution_count": 19,
   "id": "866fcfa6",
   "metadata": {},
   "outputs": [
    {
     "data": {
      "text/html": [
       "<style>#sk-container-id-1 {color: black;}#sk-container-id-1 pre{padding: 0;}#sk-container-id-1 div.sk-toggleable {background-color: white;}#sk-container-id-1 label.sk-toggleable__label {cursor: pointer;display: block;width: 100%;margin-bottom: 0;padding: 0.3em;box-sizing: border-box;text-align: center;}#sk-container-id-1 label.sk-toggleable__label-arrow:before {content: \"▸\";float: left;margin-right: 0.25em;color: #696969;}#sk-container-id-1 label.sk-toggleable__label-arrow:hover:before {color: black;}#sk-container-id-1 div.sk-estimator:hover label.sk-toggleable__label-arrow:before {color: black;}#sk-container-id-1 div.sk-toggleable__content {max-height: 0;max-width: 0;overflow: hidden;text-align: left;background-color: #f0f8ff;}#sk-container-id-1 div.sk-toggleable__content pre {margin: 0.2em;color: black;border-radius: 0.25em;background-color: #f0f8ff;}#sk-container-id-1 input.sk-toggleable__control:checked~div.sk-toggleable__content {max-height: 200px;max-width: 100%;overflow: auto;}#sk-container-id-1 input.sk-toggleable__control:checked~label.sk-toggleable__label-arrow:before {content: \"▾\";}#sk-container-id-1 div.sk-estimator input.sk-toggleable__control:checked~label.sk-toggleable__label {background-color: #d4ebff;}#sk-container-id-1 div.sk-label input.sk-toggleable__control:checked~label.sk-toggleable__label {background-color: #d4ebff;}#sk-container-id-1 input.sk-hidden--visually {border: 0;clip: rect(1px 1px 1px 1px);clip: rect(1px, 1px, 1px, 1px);height: 1px;margin: -1px;overflow: hidden;padding: 0;position: absolute;width: 1px;}#sk-container-id-1 div.sk-estimator {font-family: monospace;background-color: #f0f8ff;border: 1px dotted black;border-radius: 0.25em;box-sizing: border-box;margin-bottom: 0.5em;}#sk-container-id-1 div.sk-estimator:hover {background-color: #d4ebff;}#sk-container-id-1 div.sk-parallel-item::after {content: \"\";width: 100%;border-bottom: 1px solid gray;flex-grow: 1;}#sk-container-id-1 div.sk-label:hover label.sk-toggleable__label {background-color: #d4ebff;}#sk-container-id-1 div.sk-serial::before {content: \"\";position: absolute;border-left: 1px solid gray;box-sizing: border-box;top: 0;bottom: 0;left: 50%;z-index: 0;}#sk-container-id-1 div.sk-serial {display: flex;flex-direction: column;align-items: center;background-color: white;padding-right: 0.2em;padding-left: 0.2em;position: relative;}#sk-container-id-1 div.sk-item {position: relative;z-index: 1;}#sk-container-id-1 div.sk-parallel {display: flex;align-items: stretch;justify-content: center;background-color: white;position: relative;}#sk-container-id-1 div.sk-item::before, #sk-container-id-1 div.sk-parallel-item::before {content: \"\";position: absolute;border-left: 1px solid gray;box-sizing: border-box;top: 0;bottom: 0;left: 50%;z-index: -1;}#sk-container-id-1 div.sk-parallel-item {display: flex;flex-direction: column;z-index: 1;position: relative;background-color: white;}#sk-container-id-1 div.sk-parallel-item:first-child::after {align-self: flex-end;width: 50%;}#sk-container-id-1 div.sk-parallel-item:last-child::after {align-self: flex-start;width: 50%;}#sk-container-id-1 div.sk-parallel-item:only-child::after {width: 0;}#sk-container-id-1 div.sk-dashed-wrapped {border: 1px dashed gray;margin: 0 0.4em 0.5em 0.4em;box-sizing: border-box;padding-bottom: 0.4em;background-color: white;}#sk-container-id-1 div.sk-label label {font-family: monospace;font-weight: bold;display: inline-block;line-height: 1.2em;}#sk-container-id-1 div.sk-label-container {text-align: center;}#sk-container-id-1 div.sk-container {/* jupyter's `normalize.less` sets `[hidden] { display: none; }` but bootstrap.min.css set `[hidden] { display: none !important; }` so we also need the `!important` here to be able to override the default hidden behavior on the sphinx rendered scikit-learn.org. See: https://github.com/scikit-learn/scikit-learn/issues/21755 */display: inline-block !important;position: relative;}#sk-container-id-1 div.sk-text-repr-fallback {display: none;}</style><div id=\"sk-container-id-1\" class=\"sk-top-container\"><div class=\"sk-text-repr-fallback\"><pre>MultinomialNB()</pre><b>In a Jupyter environment, please rerun this cell to show the HTML representation or trust the notebook. <br />On GitHub, the HTML representation is unable to render, please try loading this page with nbviewer.org.</b></div><div class=\"sk-container\" hidden><div class=\"sk-item\"><div class=\"sk-estimator sk-toggleable\"><input class=\"sk-toggleable__control sk-hidden--visually\" id=\"sk-estimator-id-1\" type=\"checkbox\" checked><label for=\"sk-estimator-id-1\" class=\"sk-toggleable__label sk-toggleable__label-arrow\">MultinomialNB</label><div class=\"sk-toggleable__content\"><pre>MultinomialNB()</pre></div></div></div></div></div>"
      ],
      "text/plain": [
       "MultinomialNB()"
      ]
     },
     "execution_count": 19,
     "metadata": {},
     "output_type": "execute_result"
    }
   ],
   "source": [
    "# Ryanair:\n",
    "model = MultinomialNB()\n",
    "model.fit(x_train, y_train)"
   ]
  },
  {
   "cell_type": "code",
   "execution_count": 20,
   "id": "19197d33",
   "metadata": {},
   "outputs": [
    {
     "data": {
      "text/html": [
       "<style>#sk-container-id-2 {color: black;}#sk-container-id-2 pre{padding: 0;}#sk-container-id-2 div.sk-toggleable {background-color: white;}#sk-container-id-2 label.sk-toggleable__label {cursor: pointer;display: block;width: 100%;margin-bottom: 0;padding: 0.3em;box-sizing: border-box;text-align: center;}#sk-container-id-2 label.sk-toggleable__label-arrow:before {content: \"▸\";float: left;margin-right: 0.25em;color: #696969;}#sk-container-id-2 label.sk-toggleable__label-arrow:hover:before {color: black;}#sk-container-id-2 div.sk-estimator:hover label.sk-toggleable__label-arrow:before {color: black;}#sk-container-id-2 div.sk-toggleable__content {max-height: 0;max-width: 0;overflow: hidden;text-align: left;background-color: #f0f8ff;}#sk-container-id-2 div.sk-toggleable__content pre {margin: 0.2em;color: black;border-radius: 0.25em;background-color: #f0f8ff;}#sk-container-id-2 input.sk-toggleable__control:checked~div.sk-toggleable__content {max-height: 200px;max-width: 100%;overflow: auto;}#sk-container-id-2 input.sk-toggleable__control:checked~label.sk-toggleable__label-arrow:before {content: \"▾\";}#sk-container-id-2 div.sk-estimator input.sk-toggleable__control:checked~label.sk-toggleable__label {background-color: #d4ebff;}#sk-container-id-2 div.sk-label input.sk-toggleable__control:checked~label.sk-toggleable__label {background-color: #d4ebff;}#sk-container-id-2 input.sk-hidden--visually {border: 0;clip: rect(1px 1px 1px 1px);clip: rect(1px, 1px, 1px, 1px);height: 1px;margin: -1px;overflow: hidden;padding: 0;position: absolute;width: 1px;}#sk-container-id-2 div.sk-estimator {font-family: monospace;background-color: #f0f8ff;border: 1px dotted black;border-radius: 0.25em;box-sizing: border-box;margin-bottom: 0.5em;}#sk-container-id-2 div.sk-estimator:hover {background-color: #d4ebff;}#sk-container-id-2 div.sk-parallel-item::after {content: \"\";width: 100%;border-bottom: 1px solid gray;flex-grow: 1;}#sk-container-id-2 div.sk-label:hover label.sk-toggleable__label {background-color: #d4ebff;}#sk-container-id-2 div.sk-serial::before {content: \"\";position: absolute;border-left: 1px solid gray;box-sizing: border-box;top: 0;bottom: 0;left: 50%;z-index: 0;}#sk-container-id-2 div.sk-serial {display: flex;flex-direction: column;align-items: center;background-color: white;padding-right: 0.2em;padding-left: 0.2em;position: relative;}#sk-container-id-2 div.sk-item {position: relative;z-index: 1;}#sk-container-id-2 div.sk-parallel {display: flex;align-items: stretch;justify-content: center;background-color: white;position: relative;}#sk-container-id-2 div.sk-item::before, #sk-container-id-2 div.sk-parallel-item::before {content: \"\";position: absolute;border-left: 1px solid gray;box-sizing: border-box;top: 0;bottom: 0;left: 50%;z-index: -1;}#sk-container-id-2 div.sk-parallel-item {display: flex;flex-direction: column;z-index: 1;position: relative;background-color: white;}#sk-container-id-2 div.sk-parallel-item:first-child::after {align-self: flex-end;width: 50%;}#sk-container-id-2 div.sk-parallel-item:last-child::after {align-self: flex-start;width: 50%;}#sk-container-id-2 div.sk-parallel-item:only-child::after {width: 0;}#sk-container-id-2 div.sk-dashed-wrapped {border: 1px dashed gray;margin: 0 0.4em 0.5em 0.4em;box-sizing: border-box;padding-bottom: 0.4em;background-color: white;}#sk-container-id-2 div.sk-label label {font-family: monospace;font-weight: bold;display: inline-block;line-height: 1.2em;}#sk-container-id-2 div.sk-label-container {text-align: center;}#sk-container-id-2 div.sk-container {/* jupyter's `normalize.less` sets `[hidden] { display: none; }` but bootstrap.min.css set `[hidden] { display: none !important; }` so we also need the `!important` here to be able to override the default hidden behavior on the sphinx rendered scikit-learn.org. See: https://github.com/scikit-learn/scikit-learn/issues/21755 */display: inline-block !important;position: relative;}#sk-container-id-2 div.sk-text-repr-fallback {display: none;}</style><div id=\"sk-container-id-2\" class=\"sk-top-container\"><div class=\"sk-text-repr-fallback\"><pre>MultinomialNB()</pre><b>In a Jupyter environment, please rerun this cell to show the HTML representation or trust the notebook. <br />On GitHub, the HTML representation is unable to render, please try loading this page with nbviewer.org.</b></div><div class=\"sk-container\" hidden><div class=\"sk-item\"><div class=\"sk-estimator sk-toggleable\"><input class=\"sk-toggleable__control sk-hidden--visually\" id=\"sk-estimator-id-2\" type=\"checkbox\" checked><label for=\"sk-estimator-id-2\" class=\"sk-toggleable__label sk-toggleable__label-arrow\">MultinomialNB</label><div class=\"sk-toggleable__content\"><pre>MultinomialNB()</pre></div></div></div></div></div>"
      ],
      "text/plain": [
       "MultinomialNB()"
      ]
     },
     "execution_count": 20,
     "metadata": {},
     "output_type": "execute_result"
    }
   ],
   "source": [
    "# Airlines *Tweets.csv* :\n",
    "model1 = MultinomialNB()\n",
    "model1.fit(x1_train, y1_train)"
   ]
  },
  {
   "cell_type": "code",
   "execution_count": 53,
   "id": "df05f1e9",
   "metadata": {},
   "outputs": [
    {
     "data": {
      "image/png": "[encoded data removed]",
      "text/plain": [
       "<Figure size 1500x500 with 4 Axes>"
      ]
     },
     "metadata": {},
     "output_type": "display_data"
    }
   ],
   "source": [
    "# Function to plot confusion matrix as a heatmap\n",
    "def plot_confusion_matrix_heatmap(ax, model, x_test, y_test, labels, title):\n",
    "    y_pred = model.predict(x_test)\n",
    "    \n",
    "    cm = confusion_matrix(y_test, y_pred, labels=labels)\n",
    "    \n",
    "    sns.heatmap(cm, annot=True, fmt='d', cmap='Blues', xticklabels=labels, yticklabels=labels, ax=ax)\n",
    "    ax.set_xlabel('Predicted')\n",
    "    ax.set_ylabel('Actual')\n",
    "    ax.set_title(title)\n",
    "\n",
    "# Create subplots\n",
    "fig, axes = plt.subplots(1, 2, figsize=(15, 5))\n",
    "\n",
    "# Ryanair Reviews Confusion Matrix\n",
    "plot_confusion_matrix_heatmap(axes[0], model, x_test, y_test, labels=[0, 1, 2], title='Ryanair Reviews Confusion Matrix')\n",
    "\n",
    "# American and United Reviews Confusion Matrix\n",
    "plot_confusion_matrix_heatmap(axes[1], model1, x1_test, y1_test, labels=[0, 1, 2], title='Airline Tweets Confusion Matrix')\n",
    "\n",
    "# Adjusting x-axis and y-axis labels to display the specified labels\n",
    "axes[0].set_xticklabels(['Bad', 'Good', 'Neutral'])\n",
    "axes[0].set_yticklabels(['Bad', 'Good', 'Neutral'])\n",
    "axes[1].set_xticklabels(['Bad', 'Good', 'Neutral'])\n",
    "axes[1].set_yticklabels(['Bad', 'Good', 'Neutral'])\n",
    "\n",
    "plt.tight_layout()\n",
    "plt.show()"
   ]
  },
  {
   "cell_type": "markdown",
   "id": "99efaad6",
   "metadata": {},
   "source": [
    "Ryanair model is correctly classifiying:<br>\n",
    "**Bad:** 28 Reviews<br>\n",
    "**Good:** 53 Reviews<br>\n",
    "**Neutral:** 50 Reviews<br>\n",
    "\n",
    "Airline Tweets model is correctly classifiying:<br>\n",
    "**Bad:** 2609 Reviews<br>\n",
    "**Good:** 337 Reviews<br>\n",
    "**Neutral:** 359 Reviews<br>\n",
    "Let's use the `score` method to get a rough measure of the model's accuracy."
   ]
  },
  {
   "cell_type": "code",
   "execution_count": 54,
   "id": "2cb8fdbd",
   "metadata": {},
   "outputs": [
    {
     "name": "stdout",
     "output_type": "stream",
     "text": [
      "Model Accuracy Score for Ryanair: 0.73\n",
      "Model Accuracy Score for Airline Tweets: 0.75\n"
     ]
    }
   ],
   "source": [
    "a= model.score(x_test, y_test)\n",
    "b = model1.score(x1_test, y1_test)\n",
    "print(f'Model Accuracy Score for Ryanair: {a:.2f}')\n",
    "print(f'Model Accuracy Score for Airline Tweets: {b:.2f}')"
   ]
  },
  {
   "cell_type": "markdown",
   "id": "89da9e6b",
   "metadata": {},
   "source": [
    "Use Scikit’s [RocCurveDisplay](https://scikit-learn.org/stable/modules/generated/sklearn.metrics.RocCurveDisplay.html) class to visualize the ROC curve."
   ]
  },
  {
   "cell_type": "code",
   "execution_count": 23,
   "id": "12b84f6c",
   "metadata": {},
   "outputs": [
    {
     "data": {
      "image/png": "[encoded data removed]",
      "text/plain": [
       "<Figure size 1500x500 with 3 Axes>"
      ]
     },
     "metadata": {},
     "output_type": "display_data"
    }
   ],
   "source": [
    "# ROC Curve: Receiver Operating Characteristic\n",
    "# AUC: Area Under the Curve\n",
    "# Assuming `model` is a trained classifier for Ryanair\n",
    "# `X_test` is the test set features, and `y_test` is the true labels\n",
    "\n",
    "# Get predicted probabilities for each class\n",
    "y_score_ryanair = model.predict_proba(x_test)\n",
    "\n",
    "# Assuming `model1` is a trained classifier Airline Tweets\n",
    "# `X1_test` is the test set features, and `y1_test` is the true labels\n",
    "\n",
    "# Get predicted probabilities for each class\n",
    "y_score_Airlines_Tweets_csv = model1.predict_proba(x1_test)\n",
    "\n",
    "# Setting num_classes 3 in this case\n",
    "num_classes = 3\n",
    "\n",
    "# Define class labels\n",
    "class_labels = ['Bad', 'Good', 'Neutral']\n",
    "\n",
    "# Plot ROC curves for each class\n",
    "fig, axes = plt.subplots(nrows=1, ncols=num_classes, figsize=(15, 5))\n",
    "\n",
    "# Plot ROC curve for Ryanair\n",
    "for i in range(num_classes):\n",
    "    fpr, tpr, _ = roc_curve(y_test == i, y_score_ryanair[:, i])\n",
    "    roc_auc = auc(fpr, tpr)\n",
    "    \n",
    "    axes[i].plot(fpr, tpr, label=f'Ryanair (AUC = {roc_auc:.2f})')\n",
    "    axes[i].set_xlabel('False Positive Rate')\n",
    "    axes[i].set_ylabel('True Positive Rate')\n",
    "    axes[i].set_title(f'ROC Curve - {class_labels[i]}')\n",
    "    axes[i].legend()\n",
    "\n",
    "# Plot ROC curve for American and United\n",
    "for i in range(num_classes):\n",
    "    fpr, tpr, _ = roc_curve(y1_test == i, y_score_Airlines_Tweets_csv[:, i])\n",
    "    roc_auc = auc(fpr, tpr)\n",
    "    \n",
    "    axes[i].plot(fpr, tpr, label=f'Airlines Tweets (AUC = {roc_auc:.2f})', linestyle='--')\n",
    "    axes[i].legend()\n",
    "\n",
    "plt.tight_layout()\n",
    "plt.show()"
   ]
  },
  {
   "cell_type": "markdown",
   "id": "4418008d",
   "metadata": {},
   "source": [
    "# Bad"
   ]
  },
  {
   "cell_type": "markdown",
   "id": "72d4a18a",
   "metadata": {},
   "source": [
    "Ryanair:"
   ]
  },
  {
   "cell_type": "code",
   "execution_count": 24,
   "id": "741f700c",
   "metadata": {},
   "outputs": [
    {
     "data": {
      "text/plain": [
       "0"
      ]
     },
     "execution_count": 24,
     "metadata": {},
     "output_type": "execute_result"
    }
   ],
   "source": [
    "msg = 'Bad and terrible experience, will not fly again with Ryanair'\n",
    "input = vectorizer.transform([msg])\n",
    "model.predict(input)[0]"
   ]
  },
  {
   "cell_type": "code",
   "execution_count": 25,
   "id": "9528aa9e",
   "metadata": {},
   "outputs": [
    {
     "data": {
      "text/plain": [
       "0"
      ]
     },
     "execution_count": 25,
     "metadata": {},
     "output_type": "execute_result"
    }
   ],
   "source": [
    "msg = 'Dirty plane, poor experience overall'\n",
    "input = vectorizer.transform([msg])\n",
    "model.predict(input)[0]"
   ]
  },
  {
   "cell_type": "code",
   "execution_count": 26,
   "id": "f6a676e3",
   "metadata": {},
   "outputs": [
    {
     "data": {
      "text/plain": [
       "0"
      ]
     },
     "execution_count": 26,
     "metadata": {},
     "output_type": "execute_result"
    }
   ],
   "source": [
    "msg = 'Worst company to fly with ever'\n",
    "input = vectorizer.transform([msg])\n",
    "model.predict(input)[0]"
   ]
  },
  {
   "cell_type": "markdown",
   "id": "2a8f5975",
   "metadata": {},
   "source": [
    "American and United:"
   ]
  },
  {
   "cell_type": "code",
   "execution_count": 27,
   "id": "6f039799",
   "metadata": {},
   "outputs": [
    {
     "data": {
      "text/plain": [
       "0"
      ]
     },
     "execution_count": 27,
     "metadata": {},
     "output_type": "execute_result"
    }
   ],
   "source": [
    "msg = 'Bad and terrible experience, will not fly again with Ryanair'\n",
    "input = vectorizer1.transform([msg])\n",
    "model1.predict(input)[0]"
   ]
  },
  {
   "cell_type": "code",
   "execution_count": 28,
   "id": "babc75b0",
   "metadata": {},
   "outputs": [
    {
     "data": {
      "text/plain": [
       "0"
      ]
     },
     "execution_count": 28,
     "metadata": {},
     "output_type": "execute_result"
    }
   ],
   "source": [
    "msg = 'Dirty plane, poor experience overall'\n",
    "input = vectorizer1.transform([msg])\n",
    "model1.predict(input)[0]"
   ]
  },
  {
   "cell_type": "code",
   "execution_count": 29,
   "id": "68c73f22",
   "metadata": {},
   "outputs": [
    {
     "data": {
      "text/plain": [
       "0"
      ]
     },
     "execution_count": 29,
     "metadata": {},
     "output_type": "execute_result"
    }
   ],
   "source": [
    "msg = 'Worst company to fly with ever'\n",
    "input = vectorizer1.transform([msg])\n",
    "model1.predict(input)[0]"
   ]
  },
  {
   "cell_type": "markdown",
   "id": "f1b2a292",
   "metadata": {},
   "source": [
    "# Good"
   ]
  },
  {
   "cell_type": "markdown",
   "id": "9fe04632",
   "metadata": {},
   "source": [
    "Ryanair:"
   ]
  },
  {
   "cell_type": "code",
   "execution_count": 35,
   "id": "a1fe29c3",
   "metadata": {},
   "outputs": [
    {
     "data": {
      "text/plain": [
       "1"
      ]
     },
     "execution_count": 35,
     "metadata": {},
     "output_type": "execute_result"
    }
   ],
   "source": [
    "msg = 'Amazing experience flying with Ryanair, I will recommend this company!!'\n",
    "input = vectorizer.transform([msg])\n",
    "model.predict(input)[0]"
   ]
  },
  {
   "cell_type": "code",
   "execution_count": 36,
   "id": "f27c2e60",
   "metadata": {},
   "outputs": [
    {
     "data": {
      "text/plain": [
       "1"
      ]
     },
     "execution_count": 36,
     "metadata": {},
     "output_type": "execute_result"
    }
   ],
   "source": [
    "msg = 'Friendly staff, clean airplane and great snacks on board'\n",
    "input = vectorizer.transform([msg])\n",
    "model.predict(input)[0]"
   ]
  },
  {
   "cell_type": "code",
   "execution_count": 37,
   "id": "e657e492",
   "metadata": {},
   "outputs": [
    {
     "data": {
      "text/plain": [
       "1"
      ]
     },
     "execution_count": 37,
     "metadata": {},
     "output_type": "execute_result"
    }
   ],
   "source": [
    "msg = 'Great company to fly with, I highly recommend it, good value for money'\n",
    "input = vectorizer.transform([msg])\n",
    "model.predict(input)[0]"
   ]
  },
  {
   "cell_type": "markdown",
   "id": "9c527aa9",
   "metadata": {},
   "source": [
    "American and United:"
   ]
  },
  {
   "cell_type": "code",
   "execution_count": 38,
   "id": "0b36e87f",
   "metadata": {},
   "outputs": [
    {
     "data": {
      "text/plain": [
       "0"
      ]
     },
     "execution_count": 38,
     "metadata": {},
     "output_type": "execute_result"
    }
   ],
   "source": [
    "msg = 'Amazing experience flying with Ryanair, I will recommend this company!!'\n",
    "input = vectorizer1.transform([msg])\n",
    "model1.predict(input)[0]"
   ]
  },
  {
   "cell_type": "code",
   "execution_count": 39,
   "id": "8b57ec70",
   "metadata": {},
   "outputs": [
    {
     "data": {
      "text/plain": [
       "2"
      ]
     },
     "execution_count": 39,
     "metadata": {},
     "output_type": "execute_result"
    }
   ],
   "source": [
    "msg = 'Friendly staff, clean airplane and great snacks on board'\n",
    "input = vectorizer1.transform([msg])\n",
    "model1.predict(input)[0]"
   ]
  },
  {
   "cell_type": "code",
   "execution_count": 40,
   "id": "e344261d",
   "metadata": {},
   "outputs": [
    {
     "data": {
      "text/plain": [
       "0"
      ]
     },
     "execution_count": 40,
     "metadata": {},
     "output_type": "execute_result"
    }
   ],
   "source": [
    "msg = 'Great company to fly with, I highly recommend it, good value for money'\n",
    "input = vectorizer1.transform([msg])\n",
    "model1.predict(input)[0]"
   ]
  },
  {
   "cell_type": "markdown",
   "id": "4c019b54",
   "metadata": {},
   "source": [
    "# Neutral"
   ]
  },
  {
   "cell_type": "markdown",
   "id": "02382728",
   "metadata": {},
   "source": [
    "Ryanair:"
   ]
  },
  {
   "cell_type": "code",
   "execution_count": 41,
   "id": "f9af5961",
   "metadata": {},
   "outputs": [
    {
     "data": {
      "text/plain": [
       "2"
      ]
     },
     "execution_count": 41,
     "metadata": {},
     "output_type": "execute_result"
    }
   ],
   "source": [
    "msg = 'Neutral company, it gets you from point A to point B'\n",
    "input = vectorizer.transform([msg])\n",
    "model.predict(input)[0]"
   ]
  },
  {
   "cell_type": "code",
   "execution_count": 42,
   "id": "2ce7266f",
   "metadata": {},
   "outputs": [
    {
     "data": {
      "text/plain": [
       "2"
      ]
     },
     "execution_count": 42,
     "metadata": {},
     "output_type": "execute_result"
    }
   ],
   "source": [
    "msg = 'Just another normal company to fly with'\n",
    "input = vectorizer.transform([msg])\n",
    "model.predict(input)[0]"
   ]
  },
  {
   "cell_type": "code",
   "execution_count": 43,
   "id": "742ce59b",
   "metadata": {},
   "outputs": [
    {
     "data": {
      "text/plain": [
       "2"
      ]
     },
     "execution_count": 43,
     "metadata": {},
     "output_type": "execute_result"
    }
   ],
   "source": [
    "msg = 'Just another normal company to fly with'\n",
    "input = vectorizer.transform([msg])\n",
    "model.predict(input)[0]"
   ]
  },
  {
   "cell_type": "markdown",
   "id": "01eb3c8e",
   "metadata": {},
   "source": [
    "American and United:"
   ]
  },
  {
   "cell_type": "code",
   "execution_count": 44,
   "id": "1131217b",
   "metadata": {},
   "outputs": [
    {
     "data": {
      "text/plain": [
       "0"
      ]
     },
     "execution_count": 44,
     "metadata": {},
     "output_type": "execute_result"
    }
   ],
   "source": [
    "msg = 'Neutral company, it gets you from point A to point B'\n",
    "input = vectorizer1.transform([msg])\n",
    "model1.predict(input)[0]"
   ]
  },
  {
   "cell_type": "code",
   "execution_count": 45,
   "id": "514c4d08",
   "metadata": {},
   "outputs": [
    {
     "data": {
      "text/plain": [
       "0"
      ]
     },
     "execution_count": 45,
     "metadata": {},
     "output_type": "execute_result"
    }
   ],
   "source": [
    "msg = 'Just another normal company to fly with'\n",
    "input = vectorizer1.transform([msg])\n",
    "model1.predict(input)[0]"
   ]
  },
  {
   "cell_type": "code",
   "execution_count": 46,
   "id": "2f209f92",
   "metadata": {},
   "outputs": [
    {
     "data": {
      "text/plain": [
       "0"
      ]
     },
     "execution_count": 46,
     "metadata": {},
     "output_type": "execute_result"
    }
   ],
   "source": [
    "msg = 'Just another normal company to fly with'\n",
    "input = vectorizer1.transform([msg])\n",
    "model1.predict(input)[0]"
   ]
  },
  {
   "cell_type": "code",
   "execution_count": 50,
   "id": "86a53511",
   "metadata": {},
   "outputs": [
    {
     "data": {
      "text/html": [
       "<div>\n",
       "<style scoped>\n",
       "    .dataframe tbody tr th:only-of-type {\n",
       "        vertical-align: middle;\n",
       "    }\n",
       "\n",
       "    .dataframe tbody tr th {\n",
       "        vertical-align: top;\n",
       "    }\n",
       "\n",
       "    .dataframe thead th {\n",
       "        text-align: right;\n",
       "    }\n",
       "</style>\n",
       "<table border=\"1\" class=\"dataframe\">\n",
       "  <thead>\n",
       "    <tr style=\"text-align: right;\">\n",
       "      <th>Airline</th>\n",
       "      <th>Airline_Tweets</th>\n",
       "      <th>Ryanair</th>\n",
       "    </tr>\n",
       "    <tr>\n",
       "      <th>Sentiment</th>\n",
       "      <th></th>\n",
       "      <th></th>\n",
       "    </tr>\n",
       "  </thead>\n",
       "  <tbody>\n",
       "    <tr>\n",
       "      <th>Bad</th>\n",
       "      <td>3</td>\n",
       "      <td>3</td>\n",
       "    </tr>\n",
       "    <tr>\n",
       "      <th>Good</th>\n",
       "      <td>0</td>\n",
       "      <td>3</td>\n",
       "    </tr>\n",
       "    <tr>\n",
       "      <th>Neutral</th>\n",
       "      <td>0</td>\n",
       "      <td>3</td>\n",
       "    </tr>\n",
       "  </tbody>\n",
       "</table>\n",
       "</div>"
      ],
      "text/plain": [
       "Airline    Airline_Tweets  Ryanair\n",
       "Sentiment                         \n",
       "Bad                     3        3\n",
       "Good                    0        3\n",
       "Neutral                 0        3"
      ]
     },
     "execution_count": 50,
     "metadata": {},
     "output_type": "execute_result"
    }
   ],
   "source": [
    "# Creating a df to plot the Sentiment Analysis prediction:\n",
    "review = {\n",
    "    'Airline': ['Ryanair', 'Airline_Tweets', 'Ryanair', 'Airline_Tweets', 'Ryanair', 'Airline_Tweets'],\n",
    "    'Sentiment': ['Bad', 'Bad', 'Good', 'Good', 'Neutral', 'Neutral'],\n",
    "    'Score': [3, 3, 3, 0, 3, 0]\n",
    "}\n",
    "\n",
    "review = pd.DataFrame(review)\n",
    "\n",
    "review = pd.crosstab(review['Sentiment'], review['Airline'], values=review['Score'], aggfunc='sum', margins=False)\n",
    "review"
   ]
  },
  {
   "cell_type": "code",
   "execution_count": 52,
   "id": "48e1212d",
   "metadata": {},
   "outputs": [
    {
     "data": {
      "image/png": "[encoded data removed]",
      "text/plain": [
       "<Figure size 1000x500 with 2 Axes>"
      ]
     },
     "metadata": {},
     "output_type": "display_data"
    }
   ],
   "source": [
    "# Plotting histograms\n",
    "fig, axes = plt.subplots(nrows=1, ncols=2, figsize=(10, 5))\n",
    "\n",
    "# Plot for Ryanair\n",
    "review['Ryanair'].plot(kind='bar', ax=axes[0], title='Sentiment Prediction Analysis for Ryanair')\n",
    "axes[0].set_ylabel('Number of Predictions')\n",
    "# Plot for Airline Tweets\n",
    "review['Airline_Tweets'].plot(kind='bar', ax=axes[1], title='Sentiment Prediction Analysis for Airline Tweets')\n",
    "axes[1].set_ylabel('Number of Predictions')\n",
    "plt.tight_layout()\n",
    "plt.show()"
   ]
  },
  {
   "cell_type": "code",
   "execution_count": null,
   "id": "b9b88b1a",
   "metadata": {},
   "outputs": [],
   "source": []
  }
 ],
 "metadata": {
  "kernelspec": {
   "display_name": "Python 3 (ipykernel)",
   "language": "python",
   "name": "python3"
  },
  "language_info": {
   "codemirror_mode": {
    "name": "ipython",
    "version": 3
   },
   "file_extension": ".py",
   "mimetype": "text/x-python",
   "name": "python",
   "nbconvert_exporter": "python",
   "pygments_lexer": "ipython3",
   "version": "3.11.5"
  }
 },
 "nbformat": 4,
 "nbformat_minor": 5
}
