{
 "cells": [
  {
   "cell_type": "code",
   "execution_count": 1,
   "id": "795abc5b",
   "metadata": {},
   "outputs": [],
   "source": [
    "import pandas as pd\n",
    "import numpy as np\n",
    "\n",
    "from sklearn.preprocessing import LabelEncoder,StandardScaler, scale\n",
    "from sklearn.model_selection import train_test_split  # Libraries for ML\n",
    "from sklearn.tree import DecisionTreeClassifier\n",
    "from sklearn.metrics import classification_report, confusion_matrix, accuracy_score\n",
    "from sklearn import metrics,tree\n",
    "import seaborn as sns\n",
    "import matplotlib.pyplot as plt\n",
    "from sklearn.ensemble import RandomForestClassifier\n",
    "import warnings\n",
    "warnings.filterwarnings('ignore') # We can suppress the warnings\n",
    "\n"
   ]
  },
  {
   "cell_type": "code",
   "execution_count": 2,
   "id": "41fec53c",
   "metadata": {},
   "outputs": [
    {
     "data": {
      "text/html": [
       "<div>\n",
       "<style scoped>\n",
       "    .dataframe tbody tr th:only-of-type {\n",
       "        vertical-align: middle;\n",
       "    }\n",
       "\n",
       "    .dataframe tbody tr th {\n",
       "        vertical-align: top;\n",
       "    }\n",
       "\n",
       "    .dataframe thead th {\n",
       "        text-align: right;\n",
       "    }\n",
       "</style>\n",
       "<table border=\"1\" class=\"dataframe\">\n",
       "  <thead>\n",
       "    <tr style=\"text-align: right;\">\n",
       "      <th></th>\n",
       "      <th>Year</th>\n",
       "      <th>Country_Vehicle</th>\n",
       "      <th>value</th>\n",
       "    </tr>\n",
       "  </thead>\n",
       "  <tbody>\n",
       "    <tr>\n",
       "      <th>0</th>\n",
       "      <td>1990</td>\n",
       "      <td>AT_BUS</td>\n",
       "      <td>11.00</td>\n",
       "    </tr>\n",
       "    <tr>\n",
       "      <th>1</th>\n",
       "      <td>1990</td>\n",
       "      <td>AT_CAR</td>\n",
       "      <td>77.10</td>\n",
       "    </tr>\n",
       "    <tr>\n",
       "      <th>2</th>\n",
       "      <td>1990</td>\n",
       "      <td>AT_TRN</td>\n",
       "      <td>11.90</td>\n",
       "    </tr>\n",
       "    <tr>\n",
       "      <th>3</th>\n",
       "      <td>1990</td>\n",
       "      <td>BE_BUS</td>\n",
       "      <td>10.60</td>\n",
       "    </tr>\n",
       "    <tr>\n",
       "      <th>4</th>\n",
       "      <td>1990</td>\n",
       "      <td>BE_CAR</td>\n",
       "      <td>83.30</td>\n",
       "    </tr>\n",
       "  </tbody>\n",
       "</table>\n",
       "</div>"
      ],
      "text/plain": [
       "   Year Country_Vehicle  value\n",
       "0  1990          AT_BUS  11.00\n",
       "1  1990          AT_CAR  77.10\n",
       "2  1990          AT_TRN  11.90\n",
       "3  1990          BE_BUS  10.60\n",
       "4  1990          BE_CAR  83.30"
      ]
     },
     "execution_count": 2,
     "metadata": {},
     "output_type": "execute_result"
    }
   ],
   "source": [
    "df = pd.read_csv('Type_Transport.csv')\n",
    "\n",
    "# Please only two decimals in the output!!\n",
    "# This line will give us just two decimals for every pd dataframe displayed\n",
    "pd.set_option('display.float_format', lambda x: '%.2f' % x) \n",
    "\n",
    "df.head()"
   ]
  },
  {
   "cell_type": "code",
   "execution_count": 3,
   "id": "78688cbc",
   "metadata": {},
   "outputs": [
    {
     "data": {
      "text/plain": [
       "(1728, 3)"
      ]
     },
     "execution_count": 3,
     "metadata": {},
     "output_type": "execute_result"
    }
   ],
   "source": [
    "df.shape"
   ]
  },
  {
   "cell_type": "code",
   "execution_count": 4,
   "id": "8cac15ed",
   "metadata": {},
   "outputs": [],
   "source": [
    "# # Box plot to identify outliers\n",
    "# sns.boxplot(x='Luas_Line', y='VALUE', data=df)\n",
    "# plt.show()\n"
   ]
  },
  {
   "cell_type": "code",
   "execution_count": 5,
   "id": "8e4b71c8",
   "metadata": {},
   "outputs": [],
   "source": [
    "# from scipy import stats\n",
    "\n",
    "# # Calculate z-scores\n",
    "# z_scores = stats.zscore(df['VALUE'])\n",
    "\n",
    "# # Define a threshold for outliers, e.g., 3 standard deviations\n",
    "# threshold = 1\n",
    "# outliers = (z_scores > threshold) | (z_scores < -threshold)\n",
    "\n",
    "# # Print and visualize outliers\n",
    "# print(\"Indices of outliers:\", df[outliers].index)\n"
   ]
  },
  {
   "cell_type": "code",
   "execution_count": 6,
   "id": "d916438d",
   "metadata": {},
   "outputs": [],
   "source": [
    "# # Remove outliers\n",
    "# df_no_outliers = df[~outliers]\n",
    "\n",
    "# # Check the shape of the new dataframe\n",
    "# print(\"Shape after removing outliers:\", df_no_outliers.shape)\n"
   ]
  },
  {
   "cell_type": "code",
   "execution_count": 7,
   "id": "81623664",
   "metadata": {},
   "outputs": [],
   "source": [
    "# Move the 'Year' column to the second position\n",
    "df.insert(2, 'Year', df.pop('Year'))"
   ]
  },
  {
   "cell_type": "code",
   "execution_count": 8,
   "id": "3659e51f",
   "metadata": {},
   "outputs": [
    {
     "data": {
      "text/plain": [
       "Year\n",
       "1990    54\n",
       "1991    54\n",
       "1992    54\n",
       "1993    54\n",
       "1994    54\n",
       "1995    54\n",
       "1996    54\n",
       "1997    54\n",
       "1998    54\n",
       "1999    54\n",
       "2000    54\n",
       "2001    54\n",
       "2002    54\n",
       "2003    54\n",
       "2004    54\n",
       "2005    54\n",
       "2006    54\n",
       "2007    54\n",
       "2008    54\n",
       "2009    54\n",
       "2010    54\n",
       "2011    54\n",
       "2012    54\n",
       "2013    54\n",
       "2014    54\n",
       "2015    54\n",
       "2016    54\n",
       "2017    54\n",
       "2018    54\n",
       "2019    54\n",
       "2020    54\n",
       "2021    54\n",
       "Name: count, dtype: int64"
      ]
     },
     "execution_count": 8,
     "metadata": {},
     "output_type": "execute_result"
    }
   ],
   "source": [
    "# Counting the values that each year has:\n",
    "year_counts = df['Year'].value_counts().sort_index()\n",
    "year_counts"
   ]
  },
  {
   "cell_type": "code",
   "execution_count": 9,
   "id": "9bbd3b1b",
   "metadata": {},
   "outputs": [],
   "source": [
    "# Modify the code to filter based on substrings\n",
    "df = df[df['Country_Vehicle'].str.contains('IE|HU', case=False, na=False)]\n"
   ]
  },
  {
   "cell_type": "code",
   "execution_count": 10,
   "id": "f5b83920",
   "metadata": {},
   "outputs": [
    {
     "data": {
      "text/html": [
       "<div>\n",
       "<style scoped>\n",
       "    .dataframe tbody tr th:only-of-type {\n",
       "        vertical-align: middle;\n",
       "    }\n",
       "\n",
       "    .dataframe tbody tr th {\n",
       "        vertical-align: top;\n",
       "    }\n",
       "\n",
       "    .dataframe thead th {\n",
       "        text-align: right;\n",
       "    }\n",
       "</style>\n",
       "<table border=\"1\" class=\"dataframe\">\n",
       "  <thead>\n",
       "    <tr style=\"text-align: right;\">\n",
       "      <th></th>\n",
       "      <th>Country_Vehicle</th>\n",
       "      <th>value</th>\n",
       "      <th>Year</th>\n",
       "    </tr>\n",
       "  </thead>\n",
       "  <tbody>\n",
       "    <tr>\n",
       "      <th>27</th>\n",
       "      <td>HU_BUS</td>\n",
       "      <td>24.80</td>\n",
       "      <td>1990</td>\n",
       "    </tr>\n",
       "    <tr>\n",
       "      <th>28</th>\n",
       "      <td>HU_CAR</td>\n",
       "      <td>60.50</td>\n",
       "      <td>1990</td>\n",
       "    </tr>\n",
       "    <tr>\n",
       "      <th>29</th>\n",
       "      <td>HU_TRN</td>\n",
       "      <td>14.70</td>\n",
       "      <td>1990</td>\n",
       "    </tr>\n",
       "    <tr>\n",
       "      <th>30</th>\n",
       "      <td>IE_BUS</td>\n",
       "      <td>11.50</td>\n",
       "      <td>1990</td>\n",
       "    </tr>\n",
       "    <tr>\n",
       "      <th>31</th>\n",
       "      <td>IE_CAR</td>\n",
       "      <td>84.90</td>\n",
       "      <td>1990</td>\n",
       "    </tr>\n",
       "    <tr>\n",
       "      <th>...</th>\n",
       "      <td>...</td>\n",
       "      <td>...</td>\n",
       "      <td>...</td>\n",
       "    </tr>\n",
       "    <tr>\n",
       "      <th>1702</th>\n",
       "      <td>HU_CAR</td>\n",
       "      <td>79.30</td>\n",
       "      <td>2021</td>\n",
       "    </tr>\n",
       "    <tr>\n",
       "      <th>1703</th>\n",
       "      <td>HU_TRN</td>\n",
       "      <td>6.40</td>\n",
       "      <td>2021</td>\n",
       "    </tr>\n",
       "    <tr>\n",
       "      <th>1704</th>\n",
       "      <td>IE_BUS</td>\n",
       "      <td>13.00</td>\n",
       "      <td>2021</td>\n",
       "    </tr>\n",
       "    <tr>\n",
       "      <th>1705</th>\n",
       "      <td>IE_CAR</td>\n",
       "      <td>85.70</td>\n",
       "      <td>2021</td>\n",
       "    </tr>\n",
       "    <tr>\n",
       "      <th>1706</th>\n",
       "      <td>IE_TRN</td>\n",
       "      <td>1.40</td>\n",
       "      <td>2021</td>\n",
       "    </tr>\n",
       "  </tbody>\n",
       "</table>\n",
       "<p>192 rows × 3 columns</p>\n",
       "</div>"
      ],
      "text/plain": [
       "     Country_Vehicle  value  Year\n",
       "27            HU_BUS  24.80  1990\n",
       "28            HU_CAR  60.50  1990\n",
       "29            HU_TRN  14.70  1990\n",
       "30            IE_BUS  11.50  1990\n",
       "31            IE_CAR  84.90  1990\n",
       "...              ...    ...   ...\n",
       "1702          HU_CAR  79.30  2021\n",
       "1703          HU_TRN   6.40  2021\n",
       "1704          IE_BUS  13.00  2021\n",
       "1705          IE_CAR  85.70  2021\n",
       "1706          IE_TRN   1.40  2021\n",
       "\n",
       "[192 rows x 3 columns]"
      ]
     },
     "execution_count": 10,
     "metadata": {},
     "output_type": "execute_result"
    }
   ],
   "source": [
    "df"
   ]
  },
  {
   "cell_type": "code",
   "execution_count": 11,
   "id": "48c54679",
   "metadata": {},
   "outputs": [],
   "source": [
    "# # Creating variables for each year and storing the values to perform Confidence Intervals:\n",
    "\n",
    "# df_2019 = df[(df['Year'] == 2019)].copy()\n",
    "# df_2019.reset_index(drop=True, inplace=True)\n",
    "# df_2020 = df[(df['Year'] == 2020)].copy()\n",
    "# df_2020.reset_index(drop=True, inplace=True)\n",
    "# df_2021 = df[(df['Year'] == 2021)].copy()\n",
    "# df_2021.reset_index(drop=True, inplace=True)\n",
    "# df_2022 = df[(df['Year'] == 2022)].copy()\n",
    "# df_2022.reset_index(drop=True, inplace=True)"
   ]
  },
  {
   "cell_type": "code",
   "execution_count": 12,
   "id": "2852908c",
   "metadata": {},
   "outputs": [
    {
     "data": {
      "text/html": [
       "<div>\n",
       "<style scoped>\n",
       "    .dataframe tbody tr th:only-of-type {\n",
       "        vertical-align: middle;\n",
       "    }\n",
       "\n",
       "    .dataframe tbody tr th {\n",
       "        vertical-align: top;\n",
       "    }\n",
       "\n",
       "    .dataframe thead th {\n",
       "        text-align: right;\n",
       "    }\n",
       "</style>\n",
       "<table border=\"1\" class=\"dataframe\">\n",
       "  <thead>\n",
       "    <tr style=\"text-align: right;\">\n",
       "      <th></th>\n",
       "      <th>Country_Vehicle</th>\n",
       "      <th>value</th>\n",
       "      <th>Year</th>\n",
       "    </tr>\n",
       "  </thead>\n",
       "  <tbody>\n",
       "    <tr>\n",
       "      <th>27</th>\n",
       "      <td>0</td>\n",
       "      <td>24.80</td>\n",
       "      <td>1990</td>\n",
       "    </tr>\n",
       "    <tr>\n",
       "      <th>28</th>\n",
       "      <td>1</td>\n",
       "      <td>60.50</td>\n",
       "      <td>1990</td>\n",
       "    </tr>\n",
       "    <tr>\n",
       "      <th>29</th>\n",
       "      <td>2</td>\n",
       "      <td>14.70</td>\n",
       "      <td>1990</td>\n",
       "    </tr>\n",
       "    <tr>\n",
       "      <th>30</th>\n",
       "      <td>3</td>\n",
       "      <td>11.50</td>\n",
       "      <td>1990</td>\n",
       "    </tr>\n",
       "    <tr>\n",
       "      <th>31</th>\n",
       "      <td>4</td>\n",
       "      <td>84.90</td>\n",
       "      <td>1990</td>\n",
       "    </tr>\n",
       "    <tr>\n",
       "      <th>...</th>\n",
       "      <td>...</td>\n",
       "      <td>...</td>\n",
       "      <td>...</td>\n",
       "    </tr>\n",
       "    <tr>\n",
       "      <th>1702</th>\n",
       "      <td>1</td>\n",
       "      <td>79.30</td>\n",
       "      <td>2021</td>\n",
       "    </tr>\n",
       "    <tr>\n",
       "      <th>1703</th>\n",
       "      <td>2</td>\n",
       "      <td>6.40</td>\n",
       "      <td>2021</td>\n",
       "    </tr>\n",
       "    <tr>\n",
       "      <th>1704</th>\n",
       "      <td>3</td>\n",
       "      <td>13.00</td>\n",
       "      <td>2021</td>\n",
       "    </tr>\n",
       "    <tr>\n",
       "      <th>1705</th>\n",
       "      <td>4</td>\n",
       "      <td>85.70</td>\n",
       "      <td>2021</td>\n",
       "    </tr>\n",
       "    <tr>\n",
       "      <th>1706</th>\n",
       "      <td>5</td>\n",
       "      <td>1.40</td>\n",
       "      <td>2021</td>\n",
       "    </tr>\n",
       "  </tbody>\n",
       "</table>\n",
       "<p>192 rows × 3 columns</p>\n",
       "</div>"
      ],
      "text/plain": [
       "      Country_Vehicle  value  Year\n",
       "27                  0  24.80  1990\n",
       "28                  1  60.50  1990\n",
       "29                  2  14.70  1990\n",
       "30                  3  11.50  1990\n",
       "31                  4  84.90  1990\n",
       "...               ...    ...   ...\n",
       "1702                1  79.30  2021\n",
       "1703                2   6.40  2021\n",
       "1704                3  13.00  2021\n",
       "1705                4  85.70  2021\n",
       "1706                5   1.40  2021\n",
       "\n",
       "[192 rows x 3 columns]"
      ]
     },
     "execution_count": 12,
     "metadata": {},
     "output_type": "execute_result"
    }
   ],
   "source": [
    "# Creating a LabelEncoder instance\n",
    "le = LabelEncoder()\n",
    "\n",
    "# Encoding the 'Sex' column\n",
    "df['Country_Vehicle'] = le.fit_transform(df['Country_Vehicle'])\n",
    "pd.set_option('display.float_format', lambda x: '%.2f' % x) \n",
    "df"
   ]
  },
  {
   "cell_type": "markdown",
   "id": "917bf3c5",
   "metadata": {},
   "source": [
    "Encoding target variable *\"Luas_Line\"*:<br>\n",
    "*\"Red Line\"* = 0 <br>\n",
    "*\"Green Line\"* = 1<br>\n",
    "Defining X and y variables:"
   ]
  },
  {
   "cell_type": "code",
   "execution_count": 13,
   "id": "d247200f",
   "metadata": {},
   "outputs": [],
   "source": [
    "X = df.iloc[:, [1,2]].values # Dependent variables\n",
    "y = df.iloc[:, 0].values # Target variable"
   ]
  },
  {
   "cell_type": "code",
   "execution_count": 14,
   "id": "18881781",
   "metadata": {},
   "outputs": [
    {
     "data": {
      "text/plain": [
       "array([[2.480e+01, 1.990e+03],\n",
       "       [6.050e+01, 1.990e+03],\n",
       "       [1.470e+01, 1.990e+03],\n",
       "       [1.150e+01, 1.990e+03],\n",
       "       [8.490e+01, 1.990e+03],\n",
       "       [3.600e+00, 1.990e+03],\n",
       "       [2.340e+01, 1.991e+03],\n",
       "       [6.320e+01, 1.991e+03],\n",
       "       [1.330e+01, 1.991e+03],\n",
       "       [1.190e+01, 1.991e+03],\n",
       "       [8.430e+01, 1.991e+03],\n",
       "       [3.700e+00, 1.991e+03],\n",
       "       [2.290e+01, 1.992e+03],\n",
       "       [6.390e+01, 1.992e+03],\n",
       "       [1.320e+01, 1.992e+03],\n",
       "       [1.230e+01, 1.992e+03],\n",
       "       [8.420e+01, 1.992e+03],\n",
       "       [3.500e+00, 1.992e+03],\n",
       "       [2.320e+01, 1.993e+03],\n",
       "       [6.450e+01, 1.993e+03],\n",
       "       [1.240e+01, 1.993e+03],\n",
       "       [1.260e+01, 1.993e+03],\n",
       "       [8.380e+01, 1.993e+03],\n",
       "       [3.600e+00, 1.993e+03],\n",
       "       [2.350e+01, 1.994e+03],\n",
       "       [6.430e+01, 1.994e+03],\n",
       "       [1.220e+01, 1.994e+03],\n",
       "       [1.360e+01, 1.994e+03],\n",
       "       [8.300e+01, 1.994e+03],\n",
       "       [3.400e+00, 1.994e+03],\n",
       "       [2.360e+01, 1.995e+03],\n",
       "       [6.440e+01, 1.995e+03],\n",
       "       [1.200e+01, 1.995e+03],\n",
       "       [1.360e+01, 1.995e+03],\n",
       "       [8.300e+01, 1.995e+03],\n",
       "       [3.400e+00, 1.995e+03],\n",
       "       [2.500e+01, 1.996e+03],\n",
       "       [6.320e+01, 1.996e+03],\n",
       "       [1.180e+01, 1.996e+03],\n",
       "       [1.350e+01, 1.996e+03],\n",
       "       [8.330e+01, 1.996e+03],\n",
       "       [3.300e+00, 1.996e+03],\n",
       "       [2.400e+01, 1.997e+03],\n",
       "       [6.410e+01, 1.997e+03],\n",
       "       [1.190e+01, 1.997e+03],\n",
       "       [1.330e+01, 1.997e+03],\n",
       "       [8.330e+01, 1.997e+03],\n",
       "       [3.400e+00, 1.997e+03],\n",
       "       [2.370e+01, 1.998e+03],\n",
       "       [6.410e+01, 1.998e+03],\n",
       "       [1.220e+01, 1.998e+03],\n",
       "       [1.330e+01, 1.998e+03],\n",
       "       [8.340e+01, 1.998e+03],\n",
       "       [3.300e+00, 1.998e+03],\n",
       "       [2.410e+01, 1.999e+03],\n",
       "       [6.300e+01, 1.999e+03],\n",
       "       [1.290e+01, 1.999e+03],\n",
       "       [1.330e+01, 1.999e+03],\n",
       "       [8.340e+01, 1.999e+03],\n",
       "       [3.300e+00, 1.999e+03],\n",
       "       [2.500e+01, 2.000e+03],\n",
       "       [6.210e+01, 2.000e+03],\n",
       "       [1.290e+01, 2.000e+03],\n",
       "       [1.620e+01, 2.000e+03],\n",
       "       [8.060e+01, 2.000e+03],\n",
       "       [3.200e+00, 2.000e+03],\n",
       "       [2.490e+01, 2.001e+03],\n",
       "       [6.170e+01, 2.001e+03],\n",
       "       [1.340e+01, 2.001e+03],\n",
       "       [1.610e+01, 2.001e+03],\n",
       "       [8.050e+01, 2.001e+03],\n",
       "       [3.300e+00, 2.001e+03],\n",
       "       [2.470e+01, 2.002e+03],\n",
       "       [6.130e+01, 2.002e+03],\n",
       "       [1.390e+01, 2.002e+03],\n",
       "       [1.560e+01, 2.002e+03],\n",
       "       [8.100e+01, 2.002e+03],\n",
       "       [3.500e+00, 2.002e+03],\n",
       "       [2.460e+01, 2.003e+03],\n",
       "       [6.200e+01, 2.003e+03],\n",
       "       [1.340e+01, 2.003e+03],\n",
       "       [1.530e+01, 2.003e+03],\n",
       "       [8.140e+01, 2.003e+03],\n",
       "       [3.300e+00, 2.003e+03],\n",
       "       [2.270e+01, 2.004e+03],\n",
       "       [6.380e+01, 2.004e+03],\n",
       "       [1.350e+01, 2.004e+03],\n",
       "       [1.510e+01, 2.004e+03],\n",
       "       [8.190e+01, 2.004e+03],\n",
       "       [3.000e+00, 2.004e+03],\n",
       "       [2.340e+01, 2.005e+03],\n",
       "       [6.400e+01, 2.005e+03],\n",
       "       [1.260e+01, 2.005e+03],\n",
       "       [1.460e+01, 2.005e+03],\n",
       "       [8.210e+01, 2.005e+03],\n",
       "       [3.300e+00, 2.005e+03],\n",
       "       [2.210e+01, 2.006e+03],\n",
       "       [6.590e+01, 2.006e+03],\n",
       "       [1.200e+01, 2.006e+03],\n",
       "       [1.440e+01, 2.006e+03],\n",
       "       [8.230e+01, 2.006e+03],\n",
       "       [3.300e+00, 2.006e+03],\n",
       "       [2.110e+01, 2.007e+03],\n",
       "       [6.790e+01, 2.007e+03],\n",
       "       [1.100e+01, 2.007e+03],\n",
       "       [1.420e+01, 2.007e+03],\n",
       "       [8.230e+01, 2.007e+03],\n",
       "       [3.400e+00, 2.007e+03],\n",
       "       [2.420e+01, 2.008e+03],\n",
       "       [6.570e+01, 2.008e+03],\n",
       "       [1.010e+01, 2.008e+03],\n",
       "       [1.440e+01, 2.008e+03],\n",
       "       [8.230e+01, 2.008e+03],\n",
       "       [3.300e+00, 2.008e+03],\n",
       "       [2.070e+01, 2.009e+03],\n",
       "       [6.910e+01, 2.009e+03],\n",
       "       [1.020e+01, 2.009e+03],\n",
       "       [1.500e+01, 2.009e+03],\n",
       "       [8.210e+01, 2.009e+03],\n",
       "       [2.800e+00, 2.009e+03],\n",
       "       [2.150e+01, 2.010e+03],\n",
       "       [6.850e+01, 2.010e+03],\n",
       "       [1.000e+01, 2.010e+03],\n",
       "       [1.450e+01, 2.010e+03],\n",
       "       [8.260e+01, 2.010e+03],\n",
       "       [2.900e+00, 2.010e+03],\n",
       "       [2.150e+01, 2.011e+03],\n",
       "       [6.830e+01, 2.011e+03],\n",
       "       [1.020e+01, 2.011e+03],\n",
       "       [1.460e+01, 2.011e+03],\n",
       "       [8.260e+01, 2.011e+03],\n",
       "       [2.900e+00, 2.011e+03],\n",
       "       [2.230e+01, 2.012e+03],\n",
       "       [6.760e+01, 2.012e+03],\n",
       "       [1.010e+01, 2.012e+03],\n",
       "       [1.440e+01, 2.012e+03],\n",
       "       [8.280e+01, 2.012e+03],\n",
       "       [2.800e+00, 2.012e+03],\n",
       "       [2.140e+01, 2.013e+03],\n",
       "       [6.830e+01, 2.013e+03],\n",
       "       [1.030e+01, 2.013e+03],\n",
       "       [1.410e+01, 2.013e+03],\n",
       "       [8.320e+01, 2.013e+03],\n",
       "       [2.700e+00, 2.013e+03],\n",
       "       [2.130e+01, 2.014e+03],\n",
       "       [6.860e+01, 2.014e+03],\n",
       "       [1.000e+01, 2.014e+03],\n",
       "       [1.470e+01, 2.014e+03],\n",
       "       [8.230e+01, 2.014e+03],\n",
       "       [3.000e+00, 2.014e+03],\n",
       "       [2.090e+01, 2.015e+03],\n",
       "       [6.950e+01, 2.015e+03],\n",
       "       [9.700e+00, 2.015e+03],\n",
       "       [1.370e+01, 2.015e+03],\n",
       "       [8.330e+01, 2.015e+03],\n",
       "       [3.100e+00, 2.015e+03],\n",
       "       [2.150e+01, 2.016e+03],\n",
       "       [6.920e+01, 2.016e+03],\n",
       "       [9.200e+00, 2.016e+03],\n",
       "       [1.360e+01, 2.016e+03],\n",
       "       [8.340e+01, 2.016e+03],\n",
       "       [3.000e+00, 2.016e+03],\n",
       "       [2.110e+01, 2.017e+03],\n",
       "       [7.000e+01, 2.017e+03],\n",
       "       [8.900e+00, 2.017e+03],\n",
       "       [1.430e+01, 2.017e+03],\n",
       "       [8.260e+01, 2.017e+03],\n",
       "       [3.100e+00, 2.017e+03],\n",
       "       [1.930e+01, 2.018e+03],\n",
       "       [7.190e+01, 2.018e+03],\n",
       "       [8.700e+00, 2.018e+03],\n",
       "       [1.500e+01, 2.018e+03],\n",
       "       [8.170e+01, 2.018e+03],\n",
       "       [3.300e+00, 2.018e+03],\n",
       "       [1.860e+01, 2.019e+03],\n",
       "       [7.290e+01, 2.019e+03],\n",
       "       [8.400e+00, 2.019e+03],\n",
       "       [1.490e+01, 2.019e+03],\n",
       "       [8.180e+01, 2.019e+03],\n",
       "       [3.300e+00, 2.019e+03],\n",
       "       [1.530e+01, 2.020e+03],\n",
       "       [7.880e+01, 2.020e+03],\n",
       "       [6.000e+00, 2.020e+03],\n",
       "       [1.250e+01, 2.020e+03],\n",
       "       [8.610e+01, 2.020e+03],\n",
       "       [1.400e+00, 2.020e+03],\n",
       "       [1.430e+01, 2.021e+03],\n",
       "       [7.930e+01, 2.021e+03],\n",
       "       [6.400e+00, 2.021e+03],\n",
       "       [1.300e+01, 2.021e+03],\n",
       "       [8.570e+01, 2.021e+03],\n",
       "       [1.400e+00, 2.021e+03]])"
      ]
     },
     "execution_count": 14,
     "metadata": {},
     "output_type": "execute_result"
    }
   ],
   "source": [
    "X"
   ]
  },
  {
   "cell_type": "code",
   "execution_count": 15,
   "id": "b355d5a8",
   "metadata": {},
   "outputs": [
    {
     "data": {
      "text/plain": [
       "array([0, 1, 2, 3, 4, 5, 0, 1, 2, 3, 4, 5, 0, 1, 2, 3, 4, 5, 0, 1, 2, 3,\n",
       "       4, 5, 0, 1, 2, 3, 4, 5, 0, 1, 2, 3, 4, 5, 0, 1, 2, 3, 4, 5, 0, 1,\n",
       "       2, 3, 4, 5, 0, 1, 2, 3, 4, 5, 0, 1, 2, 3, 4, 5, 0, 1, 2, 3, 4, 5,\n",
       "       0, 1, 2, 3, 4, 5, 0, 1, 2, 3, 4, 5, 0, 1, 2, 3, 4, 5, 0, 1, 2, 3,\n",
       "       4, 5, 0, 1, 2, 3, 4, 5, 0, 1, 2, 3, 4, 5, 0, 1, 2, 3, 4, 5, 0, 1,\n",
       "       2, 3, 4, 5, 0, 1, 2, 3, 4, 5, 0, 1, 2, 3, 4, 5, 0, 1, 2, 3, 4, 5,\n",
       "       0, 1, 2, 3, 4, 5, 0, 1, 2, 3, 4, 5, 0, 1, 2, 3, 4, 5, 0, 1, 2, 3,\n",
       "       4, 5, 0, 1, 2, 3, 4, 5, 0, 1, 2, 3, 4, 5, 0, 1, 2, 3, 4, 5, 0, 1,\n",
       "       2, 3, 4, 5, 0, 1, 2, 3, 4, 5, 0, 1, 2, 3, 4, 5])"
      ]
     },
     "execution_count": 15,
     "metadata": {},
     "output_type": "execute_result"
    }
   ],
   "source": [
    "y"
   ]
  },
  {
   "cell_type": "markdown",
   "id": "808636c2",
   "metadata": {},
   "source": [
    "## Splitting the dataset into the Training set and Test set"
   ]
  },
  {
   "cell_type": "code",
   "execution_count": 16,
   "id": "5eade852",
   "metadata": {},
   "outputs": [],
   "source": [
    "X_train, X_test, y_train, y_test = train_test_split(X, y, test_size = 0.2, random_state = 42)"
   ]
  },
  {
   "cell_type": "markdown",
   "id": "a738b73b",
   "metadata": {},
   "source": [
    "## Feature Scaling"
   ]
  },
  {
   "cell_type": "code",
   "execution_count": 17,
   "id": "075a1cc2",
   "metadata": {},
   "outputs": [],
   "source": [
    "sc = StandardScaler()\n",
    "X_train = sc.fit_transform(X_train)\n",
    "X_test = sc.transform(X_test)"
   ]
  },
  {
   "cell_type": "markdown",
   "id": "df15086a",
   "metadata": {},
   "source": [
    "# DecisionTreeClassifier\n",
    "## Training the Decision Tree Classification model on the Training set"
   ]
  },
  {
   "cell_type": "code",
   "execution_count": 18,
   "id": "8680a758",
   "metadata": {},
   "outputs": [
    {
     "data": {
      "text/html": [
       "<style>#sk-container-id-1 {color: black;}#sk-container-id-1 pre{padding: 0;}#sk-container-id-1 div.sk-toggleable {background-color: white;}#sk-container-id-1 label.sk-toggleable__label {cursor: pointer;display: block;width: 100%;margin-bottom: 0;padding: 0.3em;box-sizing: border-box;text-align: center;}#sk-container-id-1 label.sk-toggleable__label-arrow:before {content: \"▸\";float: left;margin-right: 0.25em;color: #696969;}#sk-container-id-1 label.sk-toggleable__label-arrow:hover:before {color: black;}#sk-container-id-1 div.sk-estimator:hover label.sk-toggleable__label-arrow:before {color: black;}#sk-container-id-1 div.sk-toggleable__content {max-height: 0;max-width: 0;overflow: hidden;text-align: left;background-color: #f0f8ff;}#sk-container-id-1 div.sk-toggleable__content pre {margin: 0.2em;color: black;border-radius: 0.25em;background-color: #f0f8ff;}#sk-container-id-1 input.sk-toggleable__control:checked~div.sk-toggleable__content {max-height: 200px;max-width: 100%;overflow: auto;}#sk-container-id-1 input.sk-toggleable__control:checked~label.sk-toggleable__label-arrow:before {content: \"▾\";}#sk-container-id-1 div.sk-estimator input.sk-toggleable__control:checked~label.sk-toggleable__label {background-color: #d4ebff;}#sk-container-id-1 div.sk-label input.sk-toggleable__control:checked~label.sk-toggleable__label {background-color: #d4ebff;}#sk-container-id-1 input.sk-hidden--visually {border: 0;clip: rect(1px 1px 1px 1px);clip: rect(1px, 1px, 1px, 1px);height: 1px;margin: -1px;overflow: hidden;padding: 0;position: absolute;width: 1px;}#sk-container-id-1 div.sk-estimator {font-family: monospace;background-color: #f0f8ff;border: 1px dotted black;border-radius: 0.25em;box-sizing: border-box;margin-bottom: 0.5em;}#sk-container-id-1 div.sk-estimator:hover {background-color: #d4ebff;}#sk-container-id-1 div.sk-parallel-item::after {content: \"\";width: 100%;border-bottom: 1px solid gray;flex-grow: 1;}#sk-container-id-1 div.sk-label:hover label.sk-toggleable__label {background-color: #d4ebff;}#sk-container-id-1 div.sk-serial::before {content: \"\";position: absolute;border-left: 1px solid gray;box-sizing: border-box;top: 0;bottom: 0;left: 50%;z-index: 0;}#sk-container-id-1 div.sk-serial {display: flex;flex-direction: column;align-items: center;background-color: white;padding-right: 0.2em;padding-left: 0.2em;position: relative;}#sk-container-id-1 div.sk-item {position: relative;z-index: 1;}#sk-container-id-1 div.sk-parallel {display: flex;align-items: stretch;justify-content: center;background-color: white;position: relative;}#sk-container-id-1 div.sk-item::before, #sk-container-id-1 div.sk-parallel-item::before {content: \"\";position: absolute;border-left: 1px solid gray;box-sizing: border-box;top: 0;bottom: 0;left: 50%;z-index: -1;}#sk-container-id-1 div.sk-parallel-item {display: flex;flex-direction: column;z-index: 1;position: relative;background-color: white;}#sk-container-id-1 div.sk-parallel-item:first-child::after {align-self: flex-end;width: 50%;}#sk-container-id-1 div.sk-parallel-item:last-child::after {align-self: flex-start;width: 50%;}#sk-container-id-1 div.sk-parallel-item:only-child::after {width: 0;}#sk-container-id-1 div.sk-dashed-wrapped {border: 1px dashed gray;margin: 0 0.4em 0.5em 0.4em;box-sizing: border-box;padding-bottom: 0.4em;background-color: white;}#sk-container-id-1 div.sk-label label {font-family: monospace;font-weight: bold;display: inline-block;line-height: 1.2em;}#sk-container-id-1 div.sk-label-container {text-align: center;}#sk-container-id-1 div.sk-container {/* jupyter's `normalize.less` sets `[hidden] { display: none; }` but bootstrap.min.css set `[hidden] { display: none !important; }` so we also need the `!important` here to be able to override the default hidden behavior on the sphinx rendered scikit-learn.org. See: https://github.com/scikit-learn/scikit-learn/issues/21755 */display: inline-block !important;position: relative;}#sk-container-id-1 div.sk-text-repr-fallback {display: none;}</style><div id=\"sk-container-id-1\" class=\"sk-top-container\"><div class=\"sk-text-repr-fallback\"><pre>DecisionTreeClassifier(max_depth=4, random_state=42)</pre><b>In a Jupyter environment, please rerun this cell to show the HTML representation or trust the notebook. <br />On GitHub, the HTML representation is unable to render, please try loading this page with nbviewer.org.</b></div><div class=\"sk-container\" hidden><div class=\"sk-item\"><div class=\"sk-estimator sk-toggleable\"><input class=\"sk-toggleable__control sk-hidden--visually\" id=\"sk-estimator-id-1\" type=\"checkbox\" checked><label for=\"sk-estimator-id-1\" class=\"sk-toggleable__label sk-toggleable__label-arrow\">DecisionTreeClassifier</label><div class=\"sk-toggleable__content\"><pre>DecisionTreeClassifier(max_depth=4, random_state=42)</pre></div></div></div></div></div>"
      ],
      "text/plain": [
       "DecisionTreeClassifier(max_depth=4, random_state=42)"
      ]
     },
     "execution_count": 18,
     "metadata": {},
     "output_type": "execute_result"
    }
   ],
   "source": [
    "classifier = DecisionTreeClassifier(max_depth = 4, random_state = 42)\n",
    "classifier.fit(X_train, y_train)"
   ]
  },
  {
   "cell_type": "markdown",
   "id": "7dc64b69",
   "metadata": {},
   "source": [
    "## Predicting the Test and set results"
   ]
  },
  {
   "cell_type": "code",
   "execution_count": 19,
   "id": "0a6b0f65",
   "metadata": {},
   "outputs": [],
   "source": [
    "y_pred = classifier.predict(X_test)"
   ]
  },
  {
   "cell_type": "markdown",
   "id": "e770e7ae",
   "metadata": {},
   "source": [
    "## Making the Confusion Matrix"
   ]
  },
  {
   "cell_type": "code",
   "execution_count": 20,
   "id": "50cf04da",
   "metadata": {},
   "outputs": [
    {
     "name": "stdout",
     "output_type": "stream",
     "text": [
      "              precision    recall  f1-score   support\n",
      "\n",
      "           0       1.00      1.00      1.00         8\n",
      "           1       1.00      1.00      1.00         5\n",
      "           2       0.60      0.75      0.67         4\n",
      "           3       0.89      0.80      0.84        10\n",
      "           4       1.00      1.00      1.00         8\n",
      "           5       1.00      1.00      1.00         4\n",
      "\n",
      "    accuracy                           0.92        39\n",
      "   macro avg       0.91      0.92      0.92        39\n",
      "weighted avg       0.93      0.92      0.93        39\n",
      "\n",
      "Classifier Accuracy: 92.31\n"
     ]
    },
    {
     "data": {
      "image/png": "[encoded data removed]",
      "text/plain": [
       "<Figure size 640x480 with 2 Axes>"
      ]
     },
     "metadata": {},
     "output_type": "display_data"
    }
   ],
   "source": [
    "from sklearn.metrics import confusion_matrix # We need to reimport this libary, otherwise breaks\n",
    "\n",
    "# Calculating confusion matrix\n",
    "\n",
    "cm = confusion_matrix(y_test, y_pred)\n",
    "\n",
    "# Call a method heatmap() to plot confusion matrix\n",
    "sns.heatmap(cm, annot = True,fmt='d')\n",
    "plt.title('Scenario 1 CM',loc=\"center\", pad=20, fontsize=25, fontweight=\"bold\")\n",
    "plt.xlabel('Class Prediction',fontsize=16, fontweight='bold')\n",
    "plt.ylabel('Class Sex(F=0,M=1)',fontsize=16, fontweight='bold')\n",
    "\n",
    "plt.xticks(fontsize=12)\n",
    "plt.yticks(fontsize=12)\n",
    "\n",
    "# We don't want scientific notation\n",
    "np.set_printoptions(suppress=True)\n",
    "\n",
    "# print the classification_report based on y_test and y_predict\n",
    "print(classification_report(y_test, y_pred))\n",
    "# Which is the accuracy for the classifier???\n",
    "print(\"Classifier Accuracy:\",round(metrics.accuracy_score(y_test, y_pred),4)*100)"
   ]
  },
  {
   "cell_type": "code",
   "execution_count": 21,
   "id": "7f9827d4",
   "metadata": {},
   "outputs": [
    {
     "name": "stdout",
     "output_type": "stream",
     "text": [
      "Model accuracy score with 10 decision-trees : 89.74\n"
     ]
    }
   ],
   "source": [
    "# instantiate the classifier \n",
    "rfc = RandomForestClassifier(random_state=0)\n",
    "\n",
    "# fit the model\n",
    "rfc.fit(X_train, y_train)\n",
    "\n",
    "# Predict the Test set results\n",
    "y_pred = rfc.predict(X_test)\n",
    "\n",
    "print('Model accuracy score with 10 decision-trees : {0:0.2f}'. format(accuracy_score(y_test, y_pred)*100))"
   ]
  },
  {
   "cell_type": "code",
   "execution_count": null,
   "id": "b77d45fd",
   "metadata": {},
   "outputs": [],
   "source": []
  },
  {
   "cell_type": "code",
   "execution_count": null,
   "id": "902c90c9",
   "metadata": {},
   "outputs": [],
   "source": []
  }
 ],
 "metadata": {
  "kernelspec": {
   "display_name": "Python 3 (ipykernel)",
   "language": "python",
   "name": "python3"
  },
  "language_info": {
   "codemirror_mode": {
    "name": "ipython",
    "version": 3
   },
   "file_extension": ".py",
   "mimetype": "text/x-python",
   "name": "python",
   "nbconvert_exporter": "python",
   "pygments_lexer": "ipython3",
   "version": "3.11.5"
  }
 },
 "nbformat": 4,
 "nbformat_minor": 5
}
