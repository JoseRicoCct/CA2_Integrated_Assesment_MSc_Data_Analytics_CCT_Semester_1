{
 "cells": [
  {
   "cell_type": "code",
   "execution_count": 1,
   "id": "1437f490",
   "metadata": {},
   "outputs": [],
   "source": [
    "# Importing needed packages:"
   ]
  },
  {
   "cell_type": "markdown",
   "id": "eba8a01d",
   "metadata": {},
   "source": [
    "●\tDiscuss in detail the process of acquiring your raw data, detailing the positive and/or negative aspects of your research and acquisition.<br> This should include the relevance and implications of any and all licensing/permissions associated with the data. [0-15]<br>\n",
    "## Answer"
   ]
  },
  {
   "cell_type": "markdown",
   "id": "42690aa8",
   "metadata": {},
   "source": [
    "Undoubtedly, this was the most challenging part of the assignment. However, I discovered the `Eurostat` website, which provides extensive content on data transportation. Additionally, the `CSO` offers interesting datasets related to the Irish transportation sector. Other platforms utilized included `GitHub`, `Kaggle`, and `TripAdvisor`.\n",
    "\n",
    "A positive aspect of this research is that I discovered platforms such as `Eurostat`, which even has a `Python` package to download its datasets. On the negative side, the length of transportation datasets I found was a challenge for the machine learning part. There was not enough data to create accurate and consistent models. However, I found a solution to overcome this issue.\n",
    "\n",
    "In terms of licenses, we are mostly covered by `Creative Commons`, allowing us to use these datasets. Only for `TripAdvisor` `Ryanair` reviews, I do not have licenses. After thorough research, I believe I am not infringing any law, as I am not collecting any personal data. I am compliant with `GDPR`, and `TripAdvisor` does not state that you cannot collect their reviews for research purposes.\n"
   ]
  },
  {
   "cell_type": "markdown",
   "id": "e30b7cae",
   "metadata": {},
   "source": [
    "●\tExploratory Data Analysis helps to identify patterns, inconsistencies, anomalies, missing data, and other attributes and issues in data sets so problems can be addressed.\n",
    "Evaluate your raw data and detail, in depth, the various attributes and issues that you find.<br> Your evaluation should reference evidence to support your chosen methodology and use visualizations to illustrate your findings. [0-25]<br>\n",
    "## Answer"
   ]
  },
  {
   "cell_type": "markdown",
   "id": "85493287",
   "metadata": {},
   "source": [
    "●\tTaking into consideration the tasks required in the machine learning section, use appropriate data cleaning, engineering, extraction and/or other techniques to structure and enrich your data. Rationalize your decisions and implementation, including evidence of how your process has addressed the problems identified in the EDA (Exploratory Data Analysis) stage and how your structured data will assist in the analysis stage.<br> This should include visualizations to illustrate your work and evidence to support your methodology. [0-30]<br>\n",
    "## Answer"
   ]
  },
  {
   "cell_type": "markdown",
   "id": "178feeac",
   "metadata": {},
   "source": [
    "●\tModern Transport planning has a great dependence on technology and relies upon visualizations to communicate information, this includes web based, mobile based and many other digital transmission formats. Develop an interactive dashboard tailored to modern Transport planning, using tufts principles, to showcase the information/evidence gathered following your Machine Learning Analysis.<br> Detail the rationale for approach and visualisation choices made during development. **Note you may not use Powerbi, rapidminer, tableau or other such tools to accomplish this (at this stage).** [0-30]<br>\n",
    "## Answer"
   ]
  },
  {
   "cell_type": "code",
   "execution_count": null,
   "id": "3575b8d2",
   "metadata": {},
   "outputs": [],
   "source": []
  }
 ],
 "metadata": {
  "kernelspec": {
   "display_name": "Python 3 (ipykernel)",
   "language": "python",
   "name": "python3"
  },
  "language_info": {
   "codemirror_mode": {
    "name": "ipython",
    "version": 3
   },
   "file_extension": ".py",
   "mimetype": "text/x-python",
   "name": "python",
   "nbconvert_exporter": "python",
   "pygments_lexer": "ipython3",
   "version": "3.11.5"
  }
 },
 "nbformat": 4,
 "nbformat_minor": 5
}
