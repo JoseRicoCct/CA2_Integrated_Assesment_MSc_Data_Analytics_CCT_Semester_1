{
 "cells": [
  {
   "cell_type": "code",
   "execution_count": 44,
   "id": "1807ee98",
   "metadata": {},
   "outputs": [],
   "source": [
    "import pandas as pd"
   ]
  },
  {
   "cell_type": "markdown",
   "id": "78ea1e10",
   "metadata": {},
   "source": [
    "# 3.1. Descriptive statistics"
   ]
  },
  {
   "cell_type": "markdown",
   "id": "6d48ca7f",
   "metadata": {},
   "source": [
    "# 3.2.\tConfidence interval"
   ]
  },
  {
   "cell_type": "code",
   "execution_count": 45,
   "id": "4e9c92c9",
   "metadata": {},
   "outputs": [],
   "source": [
    "sdf = pd.read_csv('https://ws.cso.ie/public/api.restful/PxStat.Data.Cube_API.ReadDataset/TII03/CSV/1.0/en')\n"
   ]
  },
  {
   "cell_type": "code",
   "execution_count": 46,
   "id": "fa474384",
   "metadata": {},
   "outputs": [
    {
     "data": {
      "text/html": [
       "<div>\n",
       "<style scoped>\n",
       "    .dataframe tbody tr th:only-of-type {\n",
       "        vertical-align: middle;\n",
       "    }\n",
       "\n",
       "    .dataframe tbody tr th {\n",
       "        vertical-align: top;\n",
       "    }\n",
       "\n",
       "    .dataframe thead th {\n",
       "        text-align: right;\n",
       "    }\n",
       "</style>\n",
       "<table border=\"1\" class=\"dataframe\">\n",
       "  <thead>\n",
       "    <tr style=\"text-align: right;\">\n",
       "      <th></th>\n",
       "      <th>STATISTIC</th>\n",
       "      <th>Statistic Label</th>\n",
       "      <th>TLIST(W1)</th>\n",
       "      <th>Week</th>\n",
       "      <th>C03132V03784</th>\n",
       "      <th>Luas Line</th>\n",
       "      <th>UNIT</th>\n",
       "      <th>VALUE</th>\n",
       "    </tr>\n",
       "  </thead>\n",
       "  <tbody>\n",
       "    <tr>\n",
       "      <th>0</th>\n",
       "      <td>TII03C01</td>\n",
       "      <td>Passenger Journeys</td>\n",
       "      <td>2019W01</td>\n",
       "      <td>2019 Week 01</td>\n",
       "      <td>-</td>\n",
       "      <td>All Luas lines</td>\n",
       "      <td>Number</td>\n",
       "      <td>549533.0</td>\n",
       "    </tr>\n",
       "    <tr>\n",
       "      <th>1</th>\n",
       "      <td>TII03C01</td>\n",
       "      <td>Passenger Journeys</td>\n",
       "      <td>2019W01</td>\n",
       "      <td>2019 Week 01</td>\n",
       "      <td>1</td>\n",
       "      <td>Red line</td>\n",
       "      <td>Number</td>\n",
       "      <td>274139.0</td>\n",
       "    </tr>\n",
       "    <tr>\n",
       "      <th>2</th>\n",
       "      <td>TII03C01</td>\n",
       "      <td>Passenger Journeys</td>\n",
       "      <td>2019W01</td>\n",
       "      <td>2019 Week 01</td>\n",
       "      <td>2</td>\n",
       "      <td>Green line</td>\n",
       "      <td>Number</td>\n",
       "      <td>275394.0</td>\n",
       "    </tr>\n",
       "    <tr>\n",
       "      <th>3</th>\n",
       "      <td>TII03C01</td>\n",
       "      <td>Passenger Journeys</td>\n",
       "      <td>2019W02</td>\n",
       "      <td>2019 Week 02</td>\n",
       "      <td>-</td>\n",
       "      <td>All Luas lines</td>\n",
       "      <td>Number</td>\n",
       "      <td>839022.0</td>\n",
       "    </tr>\n",
       "    <tr>\n",
       "      <th>4</th>\n",
       "      <td>TII03C01</td>\n",
       "      <td>Passenger Journeys</td>\n",
       "      <td>2019W02</td>\n",
       "      <td>2019 Week 02</td>\n",
       "      <td>1</td>\n",
       "      <td>Red line</td>\n",
       "      <td>Number</td>\n",
       "      <td>408199.0</td>\n",
       "    </tr>\n",
       "  </tbody>\n",
       "</table>\n",
       "</div>"
      ],
      "text/plain": [
       "  STATISTIC     Statistic Label TLIST(W1)          Week C03132V03784  \\\n",
       "0  TII03C01  Passenger Journeys   2019W01  2019 Week 01            -   \n",
       "1  TII03C01  Passenger Journeys   2019W01  2019 Week 01            1   \n",
       "2  TII03C01  Passenger Journeys   2019W01  2019 Week 01            2   \n",
       "3  TII03C01  Passenger Journeys   2019W02  2019 Week 02            -   \n",
       "4  TII03C01  Passenger Journeys   2019W02  2019 Week 02            1   \n",
       "\n",
       "        Luas Line    UNIT     VALUE  \n",
       "0  All Luas lines  Number  549533.0  \n",
       "1        Red line  Number  274139.0  \n",
       "2      Green line  Number  275394.0  \n",
       "3  All Luas lines  Number  839022.0  \n",
       "4        Red line  Number  408199.0  "
      ]
     },
     "execution_count": 46,
     "metadata": {},
     "output_type": "execute_result"
    }
   ],
   "source": [
    "sdf.head()"
   ]
  },
  {
   "cell_type": "code",
   "execution_count": 47,
   "id": "1d3d6d66",
   "metadata": {},
   "outputs": [],
   "source": [
    "# Dropping the 'STATISTIC Label' column it's irrelevant for the analysis\n",
    "sdf_col_drop = ['STATISTIC','Statistic Label','TLIST(W1)','C03132V03784','UNIT']\n",
    "sdf.drop(sdf_col_drop ,axis=1, inplace=True) "
   ]
  },
  {
   "cell_type": "code",
   "execution_count": 48,
   "id": "85346486",
   "metadata": {},
   "outputs": [],
   "source": [
    "sdfa = sdf[(sdf['Luas Line'] != 'All Luas lines')]"
   ]
  },
  {
   "cell_type": "code",
   "execution_count": 49,
   "id": "f08beec0",
   "metadata": {},
   "outputs": [],
   "source": [
    "# Renaming the columns\n",
    "sdfa = sdfa.rename(columns={'Luas Line': 'Luas_Line'})"
   ]
  },
  {
   "cell_type": "code",
   "execution_count": 50,
   "id": "d57071ff",
   "metadata": {},
   "outputs": [
    {
     "name": "stdout",
     "output_type": "stream",
     "text": [
      "<class 'pandas.core.frame.DataFrame'>\n",
      "Index: 502 entries, 1 to 752\n",
      "Data columns (total 3 columns):\n",
      " #   Column     Non-Null Count  Dtype  \n",
      "---  ------     --------------  -----  \n",
      " 0   Week       502 non-null    object \n",
      " 1   Luas_Line  502 non-null    object \n",
      " 2   VALUE      496 non-null    float64\n",
      "dtypes: float64(1), object(2)\n",
      "memory usage: 15.7+ KB\n"
     ]
    }
   ],
   "source": [
    "sdfa.info()"
   ]
  },
  {
   "cell_type": "code",
   "execution_count": 51,
   "id": "0c613881",
   "metadata": {},
   "outputs": [
    {
     "name": "stdout",
     "output_type": "stream",
     "text": [
      "Rows with null values:\n"
     ]
    },
    {
     "data": {
      "text/html": [
       "<div>\n",
       "<style scoped>\n",
       "    .dataframe tbody tr th:only-of-type {\n",
       "        vertical-align: middle;\n",
       "    }\n",
       "\n",
       "    .dataframe tbody tr th {\n",
       "        vertical-align: top;\n",
       "    }\n",
       "\n",
       "    .dataframe thead th {\n",
       "        text-align: right;\n",
       "    }\n",
       "</style>\n",
       "<table border=\"1\" class=\"dataframe\">\n",
       "  <thead>\n",
       "    <tr style=\"text-align: right;\">\n",
       "      <th></th>\n",
       "      <th>Week</th>\n",
       "      <th>Luas_Line</th>\n",
       "      <th>VALUE</th>\n",
       "    </tr>\n",
       "  </thead>\n",
       "  <tbody>\n",
       "    <tr>\n",
       "      <th>157</th>\n",
       "      <td>2019 Week 53</td>\n",
       "      <td>Red line</td>\n",
       "      <td>NaN</td>\n",
       "    </tr>\n",
       "    <tr>\n",
       "      <th>158</th>\n",
       "      <td>2019 Week 53</td>\n",
       "      <td>Green line</td>\n",
       "      <td>NaN</td>\n",
       "    </tr>\n",
       "    <tr>\n",
       "      <th>475</th>\n",
       "      <td>2021 Week 53</td>\n",
       "      <td>Red line</td>\n",
       "      <td>NaN</td>\n",
       "    </tr>\n",
       "    <tr>\n",
       "      <th>476</th>\n",
       "      <td>2021 Week 53</td>\n",
       "      <td>Green line</td>\n",
       "      <td>NaN</td>\n",
       "    </tr>\n",
       "    <tr>\n",
       "      <th>634</th>\n",
       "      <td>2022 Week 53</td>\n",
       "      <td>Red line</td>\n",
       "      <td>NaN</td>\n",
       "    </tr>\n",
       "    <tr>\n",
       "      <th>635</th>\n",
       "      <td>2022 Week 53</td>\n",
       "      <td>Green line</td>\n",
       "      <td>NaN</td>\n",
       "    </tr>\n",
       "  </tbody>\n",
       "</table>\n",
       "</div>"
      ],
      "text/plain": [
       "             Week   Luas_Line  VALUE\n",
       "157  2019 Week 53    Red line    NaN\n",
       "158  2019 Week 53  Green line    NaN\n",
       "475  2021 Week 53    Red line    NaN\n",
       "476  2021 Week 53  Green line    NaN\n",
       "634  2022 Week 53    Red line    NaN\n",
       "635  2022 Week 53  Green line    NaN"
      ]
     },
     "execution_count": 51,
     "metadata": {},
     "output_type": "execute_result"
    }
   ],
   "source": [
    "# Display the rows with null values\n",
    "sdfa_NaN = sdfa[sdfa.isnull().any(axis=1)]\n",
    "print(\"Rows with null values:\")\n",
    "sdfa_NaN"
   ]
  },
  {
   "cell_type": "markdown",
   "id": "d7b32fe3",
   "metadata": {},
   "source": [
    "We'll drop *'2020 Week 53'* to balance the years"
   ]
  },
  {
   "cell_type": "code",
   "execution_count": 52,
   "id": "9a91d802",
   "metadata": {},
   "outputs": [],
   "source": [
    "#Dropping NaN\n",
    "sdfa = sdfa.dropna(subset=['VALUE'])"
   ]
  },
  {
   "cell_type": "code",
   "execution_count": 53,
   "id": "6ed9cbb9",
   "metadata": {},
   "outputs": [],
   "source": [
    "#  Dropping '2020 Week 53' \n",
    "sdfa = sdfa[~sdfa['Week'].str.contains('Week 53')]\n"
   ]
  },
  {
   "cell_type": "code",
   "execution_count": 54,
   "id": "ffcef104",
   "metadata": {},
   "outputs": [
    {
     "data": {
      "text/html": [
       "<div>\n",
       "<style scoped>\n",
       "    .dataframe tbody tr th:only-of-type {\n",
       "        vertical-align: middle;\n",
       "    }\n",
       "\n",
       "    .dataframe tbody tr th {\n",
       "        vertical-align: top;\n",
       "    }\n",
       "\n",
       "    .dataframe thead th {\n",
       "        text-align: right;\n",
       "    }\n",
       "</style>\n",
       "<table border=\"1\" class=\"dataframe\">\n",
       "  <thead>\n",
       "    <tr style=\"text-align: right;\">\n",
       "      <th></th>\n",
       "      <th>Week</th>\n",
       "      <th>Luas_Line</th>\n",
       "      <th>VALUE</th>\n",
       "    </tr>\n",
       "  </thead>\n",
       "  <tbody>\n",
       "    <tr>\n",
       "      <th>1</th>\n",
       "      <td>2019 Week 01</td>\n",
       "      <td>Red line</td>\n",
       "      <td>274139.0</td>\n",
       "    </tr>\n",
       "    <tr>\n",
       "      <th>2</th>\n",
       "      <td>2019 Week 01</td>\n",
       "      <td>Green line</td>\n",
       "      <td>275394.0</td>\n",
       "    </tr>\n",
       "    <tr>\n",
       "      <th>4</th>\n",
       "      <td>2019 Week 02</td>\n",
       "      <td>Red line</td>\n",
       "      <td>408199.0</td>\n",
       "    </tr>\n",
       "    <tr>\n",
       "      <th>5</th>\n",
       "      <td>2019 Week 02</td>\n",
       "      <td>Green line</td>\n",
       "      <td>430823.0</td>\n",
       "    </tr>\n",
       "    <tr>\n",
       "      <th>7</th>\n",
       "      <td>2019 Week 03</td>\n",
       "      <td>Red line</td>\n",
       "      <td>376785.0</td>\n",
       "    </tr>\n",
       "  </tbody>\n",
       "</table>\n",
       "</div>"
      ],
      "text/plain": [
       "           Week   Luas_Line     VALUE\n",
       "1  2019 Week 01    Red line  274139.0\n",
       "2  2019 Week 01  Green line  275394.0\n",
       "4  2019 Week 02    Red line  408199.0\n",
       "5  2019 Week 02  Green line  430823.0\n",
       "7  2019 Week 03    Red line  376785.0"
      ]
     },
     "execution_count": 54,
     "metadata": {},
     "output_type": "execute_result"
    }
   ],
   "source": [
    "sdfa.head()"
   ]
  },
  {
   "cell_type": "code",
   "execution_count": 55,
   "id": "cb118278",
   "metadata": {},
   "outputs": [],
   "source": [
    "# Extracting the year from Week column\n",
    "sdfa['Year'] = pd.to_datetime(sdfa['Week'].str[:4] + ' ' + sdfa['Week'].str[-2:] + ' 1', format='%Y %W %w').dt.year"
   ]
  },
  {
   "cell_type": "code",
   "execution_count": 56,
   "id": "6bc71e83",
   "metadata": {},
   "outputs": [
    {
     "name": "stdout",
     "output_type": "stream",
     "text": [
      "<class 'pandas.core.frame.DataFrame'>\n",
      "Index: 494 entries, 1 to 752\n",
      "Data columns (total 4 columns):\n",
      " #   Column     Non-Null Count  Dtype  \n",
      "---  ------     --------------  -----  \n",
      " 0   Week       494 non-null    object \n",
      " 1   Luas_Line  494 non-null    object \n",
      " 2   VALUE      494 non-null    float64\n",
      " 3   Year       494 non-null    int32  \n",
      "dtypes: float64(1), int32(1), object(2)\n",
      "memory usage: 17.4+ KB\n"
     ]
    }
   ],
   "source": [
    "sdfa.info()"
   ]
  },
  {
   "cell_type": "code",
   "execution_count": 57,
   "id": "e4626580",
   "metadata": {},
   "outputs": [
    {
     "data": {
      "text/html": [
       "<div>\n",
       "<style scoped>\n",
       "    .dataframe tbody tr th:only-of-type {\n",
       "        vertical-align: middle;\n",
       "    }\n",
       "\n",
       "    .dataframe tbody tr th {\n",
       "        vertical-align: top;\n",
       "    }\n",
       "\n",
       "    .dataframe thead th {\n",
       "        text-align: right;\n",
       "    }\n",
       "</style>\n",
       "<table border=\"1\" class=\"dataframe\">\n",
       "  <thead>\n",
       "    <tr style=\"text-align: right;\">\n",
       "      <th></th>\n",
       "      <th>Week</th>\n",
       "      <th>Luas_Line</th>\n",
       "      <th>VALUE</th>\n",
       "      <th>Year</th>\n",
       "    </tr>\n",
       "  </thead>\n",
       "  <tbody>\n",
       "    <tr>\n",
       "      <th>1</th>\n",
       "      <td>2019 Week 01</td>\n",
       "      <td>Red line</td>\n",
       "      <td>274139.0</td>\n",
       "      <td>2019</td>\n",
       "    </tr>\n",
       "    <tr>\n",
       "      <th>2</th>\n",
       "      <td>2019 Week 01</td>\n",
       "      <td>Green line</td>\n",
       "      <td>275394.0</td>\n",
       "      <td>2019</td>\n",
       "    </tr>\n",
       "    <tr>\n",
       "      <th>4</th>\n",
       "      <td>2019 Week 02</td>\n",
       "      <td>Red line</td>\n",
       "      <td>408199.0</td>\n",
       "      <td>2019</td>\n",
       "    </tr>\n",
       "    <tr>\n",
       "      <th>5</th>\n",
       "      <td>2019 Week 02</td>\n",
       "      <td>Green line</td>\n",
       "      <td>430823.0</td>\n",
       "      <td>2019</td>\n",
       "    </tr>\n",
       "    <tr>\n",
       "      <th>7</th>\n",
       "      <td>2019 Week 03</td>\n",
       "      <td>Red line</td>\n",
       "      <td>376785.0</td>\n",
       "      <td>2019</td>\n",
       "    </tr>\n",
       "  </tbody>\n",
       "</table>\n",
       "</div>"
      ],
      "text/plain": [
       "           Week   Luas_Line     VALUE  Year\n",
       "1  2019 Week 01    Red line  274139.0  2019\n",
       "2  2019 Week 01  Green line  275394.0  2019\n",
       "4  2019 Week 02    Red line  408199.0  2019\n",
       "5  2019 Week 02  Green line  430823.0  2019\n",
       "7  2019 Week 03    Red line  376785.0  2019"
      ]
     },
     "execution_count": 57,
     "metadata": {},
     "output_type": "execute_result"
    }
   ],
   "source": [
    "sdfa.head()"
   ]
  },
  {
   "cell_type": "code",
   "execution_count": 60,
   "id": "869f1dd4",
   "metadata": {},
   "outputs": [
    {
     "data": {
      "text/plain": [
       "Year\n",
       "2019    104\n",
       "2020    104\n",
       "2021    104\n",
       "2022    104\n",
       "2023     78\n",
       "Name: count, dtype: int64"
      ]
     },
     "execution_count": 60,
     "metadata": {},
     "output_type": "execute_result"
    }
   ],
   "source": [
    "def count_occurrences_by_year(dataframe):\n",
    "  \n",
    "    year_counts = dataframe['Year'].value_counts().sort_index()\n",
    "\n",
    "    return year_counts\n",
    "result = count_occurrences_by_year(sdfa)\n",
    "result"
   ]
  },
  {
   "cell_type": "code",
   "execution_count": 62,
   "id": "a34370ab",
   "metadata": {},
   "outputs": [],
   "source": [
    "sdfa_2019 = sdfa[(sdfa['Year'] == 2019)].copy()\n",
    "sdfa_2019.reset_index(drop=True, inplace=True)\n",
    "sdfa_2020 = sdfa[(sdfa['Year'] == 2020)].copy()\n",
    "sdfa_2020.reset_index(drop=True, inplace=True)\n",
    "sdfa_2021 = sdfa[(sdfa['Year'] == 2021)].copy()\n",
    "sdfa_2021.reset_index(drop=True, inplace=True)\n",
    "sdfa_2022 = sdfa[(sdfa['Year'] == 2022)].copy()\n",
    "sdfa_2022.reset_index(drop=True, inplace=True)"
   ]
  },
  {
   "cell_type": "markdown",
   "id": "ab9308ee",
   "metadata": {},
   "source": [
    "We want to know the average of passengers for 2019. We will use 90% confidence"
   ]
  },
  {
   "cell_type": "code",
   "execution_count": 65,
   "id": "824d2e03",
   "metadata": {},
   "outputs": [
    {
     "data": {
      "text/html": [
       "<div>\n",
       "<style scoped>\n",
       "    .dataframe tbody tr th:only-of-type {\n",
       "        vertical-align: middle;\n",
       "    }\n",
       "\n",
       "    .dataframe tbody tr th {\n",
       "        vertical-align: top;\n",
       "    }\n",
       "\n",
       "    .dataframe thead th {\n",
       "        text-align: right;\n",
       "    }\n",
       "</style>\n",
       "<table border=\"1\" class=\"dataframe\">\n",
       "  <thead>\n",
       "    <tr style=\"text-align: right;\">\n",
       "      <th></th>\n",
       "      <th>VALUE</th>\n",
       "      <th>Year</th>\n",
       "    </tr>\n",
       "  </thead>\n",
       "  <tbody>\n",
       "    <tr>\n",
       "      <th>count</th>\n",
       "      <td>104.000000</td>\n",
       "      <td>104.0</td>\n",
       "    </tr>\n",
       "    <tr>\n",
       "      <th>mean</th>\n",
       "      <td>462966.403846</td>\n",
       "      <td>2019.0</td>\n",
       "    </tr>\n",
       "    <tr>\n",
       "      <th>std</th>\n",
       "      <td>58751.214682</td>\n",
       "      <td>0.0</td>\n",
       "    </tr>\n",
       "    <tr>\n",
       "      <th>min</th>\n",
       "      <td>259211.000000</td>\n",
       "      <td>2019.0</td>\n",
       "    </tr>\n",
       "    <tr>\n",
       "      <th>25%</th>\n",
       "      <td>441097.250000</td>\n",
       "      <td>2019.0</td>\n",
       "    </tr>\n",
       "    <tr>\n",
       "      <th>50%</th>\n",
       "      <td>464353.000000</td>\n",
       "      <td>2019.0</td>\n",
       "    </tr>\n",
       "    <tr>\n",
       "      <th>75%</th>\n",
       "      <td>499103.250000</td>\n",
       "      <td>2019.0</td>\n",
       "    </tr>\n",
       "    <tr>\n",
       "      <th>max</th>\n",
       "      <td>622699.000000</td>\n",
       "      <td>2019.0</td>\n",
       "    </tr>\n",
       "  </tbody>\n",
       "</table>\n",
       "</div>"
      ],
      "text/plain": [
       "               VALUE    Year\n",
       "count     104.000000   104.0\n",
       "mean   462966.403846  2019.0\n",
       "std     58751.214682     0.0\n",
       "min    259211.000000  2019.0\n",
       "25%    441097.250000  2019.0\n",
       "50%    464353.000000  2019.0\n",
       "75%    499103.250000  2019.0\n",
       "max    622699.000000  2019.0"
      ]
     },
     "execution_count": 65,
     "metadata": {},
     "output_type": "execute_result"
    }
   ],
   "source": [
    "sdfa_2019.describe()"
   ]
  },
  {
   "cell_type": "code",
   "execution_count": 73,
   "id": "c1d23964",
   "metadata": {},
   "outputs": [],
   "source": [
    "X = sdfa_2019.iloc[:,2:3].values"
   ]
  },
  {
   "cell_type": "code",
   "execution_count": 76,
   "id": "d7a9c526",
   "metadata": {},
   "outputs": [
    {
     "data": {
      "text/plain": [
       "(array([453404.34741473]), array([472528.46027757]))"
      ]
     },
     "execution_count": 76,
     "metadata": {},
     "output_type": "execute_result"
    }
   ],
   "source": [
    "import scipy.stats as st\n",
    "#We create our confidence interval using Student's T at 90% confidence\n",
    "st.t.interval(confidence=0.90, df=len(X)-1, loc= np.mean(X), scale = st.sem(X))"
   ]
  },
  {
   "cell_type": "code",
   "execution_count": 104,
   "id": "117dc6fe",
   "metadata": {},
   "outputs": [
    {
     "data": {
      "image/png": "[encoded data removed]",
      "text/plain": [
       "<Figure size 1000x600 with 1 Axes>"
      ]
     },
     "metadata": {},
     "output_type": "display_data"
    }
   ],
   "source": [
    "import matplotlib.pyplot as plt\n",
    "import seaborn as sns\n",
    "import numpy as np\n",
    "import scipy.stats as st\n",
    "\n",
    "# Confidence interval values\n",
    "confidence_interval = (453404.34741473, 472528.46027757)\n",
    "\n",
    "# Creating range of values for the x-axis\n",
    "x_values = np.linspace(confidence_interval[0] - 20000, confidence_interval[1] + 20000, 1000)\n",
    "\n",
    "# Calculating probabilities for the visualisation assuming that it is normally distributed\n",
    "pdf_values = st.norm.pdf(x_values, np.mean(confidence_interval), np.std(confidence_interval))\n",
    "\n",
    "\n",
    "plt.figure(figsize=(10, 6))  # Increase the figure size for better visibility\n",
    "plt.plot(x_values, pdf_values, color='blue', label='')\n",
    "\n",
    "# Highlight the confidence interval with shading\n",
    "plt.fill_betweenx(y=[0, max(pdf_values)], x1=confidence_interval[0], x2=confidence_interval[1], color='skyblue', alpha=0.4, label='90% Confidence Interval')\n",
    "\n",
    "# Add labels for confidence interval values, alpha, and mean\n",
    "plt.axvline(x=confidence_interval[0], color='red', linestyle='--', label=f'Lower CI: {confidence_interval[0]:,.2f}')\n",
    "plt.axvline(x=confidence_interval[1], color='green', linestyle='--', label=f'Upper CI: {confidence_interval[1]:,.2f}')\n",
    "plt.axvline(x=np.mean(confidence_interval), color='blue', linestyle='--', label=f'Mean: {np.mean(confidence_interval):,.2f}')\n",
    "\n",
    "# Adding labels and title\n",
    "plt.xlabel('Passengers')\n",
    "plt.ylabel('Probability Density')\n",
    "plt.title('LUAS Passengers 2019 90% Confidence Interval')\n",
    "\n",
    "# Set x-axis limits to further expand the bell\n",
    "plt.xlim([confidence_interval[0] - 20000, confidence_interval[1] + 20000])\n",
    "# Set the y-axis ticklabel_format to exclude exponent notation\n",
    "plt.ticklabel_format(style='plain', axis='y')\n",
    "\n",
    "# Show the legend\n",
    "plt.legend(loc='upper right', bbox_to_anchor=(1, 1))\n",
    "# Show the plot\n",
    "plt.show()\n"
   ]
  },
  {
   "cell_type": "code",
   "execution_count": 66,
   "id": "8f4fe288",
   "metadata": {},
   "outputs": [
    {
     "data": {
      "text/html": [
       "<div>\n",
       "<style scoped>\n",
       "    .dataframe tbody tr th:only-of-type {\n",
       "        vertical-align: middle;\n",
       "    }\n",
       "\n",
       "    .dataframe tbody tr th {\n",
       "        vertical-align: top;\n",
       "    }\n",
       "\n",
       "    .dataframe thead th {\n",
       "        text-align: right;\n",
       "    }\n",
       "</style>\n",
       "<table border=\"1\" class=\"dataframe\">\n",
       "  <thead>\n",
       "    <tr style=\"text-align: right;\">\n",
       "      <th></th>\n",
       "      <th>VALUE</th>\n",
       "      <th>Year</th>\n",
       "    </tr>\n",
       "  </thead>\n",
       "  <tbody>\n",
       "    <tr>\n",
       "      <th>count</th>\n",
       "      <td>104.000000</td>\n",
       "      <td>104.0</td>\n",
       "    </tr>\n",
       "    <tr>\n",
       "      <th>mean</th>\n",
       "      <td>185157.009615</td>\n",
       "      <td>2020.0</td>\n",
       "    </tr>\n",
       "    <tr>\n",
       "      <th>std</th>\n",
       "      <td>139494.873679</td>\n",
       "      <td>0.0</td>\n",
       "    </tr>\n",
       "    <tr>\n",
       "      <th>min</th>\n",
       "      <td>19727.000000</td>\n",
       "      <td>2020.0</td>\n",
       "    </tr>\n",
       "    <tr>\n",
       "      <th>25%</th>\n",
       "      <td>92848.000000</td>\n",
       "      <td>2020.0</td>\n",
       "    </tr>\n",
       "    <tr>\n",
       "      <th>50%</th>\n",
       "      <td>152092.000000</td>\n",
       "      <td>2020.0</td>\n",
       "    </tr>\n",
       "    <tr>\n",
       "      <th>75%</th>\n",
       "      <td>203166.000000</td>\n",
       "      <td>2020.0</td>\n",
       "    </tr>\n",
       "    <tr>\n",
       "      <th>max</th>\n",
       "      <td>482333.000000</td>\n",
       "      <td>2020.0</td>\n",
       "    </tr>\n",
       "  </tbody>\n",
       "</table>\n",
       "</div>"
      ],
      "text/plain": [
       "               VALUE    Year\n",
       "count     104.000000   104.0\n",
       "mean   185157.009615  2020.0\n",
       "std    139494.873679     0.0\n",
       "min     19727.000000  2020.0\n",
       "25%     92848.000000  2020.0\n",
       "50%    152092.000000  2020.0\n",
       "75%    203166.000000  2020.0\n",
       "max    482333.000000  2020.0"
      ]
     },
     "execution_count": 66,
     "metadata": {},
     "output_type": "execute_result"
    }
   ],
   "source": [
    "sdfa_2020.describe()"
   ]
  },
  {
   "cell_type": "code",
   "execution_count": 67,
   "id": "7e4f8f67",
   "metadata": {},
   "outputs": [
    {
     "data": {
      "text/html": [
       "<div>\n",
       "<style scoped>\n",
       "    .dataframe tbody tr th:only-of-type {\n",
       "        vertical-align: middle;\n",
       "    }\n",
       "\n",
       "    .dataframe tbody tr th {\n",
       "        vertical-align: top;\n",
       "    }\n",
       "\n",
       "    .dataframe thead th {\n",
       "        text-align: right;\n",
       "    }\n",
       "</style>\n",
       "<table border=\"1\" class=\"dataframe\">\n",
       "  <thead>\n",
       "    <tr style=\"text-align: right;\">\n",
       "      <th></th>\n",
       "      <th>VALUE</th>\n",
       "      <th>Year</th>\n",
       "    </tr>\n",
       "  </thead>\n",
       "  <tbody>\n",
       "    <tr>\n",
       "      <th>count</th>\n",
       "      <td>104.000000</td>\n",
       "      <td>104.0</td>\n",
       "    </tr>\n",
       "    <tr>\n",
       "      <th>mean</th>\n",
       "      <td>187611.134615</td>\n",
       "      <td>2021.0</td>\n",
       "    </tr>\n",
       "    <tr>\n",
       "      <th>std</th>\n",
       "      <td>82667.596263</td>\n",
       "      <td>0.0</td>\n",
       "    </tr>\n",
       "    <tr>\n",
       "      <th>min</th>\n",
       "      <td>64278.000000</td>\n",
       "      <td>2021.0</td>\n",
       "    </tr>\n",
       "    <tr>\n",
       "      <th>25%</th>\n",
       "      <td>102652.500000</td>\n",
       "      <td>2021.0</td>\n",
       "    </tr>\n",
       "    <tr>\n",
       "      <th>50%</th>\n",
       "      <td>195341.500000</td>\n",
       "      <td>2021.0</td>\n",
       "    </tr>\n",
       "    <tr>\n",
       "      <th>75%</th>\n",
       "      <td>258089.000000</td>\n",
       "      <td>2021.0</td>\n",
       "    </tr>\n",
       "    <tr>\n",
       "      <th>max</th>\n",
       "      <td>327777.000000</td>\n",
       "      <td>2021.0</td>\n",
       "    </tr>\n",
       "  </tbody>\n",
       "</table>\n",
       "</div>"
      ],
      "text/plain": [
       "               VALUE    Year\n",
       "count     104.000000   104.0\n",
       "mean   187611.134615  2021.0\n",
       "std     82667.596263     0.0\n",
       "min     64278.000000  2021.0\n",
       "25%    102652.500000  2021.0\n",
       "50%    195341.500000  2021.0\n",
       "75%    258089.000000  2021.0\n",
       "max    327777.000000  2021.0"
      ]
     },
     "execution_count": 67,
     "metadata": {},
     "output_type": "execute_result"
    }
   ],
   "source": [
    "sdfa_2021.describe()"
   ]
  },
  {
   "cell_type": "code",
   "execution_count": 68,
   "id": "3ba1db2f",
   "metadata": {},
   "outputs": [
    {
     "data": {
      "text/html": [
       "<div>\n",
       "<style scoped>\n",
       "    .dataframe tbody tr th:only-of-type {\n",
       "        vertical-align: middle;\n",
       "    }\n",
       "\n",
       "    .dataframe tbody tr th {\n",
       "        vertical-align: top;\n",
       "    }\n",
       "\n",
       "    .dataframe thead th {\n",
       "        text-align: right;\n",
       "    }\n",
       "</style>\n",
       "<table border=\"1\" class=\"dataframe\">\n",
       "  <thead>\n",
       "    <tr style=\"text-align: right;\">\n",
       "      <th></th>\n",
       "      <th>VALUE</th>\n",
       "      <th>Year</th>\n",
       "    </tr>\n",
       "  </thead>\n",
       "  <tbody>\n",
       "    <tr>\n",
       "      <th>count</th>\n",
       "      <td>104.000000</td>\n",
       "      <td>104.0</td>\n",
       "    </tr>\n",
       "    <tr>\n",
       "      <th>mean</th>\n",
       "      <td>373602.250000</td>\n",
       "      <td>2022.0</td>\n",
       "    </tr>\n",
       "    <tr>\n",
       "      <th>std</th>\n",
       "      <td>90580.590311</td>\n",
       "      <td>0.0</td>\n",
       "    </tr>\n",
       "    <tr>\n",
       "      <th>min</th>\n",
       "      <td>161546.000000</td>\n",
       "      <td>2022.0</td>\n",
       "    </tr>\n",
       "    <tr>\n",
       "      <th>25%</th>\n",
       "      <td>306127.500000</td>\n",
       "      <td>2022.0</td>\n",
       "    </tr>\n",
       "    <tr>\n",
       "      <th>50%</th>\n",
       "      <td>354642.000000</td>\n",
       "      <td>2022.0</td>\n",
       "    </tr>\n",
       "    <tr>\n",
       "      <th>75%</th>\n",
       "      <td>442544.750000</td>\n",
       "      <td>2022.0</td>\n",
       "    </tr>\n",
       "    <tr>\n",
       "      <th>max</th>\n",
       "      <td>547010.000000</td>\n",
       "      <td>2022.0</td>\n",
       "    </tr>\n",
       "  </tbody>\n",
       "</table>\n",
       "</div>"
      ],
      "text/plain": [
       "               VALUE    Year\n",
       "count     104.000000   104.0\n",
       "mean   373602.250000  2022.0\n",
       "std     90580.590311     0.0\n",
       "min    161546.000000  2022.0\n",
       "25%    306127.500000  2022.0\n",
       "50%    354642.000000  2022.0\n",
       "75%    442544.750000  2022.0\n",
       "max    547010.000000  2022.0"
      ]
     },
     "execution_count": 68,
     "metadata": {},
     "output_type": "execute_result"
    }
   ],
   "source": [
    "sdfa_2022.describe()"
   ]
  },
  {
   "cell_type": "code",
   "execution_count": null,
   "id": "802985c4",
   "metadata": {},
   "outputs": [],
   "source": []
  },
  {
   "cell_type": "markdown",
   "id": "f3682094",
   "metadata": {},
   "source": [
    "# 3.3.\tInferential statistics\n",
    "# 3.3.1.\tParametric\n",
    "# 3.3.1.1.\tT-test\n",
    "# 3.3.1.2.\tAnova\n",
    "# 3.3.1.3.\tChi-squared test\t\n",
    "# 3.3.2.\tNon-parametric\n",
    "# 3.3.2.1.\tKruskal-Wallis\n",
    "# 3.3.2.2.\tU-Mann Whitman\n"
   ]
  },
  {
   "cell_type": "code",
   "execution_count": null,
   "id": "c74846ce",
   "metadata": {},
   "outputs": [],
   "source": []
  }
 ],
 "metadata": {
  "kernelspec": {
   "display_name": "Python 3 (ipykernel)",
   "language": "python",
   "name": "python3"
  },
  "language_info": {
   "codemirror_mode": {
    "name": "ipython",
    "version": 3
   },
   "file_extension": ".py",
   "mimetype": "text/x-python",
   "name": "python",
   "nbconvert_exporter": "python",
   "pygments_lexer": "ipython3",
   "version": "3.11.5"
  }
 },
 "nbformat": 4,
 "nbformat_minor": 5
}
