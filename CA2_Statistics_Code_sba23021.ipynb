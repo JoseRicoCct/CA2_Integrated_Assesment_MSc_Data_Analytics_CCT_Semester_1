{
 "cells": [
  {
   "cell_type": "code",
<<<<<<< HEAD
   "execution_count": 1,
=======
   "execution_count": 61,
>>>>>>> 3ec44bd10c4a910d21461cd7bb1ae014452e0064
   "id": "1807ee98",
   "metadata": {},
   "outputs": [],
   "source": [
    "import pandas as pd\n",
    "import numpy as np\n",
    "import scipy.stats as st\n",
    "import matplotlib.pyplot as plt\n",
    "import seaborn as sns"
   ]
  },
  {
   "cell_type": "markdown",
   "id": "78ea1e10",
   "metadata": {},
   "source": [
    "# 3.1. Descriptive statistics"
   ]
  },
  {
   "cell_type": "markdown",
   "id": "6d48ca7f",
   "metadata": {},
   "source": [
    "# 3.2.\tConfidence interval"
   ]
  },
  {
   "cell_type": "code",
   "execution_count": 2,
   "id": "4e9c92c9",
   "metadata": {},
   "outputs": [],
   "source": [
    "sdf = pd.read_csv('https://ws.cso.ie/public/api.restful/PxStat.Data.Cube_API.ReadDataset/TII03/CSV/1.0/en')"
   ]
  },
  {
   "cell_type": "code",
   "execution_count": 3,
   "id": "fa474384",
   "metadata": {},
   "outputs": [
    {
     "data": {
      "text/html": [
       "<div>\n",
       "<style scoped>\n",
       "    .dataframe tbody tr th:only-of-type {\n",
       "        vertical-align: middle;\n",
       "    }\n",
       "\n",
       "    .dataframe tbody tr th {\n",
       "        vertical-align: top;\n",
       "    }\n",
       "\n",
       "    .dataframe thead th {\n",
       "        text-align: right;\n",
       "    }\n",
       "</style>\n",
       "<table border=\"1\" class=\"dataframe\">\n",
       "  <thead>\n",
       "    <tr style=\"text-align: right;\">\n",
       "      <th></th>\n",
       "      <th>STATISTIC</th>\n",
       "      <th>Statistic Label</th>\n",
       "      <th>TLIST(W1)</th>\n",
       "      <th>Week</th>\n",
       "      <th>C03132V03784</th>\n",
       "      <th>Luas Line</th>\n",
       "      <th>UNIT</th>\n",
       "      <th>VALUE</th>\n",
       "    </tr>\n",
       "  </thead>\n",
       "  <tbody>\n",
       "    <tr>\n",
       "      <th>0</th>\n",
       "      <td>TII03C01</td>\n",
       "      <td>Passenger Journeys</td>\n",
       "      <td>2019W01</td>\n",
       "      <td>2019 Week 01</td>\n",
       "      <td>-</td>\n",
       "      <td>All Luas lines</td>\n",
       "      <td>Number</td>\n",
       "      <td>549533.0</td>\n",
       "    </tr>\n",
       "    <tr>\n",
       "      <th>1</th>\n",
       "      <td>TII03C01</td>\n",
       "      <td>Passenger Journeys</td>\n",
       "      <td>2019W01</td>\n",
       "      <td>2019 Week 01</td>\n",
       "      <td>1</td>\n",
       "      <td>Red line</td>\n",
       "      <td>Number</td>\n",
       "      <td>274139.0</td>\n",
       "    </tr>\n",
       "    <tr>\n",
       "      <th>2</th>\n",
       "      <td>TII03C01</td>\n",
       "      <td>Passenger Journeys</td>\n",
       "      <td>2019W01</td>\n",
       "      <td>2019 Week 01</td>\n",
       "      <td>2</td>\n",
       "      <td>Green line</td>\n",
       "      <td>Number</td>\n",
       "      <td>275394.0</td>\n",
       "    </tr>\n",
       "    <tr>\n",
       "      <th>3</th>\n",
       "      <td>TII03C01</td>\n",
       "      <td>Passenger Journeys</td>\n",
       "      <td>2019W02</td>\n",
       "      <td>2019 Week 02</td>\n",
       "      <td>-</td>\n",
       "      <td>All Luas lines</td>\n",
       "      <td>Number</td>\n",
       "      <td>839022.0</td>\n",
       "    </tr>\n",
       "    <tr>\n",
       "      <th>4</th>\n",
       "      <td>TII03C01</td>\n",
       "      <td>Passenger Journeys</td>\n",
       "      <td>2019W02</td>\n",
       "      <td>2019 Week 02</td>\n",
       "      <td>1</td>\n",
       "      <td>Red line</td>\n",
       "      <td>Number</td>\n",
       "      <td>408199.0</td>\n",
       "    </tr>\n",
       "  </tbody>\n",
       "</table>\n",
       "</div>"
      ],
      "text/plain": [
       "  STATISTIC     Statistic Label TLIST(W1)          Week C03132V03784  \\\n",
       "0  TII03C01  Passenger Journeys   2019W01  2019 Week 01            -   \n",
       "1  TII03C01  Passenger Journeys   2019W01  2019 Week 01            1   \n",
       "2  TII03C01  Passenger Journeys   2019W01  2019 Week 01            2   \n",
       "3  TII03C01  Passenger Journeys   2019W02  2019 Week 02            -   \n",
       "4  TII03C01  Passenger Journeys   2019W02  2019 Week 02            1   \n",
       "\n",
       "        Luas Line    UNIT     VALUE  \n",
       "0  All Luas lines  Number  549533.0  \n",
       "1        Red line  Number  274139.0  \n",
       "2      Green line  Number  275394.0  \n",
       "3  All Luas lines  Number  839022.0  \n",
       "4        Red line  Number  408199.0  "
      ]
     },
     "execution_count": 3,
     "metadata": {},
     "output_type": "execute_result"
    }
   ],
   "source": [
    "sdf.head()"
   ]
  },
  {
   "cell_type": "code",
   "execution_count": 4,
   "id": "1d3d6d66",
   "metadata": {},
   "outputs": [],
   "source": [
    "# Dropping the 'STATISTIC Label' column it's irrelevant for the analysis\n",
    "sdf_col_drop = ['STATISTIC','Statistic Label','TLIST(W1)','C03132V03784','UNIT']\n",
    "sdf.drop(sdf_col_drop ,axis=1, inplace=True) "
   ]
  },
  {
   "cell_type": "code",
   "execution_count": 5,
   "id": "85346486",
   "metadata": {},
   "outputs": [],
   "source": [
    "sdfa = sdf[(sdf['Luas Line'] != 'All Luas lines')]"
   ]
  },
  {
   "cell_type": "code",
   "execution_count": 6,
   "id": "f08beec0",
   "metadata": {},
   "outputs": [],
   "source": [
    "# Renaming the columns\n",
    "sdfa = sdfa.rename(columns={'Luas Line': 'Luas_Line'})"
   ]
  },
  {
   "cell_type": "code",
   "execution_count": 7,
   "id": "d57071ff",
   "metadata": {},
   "outputs": [
    {
     "name": "stdout",
     "output_type": "stream",
     "text": [
      "<class 'pandas.core.frame.DataFrame'>\n",
      "Index: 502 entries, 1 to 752\n",
      "Data columns (total 3 columns):\n",
      " #   Column     Non-Null Count  Dtype  \n",
      "---  ------     --------------  -----  \n",
      " 0   Week       502 non-null    object \n",
      " 1   Luas_Line  502 non-null    object \n",
      " 2   VALUE      496 non-null    float64\n",
      "dtypes: float64(1), object(2)\n",
      "memory usage: 15.7+ KB\n"
     ]
    }
   ],
   "source": [
    "sdfa.info()"
   ]
  },
  {
   "cell_type": "code",
   "execution_count": 8,
   "id": "0c613881",
   "metadata": {},
   "outputs": [
    {
     "name": "stdout",
     "output_type": "stream",
     "text": [
      "Rows with null values:\n"
     ]
    },
    {
     "data": {
      "text/html": [
       "<div>\n",
       "<style scoped>\n",
       "    .dataframe tbody tr th:only-of-type {\n",
       "        vertical-align: middle;\n",
       "    }\n",
       "\n",
       "    .dataframe tbody tr th {\n",
       "        vertical-align: top;\n",
       "    }\n",
       "\n",
       "    .dataframe thead th {\n",
       "        text-align: right;\n",
       "    }\n",
       "</style>\n",
       "<table border=\"1\" class=\"dataframe\">\n",
       "  <thead>\n",
       "    <tr style=\"text-align: right;\">\n",
       "      <th></th>\n",
       "      <th>Week</th>\n",
       "      <th>Luas_Line</th>\n",
       "      <th>VALUE</th>\n",
       "    </tr>\n",
       "  </thead>\n",
       "  <tbody>\n",
       "    <tr>\n",
       "      <th>157</th>\n",
       "      <td>2019 Week 53</td>\n",
       "      <td>Red line</td>\n",
       "      <td>NaN</td>\n",
       "    </tr>\n",
       "    <tr>\n",
       "      <th>158</th>\n",
       "      <td>2019 Week 53</td>\n",
       "      <td>Green line</td>\n",
       "      <td>NaN</td>\n",
       "    </tr>\n",
       "    <tr>\n",
       "      <th>475</th>\n",
       "      <td>2021 Week 53</td>\n",
       "      <td>Red line</td>\n",
       "      <td>NaN</td>\n",
       "    </tr>\n",
       "    <tr>\n",
       "      <th>476</th>\n",
       "      <td>2021 Week 53</td>\n",
       "      <td>Green line</td>\n",
       "      <td>NaN</td>\n",
       "    </tr>\n",
       "    <tr>\n",
       "      <th>634</th>\n",
       "      <td>2022 Week 53</td>\n",
       "      <td>Red line</td>\n",
       "      <td>NaN</td>\n",
       "    </tr>\n",
       "    <tr>\n",
       "      <th>635</th>\n",
       "      <td>2022 Week 53</td>\n",
       "      <td>Green line</td>\n",
       "      <td>NaN</td>\n",
       "    </tr>\n",
       "  </tbody>\n",
       "</table>\n",
       "</div>"
      ],
      "text/plain": [
       "             Week   Luas_Line  VALUE\n",
       "157  2019 Week 53    Red line    NaN\n",
       "158  2019 Week 53  Green line    NaN\n",
       "475  2021 Week 53    Red line    NaN\n",
       "476  2021 Week 53  Green line    NaN\n",
       "634  2022 Week 53    Red line    NaN\n",
       "635  2022 Week 53  Green line    NaN"
      ]
     },
     "execution_count": 8,
     "metadata": {},
     "output_type": "execute_result"
    }
   ],
   "source": [
    "# Display the rows with null values\n",
    "sdfa_NaN = sdfa[sdfa.isnull().any(axis=1)]\n",
    "print(\"Rows with null values:\")\n",
    "sdfa_NaN"
   ]
  },
  {
   "cell_type": "markdown",
   "id": "d7b32fe3",
   "metadata": {},
   "source": [
    "We'll drop *'2020 Week 53'* to balance the years"
   ]
  },
  {
   "cell_type": "code",
   "execution_count": 9,
   "id": "9a91d802",
   "metadata": {},
   "outputs": [],
   "source": [
    "#Dropping NaN\n",
    "sdfa = sdfa.dropna(subset=['VALUE'])"
   ]
  },
  {
   "cell_type": "code",
   "execution_count": 10,
   "id": "6ed9cbb9",
   "metadata": {},
   "outputs": [],
   "source": [
    "#  Dropping '2020 Week 53' \n",
    "sdfa = sdfa[~sdfa['Week'].str.contains('Week 53')]\n"
   ]
  },
  {
   "cell_type": "code",
   "execution_count": 11,
   "id": "ffcef104",
   "metadata": {},
   "outputs": [
    {
     "data": {
      "text/html": [
       "<div>\n",
       "<style scoped>\n",
       "    .dataframe tbody tr th:only-of-type {\n",
       "        vertical-align: middle;\n",
       "    }\n",
       "\n",
       "    .dataframe tbody tr th {\n",
       "        vertical-align: top;\n",
       "    }\n",
       "\n",
       "    .dataframe thead th {\n",
       "        text-align: right;\n",
       "    }\n",
       "</style>\n",
       "<table border=\"1\" class=\"dataframe\">\n",
       "  <thead>\n",
       "    <tr style=\"text-align: right;\">\n",
       "      <th></th>\n",
       "      <th>Week</th>\n",
       "      <th>Luas_Line</th>\n",
       "      <th>VALUE</th>\n",
       "    </tr>\n",
       "  </thead>\n",
       "  <tbody>\n",
       "    <tr>\n",
       "      <th>1</th>\n",
       "      <td>2019 Week 01</td>\n",
       "      <td>Red line</td>\n",
       "      <td>274139.0</td>\n",
       "    </tr>\n",
       "    <tr>\n",
       "      <th>2</th>\n",
       "      <td>2019 Week 01</td>\n",
       "      <td>Green line</td>\n",
       "      <td>275394.0</td>\n",
       "    </tr>\n",
       "    <tr>\n",
       "      <th>4</th>\n",
       "      <td>2019 Week 02</td>\n",
       "      <td>Red line</td>\n",
       "      <td>408199.0</td>\n",
       "    </tr>\n",
       "    <tr>\n",
       "      <th>5</th>\n",
       "      <td>2019 Week 02</td>\n",
       "      <td>Green line</td>\n",
       "      <td>430823.0</td>\n",
       "    </tr>\n",
       "    <tr>\n",
       "      <th>7</th>\n",
       "      <td>2019 Week 03</td>\n",
       "      <td>Red line</td>\n",
       "      <td>376785.0</td>\n",
       "    </tr>\n",
       "  </tbody>\n",
       "</table>\n",
       "</div>"
      ],
      "text/plain": [
       "           Week   Luas_Line     VALUE\n",
       "1  2019 Week 01    Red line  274139.0\n",
       "2  2019 Week 01  Green line  275394.0\n",
       "4  2019 Week 02    Red line  408199.0\n",
       "5  2019 Week 02  Green line  430823.0\n",
       "7  2019 Week 03    Red line  376785.0"
      ]
     },
     "execution_count": 11,
     "metadata": {},
     "output_type": "execute_result"
    }
   ],
   "source": [
    "sdfa.head()"
   ]
  },
  {
   "cell_type": "code",
   "execution_count": 12,
   "id": "cb118278",
   "metadata": {},
   "outputs": [],
   "source": [
    "# Extracting the year from Week column\n",
    "sdfa['Year'] = pd.to_datetime(sdfa['Week'].str[:4] + ' ' + sdfa['Week'].str[-2:] + ' 1', format='%Y %W %w').dt.year"
   ]
  },
  {
   "cell_type": "code",
   "execution_count": 13,
   "id": "6bc71e83",
   "metadata": {},
   "outputs": [
    {
     "name": "stdout",
     "output_type": "stream",
     "text": [
      "<class 'pandas.core.frame.DataFrame'>\n",
      "Index: 494 entries, 1 to 752\n",
      "Data columns (total 4 columns):\n",
      " #   Column     Non-Null Count  Dtype  \n",
      "---  ------     --------------  -----  \n",
      " 0   Week       494 non-null    object \n",
      " 1   Luas_Line  494 non-null    object \n",
      " 2   VALUE      494 non-null    float64\n",
      " 3   Year       494 non-null    int32  \n",
      "dtypes: float64(1), int32(1), object(2)\n",
      "memory usage: 17.4+ KB\n"
     ]
    }
   ],
   "source": [
    "sdfa.info()"
   ]
  },
  {
   "cell_type": "code",
   "execution_count": 14,
   "id": "e4626580",
   "metadata": {},
   "outputs": [
    {
     "data": {
      "text/html": [
       "<div>\n",
       "<style scoped>\n",
       "    .dataframe tbody tr th:only-of-type {\n",
       "        vertical-align: middle;\n",
       "    }\n",
       "\n",
       "    .dataframe tbody tr th {\n",
       "        vertical-align: top;\n",
       "    }\n",
       "\n",
       "    .dataframe thead th {\n",
       "        text-align: right;\n",
       "    }\n",
       "</style>\n",
       "<table border=\"1\" class=\"dataframe\">\n",
       "  <thead>\n",
       "    <tr style=\"text-align: right;\">\n",
       "      <th></th>\n",
       "      <th>Week</th>\n",
       "      <th>Luas_Line</th>\n",
       "      <th>VALUE</th>\n",
       "      <th>Year</th>\n",
       "    </tr>\n",
       "  </thead>\n",
       "  <tbody>\n",
       "    <tr>\n",
       "      <th>1</th>\n",
       "      <td>2019 Week 01</td>\n",
       "      <td>Red line</td>\n",
       "      <td>274139.0</td>\n",
       "      <td>2019</td>\n",
       "    </tr>\n",
       "    <tr>\n",
       "      <th>2</th>\n",
       "      <td>2019 Week 01</td>\n",
       "      <td>Green line</td>\n",
       "      <td>275394.0</td>\n",
       "      <td>2019</td>\n",
       "    </tr>\n",
       "    <tr>\n",
       "      <th>4</th>\n",
       "      <td>2019 Week 02</td>\n",
       "      <td>Red line</td>\n",
       "      <td>408199.0</td>\n",
       "      <td>2019</td>\n",
       "    </tr>\n",
       "    <tr>\n",
       "      <th>5</th>\n",
       "      <td>2019 Week 02</td>\n",
       "      <td>Green line</td>\n",
       "      <td>430823.0</td>\n",
       "      <td>2019</td>\n",
       "    </tr>\n",
       "    <tr>\n",
       "      <th>7</th>\n",
       "      <td>2019 Week 03</td>\n",
       "      <td>Red line</td>\n",
       "      <td>376785.0</td>\n",
       "      <td>2019</td>\n",
       "    </tr>\n",
       "  </tbody>\n",
       "</table>\n",
       "</div>"
      ],
      "text/plain": [
       "           Week   Luas_Line     VALUE  Year\n",
       "1  2019 Week 01    Red line  274139.0  2019\n",
       "2  2019 Week 01  Green line  275394.0  2019\n",
       "4  2019 Week 02    Red line  408199.0  2019\n",
       "5  2019 Week 02  Green line  430823.0  2019\n",
       "7  2019 Week 03    Red line  376785.0  2019"
      ]
     },
     "execution_count": 14,
     "metadata": {},
     "output_type": "execute_result"
    }
   ],
   "source": [
    "sdfa.head()"
   ]
  },
  {
   "cell_type": "code",
   "execution_count": 15,
   "id": "869f1dd4",
   "metadata": {},
   "outputs": [
    {
     "data": {
      "text/plain": [
       "Year\n",
       "2019    104\n",
       "2020    104\n",
       "2021    104\n",
       "2022    104\n",
       "2023     78\n",
       "Name: count, dtype: int64"
      ]
     },
     "execution_count": 15,
     "metadata": {},
     "output_type": "execute_result"
    }
   ],
   "source": [
    "def count_occurrences_by_year(dataframe):\n",
    "  \n",
    "    year_counts = dataframe['Year'].value_counts().sort_index()\n",
    "\n",
    "    return year_counts\n",
    "result = count_occurrences_by_year(sdfa)\n",
    "result"
   ]
  },
  {
   "cell_type": "code",
   "execution_count": 16,
   "id": "a34370ab",
   "metadata": {},
   "outputs": [],
   "source": [
    "sdfa_2019 = sdfa[(sdfa['Year'] == 2019)].copy()\n",
    "sdfa_2019.reset_index(drop=True, inplace=True)\n",
    "sdfa_2020 = sdfa[(sdfa['Year'] == 2020)].copy()\n",
    "sdfa_2020.reset_index(drop=True, inplace=True)\n",
    "sdfa_2021 = sdfa[(sdfa['Year'] == 2021)].copy()\n",
    "sdfa_2021.reset_index(drop=True, inplace=True)\n",
    "sdfa_2022 = sdfa[(sdfa['Year'] == 2022)].copy()\n",
    "sdfa_2022.reset_index(drop=True, inplace=True)"
   ]
  },
  {
   "cell_type": "markdown",
   "id": "ab9308ee",
   "metadata": {},
   "source": [
    "# We want to know the average of passengers for 2019. We will use 90% confidence"
   ]
  },
  {
   "cell_type": "code",
<<<<<<< HEAD
   "execution_count": 17,
=======
   "execution_count": 42,
>>>>>>> 3ec44bd10c4a910d21461cd7bb1ae014452e0064
   "id": "824d2e03",
   "metadata": {
    "scrolled": true
   },
   "outputs": [
    {
     "data": {
      "text/html": [
       "<div>\n",
       "<style scoped>\n",
       "    .dataframe tbody tr th:only-of-type {\n",
       "        vertical-align: middle;\n",
       "    }\n",
       "\n",
       "    .dataframe tbody tr th {\n",
       "        vertical-align: top;\n",
       "    }\n",
       "\n",
       "    .dataframe thead th {\n",
       "        text-align: right;\n",
       "    }\n",
       "</style>\n",
       "<table border=\"1\" class=\"dataframe\">\n",
       "  <thead>\n",
       "    <tr style=\"text-align: right;\">\n",
       "      <th></th>\n",
       "      <th>VALUE</th>\n",
       "      <th>Year</th>\n",
       "    </tr>\n",
       "  </thead>\n",
       "  <tbody>\n",
       "    <tr>\n",
       "      <th>count</th>\n",
       "      <td>104.000000</td>\n",
       "      <td>104.0</td>\n",
       "    </tr>\n",
       "    <tr>\n",
       "      <th>mean</th>\n",
       "      <td>462966.403846</td>\n",
       "      <td>2019.0</td>\n",
       "    </tr>\n",
       "    <tr>\n",
       "      <th>std</th>\n",
       "      <td>58751.214682</td>\n",
       "      <td>0.0</td>\n",
       "    </tr>\n",
       "    <tr>\n",
       "      <th>min</th>\n",
       "      <td>259211.000000</td>\n",
       "      <td>2019.0</td>\n",
       "    </tr>\n",
       "    <tr>\n",
       "      <th>25%</th>\n",
       "      <td>441097.250000</td>\n",
       "      <td>2019.0</td>\n",
       "    </tr>\n",
       "    <tr>\n",
       "      <th>50%</th>\n",
       "      <td>464353.000000</td>\n",
       "      <td>2019.0</td>\n",
       "    </tr>\n",
       "    <tr>\n",
       "      <th>75%</th>\n",
       "      <td>499103.250000</td>\n",
       "      <td>2019.0</td>\n",
       "    </tr>\n",
       "    <tr>\n",
       "      <th>max</th>\n",
       "      <td>622699.000000</td>\n",
       "      <td>2019.0</td>\n",
       "    </tr>\n",
       "  </tbody>\n",
       "</table>\n",
       "</div>"
      ],
      "text/plain": [
       "               VALUE    Year\n",
       "count     104.000000   104.0\n",
       "mean   462966.403846  2019.0\n",
       "std     58751.214682     0.0\n",
       "min    259211.000000  2019.0\n",
       "25%    441097.250000  2019.0\n",
       "50%    464353.000000  2019.0\n",
       "75%    499103.250000  2019.0\n",
       "max    622699.000000  2019.0"
      ]
     },
<<<<<<< HEAD
     "execution_count": 17,
=======
     "execution_count": 42,
>>>>>>> 3ec44bd10c4a910d21461cd7bb1ae014452e0064
     "metadata": {},
     "output_type": "execute_result"
    }
   ],
   "source": [
    "sdfa_2019.describe()"
   ]
  },
  {
   "cell_type": "code",
<<<<<<< HEAD
   "execution_count": 18,
=======
   "execution_count": 43,
>>>>>>> 3ec44bd10c4a910d21461cd7bb1ae014452e0064
   "id": "c1d23964",
   "metadata": {},
   "outputs": [],
   "source": [
    "X = sdfa_2019.iloc[:,2:3].values"
   ]
  },
  {
   "cell_type": "code",
<<<<<<< HEAD
   "execution_count": 19,
=======
   "execution_count": 44,
>>>>>>> 3ec44bd10c4a910d21461cd7bb1ae014452e0064
   "id": "d7a9c526",
   "metadata": {},
   "outputs": [
    {
     "data": {
      "text/plain": [
       "(array([453404.34741473]), array([472528.46027757]))"
      ]
     },
<<<<<<< HEAD
     "execution_count": 19,
=======
     "execution_count": 44,
>>>>>>> 3ec44bd10c4a910d21461cd7bb1ae014452e0064
     "metadata": {},
     "output_type": "execute_result"
    }
   ],
   "source": [
    "#We create our confidence interval using Student's T at 90% confidence\n",
    "st.t.interval(confidence=0.90, df=len(X)-1, loc= np.mean(X), scale = st.sem(X))"
   ]
  },
  {
   "cell_type": "code",
<<<<<<< HEAD
   "execution_count": 20,
=======
   "execution_count": 46,
>>>>>>> 3ec44bd10c4a910d21461cd7bb1ae014452e0064
   "id": "117dc6fe",
   "metadata": {},
   "outputs": [
    {
     "data": {
      "image/png": "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",
      "text/plain": [
       "<Figure size 1000x600 with 1 Axes>"
      ]
     },
     "metadata": {},
     "output_type": "display_data"
    }
   ],
   "source": [
    "\n",
    "\n",
    "# Confidence interval values\n",
    "confidence_interval = (453404.34741473, 472528.46027757)\n",
    "\n",
    "# Creating range of values for the x-axis\n",
    "x_values = np.linspace(confidence_interval[0] - 20000, confidence_interval[1] + 20000, 1000)\n",
    "\n",
    "# Calculating probabilities for the visualisation assuming that it is normally distributed\n",
    "pdf_values = st.norm.pdf(x_values, np.mean(confidence_interval), np.std(confidence_interval))\n",
    "\n",
    "\n",
    "plt.figure(figsize=(10, 6))  # Increase the figure size for better visibility\n",
    "plt.plot(x_values, pdf_values, color='blue', label='')\n",
    "\n",
    "# shading the confidence interval\n",
    "plt.fill_betweenx(y=[0, max(pdf_values)], x1=confidence_interval[0], x2=confidence_interval[1], color='skyblue', alpha=0.4, label='90% Confidence Interval')\n",
    "\n",
    "# Add labels for confidence interval values, alpha, and mean\n",
    "plt.axvline(x=confidence_interval[0], color='red', linestyle='--', label=f'Lower CI: {confidence_interval[0]:,.2f}')\n",
    "plt.axvline(x=confidence_interval[1], color='green', linestyle='--', label=f'Upper CI: {confidence_interval[1]:,.2f}')\n",
    "plt.axvline(x=np.mean(confidence_interval), color='blue', linestyle='--', label=f'Mean: {np.mean(confidence_interval):,.2f}')\n",
    "\n",
    "# Adding labels and title\n",
    "plt.xlabel('Passengers')\n",
    "plt.ylabel('Probability Density')\n",
    "plt.title('LUAS Passengers 2019 90% Confidence Interval')\n",
    "\n",
    "# Set x-axis limits to further expand the bell\n",
    "plt.xlim([confidence_interval[0] - 20000, confidence_interval[1] + 20000])\n",
    "# Set the y-axis ticklabel_format to exclude exponent notation\n",
    "plt.ticklabel_format(style='plain', axis='y')\n",
    "\n",
    "# Show the legend\n",
    "plt.legend(loc='upper right', bbox_to_anchor=(1, 1))\n",
    "# Show the plot\n",
    "plt.show()\n"
   ]
  },
  {
   "cell_type": "markdown",
   "id": "d13acf53",
   "metadata": {},
   "source": [
    "# We want to know the average of passengers for 2020. We will use 90% confidence"
   ]
  },
  {
   "cell_type": "code",
<<<<<<< HEAD
   "execution_count": 21,
=======
   "execution_count": 24,
>>>>>>> 3ec44bd10c4a910d21461cd7bb1ae014452e0064
   "id": "8f4fe288",
   "metadata": {},
   "outputs": [
    {
     "data": {
      "text/html": [
       "<div>\n",
       "<style scoped>\n",
       "    .dataframe tbody tr th:only-of-type {\n",
       "        vertical-align: middle;\n",
       "    }\n",
       "\n",
       "    .dataframe tbody tr th {\n",
       "        vertical-align: top;\n",
       "    }\n",
       "\n",
       "    .dataframe thead th {\n",
       "        text-align: right;\n",
       "    }\n",
       "</style>\n",
       "<table border=\"1\" class=\"dataframe\">\n",
       "  <thead>\n",
       "    <tr style=\"text-align: right;\">\n",
       "      <th></th>\n",
       "      <th>VALUE</th>\n",
       "      <th>Year</th>\n",
       "    </tr>\n",
       "  </thead>\n",
       "  <tbody>\n",
       "    <tr>\n",
       "      <th>count</th>\n",
       "      <td>104.000000</td>\n",
       "      <td>104.0</td>\n",
       "    </tr>\n",
       "    <tr>\n",
       "      <th>mean</th>\n",
       "      <td>185157.009615</td>\n",
       "      <td>2020.0</td>\n",
       "    </tr>\n",
       "    <tr>\n",
       "      <th>std</th>\n",
       "      <td>139494.873679</td>\n",
       "      <td>0.0</td>\n",
       "    </tr>\n",
       "    <tr>\n",
       "      <th>min</th>\n",
       "      <td>19727.000000</td>\n",
       "      <td>2020.0</td>\n",
       "    </tr>\n",
       "    <tr>\n",
       "      <th>25%</th>\n",
       "      <td>92848.000000</td>\n",
       "      <td>2020.0</td>\n",
       "    </tr>\n",
       "    <tr>\n",
       "      <th>50%</th>\n",
       "      <td>152092.000000</td>\n",
       "      <td>2020.0</td>\n",
       "    </tr>\n",
       "    <tr>\n",
       "      <th>75%</th>\n",
       "      <td>203166.000000</td>\n",
       "      <td>2020.0</td>\n",
       "    </tr>\n",
       "    <tr>\n",
       "      <th>max</th>\n",
       "      <td>482333.000000</td>\n",
       "      <td>2020.0</td>\n",
       "    </tr>\n",
       "  </tbody>\n",
       "</table>\n",
       "</div>"
      ],
      "text/plain": [
       "               VALUE    Year\n",
       "count     104.000000   104.0\n",
       "mean   185157.009615  2020.0\n",
       "std    139494.873679     0.0\n",
       "min     19727.000000  2020.0\n",
       "25%     92848.000000  2020.0\n",
       "50%    152092.000000  2020.0\n",
       "75%    203166.000000  2020.0\n",
       "max    482333.000000  2020.0"
      ]
     },
<<<<<<< HEAD
     "execution_count": 21,
=======
     "execution_count": 24,
>>>>>>> 3ec44bd10c4a910d21461cd7bb1ae014452e0064
     "metadata": {},
     "output_type": "execute_result"
    }
   ],
   "source": [
    "sdfa_2020.describe()"
   ]
  },
  {
   "cell_type": "code",
<<<<<<< HEAD
   "execution_count": 22,
=======
   "execution_count": 25,
>>>>>>> 3ec44bd10c4a910d21461cd7bb1ae014452e0064
   "id": "e2b0d1ea",
   "metadata": {},
   "outputs": [],
   "source": [
    "X = sdfa_2020.iloc[:,2:3].values"
   ]
  },
  {
   "cell_type": "code",
<<<<<<< HEAD
   "execution_count": 23,
=======
   "execution_count": 26,
>>>>>>> 3ec44bd10c4a910d21461cd7bb1ae014452e0064
   "id": "256a8e92",
   "metadata": {},
   "outputs": [
    {
     "data": {
      "text/plain": [
       "(array([162453.51554746]), array([207860.50368331]))"
      ]
     },
<<<<<<< HEAD
     "execution_count": 23,
=======
     "execution_count": 26,
>>>>>>> 3ec44bd10c4a910d21461cd7bb1ae014452e0064
     "metadata": {},
     "output_type": "execute_result"
    }
   ],
   "source": [
    "#We create our confidence interval using Student's T at 90% confidence\n",
    "st.t.interval(confidence=0.90, df=len(X)-1, loc= np.mean(X), scale = st.sem(X))"
   ]
  },
  {
   "cell_type": "code",
<<<<<<< HEAD
   "execution_count": 24,
=======
   "execution_count": 31,
>>>>>>> 3ec44bd10c4a910d21461cd7bb1ae014452e0064
   "id": "e5e9f278",
   "metadata": {},
   "outputs": [
    {
     "data": {
      "image/png": "iVBORw0KGgoAAAANSUhEUgAAA4MAAAIhCAYAAAD0NG+rAAAAOXRFWHRTb2Z0d2FyZQBNYXRwbG90bGliIHZlcnNpb24zLjcuMiwgaHR0cHM6Ly9tYXRwbG90bGliLm9yZy8pXeV/AAAACXBIWXMAAA9hAAAPYQGoP6dpAAD0rUlEQVR4nOzdd3xN9xvA8c+5IztBxIgdq6gtSmLvVbUpqnbNIqiataU2Nau1t9YotXepaO0apUZQI0WRkHnH+f2R5v5cGRLCzXjer9d9ufec7znnOTfnXue536WoqqoihBBCCCGEECJd0dg6ACGEEEIIIYQQ754kg0IIIYQQQgiRDkkyKIQQQgghhBDpkCSDQgghhBBCCJEOSTIohBBCCCGEEOmQJINCCCGEEEIIkQ5JMiiEEEIIIYQQ6ZAkg0IIIYQQQgiRDkkyKIQQQgghhBDpkCSDQohUadmyZSiKwsmTJ+Ncf/PmTRRFYdq0aXGunzZtGoqicPPmzTjXly1bNsHtAX777TeaNWtGnjx5sLe3J1u2bPj4+DBo0KBXxj9mzBgURbE87Ozs8PLyon///jx9+vSV24vkc//+fUaOHImPjw8eHh64ublRrlw5Fi1ahMlkilX++fPnDBgwgBw5cuDg4EDp0qVZt26dVRmTycSMGTOoX78+uXLlwsnJiaJFizJ06NB4/75z5syhSJEi2Nvb4+XlxdixYzEYDIk6h7/++osWLVqQKVMmnJycqFChAlu3bo2z7I0bN2jevDkZM2bExcWFOnXqcPr0aasyqqoyevRocubMSdasWenXrx+RkZFWZYKDg8mRIwdLlixJVIwxQkJCmDhxIt7e3ri5uWFvb0++fPno0qVLrDiSW1RUFD179sTT0xOtVkvp0qUByJcvH506dXrl9ocOHUJRFA4dOvRW43zbYs7jxx9/fK3tJ02axJYtW5I3qLdIURTGjBlj6zCESJEkGRRCiJecPXuWM2fOALB48eI4y2zfvh1fX19CQkKYMmUKe/bsYfbs2VSqVIn169cn+li7du0iICCA7du307RpU+bMmUODBg1QVTVZzkW82qlTp1ixYgW1atVixYoVbNy4kWrVqtGrVy+6d+8eq3zz5s1Zvnw5o0ePZufOnZQvX562bduyZs0aS5nw8HDGjBlD3rx5mTVrFjt27KB79+4sWrSISpUqER4ebrXPiRMn0r9/f5o3b87u3bvp3bs3kyZNok+fPq+M/+bNm/j4+HDlyhUWLlzIDz/8QJYsWWjatCkbN260Kvvw4UOqVKnCX3/9xZIlS9iwYQMRERFUr16dK1euWMqtXLmS6dOnM3HiRObNm8f69euZOnWq1b6GDRtG4cKF6dy5c6LeZ4Dr169TpkwZvv76a2rUqMHatWvZs2cPY8eO5Z9//qFcuXIEBwcnen9JtWDBAr799ltGjBjB0aNHWblyJQCbN29m1KhRb+24aU1qSwaFEAlQhRAiFVq6dKkKqCdOnIhzfWBgoAqoU6dOjXP91KlTVUANDAyMta5Pnz4qoDZq1EgF1F9//TVWmapVq6oFChRQDQZDrHUmk+mV8Y8ePVoF1IcPH1ot79ChgwqoR48efeU+RDSz2ayGhYW99vaPHz9Wo6KiYi2PuQ5u375tWbZ9+3YVUNesWWNVtk6dOmqOHDlUo9GoqqqqGo1G9dGjR7H2+cMPP6iAunLlSsuyR48eqQ4ODupnn31mVXbixImqoijqxYsXE4y/R48eqoODg3rnzh3LMqPRqBYtWlTNnTu31fX4xRdfqHq9Xr1586ZlWXBwsOrh4aG2bt3asqx169ZW8UycOFGtUKGC5fWxY8dUR0dH9fLlywnG9iKj0aiWKFFCdXNzU8+fPx9nmR07dqihoaGJ3mdSdevWTXV0dHzt7Q8ePKgC6sGDB5MvKBuIOY8ffvjhtbZ3dnZWO3bsmKwxGY1GNSIiIln3GQNQR48e/Vb2LURqJzWDQgjxgoiICNasWUO5cuWYOXMmQJzN4P799188PDzQ6XSx1mk0r//VWrFiRQBu3bpFREQEgwYNonTp0mTIkAF3d3d8fHz46aefYm33ww8/UKFCBTJkyICTkxP58+enS5culvVms5kJEybw3nvv4ejoSMaMGSlZsiSzZ8+22s/Vq1dp164dWbNmxd7enqJFizJv3jyrMjFNzNauXcuIESPIkSMHbm5u1K5d26p2CaKbG06aNIm8efPi4OCAt7c3e/fupXr16lSvXt2qbEhICIMHD8bLyws7Ozty5szJgAEDCA0NtSqnKAp9+/Zl4cKFFC1aFHt7e5YvXw5E1/yUKlUKFxcXXF1dKVKkCMOHD0/wPc+UKRN6vT7W8g8++ACAO3fuWJZt3rwZFxcXWrVqZVW2c+fO3Lt3j99++w0ArVZL5syZ493n33//bVm2a9cuIiIiYtWwde7cGVVVX1kD8+uvv1KqVCly5sxpWabVamnQoAF///03v//+u1X8NWvWJG/evJZlbm5uNG/enG3btmE0GoHoz4Gzs7OljIuLCxEREQAYDAY+++wzhg4dynvvvZdgbC/asmUL58+fZ9iwYRQvXjzOMg0aNMDJycny+ujRo9SqVQtXV1ecnJzw9fVl+/btVtvENBk/ePAgvXr1wsPDg8yZM9O8eXPu3btnKacoCt9//z3h4eGW5tnLli0D4m4mevnyZerXr4+TkxMeHh707NmTZ8+exRn3vn37qFWrFm5ubjg5OVGpUiX2799vVSamafjFixdp27YtGTJkIFu2bHTp0iVWbajZbGbOnDmULl3a8nmtWLFirKa/69evx8fHB2dnZ1xcXKhXr56lVUNSJTY+RVEIDQ1l+fLllvfxxc9yUFAQPXr0IFeuXJbm72PHjrVcW/D/ZvxTpkxhwoQJeHl5YW9vz4YNG7Czs4uzlvby5csoisI333wDRNdy9+7dm2LFiuHi4kLWrFmpWbMmR44cea3zFyK9kmRQCCFesGnTJp48eUKXLl0oVKgQlStXZv369Tx//tyqnI+PD7/99hv9+vXjt99+S3Tfrle5du0aAFmyZCEyMpLHjx8zePBgtmzZwtq1a6lcuTLNmzdnxYoVlm0CAgJo06YN+fPnZ926dWzfvp2vvvrK6uZrypQpjBkzhrZt27J9+3bWr19P165drfqvXbp0ifLly3PhwgWmT5/Ozz//TKNGjejXrx9jx46NFevw4cO5desW33//PYsWLeLq1as0btzYqp/diBEjGDFiBPXr1+enn36iZ8+edOvWjb/++stqX2FhYVSrVo3ly5fTr18/du7cyZdffsmyZcv46KOPYjWb3bJlCwsWLOCrr75i9+7dVKlShXXr1tG7d2+qVavG5s2b2bJlC35+frGSycQ6cOAAOp2OwoULW5ZduHCBokWLxvoRoGTJkpb1r9onwPvvv2+1T4ASJUpYlfX09MTDw+OV+4yKisLe3j7W8phlf/zxBxDddPX69euWWF+OPzw8nBs3bgDg6+vLDz/8wMWLF7l16xbfffcdvr6+AEydOhWj0cjQoUMTjOtle/bsAaBp06aJKn/48GFq1qxJcHAwixcvZu3atbi6utK4ceM4m2J369YNvV7PmjVrmDJlCocOHeKTTz6xrA8ICKBhw4Y4OjoSEBBAQEAAjRo1ivPY//zzD9WqVePChQvMnz+flStX8vz5c/r27Rur7KpVq6hbty5ubm4sX76cDRs24O7uTr169WIlhAAtWrSgcOHCbNy4kaFDh7JmzRr8/PysynTq1In+/ftTvnx51q9fz7p16/joo4+s+jhPmjSJtm3bUqxYMTZs2MDKlSt59uwZVapU4dKlS4l6j+PyqvgCAgJwdHSkYcOGlvdx/vz5QHQi+MEHH7B7926++uordu7cSdeuXfH394+zyfU333zDgQMHmDZtGjt37qRKlSp8+OGHLF++HLPZbFV26dKl2NnZ0b59ewAeP34MwOjRo9m+fTtLly4lf/78VK9ePdX36RTinbJxzaQQQryWt9VMtGbNmqqDg4P65MkTq+MsXrzYqtyjR4/UypUrq4AKqHq9XvX19VX9/f3VZ8+evTL+mGaiQUFBqsFgUJ88eaKuWrVKdXR0VHPnzq2Gh4fH2sZoNKoGg0Ht2rWrWqZMGcvyadOmqYD69OnTeI/34YcfqqVLl04wpnr16qm5cuVSg4ODrZb37dtXdXBwUB8/fqyq6v+bmDVs2NCq3IYNG1RADQgIUFU1uvmlvb292qZNG6tyAQEBKqBWq1bNsszf31/VaDSx/p4//vijCqg7duywLAPUDBkyWOJ5Mc6MGTMmeI6JtXv3blWj0ah+fn5WywsVKqTWq1cvVvl79+6pgDpp0qR493nnzh01W7Zsqre3t1XTze7du6v29vZxblO4cGG1bt26CcbatGlTNWPGjLGuuypVqljFdPfuXRVQ/f39Y+1jzZo1KqAeO3ZMVVVVDQ0NVevXr2+5vitUqKD+888/6tWrV1UnJyf1l19+STCmuMTsL7FNAStWrKhmzZrV6ryMRqNavHhxNVeuXKrZbFZV9f+f0d69e1ttP2XKFBVQ79+/b1nWsWNH1dnZOdax8ubNa9Xs8csvv1QVRVHPnj1rVa5OnTpWzURDQ0NVd3d3tXHjxlblTCaTWqpUKfWDDz6wLIv5zE+ZMsWqbO/evVUHBwfL+fzyyy8qoI4YMSLe9+b27duqTqdTP//8c6vlz549U7Nnz27V5DcucTUTTWx8qhp/M9EePXqoLi4u6q1bt6yWx3xHxTR5jvl+LlCgQKwm2lu3blUBdc+ePZZlRqNRzZEjh9qiRYt4zynm+7FWrVpqs2bNrNYhzUSFiJfUDAohxH8CAwM5ePCgZaRFgFatWuHq6hqrqWjmzJk5cuQIJ06c4Ouvv6ZJkyb89ddfDBs2jBIlSvDo0aNEHTN79uzo9XoyZcrEJ598QtmyZdm1axcODg5AdPPPSpUq4eLigk6nQ6/Xs3jxYv7880/LPsqXLw9A69at2bBhA3fv3o11nA8++IBz587Ru3dvdu/eTUhIiNX6iIgI9u/fT7NmzXBycsJoNFoeDRs2JCIiguPHj1tt89FHH1m9jqlxunXrFgDHjx8nMjKS1q1bW5WrWLEi+fLls1r2888/U7x4cUqXLm117Hr16sU5emPNmjXJlClTrHN8+vQpbdu25aeffkr03+Blp0+fpnXr1lSsWBF/f/9Y6xVFiXfb+NY9fvyYhg0boqoq69evj9WU+HX2GaNv374EBwfz6aefcuPGDf755x9GjRrFsWPHgNjNlhNzLCcnJ3bu3MmdO3e4efMmx48fJ2vWrPTs2ZP27dtTpUoVDh8+jLe3NxkzZrTUoiWX0NBQfvvtN1q2bImLi4tluVarpUOHDty5cydWk+RXXY9JcfDgQd5//31KlSpltbxdu3ZWr48dO8bjx4/p2LGj1XVrNpupX78+J06ciFUzHVecERERPHjwAICdO3cCJDh40O7duzEajXz66adWx3VwcKBatWpvVDP2qvgS8vPPP1OjRg1y5MhhFVeDBg2A6Nrel4/1chPtBg0akD17dpYuXWpZtnv3bu7du2fV9B1g4cKFlC1bFgcHB8v34/79+62+H4UQCZNkUAiRJsU044tragDA0oTyxRuRJUuWoKoqLVu25OnTpzx9+hSDwcBHH33Er7/+yuXLl2Ptx9vbmy+//JIffviBe/fu4efnx82bN5kyZUqi4ty3bx8nTpzg7NmzPHr0iKNHj1KsWDEguslq69atyZkzJ6tWrSIgIIATJ07QpUsXS/8tgKpVq7JlyxbLzWGuXLkoXrw4a9eutZQZNmwY06ZN4/jx4zRo0IDMmTNTq1Yty9Qc//77L0ajkTlz5qDX660eDRs2BIiVXL3cJy6mWWLMSJn//vsvANmyZYt13i8v++eff/jjjz9iHdvV1RVVVWMd29PTM9Y+O3TowJIlS7h16xYtWrQga9asVKhQgb1798b39sdy5swZ6tSpQ6FChdixY0es5peZM2e2nNeLYpqsubu7x1r35MkT6tSpw927d9m7dy/58+ePtc+IiAjCwsLi3G9c+3xRrVq1WLp0Kb/88gsFChQge/bsbNq0ifHjxwNY+hJmypQJRVGSFH/OnDkt/QtXrFjBhQsXmDx5Mv/++y9NmzalZ8+e3L9/nypVqtCsWbMEm0vnyZMHiP7R5VWePHmCqqpx/p1z5MgBEOs8XnU9JsW///5L9uzZYy1/edk///wDQMuWLWNdu5MnT0ZVVct7m9g4Hz58iFarjfP4Lx+3fPnysY67fv361/4hJDHxJeSff/5h27ZtsWKKaRadmM+xTqejQ4cObN682dKMfdmyZXh6elKvXj1LuRkzZtCrVy8qVKjAxo0bOX78OCdOnKB+/fqv9TcXIr2KPfKBEEKkAR4eHmi12jhryQDu3r1rNciH2Wy2DCbRvHnzOLdZsmRJgkmeXq9n9OjRzJw5M9G1JKVKlcLDwyPOdatWrcLLy4v169db1ea8PN8bQJMmTWjSpAmRkZEcP34cf39/2rVrR758+fDx8UGn0zFw4EAGDhzI06dP2bdvH8OHD6devXr8/fffZMqUyVLrEl+NhJeXV6LOKUbMextz4/qioKAgq9pBDw8PHB0d452z7uX3KL7arc6dO9O5c2dCQ0P55ZdfGD16NB9++CF//fWX1aApcTlz5gy1a9cmb9687NmzhwwZMsQqU6JECdauXYvRaLTqN3j+/HmAWAOjPHnyhNq1axMYGMj+/fvj7K8X01fw/PnzVKhQwbI8KCiIR48exTvYyos6duxI+/btuXr1Knq9noIFC+Lv74+iKFSpUgUAR0dHChYsaIn1RefPn8fR0TFWohrj33//ZdCgQcyZM4dMmTLx888/o9Fo6NatGwBDhgxh4sSJ/PXXX1b9IV9Ur149Fi1axJYtW17Z3zBTpkxoNBru378fa13MoDDxfW6SQ+bMmQkKCoq1/OVlMTHMmTPHMvjTy+L6MSQhWbJkwWQyERQUFGey9OJxf/zxx1de1++Sh4cHJUuWZOLEiXGuj0nkYyT0OZ46dSrr1q2jTZs2bN26lQEDBqDVai1lVq1aRfXq1VmwYIHVtvEN8iOEiJskg0KINMnBwYFKlSqxdetWpkyZYml2CdFNIrdu3UrlypUty3fv3s2dO3fo06cPLVu2jLW/vn37smLFCiZNmoROp+P+/ftx3qjFNE96+abndcRMRv/iDVNQUFCco4nGsLe3p1q1amTMmJHdu3dz5swZfHx8rMpkzJiRli1bcvfuXQYMGMDNmzcpVqwYNWrU4MyZM5QsWRI7O7s3jr9ChQrY29uzfv16qwT7+PHj3Lp1yyoZ/PDDD5k0aRKZM2dOctIZF2dnZxo0aEBUVBRNmzbl4sWLCd40nz17ltq1a5MrVy727t0bqwlqjGbNmvHdd9+xceNG2rRpY1m+fPlycuTIYZXMxSSCN27cYO/evZQpUybOfdavXx8HBweWLVtmtX3MKJmJHXBFp9NRtGhRIHpC+EWLFtGkSROr827WrBmzZs3i77//Jnfu3ED0zfOmTZv46KOP4hwdF2DgwIGUL1+ejz/+GIgeJTYyMtKSFMcMsKQmMD9mkyZNKFGiBP7+/nz44YdxJrkxgwE5OztToUIFNm3axLRp03B0dASif7RZtWoVuXLlshrYJ7nVqFGDKVOmcO7cOaumoi/OJQlQqVIlMmbMyKVLl+IcXOZ1NGjQAH9/fxYsWMC4cePiLFOvXj10Oh3Xr1+nRYsWyXLcpLC3t4+z9u3DDz9kx44dFChQIN7PUGIULVqUChUqsHTpUkwmE5GRkbFG21UUJVbN/R9//EFAQIDl2hZCvJokg0KIVO3AgQNWI+zFaNiwoWViax8fHwYMGECePHm4ffs2s2bN4p9//mHdunWW8osXL0an0zF8+PA4E7kePXrQr18/tm/fTpMmTahXrx65cuWicePGFClSBLPZzNmzZ5k+fTouLi7079//jc/tww8/ZNOmTfTu3ZuWLVvy999/M378eDw9Pbl69aql3FdffcWdO3eoVasWuXLl4unTp8yePRu9Xk+1atUAaNy4McWLF8fb25ssWbJw69YtZs2aRd68eSlUqBAAs2fPpnLlylSpUoVevXqRL18+nj17xrVr19i2bZtlJMzEcnd3Z+DAgfj7+5MpUyaaNWvGnTt3GDt2LJ6enlZ92QYMGMDGjRupWrUqfn5+lCxZErPZzO3bt9mzZw+DBg2ySpTi0r17dxwdHalUqRKenp4EBQXh7+9PhgwZLP0q43LlyhVq164NRE/+fvXqVav3t0CBAmTJkgWIvlGvU6cOvXr1IiQkhIIFC7J27Vp27drFqlWrLDUX4eHhlmH+Z82ahdFotOpzmSVLFgoUKGB5n0aOHMmoUaNwd3enbt26nDhxgjFjxtCtWzdLs+H4PHjwgOnTp1OpUiVcXV25fPkyU6ZMQaPRxJoWZPDgwaxcuZJGjRoxbtw47O3t+frrr4mIiGDMmDFx7v/AgQNs3LjRqrbbx8cHjUZDnz59aNWqFXPmzCFfvnwJTjWh1WrZvHkzdevWxcfHh169elGjRg2cnZ25desWP/74I9u2bePJkycA+Pv7U6dOHWrUqMHgwYOxs7Nj/vz5XLhwgbVr176yL+WbGDBgAEuWLKFRo0ZMmDCBbNmysXr16lhNxV1cXJgzZw4dO3bk8ePHtGzZkqxZs/Lw4UPOnTvHw4cPY9VcvUqVKlXo0KEDEyZM4J9//uHDDz/E3t6eM2fO4OTkxOeff06+fPkYN24cI0aM4MaNG9SvX59MmTLxzz//8Pvvv+Ps7BznCMDJpUSJEhw6dIht27bh6emJq6sr7733HuPGjWPv3r34+vrSr18/3nvvPSIiIrh58yY7duxg4cKF5MqVK1HH6NKlCz169ODevXv4+vrGurY+/PBDxo8fz+jRo6lWrRpXrlxh3LhxeHl5WY2kLIR4BRsOXiOEEK8tZgTB+B4xo4SePHlSbdasmerh4aFqtVrVw8NDbdasmXrq1CnLvh4+fKja2dmpTZs2jfd4T548UR0dHS2jBq5fv15t166dWqhQIdXFxUXV6/Vqnjx51A4dOqiXLl16ZfzxTTr/sq+//lrNly+fam9vrxYtWlT97rvvLNvG+Pnnn9UGDRqoOXPmVO3s7NSsWbOqDRs2VI8cOWIpM336dNXX11f18PBQ7ezs1Dx58qhdu3a1mnxcVaNH+evSpYuaM2dOVa/Xq1myZFF9fX3VCRMmWMrEN2F1zAiBS5cutSwzm83qhAkT1Fy5cql2dnZqyZIl1Z9//lktVapUrBH/nj9/ro4cOVJ97733VDs7OzVDhgxqiRIlVD8/PzUoKMhSDlD79OkT671avny5WqNGDTVbtmyqnZ2dmiNHDrV169bqH3/8keB7/Kpr6cXzUdXoERv79eunZs+e3XJOa9eujfO9iO8R10iMs2fPVgsXLmz5+4wePTrWSItx+ffff9W6deuqWbJksVyHn3/+ebzX1rVr19SmTZuqbm5uqpOTk1qrVi2rz8OLwsPD1UKFCsU5Ku/evXvVEiVKqE5OTmrFihXVM2fOvDJWVVXVp0+fquPHj1fLli1r9dn55JNP1F9//dWq7JEjR9SaNWuqzs7OqqOjo1qxYkV127ZtVmXiG1k4rgniEzuaqKqq6qVLl9Q6deqoDg4Oqru7u9q1a1f1p59+inPS+cOHD6uNGjVS3d3dVb1er+bMmVNt1KhRnKN1vvx3iYn/xZGNTSaTOnPmTLV48eKWz4KPj0+sc9+yZYtao0YN1c3NTbW3t1fz5s2rtmzZUt23b1+sc4zrvXnd+M6ePatWqlRJdXJyijUy8MOHD9V+/fqpXl5eql6vV93d3dVy5cqpI0aMUJ8/f66q6qtHe1ZVVQ0ODlYdHR1VQP3uu+9irY+MjFQHDx6s5syZU3VwcFDLli2rbtmyRe3YsaOaN29eq7LIaKJCxEtR1QTadAghhBDJLDAwkCJFijB69OhXTggvhBBCiLdHkkEhhBBvzblz51i7di2+vr64ublx5coVpkyZQkhICBcuXEjy4BpCCCGESD7SZ1AIIcRb4+zszMmTJ1m8eDFPnz4lQ4YMVK9enYkTJ0oiKIQQQtiY1AwKIYQQQgghRDokk84LIYQQQgghRDokyaAQQgghhBBCpEOSDAohhBBCCCFEOiQDyKQRZrOZe/fu4erq+lYn4hVCCCGEEEKkbKqq8uzZM3LkyIFGE3/9nySDacS9e/fInTu3rcMQQgghhBBCpBB///03uXLline9JINphKurKxD9B3dzc7NxNEKIZGEwwNKl0c87dwa93rbxiBRNLheRFAaTgaVnoi+YzmU6o9fKBSNEWhISEkLu3LktOUJ8ZGqJNCIkJIQMGTIQHBwsyaAQaUVoKLi4RD9//hycnW0bj0jR5HIRSREaFYqLf/QF83zYc5zt5IIRIi1JbG4gA8gIIYQQQgghRDokyaAQQgghhBBCpEOSDAohhBBCCCFEOiQDyAghhBBCiGRjMpkwGAy2DkOINE2r1aLT6d54SjlJBoUQQgghRLJ4/vw5d+7cQcYnFOLtc3JywtPTEzs7u9fehySDQgghhBDijZlMJu7cuYOTkxNZsmR54xoLIUTcVFUlKiqKhw8fEhgYSKFChRKcWD4hkgwKIURKZW8PP//8/+dCJEAuF5EU9jp7fm77s+V5cjAYDKiqSpYsWXB0dEyWfQoh4ubo6Iher+fWrVtERUXh4ODwWvuRZFAIIVIqnQ4aNbJ1FCKVkMtFJIVOo6NR4bdzwUiNoBDvxuvWBlrtIxniEEIIIYQQQgiRykjNoBBCpFQGA6xeHf28fXvQ620bj0jR5HIRSWEwGVh9PvqCaV+iPXrt27tgokwqxnc4oIxOUbDTSu2kEIkhyaAQQqRUUVHQuXP081at5O5eJEguF5EUUaYoOv8UfcG0KtbqrSWDUSaVM/+GE2F8d8mgg06hTGZHSQgTYdGiRYwfP567d+8yY8YMnj59ypYtWzh79my823Tq1MlSTrxd7+K9lmaiQgghhBDirTCqKhFGFZ2i4KjVvPWHTlGIMCatJvLZs2cMGDCAvHnz4ujoiK+vLydOnLAqo6oqY8aMIUeOHDg6OlK9enUuXrxoVWbgwIG4u7uTJ08e1q1bZ7Vuw4YNNG7cOFHxREVFMWXKFEqVKoWTkxMeHh5UqlSJpUuXJuv8jSEhIfTt25cvv/ySu3fv8tlnnzF48GD279+fbMewpXz58jFr1qxElz906BCKovD06dO3FlNKJDWDQgghhBDirdJr3l3TTaMpabWQ3bp148KFC6xcuZIcOXKwatUqateuzaVLl8iZMycAU6ZMYcaMGSxbtozChQszYcIE6tSpw5UrV3B1dWXbtm2sWbOGPXv2cPXqVTp37kydOnXInDkzT58+ZcSIEYlKsqKioqhXrx7nzp1j/PjxVKpUCTc3N44fP860adMoU6YMpUuXfp23JZbbt29jMBho1KgRnp6eluUuLi7Jsv/0SlVVTCYTOl3qSLOkZlAIIYQQQqRL4eHhbNy4kSlTplC1alUKFizImDFj8PLyYsGCBUD0zf2sWbMYMWIEzZs3p3jx4ixfvpywsDDWrFkDwJ9//kn16tXx9vambdu2uLm5cePGDQCGDBlC7969yZMnzyvjmTVrFr/88gv79++nT58+lC5dmvz589OuXTt+++03ChUqBEBkZCT9+vUja9asODg4ULlyZavazJharv379+Pt7Y2TkxO+vr5cuXIFgGXLllGiRAkA8ufPj6Io3Lx5kzFjxlglmyaTiYEDB5IxY0YyZ87MkCFDUF+qdVVVlSlTppA/f34cHR0pVaoUP/74Y6JjibF161a8vb1xcHDAw8OD5s2bW9ZFRUUxZMgQcubMibOzMxUqVODQoUOvfD9fpCgK33//Pc2aNcPJyYlChQqxdetWAG7evEmNGjUAyJQpE4qi0KlTpySd3+7du/H29sbe3p7FixejKAqXL1+2imHGjBnky5fPkjB27doVLy8vHB0dee+995g9e3aSzik5SDIohBBCCCHSJaPRiMlkijVHm6OjI0ePHgUgMDCQoKAg6tata1lvb29PtWrVOHbsGAClSpXi5MmTPHnyhFOnThEeHk7BggU5evQop0+fpl+/fomKZ/Xq1dSuXZsyZcrEWqfX63F2dgaiE8yNGzeyfPlyTp8+TcGCBalXrx6PHz+22mbEiBFMnz6dkydPotPp6NKlCwBt2rRh3759APz+++/cv3+f3Llzxzrm9OnTWbJkCYsXL+bo0aM8fvyYzZs3W5UZOXIkS5cuZcGCBVy8eBE/Pz8++eQTDh8+nKhYALZv307z5s1p1KgRZ86csSSOMTp37syvv/7KunXr+OOPP2jVqhX169fn6tWriXpfY4wdO5bWrVvzxx9/0LBhQ9q3b8/jx4/JnTs3GzduBODKlSvcv3/fkpgl9vyGDBmCv78/f/75Jy1btqRcuXKsjhnV6z9r1qyhXbt2KIqC2WwmV65cbNiwgUuXLvHVV18xfPhwNmzYkKRzemOqSBOCg4NVQA0ODrZ1KEKI5PL8uapC9OP5c1tHI1I4uVxEUjyPfK4yBpUxqM8jk+eCCQ8PVy9duqSGh4dbloUaTOqhu8/V34LC1DMPw9/647egMPXQ3edqqMGU6Lh9fHzUatWqqXfv3lWNRqO6cuVKVVEUtXDhwqqqquqvv/6qAurdu3ettuvevbtat25dy+vRo0erBQoUUIsXL65u2rRJjYyMVIsXL66ePHlSnTNnjlq4cGHV19dXvXDhQryxODo6qv369Usw3ufPn6t6vV5dvXq1ZVlUVJSaI0cOdcqUKaqqqurBgwdVQN23b5+lzPbt21XA8vc5c+aMCqiBgYFW51CqVCnLa09PT/Xrr7+2vDYYDGquXLnUJk2aWGJxcHBQjx07ZhVj165d1bZt2yY6Fh8fH7V9+/Zxnu+1a9dURVFivf+1atVShw0bFu/7lDdvXnXmzJmW14A6cuRIy+vnz5+riqKoO3futIrzyZMnVmUSe35btmyxKjNjxgw1f/78ltdXrlxRAfXixYvxxty7d2+1RYsWltcdO3a0vNdxieszFyOxuYHNawbnz5+Pl5cXDg4OlCtXjiNHjiRY/vDhw5QrVw4HBwfy58/PwoULY5XZuHEjxYoVw97enmLFisX6BSMxx1UT0VF40aJFVK9eHTc3tzg7nMZUG8f1eLEqP671cZ2XEEIIEUNV4fFjuHQJjhyBF7sj7d0Lv/wCp07B3btgNNouTiFSupUrV6KqKjlz5sTe3p5vvvmGdu3aodVqrcopinWfR1VVrZaNGTOGa9eucf78eZo1a8akSZOoXbs2er2eCRMmcPToUbp168ann34abywv7zMu169fx2AwUKlSJcsyvV7PBx98wJ9//mlVtmTJkpbnMf0CHzx4kOD+YwQHB3P//n18fHwsy3Q6nVWN3aVLl4iIiKBOnTq4uLhYHitWrOD69euJjuXs2bPUqlUrzjhOnz6NqqoULlzY6hiHDx+OdYxXeTEGZ2dnXF1dE3w/knJ+L74vAB9//DG3bt3i+PHjQHStb+nSpSlWrJilzMKFC/H29iZLliy4uLjw3Xffcfv27SSd05uyac/G9evXM2DAAObPn0+lSpX49ttvadCgAZcuXYqzXXVgYCANGzake/furFq1il9//ZXevXuTJUsWWrRoAUBAQABt2rRh/PjxNGvWjM2bN9O6dWuOHj1KhQoVEn3cV3UUBggLC6N+/frUr1+fYcOGxYrX19eX+/fvWy0bNWoU+/bti3XBLF26lPr161teZ8iQ4Q3eWSFEmmBvDxs2EGU2Y9TqwWi2dUTCRu7egYBj8Mc5hSuX4cpluHUToqLivmls1sz6tUajki07FCoMxYpBsfdVypWHEiXhpftdkU6Y0LOy+ToUwF5nb+twbKpAgQIcPnyY0NBQQkJC8PT0pE2bNnh5eQGQPXt2AIKCgqwGWnnw4AHZsmWLc5+XL19m9erVnDlzhiVLllC1alWyZMlC69at6dKlCyEhIbi5ucXarnDhwrESupep//XZe1VyCtFJYoyYdWZz8v1fErOv7du3WwbbiWFvb31dJRSLo6NjgsfQarWcOnUqVoKe1MFu9C/NuRPTXDOhY0Pizi+mCW8MT09PatSowZo1a6hYsSJr166lR48elvUbNmzAz8+P6dOn4+Pjg6urK1OnTuW3335L0jm9KZsmgzNmzKBr165069YNiO40u3v3bhYsWIC/v3+s8gsXLiRPnjyWYWKLFi3KyZMnmTZtmiUZnDVrFnXq1LEkZ8OGDePw4cPMmjWLtWvXJuq46ksdhQGWL19OtmzZWLNmjeUPOWDAAIB4O7Da2dlZvkAADAYDW7dupW/fvrE+rBkzZrQq+yqRkZFERkZaXoeEhCR6WyFEKqHTEdG8BWcfRRD52AAk35DiImULeQK/HdTy2wEd53/X8M/d+BvyuGVUccukYu+gorcHjQaiIiEyQiHsOTx5pGA2Kdy/B/fvwS+HAKL/D3JyUXnf24R3FROV6prIlf/dzQUnbC935g+x1yoYVY0ML0/0zbyzszNPnjxh9+7dTJkyBQAvLy+yZ8/O3r17LX35oqKiOHz4MJMnT461H1VV+eyzz5g+fTouLi6YTCbLlBAx/8aXgLRr147hw4dz5syZWP0GjUYjkZGRFCxYEDs7O44ePUq7du0s+z158qTl3jQ5ZMiQAU9PT44fP07VqlUtMZw6dYqyZcsCWFri3b59m2rVqr32sUqWLMn+/fvpHDNZ6gvKlCmDyWTiwYMHVKlS5bWP8Sp2dnZA9KA5Md70/Nq3b8+XX35J27ZtuX79Oh9//LFl3ZEjR/D19aV3796WZUmt6UwONvvsR0VFcerUKYYOHWq1vG7dupbOuC8LCAiw6rwLUK9ePRYvXozBYECv1xMQEICfn1+sMjEJZGKO+6qOwi9m9UmxdetWHj16ZBmd6EV9+/alW7dueHl50bVrVz777DM0mvj/8/f392fs2LGvFYcQIvUwqxBpip6jS6+RCZTTsqf/wp7NWg5u13Ludw0m0///3lqtSsH3Vd4vbcarsJl8hVVy5VPxyKZi94pKHZMJnjyCoLsKN//ScOOKwrU/NVw4pSH0mcKJQzpOHNKxYDzkLWimWn0TDVqayF9EEsO0zmBWiTSpmN/Bn9rwLg7ymsfZvXs3qqry3nvvce3aNb744gvee+89S2KiKAoDBgxg0qRJFCpUiEKFCjFp0iScnJwsydiLvvvuO7JmzcpHH30EQKVKlRgzZgzHjx9n586dFCtWjIwZM8YZy4ABA9i+fTu1atVi/PjxVK5cGVdXV06ePMnkyZNZvHgxpUuXplevXnzxxReWeQ2nTJlCWFgYXbt2TfL5J6R///58/fXXFCpUiKJFi1ompo/h6urK4MGD8fPzw2w2U7lyZUJCQjh27BguLi507NgxUccZPXo0tWrVokCBAnz88ccYjUZ27tzJkCFDKFy4MO3bt+fTTz9l+vTplClThkePHnHgwAFKlChBw4YNk+Vc8+bNi6Io/PzzzzRs2BBHR8c3Pr/mzZvTq1cvevXqRY0aNaxqFwsWLMiKFSvYvXs3Xl5erFy5khMnTlhqpN8VmyWDjx49wmQyxapez5YtG0FBQXFuExQUFGd5o9HIo0eP8PT0jLdMzD4Tc9yYf+Mqc+vWrSSe6f8tXryYevXqxRqtafz48dSqVQtHR0f279/PoEGDePToESNHjox3X8OGDWPgwIGW1yEhIXGOAiWESMWMRrQ/bsQjOIrQD5ti91LzFpH6mUzw634NP63R8sseDUbD/xPAQu+bqVbXjHdlMyXKmnGKszXU/8sbjXBwe/SPiDUambFMcaUFxxyQIweULR9TG2HCZIJrlxROHdNwZJ+Gk79quHVNw4q5GlbM1fN+GTMffRydGLrGbs0mUjmj2cgvgT8RZTZTxqMNYPdWjqNTFBx0/00En8T5/16Xg05B94p+dy8KDg5m2LBh3LlzB3d3d1q0aMHEiROtmhQOGTKE8PBwevfuzZMnT6hQoQJ79uyxdB2K8c8//zBp0iSrio0PPviAQYMG0ahRI7Jmzcry5cvjjcXe3p69e/cyc+ZMvv32WwYPHoyTkxNFixalX79+FC9eHICvv/4as9lMhw4dePbsGd7e3uzevZtMmTIl+rwTY9CgQdy/f59OnTqh0Wjo0qULzZo1Izg42FJm/PjxZM2aFX9/f27cuEHGjBkpW7Ysw4cPT/Rxqlevzg8//MD48eP5+uuvcXNzs9RGQnR3qgkTJjBo0CDu3r1L5syZ8fHxSbZEECBnzpyMHTuWoUOH0rlzZz799FOWLVv2Rufn5uZG48aN+eGHH1iyZInVup49e3L27FnatGmDoii0bduW3r17s3PnzmQ7p8RQVFW1yU9/9+7dI2fOnBw7dsyqY+rEiRNZuXJlrHk5ILoddefOna365/36669UrlyZ+/fvkz17duzs7Fi+fDlt27a1lFm9ejVdu3YlIiIiUcc9duwYlSpV4t69e1Ztw7t3787ff//Nrl27rOI6dOgQNWrU4MmTJ/H+0nPnzh3y5s3Lhg0bLE1a4zN9+nTGjRtn9UF7lZCQEDJkyEBwcHCcbdCFEKlQaCj81x/i5PWH6NxkIuC0IjwUflqrZc23Wv6++f9WIEVLmWnU0kT1BmZy5k3af8/hoeCbL3p4/GM3I3B0fsUGL3kWAsf2a9i9RcuRPRqMxv+akjqrNPvERLvPTOTII7WFaUW4IRTfRR4APPgihCxOrq/Y4tUiIiIIDAy0DNAXI8qkYnyHt5s65d1NcC+ELcX3mYPE5wY2qxn08PBAq9XGqgVMqDNu9uzZ4yyv0+nInDlzgmVi9pmY475OR+FXWbp0KZkzZ7Y0GUhIxYoVCQkJ4Z9//nnt4wkhhEh5ngXDygU61i/WEvI0+mY1QyaVD9uY+OhjE4Xft12y5eoG9ZqZqdfMzOOHsHOjlk2rtNy4omH1tzrWfqel9kdmPhtspMB7khSKxLPTKtghyZkQKZHNppaws7OjXLly7N2712r53r178fX1jXMbHx+fWOX37NmDt7e3pSo/vjIx+0zMcV/sKBwjpqNwfLElRFVVli5dyqeffhprFKO4nDlzBgcHh3hrGYUQQqQu4aGwZLaWRuXs+W66jpCnCrm9zAybbGDnmUgGjzfaNBF8mXsWaN/TxI9Hopi3PooK1UyYzQp7tmhpXdWOr/rquXtLbu6FECK1s+ngUQMHDqRDhw54e3vj4+PDokWLuH37Nj179gSi+8XdvXuXFStWANFta+fOncvAgQPp3r07AQEBLF682DJKKER3dK1atSqTJ0+mSZMm/PTTT+zbt4+jR48m+riJ7SgcFBREUFAQ165dA+D8+fO4urqSJ08e3N3dLeUOHDhAYGBgnJ16t23bRlBQED4+Pjg6OnLw4EFGjBjBZ599FmvIWiGEEKmL2Qw/rdEyb5KOfx9GJ08FipjpOcRIjYbmFD+tg6KAb00zvjXNXLlgZNE0HQe2a9m2XsvOTRpadzbRc4gRV5kNSQghUiWbJoNt2rTh33//Zdy4cdy/f5/ixYuzY8cO8ubNC8D9+/etJl708vJix44d+Pn5MW/ePHLkyME333xj1QfP19eXdevWMXLkSEaNGkWBAgVYv369ZY7BxBwXEtdReOHChVYjesZ0dF26dKnViKGLFy/G19eXokWLxnoP9Ho98+fPZ+DAgZjNZvLnz8+4cePo06fPG7yzQgghbO3CaYWvh+q5eCa6EU6ufNFJYP3mKT8JjMt7xVWmLzNw8YyReZN0BBzSsmaRjp2btPQbaeSjtiYSGARbCCFECmSzAWRE8pIBZIRIg2QAmVTpWQjMGqNj08ro31udXVR6DDHycVcT+rczYCPw5gPIJNXxQxqmDNcReDU6AyxRzsxXMw0ULCq3FanBuxxARgjxdiTHADLyG54QQgiRTH7dr6FVFXtLIvhhaxNbjkfSodfbTQRtoWJ1M+sPReE31oCzi8r5Uxra1rJj0XQt/82rLYQQIoWzaTNRIYQQCbCzI/L7xQSGGFDt0lgmkcY8C4Hpo3T8tCb6v9Xc+cyMnm2gnO87HE7fDsZ+Y7A8fxf0dvBpbxP1m5uY9IWew7u0LPhaz4GftYyba0hRg+IIazqNHaOqf0uUqmKnle8XIdIraSaaRkgzUSHSpjCjmRMPwnHUamTerBTqj5MKQz+z4/7fCoqi0u4zE32GG3F0snVk75aqwq5NGiYP0xP8RMHOXmXQOCOtOptIwvzf4h2KMqmEm8yUz+qIk+7NG4tJM1Eh3i1pJiqEEELYiNkMy+dq6do4OhHMlc/M4q1RDJ6Q/hJBiB55tEELMz8eiaRKHRNRkQr+X+oZ3FlP8BNbRyeEECIukgwKIURKZTSi2bEd9327wGi0dTTiBY8fQb92emaN1WM0KtRtamLtgSjKVLRdYxujEY7s0XBkj8aml4tHNpi92sDg8QZ0epUD27V8XMOeP05K9WBKYjQbOXprJwG3d2E0y/eLEOmVJINCCJFSRUbi0OQjSnRsiSYy0tbRiP9c/kOhfR17ft2vxd5BZdQMA18vMuDy5oMxvhFDJPRrb0e/9nYYbHy5KEr0pPXLd0aR28tM0F2Fbk3s2LwqFc6pkUYZTJEM2tmCYbtbEmlM398vnTp1omnTprYO47UEBQXx+eefkz9/fuzt7cmdOzeNGzdm//79ljL58uVj1qxZSdrvokWLqF69Om5ubiiKwtOnT+Mst337dipUqICjoyMeHh40b97csu7cuXO0bduW3Llz4+joSNGiRZk9e3aiY1BVlQYNGqAoClu2bLFaly9fPhRFsXoMHTrUsv7ff/+lfv365MiRw/K+9O3bl5CQkASPWb169Vj7/fjjjy3rb968SdeuXfHy8sLR0ZECBQowevRooqKiEn1eKY0MICOEEEIk0u7NGsb01xMRrpAnv5lpSw0UKiZd7+NTrJTK2gNRfNVXz4HtWsb56bn8h8LgiUb0eltHJ0TqEBUVhV0cg4jdvHmTSpUqkTFjRqZMmULJkiUxGAzs3r2bPn36cPny5dc+ZlhYGPXr16d+/foMGzYszjIbN26ke/fuTJo0iZo1a6KqKufPn7esP3XqFFmyZGHVqlXkzp2bY8eO8dlnn6HVaunbt+8rY5g1axZKAh2Ox40bR/fu3S2vXVz+P/2SRqOhSZMmTJgwgSxZsnDt2jX69OnD48ePWbNmTYLH7d69O+PGjbO8dnR0tDy/fPkyZrOZb7/9loIFC3LhwgW6d+9OaGgo06ZNe+U5pUSSDAohhBCvYDbDfH8di2dF/7fpW8OE/yIDbhltG1dq4OwCU5cYWDzTzPyv9WxYquPaZQ1Tl0Th7mHr6MQ7ERoa/zqtFl4c+CKhshoNvHBjHm9Z5+SdZPPw4cN88cUXnDt3Dnd3dzp27MiECRPQ6XRs27aNDh068PjxYzQaDWfPnqVMmTIMHjyYqVOnAtCjRw9CQkJYu3YtAMeOHWPo0KGcOHECDw8PmjVrhr+/P87/xZ0vXz66devGtWvX2Lx5M02bNmX58uWx4urduzeKovD7779btgV4//336dKlyxud84ABAwA4dOhQnOuNRiP9+/dn6tSpdO3a1bL8vffeszx/OYb8+fMTEBDApk2bXpkMnjt3jhkzZnDixAk8PT3jLOPq6kr27NnjXJcpUyZ69epleZ03b1569+5t+ZskxMnJKd79xiTIMfLnz8+VK1dYsGBBqk0GpZmoEEIIkYDICBjSVW9JBDv2NfLNWkkEk0Kjge6DTMxaFYWzi8rpAA2dGtpx+4b0I0wXXFzif7RoYV02a9b4yzZoYF02X764yyWju3fv0rBhQ8qXL8+5c+dYsGABixcvZsKECQBUrVqVZ8+ecebMGSA6cfTw8ODw4cOWfRw6dIhq1aoBcP78eerVq0fz5s35448/WL9+PUePHo2VHE2dOpXixYtz6tQpRo0aFSuux48fs2vXLvr06WOVCMbImDFjvOfUqVMnqlevntS3wsrp06e5e/cuGo2GMmXK4OnpSYMGDbh48WKC2wUHB+Pu7p5gmbCwMNq2bcvcuXPjTcoAJk+eTObMmSldujQTJ05MsKnmvXv32LRpk+XvkJDVq1fj4eHB+++/z+DBg3n27FmC5RNzTimZJINCCCFEPEKeQq9Wduz/WYveTmXC/CgGjDaila5vr6VaPTMrdkeRI4+ZvwM1dGxoJwPLiBRt/vz55M6dm7lz51KkSBGaNm3K2LFjmT59OmazmQwZMlC6dGlLDdqhQ4fw8/Pj3LlzPHv2jKCgIP766y9L8jV16lTatWvHgAEDKFSoEL6+vnzzzTesWLGCiIgIy3Fr1qzJ4MGDKViwIAULFowV17Vr11BVlSJFiiT5nDw9PcmTJ89rvR8xbty4AcCYMWMYOXIkP//8M5kyZaJatWo8fvw4zm0CAgLYsGEDPXr0SHDffn5++Pr60qRJk3jL9O/fn3Xr1nHw4EH69u3LrFmz6N27d6xybdu2xcnJiZw5c+Lm5sb333+f4LHbt2/P2rVrOXToEKNGjWLjxo1W/SBfdv36debMmUPPnj0T3G9KJs1EhRBCiDjcvwN9P7bjxhUNLm4qM1cY8K5ktnVYqV7+wirLd0TRr70df57T8FkzO/y/NVCjoby3adbz5/Gve/mXlQcP4i+reakO4+bN1w4psf788098fHys+q5VqlSJ58+fc+fOHfLkyUP16tU5dOgQAwcO5MiRI0yYMIGNGzdy9OhRnj59SrZs2SxJ26lTp7h27RqrV6+27E9VVcxmM4GBgRQtWhQAb2/vBOOKmSY8oT518fH390/yNi8zm6M/ryNGjKDFf7W7S5cuJVeuXPzwww+xEr6LFy/SpEkTvvrqK+rUqRPvfrdu3cqBAwcsNa3x8fPzszwvWbIkmTJlomXLlpbawhgzZ85k9OjRXLlyheHDhzNw4EDmz58f735f7INYvHhxChUqhLe3N6dPn6Zs2bJWZe/du0f9+vVp1aoV3bp1SzDelExqBoUQQoiX/HVRoWMDe25c0ZDVU2XJtihJBJORRzb4fksUlWubiIxQGNRJz6aVUt2aZjk7x/94eXL6hMq+2F8wobLJSFXVWAnXy4lY9erVOXLkCOfOnUOj0VCsWDGqVavG4cOHrZqIQnQS1aNHD86ePWt5nDt3jqtXr1KgQIEXTi3h8yhUqBCKovDnn38m16kmSUw/vmLFilmW2dvbkz9/fm7fvm1V9tKlS9SsWZPu3bszcuTIBPd74MABrl+/TsaMGdHpdOh00fVWLVq0SLBpa8WKFYHoGtMXZc+enSJFitCkSRO+/fZbFixYwP379xN9nmXLlkWv13P16lWr5ffu3aNGjRr4+PiwaNGiRO8vJZKaQSGESKns7IiaPYdbz6NQ4xhJTrwdF88o9Gplx7NghQJFzMxdF0X2nLaO6tV0djD0a4PleUrn5AIzVxrwH6KyaaWO8QP1RIRBux4mW4eWLug0dgyuPAODWcVOmwouGBspVqwYGzdutEoKjx07hqurKzlzRn8xxPQbnDVrFtWqVUNRFKpVq4a/vz9Pnjyhf//+lv2VLVuWixcvxtn0Mync3d2pV68e8+bNo1+/frGSx6dPnybYb/BNlStXDnt7e65cuULlypUBMBgM3Lx5k7x581rKXbx4kZo1a9KxY0cmTpz4yv0OHTo0Vi1biRIlmDlzJo0bN453u5iaxPgGm4H/J/GRSZiq6eLFixgMBqv93r17lxo1alCuXDmWLl2K5uUa61RGkkEhhEip9HqMvXtz70E4jtrU/Z9NanH2N4W+H9sR+lyhVHkz36yJSjUDxej10KZr6kqkdDoYOd2IixusmKdj6kg94WHQ1S91nUdqpNfqaVW8J+EmM3qtzPMRHBzM2bNnrZa5u7vTu3dvZs2axeeff07fvn25cuUKo0ePZuDAgZYkIKbf4KpVqyzz6FWtWpVWrVphMBisarS+/PJLKlasSJ8+fejevTvOzs78+eef7N27lzlz5iQp5vnz5+Pr68sHH3zAuHHjKFmyJEajkb1797JgwYJ4aw2HDRvG3bt3WbFiRbz7DgoKIigoyFLTdv78eVxdXcmTJw/u7u64ubnRs2dPRo8eTe7cucmbN69lpM5WrVoB0YlUjRo1qFu3LgMHDiQoKAgArVZLlixZ4jxu9uzZ4xw0Jk+ePHh5eQHRfQ+PHz9OjRo1yJAhAydOnMDPz4+PPvrI0hdyx44d/PPPP5QvXx4XFxcuXbrEkCFDqFSpEvny5QOik7patWqxYsUKPvjgA65fv87q1atp2LAhHh4eXLp0iUGDBlGmTBkqVaoERNcIVq9enTx58jBt2jQePnxoFXtqJMmgEEIIAZw4qqF/ez3hYQrelUzMXmXAKXkHJhRxUBQYMNqIk4vKwsl65k7SExaq0HeEkdfoDiXEazl06BBlypSxWtaxY0eWLVvGjh07+OKLLyhVqhTu7u507do1VnPHGjVqcPr0aUvilylTJooVK8a9e/cs/QAhun/b4cOHGTFiBFWqVEFVVQoUKECbNm2SHLOXlxenT59m4sSJDBo0iPv375MlSxbKlSvHggUL4t3u/v37sZpyvmzhwoWMHTvW8rpq1apAdL/ATp06AdGD4eh0Ojp06EB4eDgVKlTgwIEDZMqUCYAffviBhw8fsnr1aqs+knnz5uXmC/09FUWx2u+r2Nvbs379esaOHUtkZCR58+ale/fuDBkyxFLG0dGR7777Dj8/PyIjI8mdOzfNmze3mpjeYDBw5coVwsLCALCzs2P//v3Mnj2b58+fkzt3bho1asTo0aPR/te3dc+ePVy7do1r166RK1cuq7hiah5TG0VNrZELKyEhIWTIkIHg4GDc3NxsHY4QIjmYTEQcOszlJ5FE+VbBzk5+v3tbft2vYVAnPZERCj7VTUxfbsDRydZRJY3JBGeOR9dUlKloTpUjnq6Yr2Xm6OhaqvY9jQwaJwnh22Iym/j9zlEizWa6lqyNq92b1w5GREQQGBiIl5cXDi/3BRQiDjdv3qRQoUJcunSJQoUK2TqcVCehz1xicwO5sxBCiJQqIgKH2rUoDZy8/hDspJrqbQg4qMHvUz2GKIWq9UxMXWzAzt7WUSVdVAR0bxrd9+vYzQgck3ccjXfi094mHJ1g0hd6Vi/UYWcHn4+UhPBtiDJF0Htb9OTZ7YuFJEsyKERS7dq1i88++0wSQRuSZFAIIUS6deqYwsCO0YlgzUYmvl5kQC9jadhUq04mVBX8h+hZ+o0OO3voOcRo67CEEG9Bap6fL62QEQmEEEKkS+dPKfRrZ0dEuELl2pIIpiStO5sYPD56ZNRvp+pYPCsVtnkVQohUQJJBIYQQ6c7lPxT6tLEjLFThg6ompi2VRDClad/TRL9R0Qnh3Il6Vi2UhFAIIZKbJINCCCHSlcCrCr1aR88jWKaCmVkrDNjLWBcpUud+Jnp+GZ0QTh+lZ9t6uW0RQojkJN+qQggh0o0HQdC7tR1P/1UoVtrMN2ujUuVAK+nJZ4NMfNonus/g2P56juyRWxchhEgu8o0qhBAiXXgWAn0/tiPojkLeAmbmrovCxdXWUYlXURTo/5WRRq1NmEwKQ7rpOXdChhcVQojkIKOJCiFESqXXE/X1ZP5+bkDVy7DvbyIqEgZ+qufqRQ0eWVXmbzCQKbOto0peOj0MGG2wPE9LNBoYPctA8GM4uk9Lv3Z2LPk5igLvyVTJr0un0dO34kSMZhW9No1dMEKIRJNJ59MImXReiLQpzGjmxINwHLUa7LRSG/I6zGYY9pmePT9pcXZRWbw1ivdKyH99qVF4KPRoacf5kxqy5VBZsSuSrJ62jir1ijKphJvMlM/qiJPuzRuLyaTzQrxbyTHpvDQTFUIIkabN+ErHnp+06PQq05cbJBFMxRyd4ZvVUXgVNvPPPYX+7e0Ie27rqIQQIvWSZFAIIVIqkwnNiRO4nj0FJpOto0mVNizRsvrb6B4R4+YaqFDVbOOI3h6TCS6eUbh4RknTl0tGd5izxkAmD5XL5zUM76VP0+f7tpjMJi49OMnlh6cwmdP3G1i9enUGDBgQa/mWLVtQlJTfIuPgwYM0bNiQzJkz4+TkRLFixRg0aBB3794F4NChQyiKwtOnTxO9z0OHDtGkSRM8PT1xdnamdOnSrF69Ola5w4cPU65cORwcHMifPz8LFy60Wl+9enUURYn1aNSoUYLH3717NxUrVsTV1ZUsWbLQokULAgMDrcpERkYyYsQI8ubNi729PQUKFGDJkiVWZTZu3EixYsWwt7enWLFibN68OcHj3rx5M854d+3alaTzTk0kGRRCiJQqIgIH34qUbVQNTUSEraNJdY4f0jBleHQi+PlIAw2ap91EECAqAj6pa88nde2JSuOXS868KjNXRGFnr3J4l5ZZY2UIhKSKMkXQeVNVem6pRoQxjV8wqZyqqhiNxjjXffvtt9SuXZvs2bOzceNGLl26xMKFCwkODmb69Omvfcxjx45RsmRJNm7cyB9//EGXLl349NNP2bZtm6VMYGAgDRs2pEqVKpw5c4bhw4fTr18/Nm7caCmzadMm7t+/b3lcuHABrVZLq1at4j32jRs3aNKkCTVr1uTs2bPs3r2bR48e0bx5c6tyrVu3Zv/+/SxevJgrV66wdu1aihQpYlkfEBBAmzZt6NChA+fOnaNDhw60bt2a33777ZXnv2/fPqu4a9asmaTzTk3k21MIIUSaE3hV4YuuekwmhQ9bm+jcL33XfKRFpcqrjJtjYOhndqxaoCNPfpVWneTvnBKFRoXGu06r0eKgc0hUWY2iwVHv+MqyznZvZ76YMWPGsGXLFnr16sWECRP4999/adSoEd999x0ZM2YEoFOnTjx9+pQyZcowb948IiIiaNu2LXPmzMHOzg6ITu6mTp3KwoULuX//PoULF2bUqFG0bNkSiK6Vq1GjBrt27WLEiBH88ccf7N69mxo1aljFc+fOHfr160e/fv2YOXOmZXm+fPmoWrVqkmoCXzZ8+HCr1/369WP37t1s3ryZxo0bA7Bw4ULy5MnDrFmzAChatCgnT55k2rRptGjRAgB3d3er/axbtw4nJ6cEk8HTp09jMpmYMGECGk10vdXgwYNp0qQJBoMBvV7Prl27OHz4MDdu3LAcI1++fFb7mTVrFnXq1GHYsGEADBs2jMOHDzNr1izWrl2b4PlnzpyZ7Nmzx7kuMeedmkgyKIQQIk15+hj6t9PzPCR6UvlRMwykgpZe4jXUa2bm9g0D87/WM3mojlx5VXxqpO0a4NTIxd8l3nUNCzVke7vtltdZp2UlzBAWZ9lqeatxqNMhy+t8s/PxKOxRrHLq6LfXL/jatWts2LCBbdu2ERISQteuXenTp49VE8r9+/fj4ODAwYMHuXnzJp07d8bDw4OJEycCMHLkSDZt2sSCBQsoVKgQv/zyC5988glZsmShWrVqlv0MGTKEadOmkT9/fkuy+aIffviBqKgohgwZEmescW0TQ1EUli5dSqdOnRJ97sHBwRQtWtTyOiAggLp161qVqVevHosXL7YkbS9bvHgxH3/8Mc7O8Sfs3t7eaLVaS3zPnz9n5cqV1K1b17LPrVu34u3tzZQpU1i5ciXOzs589NFHjB8/HkdHR0t8fn5+seKLSeIS8tFHHxEREUGhQoXw8/OzJOqve94pmTQTFUIIkWYYomBwZzv+vqkhZ14z05ZFYWdv66jE29RtoIkPX5iD8NZ1yfzF2xMREcHy5cspXbo0VatWZc6cOaxbt46goCBLGTs7O5YsWcL7779Po0aNGDduHN988w1ms5nQ0FBmzJjBkiVLqFevHvnz56dTp0588sknfPvtt1bHGjduHHXq1KFAgQJkzhx7LpyrV6/i5uaGp2fSh9R97733yJAhQ6LL//jjj5w4cYLOnTtblgUFBZEtWzarctmyZcNoNPLoUewk/ffff+fChQt069YtwWPly5ePPXv2MHz4cOzt7cmYMSN37txh3bp1ljI3btzg6NGjXLhwgc2bNzNr1ix+/PFH+vTp88r4XvxbvczFxYUZM2bw448/smPHDmrVqkWbNm1YtWrVa593Sic1g0IIIdKMycN0nDqmwcVVZfYqA+4eto5IvG2KAqNmGPg7UOHcCQ0DO+pZsSsK5/gro8Q79nxY/EO+ajVaq9cPBj+It6xGsa7DuNn/5hvF9Try5MlDrly5LK99fHwwm81cuXLF0qywVKlSODk5WZV5/vw5f//9Nw8ePCAiIoI6depY7TcqKooyZcpYLfP29k4wFlVVX3uAm8uXLye67KFDh+jUqRPfffcd77//vtW6l48fM2NdXHEtXryY4sWL88EHHyR4vKCgILp160bHjh1p27Ytz54946uvvqJly5bs3bsXRVEwm80oisLq1astSe2MGTNo2bIl8+bNs9QOxhVfQu+Zh4eHVW2it7c3T548YcqUKXzyySevdd4pnSSDQggh0oRNK7VsXKFDUVT8FxkoUESmkEgv7Oxh6pIo2tex58YVDaP66Jm21IBG2j+lCEnpw/e2yibEzc2N4ODgWMufPn36yrmbY27+E5MExCQxANu3bydnzpxW6+3trZsxJNSUEqBw4cIEBwdz//7916odTIzDhw/TuHFjZsyYwaeffmq1Lnv27LFq2R48eIBOp4tVkxkWFsa6desYN27cK485b9483NzcmDJlimXZqlWryJ07N7/99hsVK1bE09OTnDlzWtVuFi1aFFVVuXPnDoUKFYo3vpdr9V6lYsWKfP/996913qmBfE0KIYRI9c6fUvh6aPTvm32GG6lcW/qNpTdZssP0ZVHo7VQO7tDy/UztqzcSAihSpAgnT56MtfzEiRO89957Vstu377NvXv3LK8DAgLQaDQULlzYsuzcuXOEh4dbXh8/fhwXFxdy5cplmebg9u3bFCxY0OqRO3fuJMXdsmVL7OzsrJKmF73JADIQXSPYqFEjvv76az777LNY6318fNi7d6/Vsj179uDt7R2r39yGDRuIjIy0ql2LT1hYGFqt9ec35nVMMl2pUiXu3bvH8+f/r3X+66+/0Gg0lprb+OLz9fV9ZQwvOnPmjFWynZTzTg0kGRRCiJRKr8cw6ituDhyGmgr/g3lX/n0Q3U/QEKVQs5GJLv3T54iSOj30+MJIjy+M6NLp5VKinMrwKdFD8C/4Ws/h3XKbEx+dRk+3csPpWHYYem06vWD+07t3b65fv06fPn04d+4cf/31F/PmzWPx4sV88cUXVmUdHBzo2LEj586d48iRI/Tr14/WrVtbjTwZFRVF165duXTpEjt37mT06NH07dsXjUaDq6srgwcPxs/Pj+XLl3P9+nXOnDnDvHnzWL58eZLizp07NzNnzmT27Nl07dqVw4cPc+vWLX799Vd69OjB+PHj4922SJEiCc65F5MI9uvXjxYtWhAUFERQUBCPHz+2lOnZsye3bt1i4MCB/PnnnyxZsoTFixczePDgWPtbvHgxTZs2TVTNWaNGjThx4gTjxo3j6tWrnD59ms6dO5M3b15LU9p27dqROXNmOnfuzKVLl/jll1/44osv6NKli6WJaP/+/dmzZw+TJ0/m8uXLTJ48mX379lnNKTl37lxq1apleb18+XLWrFnDn3/+yZUrV5g2bRrffPMNn3/++Wudd2ogzUSFECKlsrPD8NVobj0Ix1ErN7VxMRjgy+52PLiv4FXIzNg56XfkUL0d9BwS91xk6UnT9iYu/6GwfomOET31rNwThVchaTL8Mr3Wju7lRxJuMmOntbN1ODaVL18+jhw5wogRI6hbty4REREULlyYZcuWxZoCoWDBgjRv3pyGDRvy+PFjGjZsyPz5863K1KpVi0KFClG1alUiIyP5+OOPGTNmjGX9+PHjyZo1K/7+/ty4cYOMGTNStmzZWNM5JEbv3r0pXLgw06ZNo1mzZoSHh5MvXz4+/PBDBg4cGO92V65cibNpbIxly5YRFhaGv78//v7+luXVqlXj0KFDAHh5ebFjxw78/PyYN28eOXLk4Jtvvok1vcJff/3F0aNH2bNnT7zH6ty5s6XfXc2aNVmzZg1TpkxhypQpODk54ePjw65duyyJnouLC3v37uXzzz/H29ubzJkz07p1ayZMmGDZr6+vL+vWrWPkyJGMGjWKAgUKsH79eipUqGAp8+jRI65fv24Vz4QJE7h16xZarZbChQuzZMkSqxrNxJ53aqGoMe+8SNVCQkLIkCEDwcHBr2zfLoRIPcKMZk78lwzaadNplpOAaaN0rF6ow9lFlZt+YWEwQM8WdpwO0FCgiJmVu6NwdHr1dulNlEkl3GSmfFZHnHRv/oNTREQEgYGBeHl54eDg8OoNUpmYeQbPnj0bb5mYeQa3bNnyzuJK7caMGcOhQ4csSaZIvIQ+c4nNDeSnZiGESKnMZpSLF3G6cgnM0gfuZTs3aVi9MLqBy7i5hnSfCJrNcP2ywvXLSrq/XPR6mPxdFB5ZVa5f1uA/RI/89G3NrJq58fgSgY8vYVbT+QUjbGr37t3x9nsUb58kg0IIkVKFh+NYuiTla36A5oXBCATcvKYw3i+6n1PnfkZqNpKb2chwaFnFnpZV7ImUywWPbOC/yIBGo7JtvZYtq2VAmRdFGsNpu8Gbzhs/INwgF4ywnYCAgFdONyHeHkkGhRBCpCoR4TCkm57wMAXvSib6DJd+ciJu3pXM9B4afX1MHqbjygVpai1e35gxYxJsIgrR/d+kiahITSQZFEIIkapMG6nj6kUN7llUJi00oJUKH5GAzv1NVKplIjJCYUhXPc+f2ToiIYRIOSQZFEIIkWrs3KSxTCw/cb6BLNlfvY1I3zQamDDfQPacKrdvaBjbX/oPCiFEDEkGhRBCpAq3ritMGBjdT7Crn4mK1aWfoEicjO4w+fsodHqVfdu0bFgi1clCCAGSDAohhEgFIiNgSFc9YaEKZX3M9PhC+gmKpCnprTLgq+jrZsZoHVcvSf9BIYSQZFAIIUSKN+MrHX9d1JDJQ8V/URQ6na0jEqlRux7R/QejIhWG9dATIYNoCiHSOfnvVAghUiq9HsPAQQSFGVH1eltHYzO/7NGwYWn0f1cT5hnIKv0E46TTw6d9jJbnIjZFgXFzDLSupuH6ZQ0zR+sYNiV91jLrNHralxqAUVXRa+WCESK9UlRVulGnBSEhIWTIkIHg4GDc3NxsHY4QIpmEGc2ceBCOo1aDnTb9NWt79A+0rm7Pk0cKn/QyMmhc+rxxF8kr4KCG3q3tAJi5Morq9dNn/9Mok0q4yUz5rI446d68sVhERASBgYF4eXnh4OCQDBEKIRKS0GcusbmBNBMVQgiRIqkqjO6n58kjhULvm/l8hCSCInn41DDToXf09TS2v54H920ckLCpTp06oSgKPXv2jLWud+/eKIpCp06d3n1gibBp0ybq1auHh4cHiqLEOQ9iUFAQHTp0IHv27Dg7O1O2bFl+/PFHqzL58uVDURSrx9ChQ9/42NWrV4+1348//tiy/tChQ7HWxzxOnDgR77FVVWXMmDHkyJEDR0dHqlevzsWLF63KLFq0iOrVq+Pm5oaiKDx9+jTB80mvbJ4Mzp8/35LNlitXjiNHjiRY/vDhw5QrVw4HBwfy58/PwoULY5XZuHEjxYoVw97enmLFirF58+YkHze5LrLEfLhu375N48aNcXZ2xsPDg379+hEVFZXg+yCESAfMZpSbN7H/+xaY01/NxbrvtRw7oMXeQcV/oQE7e1tHlLKZzXDvtsK920p6vFySrO9wI0VKmHn6WGFUH326e8/Mqpl7Ibe4/+wWZjWdnXwccufOzbp16wgP/39H0oiICNauXUuePHlsGFnCQkNDqVSpEl9//XW8ZTp06MCVK1fYunUr58+fp3nz5rRp04YzZ85YlRs3bhz379+3PEaOHPnGxwbo3r271X6//fZbyzpfX1+rdffv36dbt27ky5cPb2/vePc5ZcoUZsyYwdy5czlx4gTZs2enTp06PHv2/4lEw8LCqF+/PsOHD08wvvTOpsng+vXrGTBgACNGjODMmTNUqVKFBg0acPv27TjLBwYG0rBhQ6pUqcKZM2cYPnw4/fr1Y+PGjZYyAQEBtGnThg4dOnDu3Dk6dOhA69at+e2335J03OS8yBL6cJlMJho1akRoaChHjx5l3bp1bNy4kUGDBiX5/RRCpDHh4TgWKkDFiu+jCU9fI11c+1Nh1tjofoJ+Y4wUKCI9Gl4lMhwalbOnUTl7ItPX5fJa7OzBf5EBByeV349oWT43fU03EWkMp9maorRd9z7hhrd7wYSGxv+IiEh82Ze/BuMr9zrKli1Lnjx52LRpk2XZpk2byJ07N2XKlLEqq6oqU6ZMIX/+/Dg6OlKqVCmrmjaTyUTXrl3x8vLC0dGR9957j9mzZ1vto1OnTjRt2pRp06bh6elJ5syZ6dOnDwaDIUlxd+jQga+++oratWvHWyYgIIDPP/+cDz74gPz58zNy5EgyZszI6dOnrcq5urqSPXt2y8PFxeWNjw3g5ORktd8MGTJY1tnZ2Vmty5w5M1u3bqVLly4oStxdI1RVZdasWYwYMYLmzZtTvHhxli9fTlhYGGvWrLGUGzBgAEOHDqVixYoJxpfe2TQZnDFjBl27dqVbt24ULVqUWbNmkTt3bhYsWBBn+YULF5InTx5mzZpF0aJF6datG126dGHatGmWMrNmzaJOnToMGzaMIkWKMGzYMGrVqsWsWbMSfdzkvsgS+nDt2bOHS5cusWrVKsqUKUPt2rWZPn063333HSEhIa/ztgohRKoWGQHDe+qJilSoXNtE6y4mW4ck0qh8BVWGTIxuLjr/ax1Xzqe/frnvgotL/I8WLazLZs0af9kGDazL5ssXd7nX1blzZ5YuXWp5vWTJErp06RKr3MiRI1m6dCkLFizg4sWL+Pn58cknn3D48GEAzGYzuXLlYsOGDVy6dImvvvqK4cOHs2HDBqv9HDx4kOvXr3Pw4EGWL1/OsmXLWLZsmWX9mDFjyJcv3+uf0H8qV67M+vXrefz4MWazmXXr1hEZGUn16tWtyk2ePJnMmTNTunRpJk6cmGyt1FavXo2Hhwfvv/8+gwcPtqpYednWrVt59OhRgs1yAwMDCQoKom7dupZl9vb2VKtWjWPHjiVLzOmJzZLBqKgoTp06ZfWHBKhbt268f8iAgIBY5evVq8fJkyctv6TEVyZmn4k5bnJfZAl9uAICAihevDg5cuSwijcyMpJTp07Fu8/IyEhCQkKsHkIIkRbMmaDj6qXoaSTGzDYQz4/DQiSLpu1N1GxkwmhQGNlHT1SkrSMSttKhQweOHj3KzZs3uXXrFr/++iuffPKJVZnQ0FBmzJjBkiVLqFevHvnz56dTp0588sknluaPer2esWPHUr58eby8vGjfvj2dOnWKlQxmypSJuXPnUqRIET788EMaNWrE/v37Les9PDwoUKDAG5/X+vXrMRqNZM6cGXt7e3r06MHmzZut9t2/f3/WrVvHwYMH6du3L7NmzaJ3795vfOz27duzdu1aDh06xKhRo9i4cSPNmzePt/zixYupV68euXPnjrdMUFAQANmyZbNani1bNss6kXg2m1ri0aNHmEymJP0hg4KC4ixvNBp59OgRnp6e8ZaJ2WdijpvQRXbr1q0knWf//v0pW7YsmTJl4vfff2fYsGEEBgby/fffx3tOmTJlws7OLsEL2t/fn7FjxyYpFiGESOmOH9aw+tvo/5rGzjaQOauNAxJpnqLAiGkGzv6u4dqfGhZM1tH/KxmsKDk9fx7/Ou1LrXMfPIi/rOalKoybN187pDh5eHjQqFEjli9fjqqqNGrUCA8PD6syly5dIiIigjp16lgtj4qKsmpOunDhQr7//ntu3bpFeHg4UVFRlC5d2mqb999/H+0Lb4Cnpyfnz5+3vO7bty99+/Z94/MaOXIkT548Yd++fXh4eLBlyxZatWrFkSNHKFGiBAB+fn6W8iVLliRTpky0bNnSUqHxurp37255Xrx4cQoVKoS3tzenT5+mbNmyVmXv3LnD7t27YyXN8Xm5GamqqvE2LRXxs/k8g0n9Q8ZV/uXlidlncpV5lcR8uOLa56uONWzYMAYOHGh5HRISkuCvKEIIkdI9C4ke2RGgZScjVerKoBbi3XD3gJHTDQz81I7lc7VUrWuiTEXpp5pcnJ1tXzaxunTpYknA5s2bF2u9+b+RhrZv307OnDmt1tnbR49ytWHDBvz8/Jg+fTo+Pj64uroydepUq/ErILoG8UWKolj2n1yuX7/O3LlzuXDhAu+//z4ApUqV4siRI8ybNy/OgRgBSxeoa9euvVEy+LKyZcui1+u5evVqrGRw6dKlZM6cmY8++ijBfWTPHj3ZbFBQEJ6enpblDx48iFXBIl7NZs1EPTw80Gq1sWq/EvpDZs+ePc7yOp3OcqHGVyZmn4k57osXWWJjS6wXP1zxxfvkyRMMBkOCx7K3t8fNzc3qIYQQqdn0UTqC7irkymfGb7TUzIh3q0YDM03aGlFVha8+1xOWQG2WSLvq169PVFQUUVFR1KtXL9b6mNHqb9++TcGCBa0eMT/KHzlyBF9fX3r37k2ZMmUoWLAg169ff9enAkQPdgigealaVavVJph4xow0+mKylRwuXryIwWCItV9VVVm6dCmffvpprCT5ZV5eXmTPnp29e/dalkVFRXH48GF8fX2TNd70wGbJoJ2dHeXKlbP6QwLs3bs33j+kj49PrPJ79uzB29vbcuHEVyZmn4k57tu8yF7+cPn4+HDhwgXu3///JEd79uzB3t6ecuXKvdGxhBAitTiyR8NPa3QoSnQ/Qac3GARCiNc1eKIRz9wqd25qmDHG5o2nhA1otVr+/PNP/vzzT6smnDFcXV0ZPHgwfn5+LF++nOvXr3PmzBnmzZvH8uXLAShYsCAnT55k9+7d/PXXX4waNSrBOfPiM3fuXGrVqpVgmcePH3P27FkuXboEwJUrVzh79qyloqFIkSIULFiQHj168Pvvv3P9+nWmT5/O3r17adq0KRA9fsXMmTM5e/YsgYGBbNiwgR49evDRRx8lOK3Gq459/fp1xo0bx8mTJ7l58yY7duygVatWlClThkqVKlnt68CBAwQGBtK1a9c4j1WkSBHLVHGKojBgwAAmTZrE5s2buXDhAp06dcLJyYl27dpZtgkKCuLs2bOWCpjz589z9uxZHj9+nOB7mt7Y9Jtu4MCBdOjQAW9vb3x8fFi0aBG3b9+2TPo5bNgw7t69y4oVKwDo2bMnc+fOZeDAgXTv3p2AgAAWL17M2rVrLfvs378/VatWZfLkyTRp0oSffvqJffv2cfTo0UQf98WLrFChQhQqVIhJkybFeZEFBQVZXWSurq7kyZMHd3d3AgICOH78ODVq1CBDhgycOHECPz8/qw9X3bp1KVasGB06dGDq1Kk8fvyYwYMH0717d6ntEyK90+kw9OzFg3Ajqi7t3pgGP4FxftE/6LXrYaKcrzTPex1aHbTubLQ8F0nn4grj5hjo3tSOjct1VK9vpnLttNlcWavR0eL9zzCpKjqNXDAvetX91/jx48maNSv+/v7cuHGDjBkzUrZsWctUYz179uTs2bO0adMGRVFo27YtvXv3ZufOnUmK49GjR6+sUdy6dSudO3e2vI6Z0H306NGMGTMGvV7Pjh07GDp0KI0bN+b58+cULFiQ5cuX07BhQyC6tdn69esZO3YskZGR5M2bl+7duzNkyBCrY+XLl49OnToxZsyYRB3bzs6O/fv3M3v2bJ4/f07u3Llp1KgRo0ePjpVoL168GF9fX4oWLRrneV65coXg4GDL6yFDhhAeHk7v3r158uQJFSpUYM+ePbi6ulrKLFy40Gp8japVqwLRzVETGq00vVHUmE53NjJ//nymTJnC/fv3KV68ODNnzrT8sTp16sTNmzc5dOiQpfzhw4fx8/Pj4sWL5MiRgy+//NKSxMX48ccfGTlyJDdu3KBAgQJMnDgx1shFCR0Xoqurx44dy7fffmu5yObNm0fx4sUtZcaMGRPnIC4xF9np06fp3bs3ly9ftny4Pv74Y4YMGYKTk5Ol/O3bt+nduzcHDhzA0dGRdu3aMW3aNEvb88QICQkhQ4YMBAcHSxIpRBoSZjRz4kE4jloNdtq02TF+eE89OzdqyVfQzNoDUTg42joikd5NG6Vj9UIdHtlUfvglkozuto7o7YgyqYSbzJTP6oiT7s0bi0VERBAYGIiXlxcODg7JEKFIKcLDw3F3d2fHjh3UqFHD1uGI/yT0mUtsbmDzZFAkD0kGhUib0noyuG+bhi+62KHRqCzbEUWJcvJfkrC9iHBoV9uOwL80NGptYsK8pE0EnlpIMigSa9euXcyZM4ft27fbOhTxguRIBm066bwQQogEqCo8fIj+34fRz9OYxw9h4hfRzUM7fW6SRPANqSo8fhT9SIOXyzvl4AhjvzGg0ahs36DlyJ60d7ukqipPwh/yNPwhUi8gXqV+/fqSCKZRae/bTQgh0oqwMJxyZMe3pBea/0aESytUNToRfPqvQqFiZnp8IaOHvqmIMKhV1IFaRR2ISFuXi02UKKfySS8TAOMH6XkW/IoNUpkIYxj1l+el6SovwgxywQiRXkkyKIQQ4p3bt03Dge1adDqVcXMM2CW+i7QQ70yvL43kyW/mYZDCjNEyyIoQIu2RZFAIIcQ7FfwEvh4a3Ty0c38TRUpKEzWRMjk4wpjZBhRFZctqHccPyW1TYkizUyHejeT4rMm3mhBCiHdq+ig9jx8qeBU2081PmoeKlK1MRZU2XaObi4710xMqk9HHK2a6gKioKBtHIkT6EPZfF5KY+dZfh7R5EEII8c4EHNSwbb0WRVEZPUuah4rUod9II0f2arh7S8M343QMmyI/YsRFp9Ph5OTEw4cP0ev1aDRS5yDE26CqKmFhYTx48ICMGTPGmrcxKSQZFEII8U6EPY8eiAPg424mSpWXpmQidXB0hlEzjPRsYceGpTrqNDHhXUmu35cpioKnpyeBgYHcunXL1uEIkeZlzJiR7Nmzv9E+JBkUQgjxTsydpOP+3wqeuVX6DpeaFZG6VKhqpsWnRjau0DFugJ71h6NwdLJ1VCmPnZ0dhQoVkqaiQrxler3+jWoEY0gyKIQQKZVOh7HDpzyKMKHqUvfX9bkTCuu+j/5Pa9R0A04uNg4oDdLqoHEbk+W5SH4Dxhg5uk/L3zc1LJqmo/9XqfdHDa1GR6PCn2BUVXSa5L1gNBqNTDovRCqhqDLkU5oQEhJChgwZCA4Oxs3NzdbhCCGSSZjRzIkH4ThqNdhpFVuH81qiIuHjmnYE/qXho4+NjJ2Tem+ghTi8W8OAT+zQalVW74viveKp9zYqyqQSbjJTPqsjTjrp3ydEWpLY3EA++UIIId6q72fqCPxLQ+YsKgPHSSIoUrdq9czU+tCEyaQwYZAek8nWEQkhxOuTZFAIIVIqVYXQUDRhodHPU6FrfyosnR3dPHToZAMZMtk4oDRMVSE8NPqRSi+XVGOIvwEXV5ULpzVsWPLmfXZsQVVVwg2hhBtCZV5AIdIxSQaFECKlCgvDKaMbVQplQ/PfXEKpidkMEwfrMRoVajQ0Ubux2dYhpWkRYeCbzwHffA5EpL7LJVXJmh0+HxVdyz13oo6guzYO6DVEGMOovjgLDZZlI8wgF4wQ6ZUkg0IIId6KLau1nP1dg5OzypBJBluHI0SyatnRRKnyZsJCFSYPe/0Jn4UQwpYkGRRCCJHsHj+E2eOiRyjsPdRI9pw2DkiIZKbRwMjpBnQ6lUM7tRzYLrdUQojUR765hBBCJLsZo/WEPFUoUsJMm24ywoZImwoWVenYN/r6/nqonufPbByQEEIkkSSDQgghktVvv2jY/oMWRVH/qzmxdURCvD3dBhrJ7WXmYZDC3AlysQshUhdJBoUQQiSbyAiY9EX0DXHrLibeLyOjFIq0zcERRkyLHkxmw1Itf5xMnfOBCiHSJ0kGhRBCJJul3+i4fUODRzaVPsNlTkGRPlSoaqZxGxOqqjBhsB6jXPpCiFRC2jMIIURKpdVibNGCJxEmVG3Kn8vs5jWFJf/NKThkogFXNxsHlM5otFC7scnyXLxbfmMN/LJHw9WLGtZ/r6V9z5TdV1ajaKmZvxkmVUUrF4wQ6ZaiykyjaUJISAgZMmQgODgYNze5AxMirQgzmjnxIBxHrQY7bcptfqaq0LOFnt+PaKlUy8SctQaUlBuuEG/FppVaxg/U4+yisikgkqzZbR1RwqJMKuEmM+WzOuKkk8ZiQqQlic0N5JMvhBDijW3/QcPvR7Q4OKoMm2yURFCkS03bmyhRzkzoc4UZX8ncg0KIlE+SQSGEEG8k+En0VBIA3QcZyZlXGpyI9EmjgWGTDWg0Krs3a/ntF7nNEkKkbPItJYQQKVVoKE56LdVyuqAJDbV1NPGa56/jySOFAkXMdOidsvtJpWXhoVAmiwNlsjgQnnIvlzSvaCmVVp3/m3vwSx1RkTYOKB7hhlAqLHSi+ncuhEbJBSNEeiXJoBBCiNf25zmFH5dFDz4x9GsDemkZJwR9hhnJnEXl5jUNK+fL4CxCiJRLkkEhhBCvxWwG/6F6VFWhfnMT3pWkeagQAK4ZokcXBfh+po57t6UTrRAiZZJkUAghxGvZtk7L+ZManJxVy42vECJaw5ZmyvmaiQhXmDJCZvISQqRMkgwKIYRIspCnMHt89A1ujyHGFD+EvhDvmqLAsCkGdDqVw7u0HN4tt1xCiJRHvpmEEEIk2fz/Bo3J/56Ztt1l0Bgh4lLgPZVPekV/PqYM1xEeZuOAhBDiJZIMCiGESJIr5xV+sAwaY5RBY4RIQPeBRrLlULl3W8OS2dJcVAiRssi3khBCpFRaLaYGDXgaaUbVpowRCc1m8P9Sj9msULepifKVzbYOSfxHo4XKtU2W5yJlcHKBwRMMfNHFjuVztXz0sYncXrYfbEmjaPHNUw+zClq5YIRItxRVVW3/jSTeWEhICBkyZCA4OBg3NzdbhyOESCZhRjMnHoTjqNVgp7X9iIRb12kY/bkdjk4qmwMiyZbD1hEJkfKpKvRqpee3w1qqNzAxc0XKGHApyqQSbjJTPqsjTjppLCZEWpLY3EA++UIIIRLlWTDMHhfdJvSzwUZJBIVIJEWBIZOM6HQqh3ZqOXZAbr+EECmDfBsJIYRIlAWTdTx+qOBVyEz7HjJojBBJkb+wSptu0Z+bqSN0GKJsHJAQQiDJoBBCpFyhoThmcKVywaxoQkNtGsqVCwrrF0f3Kxrib0RvZ9NwRBzCQ8Enrz0+ee0Jt+3lIuLR4wsj7llUbl7TsPZ72/bTCzeEUu17D+ovzUpolFwwQqRXkgwKIUQKpoSFobXxePSqCpOHRg8aU+cjExWryaAxKVVEmEJEmO37loq4ubpBv5FGABZN1fHoH9vGE2EMI8Io810IkZ5JMiiEECJBu7doOPObBgcnlYHjUsbAF0KkVo0/NvF+GTOhzxW+GS/zsgghbEuSQSGEEPEKD4NZY6JvWLv0M5I9p40DEiKV02jgS//oH1W2rdfyx0mpyRVC2I4kg0IIIeK1fK6Of+4peOZW6dBbBo0RIjmUKKfSpG10c9HJw/SYpeW1EMJGJBkUQggRp/t3YNmc6EEu/MYYcHC0cUBCpCGfjzTi4qpy6ayGn9bIpO9CCNuQZFAIIUScZo3VExmhUM7XTO3GUnUhRHLKnBU++yK6dnDORB3Pgm0ckBAiXZJkUAghUiqNBlPVajz1qYyqebdf16cDFPZs0aLRqHwxwYAi3ZpSPEUD5XzNlPM1o8j/7qnCx91MeBU28+SRwrdTde/02IqioaxnFUp5VkYjF4wQ6Zaiqqpq6yDEmwsJCSFDhgwEBwfj5uZm63CEEMkkzGjmxINwHLUa7LTvJiMzmeCTOnZcPq+hRUcjI6cZ38lxhUiPjh/S0KuVHVqtyvpDURQo8u5uy6JMKuEmM+WzOuKkk4RQiLQksbmBfPKFEEJY+WmNlsvnNbi4qfQeKomgEG9TxepmajYyYTIpTBulQ36iF0K8S5IMCiGEsHgWDHMnRTdX6zXEiLuHjQMSIh3wG2NEb6dy/JCWo3vl1kwI8e7IN44QQqRUoaE4embDp0ReNKGh7+SQi6brePJIwauQmVZdZCqJ1CQ8FGoUsadGEXvC383lIpJJrnwq7XtEf96mf6XDYHj7xww3hFJvWR6arMxLaJRcMEKkV5IMCiFECqY8eoTd43/fybFuXlNY9130EPeDJxjR69/JYUUyevqvwtN/ZbSf1KirnxH3LCq3rmv4Ycm7mWriacQjgiPezfeLECJlkmRQCCEEANNH6TAaFarWNeFbU6aSEOJdcnGFPsOi++gunKrj6WMbBySESBckGRRCCMGRvRqO7tOi06sMHCeDxghhC03amSj8vplnwQoLp7zbqSaEEOmTzZPB+fPn4+XlhYODA+XKlePIkSMJlj98+DDlypXDwcGB/Pnzs3DhwlhlNm7cSLFixbC3t6dYsWJs3rw5ycdVVZUxY8aQI0cOHB0dqV69OhcvXrQqs2jRIqpXr46bmxuKovD06VOr9Tdv3qRr1654eXnh6OhIgQIFGD16NFFRUVblFEWJ9YjrvIQQ4m0wRMGMr6JvPNt9ZiJvARnOUAhb0Gqjm2gD/LhMy/XL0uRXCPF22TQZXL9+PQMGDGDEiBGcOXOGKlWq0KBBA27fvh1n+cDAQBo2bEiVKlU4c+YMw4cPp1+/fmzcuNFSJiAggDZt2tChQwfOnTtHhw4daN26Nb/99luSjjtlyhRmzJjB3LlzOXHiBNmzZ6dOnTo8e/bMUiYsLIz69eszfPjwOOO9fPkyZrOZb7/9losXLzJz5kwWLlwYZ/mlS5dy//59y6Njx45Jfj+FEOJ1rF+i5eY1De5ZVLoNlFpBIWypfOX/TzUxXaaaEEK8ZTaddL5ChQqULVuWBQsWWJYVLVqUpk2b4u/vH6v8l19+ydatW/nzzz8ty3r27Mm5c+cICAgAoE2bNoSEhLBz505Lmfr165MpUybWrl2bqOOqqkqOHDkYMGAAX375JQCRkZFky5aNyZMn06NHD6u4Dh06RI0aNXjy5AkZM2ZM8JynTp3KggULuHHjhmWZoihs3ryZpk2bvuIdi59MOi9EGhQaCi4uAJy8/hCdm0uyH+LpY2hc3p7nIQqjZhho3kFGEE2twkPBN58DAMduRuDobOOAxGv7O1CheSU7jAaFb9ZEUaVO8vfhDTeE4rsoeu6YB1+EkMXJNdmPIYSwnRQ/6XxUVBSnTp2ibt26Vsvr1q3LsWPH4twmICAgVvl69epx8uRJDP+NwxxfmZh9Jua4gYGBBAUFWZWxt7enWrVq8caWWMHBwbi7u8da3rdvXzw8PChfvjwLFy7EbE74iz8yMpKQkBCrhxAijdFoMJXzJqRUWVTN2/m6XjRNx/MQhcLvm2nSThLB1EzRQLHSZoqVNqPYvBOIeBO5vf4/1cSMtzTVhKJoKJqlLO95lEUjF4wQ6ZbNeic/evQIk8lEtmzZrJZny5aNoKCgOLcJCgqKs7zRaOTRo0d4enrGWyZmn4k5bsy/cZW5detWEs/0/65fv86cOXOYPn261fLx48dTq1YtHB0d2b9/P4MGDeLRo0eMHDky3n35+/szduzY145FCJEKODoSefw3zjwIx1Gb/Ddrt64r/LA0egh7v7FGtO9mNHvxljg4wuq9Ua8uKFKFrn5Gtq6LbsL9w1It7T5L3h9rHHSOLGtxlHCTGUe9Y7LuWwiRetj8pyBFse4crapqrGWvKv/y8sTsM7nKJNa9e/eoX78+rVq1olu3blbrRo4ciY+PD6VLl2bQoEGMGzeOqVOnJri/YcOGERwcbHn8/fffrxWXECL9+mZ89FQSlWubqFhNppIQIiVxdfv/VBPfylQTQoi3xGbJoIeHB1qtNlYt4IMHD2LVyMXInj17nOV1Oh2ZM2dOsEzMPhNz3OzZswMkKbaE3Lt3jxo1auDj48OiRYteWb5ixYqEhITwzz//xFvG3t4eNzc3q4cQQiTWmeMKB7Zr0WhUBoyWQWOESImatjdR6H0zIU8Vvp0qU00IIZKfzZJBOzs7ypUrx969e62W7927F19f3zi38fHxiVV+z549eHt7o9frEywTs8/EHNfLy4vs2bNblYmKiuLw4cPxxhafu3fvUr16dcqWLcvSpUvRJKLfz5kzZ3BwcHjlYDRCiDQuLAyHgvmpUKEYmrCwZNutqsKM0dHfmc0+MVGgiAxXmBaEh0HDsvY0LGtPePJdLsKGtFoYPD76x5oflmq58VfyTTURbgij6aoitFlbjDCDXDBCpFc2/Zlp4MCBdOjQAW9vb0ut2e3bt+nZsycQ3RTy7t27rFixAogeOXTu3LkMHDiQ7t27ExAQwOLFiy2jhAL079+fqlWrMnnyZJo0acJPP/3Evn37OHr0aKKPqygKAwYMYNKkSRQqVIhChQoxadIknJycaNeunWU/QUFBBAUFce3aNQDOnz+Pq6srefLkwd3dnXv37lG9enXy5MnDtGnTePjwoWXbmNrHbdu2ERQUhI+PD46Ojhw8eJARI0bw2WefYW9v/5beeSFEqqCqaG7dwuG/58ll9xYNF05rcHJW6TlEagXTDBXu/61Ynou04YMqZqo3MHFop5YZX+mYuy65RpNRuf88ekotGw4sL4SwMZsmg23atOHff/9l3Lhx3L9/n+LFi7Njxw7y5s0LwP37963m/vPy8mLHjh34+fkxb948cuTIwTfffEOLFi0sZXx9fVm3bh0jR45k1KhRFChQgPXr11OhQoVEHxdgyJAhhIeH07t3b548eUKFChXYs2cPrq7/H3p54cKFVoO4VK1aFYieM7BTp07s2bOHa9euce3aNXLlymV17jFfvHq9nvnz5zNw4EDMZjP58+dn3Lhx9OnTJzneYiGEsBIZAd+Mj64V7PS5EY+kt3wXQrxjA0YbObpPw6/7tRzdZ6JybenjK4RIHjadZ1AkH5lnUIg06C3MM7hinpaZY/Rkya7y02+RODq98S5FCiHzDKZtM0brWDlfh1chMxt+iUL3hj/nyzyDQqRtKX6eQSGEEO/W08fw3YzoO8i+w42SCAqRinQfaCSju0rgVQ2bV8k8MEKI5CHJoBBCpBPfTf//BPONWssE80KkJq4Z4LPB0X18F0zW8fyZjQMSQqQJkgwKIUQ6cOu6woYlMsG8EKlZy04m8hYw8+SRwtLZMtWEEOLNSTIohBAplaJgLlaM0MJFQHmzIeVlgvl0QIH875nJ/54Zkm8GApGC6PXQ/795QVd/q+X+nTfZm4JXpqLky1gE5Q2/X4QQqZcMIJNGyAAyQqRNYUYzJx6E46jVYKd9vRu2M8cVujS2R6NR2XA4SuYVFCIVU1Xo3tSOU8c0NGplYsL8159qIsqkEm4yUz6rI046qR8QIi2RAWSEEELIBPNCpDGKAn5joxPA7T9ouXhWavWEEK9PkkEhhEjDYiaYd3SSCeaFSCveL63SqFX0IFAzvtIjbbyEEK9LkkEhhEipwsJwKFUC7xreaMLCkry51QTz/WSC+bQuPAxaVLajRWU7wpN+uYhUps9wA/YOKqcDNBzalfTbuXBDGB+vL0enH7wJM8gFI0R6JcmgEEKkVKqK5tIlnP+6zOv89L9+sZb7fytkya7SoZdMJZHmqXDjioYbVzQgNUVpnmcuaN8j+nM9e6wOQ5K7DqoEPvmTm08vI8NHCJF+STIohBBpkEwwL0Ta17m/EfcsKreua/hxmcwXI4RIOkkGhRAiDZIJ5oVI+1xcsfQFXjRNx7NgGwckhEh1JBkUQog0RiaYFyL9aPaJCa/CZp4+Vlg8SyaiF0IkjSSDQgiRxsgE80KkHzod+P03Ef2aRVru3pKpJoQQiSfJoBBCpCFnjisc2K5Fo1EZMFqmkhAiPahcx8wHVU0YohS+mSC1g0KIxJNkUAghUipFwZw3LxG58kTPNP0KMsF8OqeAZ24Vz9wqSOVQuqIoMHCMEUVR2bNFyx8nE3MBKHi65CGbSx6URHy/CCHSJkWV8YTThJCQEDJkyEBwcDBubm62DkcIkUzCjGZOPAjHUavBTpvwDdvuzRqGfmaHo5PK1t8jZV5BIdKZ0Z/r2LpOR6nyZpZuj3rlb0hRJpVwk5nyWR1x0kn9gBBpSWJzA/nkCyFEGhAZgaV5mEwwL0T61Ge4EQcnlXMnNOzbJrd4QohXk28KIYRIA9Yv1nLvtkYmmBciHcvqCZ/2jv78fzNehyHKxgEJIVK8JCeDY8aM4datW28jFiGEEC8KD8e+YgXKNKyKEh4ebzGZYF4ARIRD+zp2tK9jR0T8l4tI4zr2MeKRVeXOTQ3rl8Q/r0yEMZxOGyvTY3NVwg1ywQiRXiU5Gdy2bRsFChSgVq1arFmzhoiIiLcRlxBCCLMZ7amTuJ07jWKOf4oImWBeAKhmuHRWw6WzGlSZUSTdcnKBXkOjRxL+brqO4Cdxl1NVM38+PM2VR6cxywUjRLqV5GTw1KlTnD59mpIlS+Ln54enpye9evXixIkTbyM+IYQQCZAJ5oUQL2vSzkShYmZCnip8N12mmhBCxO+1+gyWLFmSmTNncvfuXZYsWcLdu3epVKkSJUqUYPbs2QQHByd3nEIIIeIQM8F8pVoywbwQIppWC35jomsH1y/R8negTB0hhIjbGw0gYzabiYqKIjIyElVVcXd3Z8GCBeTOnZv169cnV4xCCCHi8OIE8zE3fkIIAeBTw4xvDRNGg8IcmYheCBGP10oGT506Rd++ffH09MTPz48yZcrw559/cvjwYS5fvszo0aPp169fcscqhBDiPzLBvBDiVQaMMaLRqOzdquXcCakdFELEluRksGTJklSsWJHAwEAWL17M33//zddff03BggUtZT799FMePnyYrIEKIYT4vz1bNFw4rcHRSaXnEKkVFELEVqiYykdtoweVmv6VHlV+MxJCvCTJ7QZatWpFly5dyJkzZ7xlsmTJgjmBke+EEEIkjurhgcFsfQcnE8yL+GTMLHf7wlqvoUZ2bdZy/qSGfVs11Gny//uzjA4eqMg1I0R6luSaQVVVyZQpU6zl4eHhjBs3LlmCEkIIATg7E37/HwLO38Ls7GxZLBPMi7g4OsPBy5EcvByJo/Ory4v0IWt26Njnv4noJ+iIioxe7qh3Znen2/zU4RbOdnLBCJFeJTkZHDt2LM+fP4+1PCwsjLFjxyZLUEIIIeImE8wLIZLq097/n4h+w1KZf0YI8X+vVTOoKLE7IZ87dw53d/dkCUoIIUTcZIJ5IURSJXYieiFE+pPoZDBTpky4u7ujKAqFCxfG3d3d8siQIQN16tShdevWbzNWIYRIX8LDsa9Vk1It66OEh8sE8yJBEeHQrYkd3ZrYERFu62hEStOknYmCRaMnov9+po4IYzi9fqpH/5/rE26QC0aI9CrRA8jMmjULVVXp0qULY8eOJUOGDJZ1dnZ25MuXDx8fn7cSpBBCpEtmM9pfDpMRUMxmmWBeJEg1w6ljGstzIV6k1cKA0Ub6fmzHuu+1NPlU5fT9IwCY5YIRIt1KdDLYsWNHALy8vPD19UWv17+1oIQQQlj746RGJpgXQrwR35pmKlY3cfyQlgVTdFDK1hEJIWwtUc1EQ0JCLM/LlClDeHg4ISEhcT6EEEIkvwUTZYJ5IcSbURTwG2NEUVQO/CztzIUQiawZzJQpE/fv3ydr1qxkzJgxzgFkYgaWMZlkQAMhhEhul/6QCeaFEG+u8PvRE9H/9IOtIxFCpASJSgYPHDhgGSn04MGDbzUgIYQQcZMJ5oUQyaH3UCO7tqtE2joQIYTNJSoZrFatWpzPhRBCvBtZsqp06CktL4QQby6rJ7TrbmLpf6+jogCZs1SIdCnJ8wzu2rWLo0ePWl7PmzeP0qVL065dO548kYlrhBAiufz7L4TiRChOdB1kwNHZ1hGJlM7BScXBSfqUildr/5kRDE4Q5cSyxbaORghhK0lOBr/44gvLQDHnz59n4MCBNGzYkBs3bjBw4MBkD1AIIdKr8TOccSGUUsVCqP2Jg63DESmcozME3Iok4Fak/HAgXilzJmeGZXoCk0KZMckF+T1fiPQpyclgYGAgxYoVA2Djxo00btyYSZMmMX/+fHbu3JnsAQohRHp09SrMmxf9vNeoKJlgXgiR7D782ES+98w8fqwwaZKtoxFC2EKSk0E7OzvCwsIA2LdvH3Xr1gXA3d1dppYQQohkMmwYGI1Qt76Kd1WZEFoIkfx0Oug1MgqAb76BwEAbBySEeOeSnAxWrlyZgQMHMn78eH7//XcaNWoEwF9//UWuXLmSPUAhhEhvjh6FjRvBUYlg/fNGFO/QAiUiwtZhiRQuMgI+b6vn87Z6IuVyEa8QaYzAb0czNkU1pWrtcKKiYPhwW0clhHjXkpwMzp07F51Ox48//siCBQvImTMnADt37qR+/frJHqAQQqQnqgqDBkU/79rJRMajO8l8YDeKzOEqXsFsgqP7tBzdp8Usl4t4BbNq4tjt3fz2925GjzeiKLBuHfz2m60jE0K8S4maWuJFefLk4eeff461fObMmckSkBBCpGcbNsDvv4OzM4wcCZax34UQ4i0pURI6doRly2DwYPjlF1AUW0clhHgXkpwMApjNZq5du8aDBw8wm637slStWjVZAhNCiPQmMhKGDo1+/uWXkE0mmBdCvCPjx8P69dHN1LdsgWbNbB2REOJdSHIyePz4cdq1a8etW7dQVeu5jBRFwSRNmYQQ4rXMmQM3b0KOHCAz9Qgh3qVcuaKbqE+YAEOGQKNGYGdn66iEEG9bkvsM9uzZE29vby5cuMDjx4958uSJ5fH48eO3EaMQQqR5//4bfRMGMHFidDNRIYR4l4YMgaxZ4do1+PZbW0cjhHgXkpwMXr16lUmTJlG0aFEyZsxIhgwZrB5CCCGSbvx4CA6GUqWgQwdbRyOESI9cXWHcuOjnY8fC06c2DUcI8Q4kORmsUKEC165dexuxCCFEuvTiBPPTpiETzAshbKZrVyhaNLq1gr+/raMRQrxtSe4z+PnnnzNo0CCCgoIoUaIEer3ean3JkiWTLTghhEgPYiaYb9AAatd+YYWzM2EGEycehOOoTfJvdyKdcXSGMw9lgkGROI56Z37rGUa4yYyznaNluU4HU6fChx/CrFnQqxfky2ezMIUQb1mS7y5atGjBn3/+SZcuXShfvjylS5emTJkyln+Tav78+Xh5eeHg4EC5cuU4cuRIguUPHz5MuXLlcHBwIH/+/CxcuDBWmY0bN1KsWDHs7e0pVqwYmzdvTvJxVVVlzJgx5MiRA0dHR6pXr87FixetyixatIjq1avj5uaGoig8jaM9xZMnT+jQoYOlGW2HDh1ilbt9+zaNGzfG2dkZDw8P+vXrR1RUVILvgxAibYiZYF6jib4BE0IIW2vYEGrWRCaiFyIdSHIyGBgYGOtx48YNy79JsX79egYMGMCIESM4c+YMVapUoUGDBty+fTveYzds2JAqVapw5swZhg8fTr9+/di4caOlTEBAAG3atKFDhw6cO3eODh3+1959x0dRrX8c/2w2lRBCCRAiSFFEMCgQlKI0QUCplmsQDeK1gIoYmohdvFIUsQPi5QfXBhZEkaKAAoJEhdARFJAmEAICCaRnd35/HFkMhBRMmE3yfb9e+2Iye3bmyc5k2WfmnPPEcPvtt/PT36qoFmS/L730EhMnTuStt95i9erVhIeHc8MNN3DixAlPm9TUVLp27coTeXxS9u3bl/Xr1/P111/z9ddfs379emL+NiDI5XLRrVs3UlJSWLlyJbNmzWL27NkMO1V1WkRKrb8XmL/vPrjiCnvjEREBU2NwwgTz78yZpvapiJRODuvM+hAXUIsWLWjWrBmTJ0/2rGvYsCG9e/dmbC4d1UeOHMncuXPZunWrZ93AgQPZsGEDcXFxAERHR5OcnMzChQs9bbp27UqlSpWYOXNmgfZrWRYRERHExsYycuRIADIyMqhevTrjx49nwIABOeJatmwZHTp04NixY1SsWNGzfuvWrTRq1Igff/yRFi1aAKY0R6tWrdi2bRsNGjRg4cKFdO/enX379hEREQHArFmz6N+/P4mJiVSoUKFA72VycjKhoaEkJSUV+DUiYq+PP4Y+fczMoTt2QHj4GQ3S08m+6y6OpbvY/fb/4RcclOt2RAAy0uGph8zQjf9MyiIg0OaAxKtlZKfzxOJ/47IsPr/9QyoHljurzd13w3vvQZs2sHy5CtGLlCQFzQ3OaxDK+++/z7XXXktERAR79uwB4LXXXuPLL78s8DYyMzOJj4+nc+fOOdZ37tyZVatW5fqauLi4s9p36dKFNWvWkJWVlWebU9ssyH537dpFQkJCjjYBAQG0a9funLGdK97Q0FBPIgjQsmVLQkNDPduJi4sjMjLSkwieijcjI4P4+PhzbjsjI4Pk5OQcDxEpOc4sMH9WIgjgcuE7ezZV53+BQzVcJR9uFyz5ysmSr5y4dbpIPtyWi+9+n8PyXV/gOscJ85//QGAgrFgBhfiKJyIlSKGTwcmTJzN06FBuuukmjh8/7ikyX7FiRV577bUCb+fIkSO4XC6qV6+eY3316tVJSEjI9TUJCQm5ts/OzubIkSN5tjm1zYLs99S/hYntXPFWq1btrPXVqlXLsa8z91OpUiX8/f3z3NfYsWNzlPSoVatWgeMSEfu99ZYKzIuId6tV6/Tn02OPwV/X3UWkFCl0Mvjmm2/y7rvv8uSTT+L82/znzZs3Z9OmTYUOwHFGnwPLss5al1/7M9cXZJtF1SY/ubU/czsFaXOmUaNGkZSU5Hns27evUHGJiH1UYF5ESoqRI6FqVVMCR4XoRUqf85pAJrdZQwMCAkhJSSnwdsLCwnA6nWfd/UpMTDzrTtkp4eHhubb39fWlSpUqebY5tc2C7Df8r/5ahYntXPEeOnTorPWHDx/Osa8z93Ps2DGysrLy3FdAQAAVKlTI8RCRkuGFF0wxZxWYFxFvV6GCKUAP8NxzkJRkazgiUsQKnQzWrVuX9evXn7V+4cKFNGrUqMDb8ff3JyoqisWLF+dYv3jxYlq3bp3ra1q1anVW+0WLFtG8eXNPvcNztTm1zYLst27duoSHh+dok5mZyfLly88Z27niTUpK4ue/TcP1008/kZSU5NlOq1at2Lx5MwcPHswRb0BAAFFRUQXel4iUDCowLyIlzf33w+WXqxC9SGlU6KLzI0aM4OGHHyY9PR3Lsvj555+ZOXMmY8eO5b///W+htjV06FBiYmJo3rw5rVq1YurUqezdu5eBAwcCpivk/v37ee+99wAzc+hbb73F0KFDuf/++4mLi2PatGmeWUIBHn30Udq2bcv48ePp1asXX375JUuWLGHlypUF3q/D4SA2NpYxY8ZQv3596tevz5gxYyhXrhx9+/b1bCchIYGEhAR27NgBwKZNmwgJCeHiiy+mcuXKNGzYkK5du3L//ffzzl99Kx544AG6d+9OgwYNADNxTaNGjYiJieHll1/m6NGjDB8+nPvvv193+0RKoZEjTYH5m246o8C8iIiXOlWIvkeP04Xoa9e2OyoRKQqFTgbvuecesrOzeeyxx0hNTaVv375cdNFFvP766/Tp06dQ24qOjubPP/9k9OjRHDx4kMjISBYsWEDtvz5hDh48mKP2X926dVmwYAFDhgzh7bffJiIigjfeeINbb73V06Z169bMmjWLp556iqeffppLLrmEjz/+OMeMnvntF+Cxxx4jLS2Nhx56iGPHjtGiRQsWLVpESEiIp82UKVN4/lTfCaBt27YATJ8+nf79+wPw4YcfMnjwYM/MpD179uStt97yvMbpdDJ//nweeughrr32WoKCgujbty8TJkwo1HspIt7v++9hzhxzN1AF5kWkJOnWDTp0gKVL4ckn4YMP7I5IRIrCP6ozeOTIEdxud64zZsqFpTqDIt7N7YYWLWDNGhg4EP5W5vTcLIvU5JPEH04joHx5/H3PqxqQlBGWBempZjmwnGrCSd4syyI5I4U0l5s2EVUI9su/z/ratXBqBMvq1dC8eTEHKSLnrVjrDB45coQ1a9awZ8+eHDOKiohI7mbONIlgSMjpyRjy5XBAcDDucsH6Zi/5cjggKNg8dLpIfhwOB0F+wQT5BRd4pvRmzU5PejV8uLkAISIlW6GSwS1bttC2bVuqV69OixYtuOaaa6hWrRrXX389v/76a3HFKCJSoqWlwahRZnnUKFBnChEpqU4Vol++HL76yu5oROSfKnAymJCQQLt27Th8+DATJ05kwYIFzJ8/n5dffpmDBw/Spk0bEhMTizNWEZES6bXXYN8+U8A5NrYQL8zIwP/f99AgdgCOjIxiik5Ki8wMeGaQH88M8iNTp4vkI9OVwejvHmDssgFkZBf8hLn4YhgyxCyrEL1IyVfgMYMjR45kyZIl/PDDDwQGBuZ4Li0tjeuuu47OnTszVnMO20JjBkW8U2IiXHopnDgB778Pd91ViBenpED58gCs2XkY3wrliydIKRXSUqB1HfP/86rd6QQF2xyQeLW0rBRaTw0DIHFEMlXLheTzitOSk83n2uHDplTOQw8VV5Qicr6KfMzg4sWLGTly5FmJIEBQUBAjRozgm2++Ob9oRURKqWefNYlg8+bwt8o0IiIlVoUKpgA9mM84FaIXKbkKnAz+/vvvNGvW7JzPN2/enN9//71IghIRKQ1++QWmTjXLr7wCPpoMVERKifvvhwYN4MgRGD/e7mhE5HwV+KvJiRMn8rzFGBISwsmTJ4skKBGR0mDECFNSondv+KsMqYhIqeDnBy+9ZJZffRX+VhZaREqQQl2nPnHiBMnJyed8/IOShSIipcqSJbBgAfj66qq5iJROPXpAu3aQng5PPWV3NCJyPnwL2tCyLC677LI8ny9onRoRkdLM5YJhw8zyQw9BHh+dIiIllsMBEybA1VebCbJiY00tQhEpOQqcDC5durQ44xARKTX+9z/YuBEqVoRnnrE7GhGR4tO8Odx5J3z4obkI9t13JkkUkZKhwKUlxLuptISIdzh50twJPHjQXDE/dYfwvFgWqQmJrD+Shm/Vavj7agYaOTfLgmN/muVKVfSFXPJmWRaJKYdJd7npdHEtgv2c572tPXvMZDIZGaYQfffuRRioiJyXIi8tISIi+XvlFZMI1qsHgwb9w405HFC1KllVquqbveTL4YDKYeah00Xy43A4qBRUlYpBVf/xMJ/atU0XUTATZ6kQvUjJoWRQRKSIHDhwena9ceMgIMDeeERELpRRo6BKFdi2Df77X7ujEZGCUjIoIlJEnn4aUlOhdWu47bYi2GBGBn6PDOLSJ4bgyMgogg1KaZaZAWMf82XsY75k6nSRfGS6MnhpRSyv/TCEjOx/fsKEhuYsRJ+c/I83KSIXgMYMlhIaMyhirw0boGlTM24rLg5atiyCjaakQPnyAKzZeRjfCuWLYKNSWqWlQOs6gQCs2p1OULDNAYlXS8tKofXUMAASRyRTtVzIP95mVhZccQVs3w5PPAEvvviPNyki56nYxgzOmDGD1NTUfxSciEhpYlkwfLj5Nzq6iBJBEZES5u+F6CdOhH377I1HRPJX6GRw1KhRhIeHc++997Jq1ariiElEpERZuNAUmff3h7Fj7Y5GRMQ+vXpBmzYqRC9SUhQ6Gfzjjz/44IMPOHbsGB06dODyyy9n/PjxJCQkFEd8IiJeLSvrdPmIRx+FunXtjUdExE6nCtGDKUS/dq298YhI3gqdDDqdTnr27Mnnn3/Ovn37eOCBB/jwww+5+OKL6dmzJ19++SVut7s4YhUR8TpTppjZ86pWhSeftDsaERH7XXMN3HFHzi70IuKd/tFsotWqVePaa6+lVatW+Pj4sGnTJvr3788ll1zCsmXLiihEERHv9OefZtY8gP/8x8ymJyIiMGaM6Tq/dCksWGB3NCJyLueVDB46dIgJEyZwxRVX0L59e5KTk5k3bx67du3iwIED3HLLLdx9991FHauIiFd5/nk4dgyuvBLuvdfuaEREvEedOqbrPJi7gypEL+KdCl1aokePHnzzzTdcdtll3HffffTr14/KlSvnaHPgwAFq1qyp7qIXkEpLiFxYW7dC48bgcsG338L11xfDTtxu0n7fzYY/0/G5uDb+fs5i2ImUFm43JPzhACC8poWPKglLHtyWm73H95LudtO93mWU9/Mt8n0cPw7168ORI/D66zB4cJHvQkTOoaC5QaH/8qtVq8by5ctp1arVOdvUqFGDXbt2FXbTIiIlxrBhJhHs1auYEkEAHx+sOnXIKJdGkL7ZSz58fCDiYg3OkoLxcfgQUaE2aS43Po7i+XypWNF0oR840BSkv/NOqFKlWHYlIuep0H/97dq1o1mzZmetz8zM5L333gPA4XBQu3btfx6diIgXWrjQPPz84OWX7Y5GRMR73Xef6Up/7NjpMdYi4j0KnQzec889JCUlnbX+xIkT3HPPPUUSlIiIt/p7KYnBg00XqGKTmYnfyMeo98KTODIzi3FHUhpkZcKrz/ny6nO+ZOl0kXxkuTJ5I+4JJv/0JJmu4jthnE547TWzPGUKbNlSbLsSkfNQ6GTQsiwcDsdZ6//44w9CNZWeiJRy77xjxgtWrQpPP13MO8vKwm/iK9Sa8joOzb4g+cjOgvfe9uW9t33J1uki+ch2Z/Hhhtf4eOPrZLmK94Tp0AFuvtl0rR8yRKUmRLxJgccMNm3aFIfDgcPhoGPHjvj6nn6py+Vi165ddO3atViCFBHxBkePnu7m9MILKiUhIlJQEybA/PmweDHMmwc9etgdkYhAIZLB3r17A7B+/Xq6dOlC+fLlPc/5+/tTp04dbr311iIPUETEW4webRLCxo1VSkJEpDDq1TN3BcePN13tu3QxdQhFxF4FTgaf/etyeJ06dYiOjiYwMLDYghIR8TbbtsHbb5vlV18F36KfhV1EpFR78kmYMQO2b4c33zw9/lpE7FPoMYN33323EkERKXOGDYPsbOjZEzp2tDsaEZGSJyQExowxy6NHw+HD9sYjIgVMBitXrsyRI0cAqFSpEpUrVz7nQ0SktPn6a1iwwJSSmDDB7mhEREqu/v2hWTNITr4Ak3CJSL4K1NHp1VdfJSQkxLOc22yiIiKlUXY2DB1qlh95pJhLSYiIlHI+PqbURNu28O678NBDpg6hiNjDYVma4Lc0SE5OJjQ0lKSkJCpUqGB3OCKlxttvw6BBEBZmxrlUrHgBd+52k7ZpC5uPpmNd3gh/P+cF3LmUNG437PrNXKyte5mFT6EHgkhZ4rbc/HZkK+kuN7c1aEp5vws7EDo6Gj75xJSd+PZb0H0GkaJV0NygQMlgcnJygXesRMQeSgZFit7Ro+ZO4NGjMHkyDBx44WNIzXazOjGNIKcP/k59WxKRopPpskhzubm6WhDlfC/s1YM9e+DyyyE9HT7/3NQhFJGiU9DcoECXgSpWrJhv19BTxehdLlfhIhUR8VLPPmsSwchIuO8+u6MRESk9ateG4cPhP/8x/950EwQE2B2VSNlToGRw6dKlxR2HiIhX2bQJJk0yy6+/blMpicxM/P7zIrVTsjgcOxKC9E1Jzi0rE6a9Zk7Ue2Oz8VMNN8lDliuTd1ePJ8uyuKrzM5TzvfAzxY8cCf/3f/D772Yc4ciRFzwEkTJPYwZLCXUTFSk6lgXXXw/LlsFtt8Gnn9oUSEoKlC8PwJqdh/GtUN6mQKQkSEuB1nXMF/pVu9MJCrY5IPFqaVkptJ4aBkDiiGSqlguxJY733oO77zYfddu3Q3i4LWGIlDpF2k1048aNREZG4uPjw8aNG/Nse6WmhBKREu6zz0wiGBioUhIiIsXprrvMRF0//2yK0k+bZndEImVLgZLBJk2akJCQQLVq1WjSpAkOh4PcbihqzKCIlHSpqabAPMDjj5txLSIiUjxOlZpo3RqmT4cBA+Caa+yOSqTsKFAyuGvXLqpWrepZFhEprcaPh337TBL42GN2RyMiUvq1agX9+pkuo4MGwY8/otIoIhdIgZLB2n+7NF5bl8lFpJTatcskgwCvvAJBQfbGIyJSVowfD3PmwOrVMGMG/PvfdkckUjac13WXX3/9lUGDBtGxY0c6derEoEGD+PXXX4s6NhGRC2r4cMjIMJPH3HKL3dGIiJQd4eHw3HNm+fHH4fhxO6MRKTsKnQx+9tlnREZGEh8fz1VXXcWVV17J2rVriYyM5FPbptwTEflnliwxhY+dTlNKIp/SqiIiUsQeeQQaNoTDh02dVxEpfoUuLVGvXj3uuusuRo8enWP9s88+y/vvv8/vv/9epAFKwai0hMj5y8qCJk3gl19g8GCTDHoFl4v0n9fwy7EMsps0w9/fjmKHUlK4XLBto7mKcfmVFk6nzQGJV3O5XWw6tJYMt0Xfhq0I8fezOyTAXJi74QZzYW79eoiMtDsikZKpoLlBoZPBcuXKsXHjRi699NIc67dv385VV11Famrq+UUs/4iSQZHz9/rrEBsLYWHw229QqZLdEZ2Wmu1mdWIaQU4f/J26XSkiRSfTZZHmcnN1tSDK+XrPjC233QazZ0P79vDdd+qpIXI+CpobFPovv3379qxYseKs9StXrqRNmzaF3ZyIiK0SE093RxozxrsSQRGRsujUBF7LlsEnn9gdjUjpVqA+R3PnzvUs9+zZk5EjRxIfH0/Lli0B+PHHH/n00095/vnniydKEZFi8sQTkJQEUVFeOHtdZia+r75GzZNZHH1gEAQF2B2ReLGsTPhoqukb2vcBF37+NgckXi3Llcn7698i221x1fXDKOcbaHdIHrVrm0lknn3WTOzVrRuUL293VCKlU4G6ifoUsNiLis7bR91ERQpv9Wpo0QIsC374wRQ99iopKZ5vQGt2Hsa3gr4NybmlpUDrOuYL/ard6QQF2xyQeLW0rBRaTw0DIHFEMlXLhdgcUU5paXDFFabkz6hRpueGiBRckXYTdbvdBXooERSRksLtNjPXWRbExHhhIigiUoYFBcGrr5rlV16BHTvsjUektLJ9tPCkSZOoW7cugYGBREVF5Toe8e+WL19OVFQUgYGB1KtXjylTppzVZvbs2TRq1IiAgAAaNWrEnDlzCr1fy7J47rnniIiIICgoiPbt27Nly5YcbTIyMnjkkUcICwsjODiYnj178scff3ieX7ZsGQ6HI9fH6tWrPe1yez6330tEis7//R/89BOEhMC4cXZHIyIiZ+rZE7p0gcxMM8mXiBS980oGU1JSWLBgAVOmTOGNN97I8SiMjz/+mNjYWJ588knWrVtHmzZtuPHGG9m7d2+u7Xft2sVNN91EmzZtWLduHU888QSDBw9m9uzZnjZxcXFER0cTExPDhg0biImJ4fbbb+enn34q1H5feuklJk6cyFtvvcXq1asJDw/nhhtu4MSJE542sbGxzJkzh1mzZrFy5UpOnjxJ9+7dPXdIW7duzcGDB3M87rvvPurUqUPz5s1z/G7Tp0/P0e7uu+8u1HspIgX3559mPArA889DRIS98YiIyNkcDjPbs58fzJ8P8+bZHZFI6VPo0hLr1q3jpptuIjU1lZSUFCpXrsyRI0coV64c1apVK1SdwRYtWtCsWTMmT57sWdewYUN69+7N2LFjz2o/cuRI5s6dy9atWz3rBg4cyIYNG4iLiwMgOjqa5ORkFi5c6GnTtWtXKlWqxMyZMwu0X8uyiIiIIDY2lpEjRwLmLmD16tUZP348AwYMICkpiapVq/L+++8THR0NwIEDB6hVqxYLFiygS5cuZ8WflZVFzZo1GTRoEE8//bRnvcPhYM6cOfTu3bvA711GRgYZGRmen5OTk6lVq5bGDIoUwIABMHUqNG4Ma9eCr7eW79OYQSkEjRmUwvD2MYN/N3IkvPQSXHIJbN4Mgd4z142I1yq20hJDhgyhR48eHD16lKCgIH788Uf27NlDVFQUEyZMKPB2MjMziY+Pp3PnzjnWd+7cmVWrVuX6mri4uLPad+nShTVr1pCVlZVnm1PbLMh+d+3aRUJCQo42AQEBtGvXztMmPj6erKysHG0iIiKIjIw8Z/xz587lyJEj9O/f/6znBg0aRFhYGFdffTVTpkzB7Xbnuo1Txo4dS2hoqOdRq1atPNuLiPHzz/Duu2b57be9OBEUEREAnnoKatSAnTvN+EERKTqFTgbXr1/PsGHDcDqdOJ1OMjIyqFWrFi+99BJPPPFEgbdz5MgRXC4X1atXz7G+evXqJCQk5PqahISEXNtnZ2dz5MiRPNuc2mZB9nvq3/za+Pv7U+mMomR5xT9t2jS6dOlyVuL2wgsv8Omnn7JkyRL69OnDsGHDGJPPtFmjRo0iKSnJ89i3b1+e7UUEXC548EEzaUy/fqDSqCIi3i8kBE7db3jxRTPDqIgUjUJfE/fz88PhcAAm8dm7dy8NGzYkNDT0nGP98nJqW6dYlnXWuvzan7m+INssqjZnOlebP/74g2+++YZPcqme+tRTT3mWmzRpAsDo0aNzrD9TQEAAAQGqOSZSGFOnmm6hoaGmy5HXCwwkfcm3bDuWgVv9oiQf/oHw7heZnmWRvPg7A5nU42sy3G4CvajG4LnccYfp1bFsGTz6KPytBLaI/AOFvjPYtGlT1qxZA0CHDh145pln+PDDD4mNjaVx48YF3k5YWBhOp/Osu2iJiYln3ZE7JTw8PNf2vr6+VKlSJc82p7ZZkP2Gh4cD5NsmMzOTY8eOFSj+6dOnU6VKFXr27Jnr7/Z3LVu2JDk5mUOHDuXbVkQKJjHRFJgHc2X5HB8z3sXpxN2uPUmt24LTaXc04uWcTmh+rZvm17p1uki+nD5Ooi5qS9OItjh9vP+EcThg0iTTtf+rr5QMihSVQieDY8aMoUaNGoDp3lilShUefPBBEhMTmTp1aoG34+/vT1RUFIsXL86xfvHixbQ+R8GvVq1andV+0aJFNG/eHD8/vzzbnNpmQfZbt25dwsPDc7TJzMxk+fLlnjZRUVH4+fnlaHPw4EE2b958VvyWZTF9+nT69evniTMv69atIzAwkIoVK+bbVkQKZuRIOH4cmjaFgQPtjkZERAqrYUMYPtwsP/KImWNLRP6ZQncT/XtJhKpVq7JgwYLz3vnQoUOJiYmhefPmtGrViqlTp7J3714G/vVNbdSoUezfv5/33nsPMDOHvvXWWwwdOpT777+fuLg4pk2b5pklFODRRx+lbdu2jB8/nl69evHll1+yZMkSVq5cWeD9OhwOYmNjGTNmDPXr16d+/fqMGTOGcuXK0bdvXwBCQ0O59957GTZsGFWqVKFy5coMHz6cxo0b06lTpxy/53fffceuXbu49957z3oPvvrqKxISEmjVqhVBQUEsXbqUJ598kgceeEDdQEWKyA8/wIwZZnnSpBJ0ky0rC9/J7xBxMpPj/e4Dp7/dEYkXy8qCz98zJ/ct/VwU4NqjlGFZriw+3fxfstwWTao8DL4l4zvH00/DzJmwZw/85z+Qy+TzIlIIhS4tcUpiYiK//vorDoeDBg0aULVq1fMKYNKkSbz00kscPHiQyMhIXn31Vdq2bQtA//792b17N8uWLfO0X758OUOGDGHLli1EREQwcuRITxJ3ymeffcZTTz3F77//ziWXXMKLL77ILbfcUuD9grmb9/zzz/POO+9w7NgxWrRowdtvv01kZKSnTXp6OiNGjOCjjz4iLS2Njh07MmnSpLMmiOnbty979uzhhx9+OOv3//rrrxk1ahQ7duzA7XZTr1497rvvPh5++GF8CzHNYUGnjxUpa7KzISoKNm6E++47PZNoiaDSElIIKi0hhVGSSkucae5c6NXLdBndsAEaNbI7IhHvU9DcoNDJYHJyMg8//DCzZs3yFFd3Op1ER0fz9ttvExoa+s8il/OiZFAkd6+/DrGxULky/PorhIXZHVEhKBmUQlAyKIVRkpNBMMng3LnQrh0sXWrGFIrIacVWZ/C+++7jp59+Yt68eRw/fpykpCTmzZvHmjVruP/++/9R0CIiRengQXjmGbM8dmwJSwRFROScXn8dgoJg+XL44AO7oxEpuQqdDM6fP5//+7//o0uXLlSoUIGQkBC6dOnCu+++y/z584sjRhGR8zJiBCQnwzXXmC6iIiJSOtSpc/pi3/DhcMbk7iJSQIVOBqtUqZJrV9DQ0NCzCrCLiNhlyRL48EPTdejtt8Gn0J92IiLizYYONTOMJibCk0/aHY1IyVTor0dPPfUUQ4cO5eDBg551CQkJjBgxgqeffrpIgxMROR9pafDgg2Z50CD42yTIIiJSSvj7mxmiAaZMgdWr7Y1HpCQq0HSVTZs2xfG3kbnbt2+ndu3aXHzxxQDs3buXgIAADh8+zIABA4onUhGRAhozBnbsgIgIM/W4iIiUTu3bw113mXGDDz4IP/1UgsoHiXiBAiWDvXv3LuYwRESKxi+/wPjxZvnNN6FET64bEED6l3PZfjwTt+qOSj78AuCNDzM9yyJ58XMG8MqNs8l0WwSUkBqD5zJhAnz1FcTHmzuEDz9sd0QiJcd51xkU76LSEiLgdptpxleuhB494MsvS/5046nZblYnphHk9MHfWcJ/GRHxKpkuizSXm6urBVHOt2QPrJ40ySSBFSrA1q2mZ4hIWVZspSVOiY+P54MPPuDDDz9k3bp157sZEZEiM326SQSDg+Gtt0p+IigiIgUzYICZOTo5GQYPtjsakZKjQN1E/y4xMZE+ffqwbNkyKlasiGVZJCUl0aFDB2bNmkXVqlWLI04RkTwlJppSEgCjR8NfQ5pLtqwsnO+9T/XkLE786w5w+tsdkXixrCxY+JkZLHXjbS78/GwOSLxaliuLedtmkmlZNKnSH0p4V1GnE959F6KiYPZs0zOkVy+7oxLxfoW+M/jII4+QnJzMli1bOHr0KMeOHWPz5s0kJyczWJdiRMQmw4aZOlNNmpSiq8KZmQTcdy+XDx2IIzPT7mjEy2VnwrOD/Xh2sB/ZOl0kH9nuTF5YNoDxyweS6SodJ8yVV5qag2C6jCYn2xuPSElQ6GTw66+/ZvLkyTRs2NCzrlGjRrz99tssXLiwSIMTESmIJUvMTHIOB0ydCr6F7vMgIiKlwTPPwCWXwP798NRTdkcj4v0KnQy63W78cul74ufnh9vtLpKgREQK6syagldfbW88IiJin6AgM6MomLHjP/1kbzwi3q7QyeD111/Po48+yoEDBzzr9u/fz5AhQ+jYsWORBicikh/VFBQRkb/r1An69QPLggceMONpRSR3hU4G33rrLU6cOEGdOnW45JJLuPTSS6lbty4nTpzgzTffLI4YRURyVapqCoqISJF55RWoUgU2boSJE+2ORsR7FXpkTa1atVi7di2LFy9m27ZtWJZFo0aN6NSpU3HEJyKSK5cL7r3XXPHt0QNuvtnuiERExFuEhZkk8O674bnn4LbbzFhCEcmpUMlgdnY2gYGBrF+/nhtuuIEbbrihuOISEcnT22/Djz9CSIgpNqyagiIi8ncxMfDee/DttzBwICxapP8rRM5UqGTQ19eX2rVr43K5iiseEZF87d4No0aZ5Zdegpo1bQ2n+AQEkDFzFjuSMnEHlOwaYFL8/ALgpf9mepZF8uLnDGDMDR+Q6XYTUMJrDJ6Lw2Emk2nc+PSs0zExdkcl4l0clmVZhXnB9OnT+fTTT/nggw+oXLlyccUlhZScnExoaChJSUlU0MApKcUsC7p2NVd427aFpUvBp9Cjn0uO1Gw3qxPTCHL64O/UJW0RKTqZLos0l5urqwVRzrf0fpCOG2cuIFapAlu3QtWqdkckUvwKmhsUeszgG2+8wY4dO4iIiKB27doEBwfneH7t2rWFj1ZEpIDee88kgoGB8O67pTsRFBGRf27YMJg500wm8+ij8NFHdkck4j0KnQz26tULhzpci4gNDh2CIUPM8nPPwWWX2RpO8cvOxvnZbMKSMknp3hucZ9d4FTklOxuWzjdXRzp0c+Nb6P/hpSzJdmfz7c4vyXS7aRoWDfjbHVKx8fODadOgRQuTFEZHQ69edkcl4h0K3U1UvJO6iUpZcPvt8Omn0KyZKSRc6r/spqRA+fIArNl5GN8K5W0OSLxZWgq0rhMIwKrd6QQF5/MCKdPSslJoPTUMgMQRyVQtF2JzRMXv8cdNOaIaNWDLFqhUye6IRIpPQXODAnewSk1N5eGHH+aiiy6iWrVq9O3blyNHjhRJsCIi+fniC5MIOp3mCm+pTwRFRKRIPfssNGgABw+arqMiUohk8Nlnn2XGjBl069aNPn36sHjxYh588MHijE1EBIDjx+Ghh8zyY49BkyZ2RiMiIiVRUJC5mOhwwPTp8M03dkckYr8CX1v//PPPmTZtGn369AHgrrvu4tprr8XlcuF0OostQBGRESPMldzLLoNnnrE7GhERKamuvRYGD4bXX4f774fNm0Gja6QsK/CdwX379tGmTRvPz9dccw2+vr4cOHCgWAITEQFTG+q//zXL//2vmUVURETkfL34ItStC/v2mXGEImVZgZNBl8uFv3/OmaZ8fX3Jzs4u8qBERACSk+Hee83yQw/B365HiYiInJfg4NMXGSdPhmXLbA1HxFYF7iZqWRb9+/cnICDAsy49PZ2BAwfmqDX4+eefF22EIlJmDR8Oe/dCvXpmBjgREZGicP31MGAAvPOOuei4caNJEkXKmgIng3ffffdZ6+66664iDUZE5JRvvjFF5cEM9C9fFqsq+PuT8d9p7ErOwvIvvTXApGj4+sPzb2R5lkXy4uvjz9Pt3yHTsvB3ls0T5qWXYP58+P13ePppmDjR7ohELjzVGSwlVGdQSpPjxyEyEvbvh0cfhddeszsi+6Rmu1mdmEaQ0wd/p8PucESkFMl0WaS53FxdLYhyvgUeOVSqLFwIN91kZhhdscJMMCNSGhR5nUERkQtl6FCTCF56KYwZY3c0IiJSWt14I/TvD5YFd98NJ0/aHZHIhaVkUES8yvz5pluowwEzZkC5cnZHZKPsbHwWzKfykq9Bk3VJPrKzYcUiH1Ys8tHpIvnKdmezcs9C4vZ+Tba7bJ8wr70GtWrBzp0wcqTd0YhcWOomWkqom6iUBseOwRVXmJqCw4bBhAl2R2SzlBTPYMk1Ow/jW6EsDpyUgkpLgdZ1TO2VVbvTCdJkGJKHtKwUWk8NAyBxRDJVy4XYHJG9liyBG24wy4sWnV4WKanUTVRESpxHHzWJYIMG8MILdkcjIiJlRadO8PDDZvmee8zYdZGyQMmgiHiFL7+E998HHx/TPTQoyO6IRESkLBk/3oxV378fBg+2OxqRC0PJoIjY7sgRU+8JTG3Bli3tjUdERMqe4GD43//MRcn334c5c+yOSKT4KRkUEVtZlkkEDx2Chg3h+eftjkhERMqq1q1hxAizPGAAJCbaG49IcVMyKCK2+t//4PPPwdcXPvgAAgPtjkhERMqy55+Hxo3h8GEYONBctBQprZQMiohtdu06PS5j9Gho1szeeERERAIC4L33zEXKOXPgww/tjkik+PjaHYCIlE0uF8TEwIkTcN118Nhjdkfkhfz9yXz9TfaczMTy97c7GvFyvv7w+Lgsz7JIXnx9/Bl+3USy3Bb+Tp0wZ2rSBJ59Fp5+GgYNgnbtTC1CkdJGdQZLCdUZlJJm7Fh44gkICYENG6BuXbsj8k6p2W5WJ6YR5PTB3+mwOxwRKUUyXRZpLjdXVwuinK86i50pOxuuvRZ+/tkkg99+C06n3VGJFIzqDIqI11q7Fp55xiy/8YYSQRER8T6nxrIHB8Py5TBhgt0RiRQ9JYMickGlpcFdd5krrrfcAnffbXdEXszlwmf5MkJXfW/61YrkweWCNT/4sOYHH50uki+X20X8/u9Zd+B7XG6dMOdSv765aAnw1FMQH29vPCJFTd1ESwl1E5WSYvBgePNNCA+HTZsgLMzuiLxYSgqULw/Amp2H8a1Q3uaAxJulpUDrOmY63lW70wkKtjkg8WppWSm0nmo+gBNHJFO1XIjNEXkvy4J//Qtmz4bLLjO9W4L19yVeTt1ERcTrLFpkEkGA6dOVCIqIiPdzOGDqVLjoIvjtNxg61O6IRIqOkkERuSAOHz7dJfThh6FrV3vjERERKajKlU25iVOJ4Rdf2B2RSNFQMigixc7thv79ISEBGjWCl16yOyIREZHCuf56GD7cLN93Hxw4YG88IkVByaCIFLs33oAFCyAwEGbNgnLl7I5IRESk8F54AZo2hT//NBc53W67IxL5Z5QMikixWrv2dEH5iROhcWN74xERETlfAQHw4YcQFASLF8Nrr9kdkcg/Y3syOGnSJOrWrUtgYCBRUVGsWLEiz/bLly8nKiqKwMBA6tWrx5QpU85qM3v2bBo1akRAQACNGjVizpw5hd6vZVk899xzREREEBQURPv27dmyZUuONhkZGTzyyCOEhYURHBxMz549+eOPP3K0qVOnDg6HI8fj8ccfz9Fm79699OjRg+DgYMLCwhg8eDCZmZl5vg8iJcHJk9CnD2Rlwc03w8CBdkckIiLyzzRsaC5uAjz+OKxZY288Iv+Ercngxx9/TGxsLE8++STr1q2jTZs23HjjjezduzfX9rt27eKmm26iTZs2rFu3jieeeILBgwcze/ZsT5u4uDiio6OJiYlhw4YNxMTEcPvtt/PTTz8Var8vvfQSEydO5K233mL16tWEh4dzww03cOLECU+b2NhY5syZw6xZs1i5ciUnT56ke/fuuM4o8DR69GgOHjzoeTz11FOe51wuF926dSMlJYWVK1cya9YsZs+ezbBhw/7x+ytit0GDYPt2qFkT/vtfM/BeCsHPj8xx49n51H+w/Pzsjka8nK8fxD6bReyzWfjqdJF8+Pr4Majliwy85j/4OXXCFNaAAaZWblYWREdDUpLdEYmcH1vrDLZo0YJmzZoxefJkz7qGDRvSu3dvxo4de1b7kSNHMnfuXLZu3epZN3DgQDZs2EBcXBwA0dHRJCcns3DhQk+brl27UqlSJWbOnFmg/VqWRUREBLGxsYwcORIwdwGrV6/O+PHjGTBgAElJSVStWpX333+f6OhoAA4cOECtWrVYsGABXbp0AcydwdjYWGJjY3N9DxYuXEj37t3Zt28fERERAMyaNYv+/fuTmJhY4JqBqjMo3ubDD01xeR8fWLYM2rSxO6KSKTXbzerENIKcPvg7lU2LSNHJdFmkudxcXS2Icr62dxYrcY4fN+MHd++G226DTz7RRU/xHl5fZzAzM5P4+Hg6d+6cY33nzp1ZtWpVrq+Ji4s7q32XLl1Ys2YNWVlZebY5tc2C7HfXrl0kJCTkaBMQEEC7du08beLj48nKysrRJiIigsjIyLPiHz9+PFWqVKFJkya8+OKLObqAxsXFERkZ6UkET8WbkZFBfHx8ru8DmOQ0OTk5x0PEW+zcCQ8+aJafeUaJoIiIlD4VK5pJ0Xx94bPP4J137I5IpPBsSwaPHDmCy+WievXqOdZXr16dhISEXF+TkJCQa/vs7GyOHDmSZ5tT2yzIfk/9m18bf39/KlWqlGf8jz76KLNmzWLp0qUMGjSI1157jYceeijP36lSpUr4+/uf830AGDt2LKGhoZ5HrVq1ztlW5ELKzIQ77oATJ0wS+OSTdkdUgrlc+KxeTcj6eDij+7nImVwu2LLOwZZ1Dp0uki+X28UviWvYdjgel1snzPlq0QLGjTPLsbGwYYOt4YgUmq/dATjOuJ9uWdZZ6/Jrf+b6gmyzqNqc6cw2Q4YM8SxfeeWVVKpUidtuu81ztzC3/RRkX6NGjWLo0KGen5OTk5UQilcYPhxWr4ZKlUxXUV/bP2VKsPR0Alu3pBmwZudh8C9vd0TixTLT4a7OAQCs2p1OULDNAYlXy3Slc8/nbQG4pX4yIf4aN3i+hgyBpUth/ny4/XaIj4fy+riWEsK2O4NhYWE4nc6z7n4lJiaedafslPDw8Fzb+/r6ehKrc7U5tc2C7Dc8PBwg3zaZmZkcO3aswPEDtGzZEoAdO3acM95jx46RlZWV53YCAgKoUKFCjoeI3T79FN580yy//z7o+oSIiJR2Pj7wv/+ZydJ++80Mk7BvRg6RwrEtGfT39ycqKorFixfnWL948WJat26d62tatWp1VvtFixbRvHlz/P6aae9cbU5tsyD7rVu3LuHh4TnaZGZmsnz5ck+bqKgo/Pz8crQ5ePAgmzdvPmf8AOvWrQOgRo0anng3b97MwYMHc8QbEBBAVFTUObcj4m1++w3uvdcsP/44dOtmbzwiIiIXSpUqMHMmOJ3wwQcwY4bdEYkUjK0duIYOHUpMTAzNmzenVatWTJ06lb179zLwr2Jko0aNYv/+/bz33nuAmTn0rbfeYujQodx///3ExcUxbdo0zyyhYMbotW3blvHjx9OrVy++/PJLlixZwsqVKwu8X4fDQWxsLGPGjKF+/frUr1+fMWPGUK5cOfr27QtAaGgo9957L8OGDaNKlSpUrlyZ4cOH07hxYzp16gSYyWF+/PFHOnToQGhoKKtXr2bIkCH07NmTiy++GDAT1zRq1IiYmBhefvlljh49yvDhw7n//vt1t09KjLQ0+Ne/zDjBtm3hhRfsjkhEROTCuu46GD3ajJV/+GG45hq44gq7oxLJm63JYHR0NH/++aenDl9kZCQLFiygdu3agLnT9vfaf3Xr1mXBggUMGTKEt99+m4iICN544w1uvfVWT5vWrVsza9YsnnrqKZ5++mkuueQSPv74Y1q0aFHg/QI89thjpKWl8dBDD3Hs2DFatGjBokWLCAkJ8bR59dVX8fX15fbbbyctLY2OHTsyY8YMnE4nYLpyfvzxxzz//PNkZGRQu3Zt7r//fh577DHPNpxOJ/Pnz+ehhx7i2muvJSgoiL59+zJhwoSif8NFismgQbBxI1SrdnpmNRERkbLm8cdNOaXFi+HWW+Hnn0HX9sWb2VpnUIqO6gyKXWbMgHvuMbWVliyB66+3O6JSJCXFMwvBmp2H8a2gGQnk3NJSoHWdQEATyEj+0rJSaD01DIDEEclULReSzyukoA4fhmbN4I8/TEL46aeqPygXntfXGRSRkm/TJjhVKeX555UIioiIVK1q6g76+cHs2TBxot0RiZybOnOJyHlJTjbjBNPSoEsX1RMsFn5+ZD39DPtTsrD8NO275M3XDwaMyPYsi+TF18eP+6KeIMuy8HPqhClqLVrAa6+ZsYMjR8LVV5sx9SLeRt1ESwl1E5ULye02XV+++AIuugjWr4ewMLujKp1Ss92sTkwjyOmDv1P9jESk6GS6LNJcbq6uFkQ5X3UWK2qWBf36mdlFq1eHtWshIsLuqKSsUDdRESk2Y8eaRNDf33SBUSIoIiKSk8MB77wDjRvDoUOmIH1Wlt1RieSkZFBECmXhQnj6abP89tumK4wUE7cbx5YtlPv1F3M7ViQPbjfs3OZg5zaHThfJl9ty8/vRX9h19Bfclk6Y4lKunLloWqEC/PAD/G1CeRGvoG6ipYS6icqFsGOHGfdw/DgMGABTptgdUSmn2USlEDSbqBSGZhO9sL78Enr3NsszZ0KfPraGI2WAuomKSJE6eRJuvtkkgi1bwuuv2x2RiIhIydCrl6lBCPDvf5ux9iLeQMmgiOTLsuDee2HzZggPN11eAgLsjkpERKTk+M9/oGtXMwt3r16QmGh3RCJKBkWkAF55BT75BHx9TfFczYYmIiJSOE6n6SJavz7s3Qu33QaZmXZHJWWdkkERydPixaZGEpiuodddZ288IiIiJVXFijB3rplQZsUKePRRuyOSsk7JoIic06+/msLybjf07w8PPmh3RCIiIiXb5ZfDRx+Z0hNTpmgyNrGXkkERydXRo9CjByQlQevW5j8rh2qei4iI/GPdusGYMWb5kUfMXUIRO/jaHYCIeJ+sLFMcd/t2uPhimDNHE8bYws+PrKHDSEjNxvLzszsa8XK+ftDv4WzPskhefH38uPOqWLItCz+nThg7jBwJGzbArFlw662wejXUrm13VFLWqM5gKaE6g1KUHnoIJk+G4GBYtQquvNLuiMqu1Gw3qxPTCHL64O/UrVkRKTqZLos0l5urqwVRzledxeyQmmrG4q9bB1ddZe4QhqjkoxQB1RkUkfPy9tsmEXQ4zJgGJYIiIiLFo1w5+OILqF7d3CW84w7IzrY7KilLlAyKiMfixadnNhs7Fnr2tDeeMs/txrF7NwH79phZfETy4HbDgb0ODux16HSRfLktNweS93DwxB7clk4YO118sZlhNCgI5s+HoUPtjkjKEiWDIgLA1q1mnKDLBf36wWOP2R2RkJZGUP1LaNnyCnzS0uyORrxcRhp0iwqgW1QAGTpdJB8Z2Wnc/FFD7ph1BWlZOmHsds018P77ZvnNN81D5EJQMigiJCTATTfB8eNm5tCpUzVzqIiIyIV0660wfrxZjo01dwlFipuSQZEyLiUFuneH3bvh0kvhyy81c6iIiIgdRoyA++4z3b6jo2H9ersjktJOyaBIGZadDX36QHw8hIXBwoXmXxEREbnwHA6YNAk6djx9sXb/frujktJMyaBIGWVZZrKYefMgMNAMXr/0UrujEhERKdv8/OCzz6BhQ5MIdu8OJ07YHZWUVkoGRcqoV14xVx8dDvjgA2jVyu6IREREBKBiRTNmsFo101X0llsgM9PuqKQ0UjIoUgZ98okZlwAmKbz1VnvjERERkZzq1jUJYXAwLFkC99yjKkNS9HztDkBELqylSyEmxiwPHmxmLBMv5etL1sAHSUzLxvLVx7XkzekLt9+T7VkWyYvTx5dbr3gAl2Xh66MTxls1bw6zZ5uuoh99BDVqwIQJdkclpYnDsizL7iDkn0tOTiY0NJSkpCQqVKhgdzjipdauhfbtzdiDm2+GTz8Fp9PuqCQvqdluViemEeT0wd+peh8iUnQyXRZpLjdXVwuinK86i3mzDz44fSF3wgQYNszeeMT7FTQ30F++SBmxfTt07WoSwQ4dzBVGJYIiIiLe76674OWXzfLw4fDhh/bGI6WHkkGRMuDAAejcGQ4fhmbN4IsvzAyi4uUsCw4fxu/Pw2ZZJA+WBUePmIdOF8mPZVkcSzvM8bTDqJNYyTBsGAwZYpb794dFi2wNR0oJJYMipdyxY9CliykqX7++qSWonsQlRGoq5SLCaX1lXXxSU+2ORrxceip0bBhIx4aBpOt0kXykZ6fS9X+16f1BXVKzdMKUBA6H6SLap4+pE3zLLRAXZ3dUUtIpGRQpxVJTzaDzzZshIsJcRaxWze6oRERE5Hz4+MCMGaa3T0oK3HijKT0hcr6UDIqUUhkZcNttsGoVVKoE33wDderYHZWIiIj8EwEB8PnncN11kJRkEsNt2+yOSkoqJYMipVBWlulGsnAhBAXBvHkQGWl3VCIiIlIUgoPN/+3Nmpn5ADp1gl277I5KSiIlgyKljMsF/fqZSWICAmDuXGjd2u6oREREpCiFhppeP40awf79JiE8cMDuqKSkUTIoUoq43XDvvTBrFvj5mW4knTrZHZWIiIgUh7AwWLwY6tWD33+HG26AI0fsjkpKEiWDIqWEZcFDD8H//mfqB378Mdx0k91RiYiISHGKiIAlS8y/v/xiEsI//7Q7KikpfO0OQET+OcsytYfeecfMNPbBB3DzzXZHJf+Yry/ZMf04ku7C8tXHteTN6Qs9ol2eZZG8OH186XbZXWRbFr4+OmFKurp14dtvoV07M7top04mQaxSxe7IxNs5LFUaLRWSk5MJDQ0lKSmJCioiV6ZYFowcCS+/bH6eMQPuvtvWkKQIpWa7WZ2YRpDTB3+nw+5wRKQUyXRZpLncXF0tiHK+6ixWGvzyC3ToAImJ0LSpSQgrV7Y7KrFDQXMD/eWLlGCWBUOHnk4EJ09WIigiIlJWNWoES5eamsLr1pk7hEeP2h2VeDMlgyIllNsNjzwCr71mfp4yBQYOtDUkKWqWBSkp+KSmmGWRPFgWpKWYh04XyY9lWaRlpZCWlYI6iZUujRrBd98pIZSCUTIoUgK53fDgg/D22+BwwLRpMGCA3VFJkUtNpVzFCrSpXx2f1FS7oxEvl54KresE0rpOIOk6XSQf6dmptJ9WlRtnVCc1SydMaXPFFSYhrFpVCaHkTcmgSAnjcsH998PUqWaymBkz4N//tjsqERER8SZXXGG6jJ5KCNu3h0OH7I5KvI2SQZESxOWCe+6B//s/kwi+/74pMC8iIiJyplMJYXg4bNoEbdrA3r12RyXeRMmgSAmRkQF33GESQKfTFJbv29fuqERERMSbXXEFrFgBtWvD9u0mIdyxw+6oxFsoGRQpAU6ehB494NNPwd/f/Puvf9kdlYiIiJQEl15qEsLLLjN3Btu0gc2b7Y5KvIGSQREvd/Qo3HADLF4MwcEwf74KyouIiEjh1KoF338PV14JCQmmQP2aNXZHJXZTMijixQ4cMB/WP/4IlSrBt9+aGcFERERECqt6dTOGsEULc7H5+uvNz1J2+dodgIjkbscOc0dw926IiIBFi0y/fylDnE6yb72VY+kuLKfT7mjEy/k4oVMPl2dZJC8+DifX17sZl2Xh1AlTplSubHob9eplEsGuXeG99yA62u7IxA4OS5VGS4Xk5GRCQ0NJSkqiQoUKdocj/9C6dXDjjWYK6EsuMR/adevaHZXYITXbzerENIKcPvg7HXaHIyKlSKbLIs3l5upqQZTzVWexsiY9HWJi4LPPzM+vvgqxsbaGJEWooLmB/vJFvMzChWZg96FDpl//ypVKBEVERKRoBQaamckfecT8PGQIjBgBbre9ccmFpWRQxIu8+66ZNTQlBTp2NAO9w8PtjkpERERKI6cTXn8dxo0zP0+YYOoXZ2baG5dcOLYng5MmTaJu3boEBgYSFRXFihUr8my/fPlyoqKiCAwMpF69ekyZMuWsNrNnz6ZRo0YEBATQqFEj5syZU+j9WpbFc889R0REBEFBQbRv354tW7bkaJORkcEjjzxCWFgYwcHB9OzZkz/++MPz/O7du7n33nupW7cuQUFBXHLJJTz77LNknvEX5nA4znrk9ntJ6WVZ8OST8MADprB8v36wYAGEhtodmdgqJYVyfk7aXVQen5QUu6MRL5eWAk2rBtK0aiBpOl0kH2lZKbSYUo7275YnJVMnTFnmcMDIkfC//4GvL3z4Idx0Exw/bndkciHYmgx+/PHHxMbG8uSTT7Ju3TratGnDjTfeyN69e3Ntv2vXLm666SbatGnDunXreOKJJxg8eDCzZ8/2tImLiyM6OpqYmBg2bNhATEwMt99+Oz/99FOh9vvSSy8xceJE3nrrLVavXk14eDg33HADJ06c8LSJjY1lzpw5zJo1i5UrV3Ly5Em6d++Oy2UG8G/btg23280777zDli1bePXVV5kyZQpPPPHEWb/b9OnTOXjwoOdx9913/+P3V0qGjAzTZ3/MGPPzM8/AjBmmnqCIiIjIhdCvH3z1lSlj9e230Lo1/P673VFJcbN1ApkWLVrQrFkzJk+e7FnXsGFDevfuzdixY89qP3LkSObOncvWrVs96wYOHMiGDRuIi4sDIDo6muTkZBYuXOhp07VrVypVqsTMmTMLtF/LsoiIiCA2NpaRI0cC5i5g9erVGT9+PAMGDCApKYmqVavy/vvvE/3X9EsHDhygVq1aLFiwgC5duuT6O7/88stMnjyZ3//21+VwOJgzZw69e/cu7FvooQlkSqY//4TbboNly8zVuHfegX//2+6oxGukpED58gCs2XkY3wrlbQ5IvFlaCrSuEwjAqt3pBAXbHJB4tbSsFFpPDQMgcUQyVcuF2ByReIt168yQlf37oUoVmDPHzGUgJYvXTyCTmZlJfHw8nTt3zrG+c+fOrFq1KtfXxMXFndW+S5curFmzhqysrDzbnNpmQfa7a9cuEhIScrQJCAigXbt2njbx8fFkZWXlaBMREUFkZOQ54wdISkqicuXKZ60fNGgQYWFhXH311UyZMgV3PqN3MzIySE5OzvGQkuWXX0ydn2XLICTEFJNXIigiIiJ2atoUfv4ZoqLMReuOHU3pCSmdbEsGjxw5gsvlonr16jnWV69enYSEhFxfk5CQkGv77Oxsjhw5kmebU9ssyH5P/ZtfG39/fypVqlTg+Hfu3Mmbb77JwIEDc6x/4YUX+PTTT1myZAl9+vRh2LBhjDnVZ/Acxo4dS2hoqOdRq1atPNuLd5k3D1q2hJ07oU4d+OEHOOP6hIiIiIgtIiLMJHa33gpZWXD33fDEE5pptDSyfQIZhyNn3SzLss5al1/7M9cXZJtF1eZM52pz4MABunbtyr/+9S/uu+++HM899dRTtGrViiZNmjBs2DBGjx7Nyy+/nOd+Ro0aRVJSkuexb9++PNuLd7AsGD8eevaEEyegXTtYvRoaN7Y7MhEREZHTypWDTz4xSSDA2LFmaMvfps+QUsC2ZDAsLAyn03nWXbTExMSz7sidEh4enmt7X19fqlSpkmebU9ssyH7D/5rLP782mZmZHDt2LN/4Dxw4QIcOHWjVqhVTp07N9Xf7u5YtW5KcnMyhQ4fO2SYgIIAKFSrkeIh3S083g7Mff9wkhQMGwKJFEBZmd2QiIiIiZ/PxgRdfNN1E/f3N+MEWLeDXX+2OTIqKbcmgv78/UVFRLF68OMf6xYsX07p161xf06pVq7PaL1q0iObNm+Pn55dnm1PbLMh+69atS3h4eI42mZmZLF++3NMmKioKPz+/HG0OHjzI5s2bc8S/f/9+2rdvT7NmzZg+fTo+Pvm/5evWrSMwMJCKFSvm21ZKhj17oG1b+OADU9Nn0iSYMkUzhko+nE5cN97In9d3wXI67Y5GvJyPE67r5OK6Ti58dLpIPnwcTlpf3IWWtbrg1Akj+YiJgeXLTffRrVvhmmtg7ly7o5Ki4GvnzocOHUpMTAzNmzf33DXbu3evZ0zdqFGj2L9/P+/9NWp14MCBvPXWWwwdOpT777+fuLg4pk2b5pklFODRRx+lbdu2jB8/nl69evHll1+yZMkSVq5cWeD9OhwOYmNjGTNmDPXr16d+/fqMGTOGcuXK0bdvXwBCQ0O59957GTZsGFWqVKFy5coMHz6cxo0b06lTJ8DcEWzfvj0XX3wxEyZM4PDhw54YTt19/Oqrr0hISKBVq1YEBQWxdOlSnnzySR544AECAgKK8d2XC+Wbb6BvXzh6FCpXhs8+gw4d7I5KSoTAQDLmzmNzYhpBTtt79YuXCwiEN2dm2R2GlBABvoG8etMc0lxuAn0D7Q5HSoCWLSE+Hm6/HVasgF694Omn4bnnzB1EKZlsTQajo6P5888/GT16NAcPHiQyMpIFCxZQu3ZtwNxp+3vtv7p167JgwQKGDBnC22+/TUREBG+88Qa33nqrp03r1q2ZNWsWTz31FE8//TSXXHIJH3/8MS1atCjwfgEee+wx0tLSeOihhzh27BgtWrRg0aJFhIScnnr51VdfxdfXl9tvv520tDQ6duzIjBkzcP51BX/RokXs2LGDHTt2ULNmzRy/+6mxjn5+fkyaNImhQ4fidrupV68eo0eP5uGHHy7Cd1rs4HbDCy/A88+bbqHNm5tE8G+nmYiIiEiJER5uahAOGwZvvmm+58THm55PZ8ypKCWErXUGpeiozqB3+fNPuOsu+Ppr8/PAgfDaa6CbvVJYqdluVv91Z9DfmfcEViIihZHpskhzubm6WhDlfHVrRwrn/ffhgQfMnAh16sDHH5vuo+IdvL7OoEhp9fPP0KyZSQSDguB//4PJk5UIynlISSEoNITrLq2GT0qK3dGIl0tLgVa1A2hVO4A0nS6Sj7SsFNr9N4yu06uRkqkTRgovJgZWrYK6dWH3brjuOnj1VdMbSkoOJYMiRcTthpdegmuvhb174dJL4ccfzQyiIufLkZqKMy3V7jCkhEhPdZCeqjvIUjDp2amkZ+vzRc5f06awdu3peoRDh5qxhEeP2h2ZFJSSQZEicPAgdOkCI0dCdrapw7NmDVx5pd2RiYiIiBSfihXh00/h7bfNLOlffQVNmpi7huL9lAyK/EPz55ukb8kSU6D13XdNkdbQULsjExERESl+Dgc89JDpEXXppbBvnymp9Z//mIvk4r2UDIqcp4wMiI2F7t3hyBG46iozo9Z995kPRREREZGy5FS30TvuAJfLlJ5o2xZ27rQ7MjkXJYMi5yE+HqKi4PXXzc+PPmquhl1+ub1xiYiIiNgpJAQ+/BDeew8qVIC4OHPB/N13NbmMN1IyKFIIWVmmuGqLFrBlC1SrBvPmmbIRgarZKyIiIoLDYWYb3bgR2rWDlBRThqJnTzh0yO7o5O+UDIoU0ObNJgl8/nnT9eFf/zIJYbdudkcmpZaPD6627Tje6josH31cS94cPhDV2k1UazcOnS6SD4fDh2Y12nBVjevw0QkjxaR2bfjuO5gwwUwuM28eREaauRV0l9A7qOh8KaGi88UnOxteeQWeeQYyM6FyZZg0CaKj7Y5MygIVnReR4qKi83IhbdoEd91l7hYC9O5tZiCNiLA1rFJLRedFikB8vLkb+PjjJhHs0cPcDVQiKCIiIlJwjRvDzz+bi+u+vvDFF9CoEfzf/+kuoZ2UDIrk4uRJGDYMrrnGzIpVsSJMnw5ffgnh4XZHJyIiIlLyBASY4Tbx8dC8OSQlwb33QufOsGuX3dGVTUoGRc6wYIHpzz5xIrjdZnrkbdugf3+VjJALLCWFoBrVadW4Nj4pKXZHI14uLQU6XB5Ah8sDSNPpIvlIy0qhy4yL6fV+bVIydcLIhXXllWaW0ZdfNhPwLVlivnuNG2d6YsmFo2RQ5C/790OfPmZCmD17zKDnBQvgo4+genW7o5OyynHkCP5H/7Q7DCkhjv/p4PifumolBXM8/QhJ6fp8EXv4+sLw4adnHE1NhVGjTBmK776zO7qyQ8mglHkZGeZKVIMG8PHH4ONjuohu2QI33mh3dCIiIiKlV/36sHQp/O9/pmTXtm3QsSP07QsHD9odXemnZFDKtAULzIDmUaNMDZxWrWD1ajMFcnCw3dGJiIiIlH4OB/TrB7/+Cg8/bC7Mz5xpLtRPnKiuo8VJyaCUSTt2QPfupkvo9u1mUpj33oMffoBmzeyOTkRERKTsqVgR3nrLXJhv0QJOnDC9tSIjzSR+mnW06CkZlDLlyBF49FEzlfH8+af7q//6K8TEaIIYEREREbs1awarVsF//2vmbdi+3dQlvP56WLfO7uhKFyWDUiakpsLYsXDJJfDGG5CVBV27mgKoL78MedTiFBEREZELzMfHlJ3Yvh2eeMKUpVi2DKKi4J57zMR/8s8pGZRSzeUyxUwvu8x8kCQnQ9OmsHgxLFwIl19ud4QiefDxwRXVnOSrmmH56ONa8ubwgUZN3DRq4sah00Xy4XD40LBqMxqENcNHJ4x4sZAQePFF04urb1/TVXTGDLj0UhgxwvT6kvPnsCz1vi0NkpOTCQ0NJSkpiQq6zYXbDZ9/Ds89Z2YFBVMq4sUXTd1Afa+WkiI1283qxDSCnD74O9WPWUSKTqbLIs3l5upqQZTz1X+MUjL8+KMZ4vPDD+bnkBAYOtQ89BX4tILmBvrLl1LlVBLYtCn8618mEaxUycwOum0b3HmnEkERERGRkqplS1ixwswI37SpmWTm+eehbl0z9Cc11e4ISxZ9LZZSwbLMLFNRUXDrraaAaUgIPP007NxpZqIKDLQ7ShERERH5pxwOUwt6zRr45BMz7OfoUXjsMahXzySFJ07YHWXJoGRQSjSXCz77DJo3N7NMrV8P5cvDk0/C7t0werS5MyhSIqWmEnhpPVq0aISPLnVKPtJS4aZmAdzULIA0nS6Sj7SsVHp/cDnRMxuRmqUTRkomHx/TE2zTJpg+3QwJOnTIJIW1a5vvgceO2R2ld1MyKCVSejpMnQoNG5oPgbVrTZH4UaNMEvif/0DlynZHKfIPWRY+e/YQ+MdeFVeS/FlwcJ+Dg/scoNNF8mVx8OReDp3ci6aPkJLO1xf694fffjMTB9avb5LAZ581SeHjj5skUc6mZFBKlOPHTYmIOnVgwAAz3XClSqY76O7dMGYMVKlic5AiIiIicsH5+5uyE1u3wqxZ0Lix6S46frxJCu+///TEgmIoGZQSYft2iI2Fiy82JSIOHYJateC112DvXtMNICzM7ihFRERExG5OJ0RHm+FDX34J11wDGRmmiH1kpKk1/c036nQDSgbFi7ndphbgTTeZOoGvv26u7kRGwnvvmYlhHn3UjBEUEREREfk7Hx/o2dOUo/j+e7j5ZjP5zDffmIQwMhLefRdSUuyO1D5KBsXrJCWZxO/yy00iuHCh+cPt1g2+/trMFBoTA35+dkcqIiIiIt7O4YA2bUz5sR07Tt9M+OUXeOABuOgiGDy4bHYhVTIoXsGyTM2Yu++GGjVMl9Dt203x0CFDzIDgefOgSxfzBy0iIiIiUlj16plhRn/8YepQ161rbkS8+aa5U9imDXz4oZmssCxQMii2OnQIXnrJ3AVs29Z0/0xLgyuugEmTYP9+mDgRLr3U7khFbOBw4G7UiJTLLtdVEMmfA+o1cFOvgRt0uki+HNSt1JA6FS/Hoc8XKYNCQ00d6h07TLfRm282Yw1XroS77oKaNc0NifXr7Y60eDkszSdcKiQnJxMaGkpSUhIVKlSwO5w8pafDggXw/vvmbl92tlkfHAx9+sB990GLFvruKwKQmu1mdWIaQU4f/J36oxCRopPpskhzubm6WhDlfHV/QOTAAZg2zYwj3Lfv9Porr4R+/aBvX9ODrSQoaG6gZLCU8PZk0OWC5cvNbffZs83t+FNatjQJ4O23Q0iIfTGKeCMlgyJSXJQMiuTO5TLzVMyYAXPnQmamWe/jA507m2FNPXqYGxneqqC5ge8FjEnKGMuC+HiYOdPUejlw4PRzNWvCHXeYP6YrrrAvRhERERGRv3M6zcSF3bqZ4vUff2yGMsXFmSTx66+hXDnz/L/+ZSY89ObEMC+6M1hKeMudQZcLfvjBzNb0+ec5b7FXqmT+YPr2NYNzfXQRUiRvqam4r76atGw3W79eiW9ICf2fRi6ItFS4q7M/AB8syiSonM0BiVdLy0rlzk+vw7IsVj+wmrAg1WkSyc/27SYp/PBD2LXr9HpvTAzVTbSMsTMZzMiA774zyd+XX8Lhw6efCw42fxx33mlmAg0IuKChiZRsKSmeQpprdh7Gt4K+rMm5paVA6zqBAKzanU6QF3wZEe+VlpVC66lhACSOSKZqOY3TECmoU73fPv3UPM5MDG+4wXQj7dYNwsPtiVHdRKVY7dtn6v8tWADffgsnT55+rlIl6NULbrkFOnWCoCD74hQRERERKUoOBzRvbh7jxsHatSYp/OQTkxh++aV5AFx9tUkMe/SAq67yvgkSlQxKgWRlme6fCxaYJHDz5pzP16hhpuS95RZTIkIF4UVERESktHM4ICrKPMaOhQ0b4KuvzGP16tOPZ54xc2Z07mzuHHbsCFWr2h29kkE5B5fL1FVZutQ8VqyAEydOP+/jA61awY03mkeTJhoDKCIiIiJll8NhvhM3aQJPPw0HD5obKV99BYsXm0L3//d/5gHQtKnpRXfDDXDddfb0plMyKAC43bBp0+nk7/vv4fjxnG2qVYOuXc3A2BtugMqVbQlVRERERMTr1agB995rHmlp5vv14sXmsXEjrFtnHi+/bObVaNXKTLLYpo1ZLn8BpgpQMlhGnTwJP/8Mq1aZaXLj4szUuX9XoQK0awcdOpjHlVfq7p+IiIiISGEFBZnJFLt0MT8fOmTm3TiVHO7fD8uWmQeY8hZNm5rE8LrrzKNataKPS8lgGeB2w44dOZO/jRvN+r8LDjYn3Knkr2lT8NUZImIfhwN37dpkuizvG3Eu3scBNWpZnmWRvDmoUf5i3IBDny8iF1z16qbcWt++ZnbSX381dw5XrDCPPXtgzRrzePVV85p69eCaa8ykNNdcY76r/9MyFiotUUqcmj726NEkDhyowNq1Zmaj+Hhz+/nvs32ecvHF5hZ069bm3yZNNPGLiLdJzXazOjGNIKcP/k59YRORopPpskhzubm6WhDlfNX1R8Sb7Nt3OjFcsQK2bDm7jY8PREaeTg6bNTM/BwaqzmCZc+qABwUlkZZ29gEPDDTJ3qnEr1UruOiiCx+niBSOkkERKS5KBkVKjmPHzF3Cn382s5P+/LOZoOZMTic0bAiNGiXzySdKBsuMU8kgJBEcXIGmTc0Ut82amcfll6vLp0hJpGRQRIqLkkGRkm3//tOJ4erVpjfgn3+eejYZUDJYZpxKBtesSaJp0wqa6EWkNEhLw9WmLSnZbn79YjF+5cvZHZF4sfQ0uLenPwDT5mYSaMMU5VJypGen8e/PO+G24Id/f0+VoH848EhEbGdZJkFcvx7i4pIZMyb/ZFD3ikqZ+vU146dIqeF244xfQwXAceaMTyJnsNzwy3ofz7JIXizLzdbDawFw64QRKRUcDlPYvmZNaNsWxozJ/zVKG0RERERERMogJYMiIiIiIiJlkJJBERERERGRMsj2ZHDSpEnUrVuXwMBAoqKiWLFiRZ7tly9fTlRUFIGBgdSrV48pU6ac1Wb27Nk0atSIgIAAGjVqxJw5cwq9X8uyeO6554iIiCAoKIj27duz5YwCHxkZGTzyyCOEhYURHBxMz549+eOPP3K0OXbsGDExMYSGhhIaGkpMTAzHjx/P0Wbv3r306NGD4OBgwsLCGDx4MJmZmXm+DyIiIiIiIv+Ercngxx9/TGxsLE8++STr1q2jTZs23HjjjezduzfX9rt27eKmm26iTZs2rFu3jieeeILBgwcze/ZsT5u4uDiio6OJiYlhw4YNxMTEcPvtt/PTTz8Var8vvfQSEydO5K233mL16tWEh4dzww03cOLECU+b2NhY5syZw6xZs1i5ciUnT56ke/fuuFwuT5u+ffuyfv16vv76a77++mvWr19PTEyM53mXy0W3bt1ISUlh5cqVzJo1i9mzZzNs2LAieY9FRERERERyY2tpiRYtWtCsWTMmT57sWdewYUN69+7N2LFjz2o/cuRI5s6dy9atWz3rBg4cyIYNG4iLiwMgOjqa5ORkFi5c6GnTtWtXKlWqxMyZMwu0X8uyiIiIIDY2lpEjRwLmLmD16tUZP348AwYMICkpiapVq/L+++8THR0NwIEDB6hVqxYLFiygS5cubN26lUaNGvHjjz/SokULAH788UdatWrFtm3baNCgAQsXLqR79+7s27ePiIgIAGbNmkX//v1JTEzMcyrYvztVWiK/6WNFpARJScGqU4cst8XG1dvwrVDe7ojEi6WlwE1RAQAsiM9AlQIkL2lZKdz03uVYWGx/ZBdVy4XYHZKIFKGC5ga2lZbIzMwkPj6exx9/PMf6zp07s2rVqlxfExcXR+fOnXOs69KlC9OmTSMrKws/Pz/i4uIYMmTIWW1ee+21Au93165dJCQk5NhXQEAA7dq1Y9WqVQwYMID4+HiysrJytImIiCAyMpJVq1bRpUsX4uLiCA0N9SSCAC1btiQ0NJRVq1bRoEED4uLiiIyM9CSCp+LNyMggPj6eDh065PpeZGRkkJGR4fk5OTk513YiUoIFB5N28BCrE9PwdThwu1QWVs7NGQjfbEn3/JzpyqOxlHlOn3LM67eHbMsi2F9FKUXKKtuSwSNHjuByuahevXqO9dWrVychISHX1yQkJOTaPjs7myNHjlCjRo1ztjm1zYLs99S/ubXZs2ePp42/vz+VKlXKczvVqlU76/eoVq1ajjZn7qdSpUr4+/uf830AGDt2LM8///w5nxeR0sHHAQFOBxkui2wlgyJSxAKcDnwcdkchInaxvei8w5HzE8iyrLPW5df+zPUF2WZRtTnTmW1ya38+bc40atQohg4d6vk5OTmZWrVq5RmbiJQ8gU4fmoQF4lYeKCLFwMdhPmdEpGyyLRkMCwvD6XSedfcrMTHxrDtlp4SHh+fa3tfXlypVquTZ5tQ2C7Lf8PBwwNy1q1GjxjnbZGZmcuzYsRx3BxMTE2ndurWnzaFDh876PQ4fPpxjO3+f3AbMDKRZWVnnfB/AdFsNCAg45/MiUgqkpcGNNxIIsHAhBKkrl5zbX6cLoNNF8peWlcaNH5oTZuGdCwny0wkjUhbZdinI39+fqKgoFi9enGP94sWLPcnUmVq1anVW+0WLFtG8eXP8/PzybHNqmwXZb926dQkPD8/RJjMzk+XLl3vaREVF4efnl6PNwYMH2bx5s6dNq1atSEpK4ueff/a0+emnn0hKSsrRZvPmzRw8eDBHvAEBAURFReX6PohIGeF2w/Ll5uF22x2NeDmdLlIYbsvN8j3LWb5nOW5LJ4xImWXZaNasWZafn581bdo065dffrFiY2Ot4OBga/fu3ZZlWdbjjz9uxcTEeNr//vvvVrly5awhQ4ZYv/zyizVt2jTLz8/P+uyzzzxtfvjhB8vpdFrjxo2ztm7dao0bN87y9fW1fvzxxwLv17Isa9y4cVZoaKj1+eefW5s2bbLuuOMOq0aNGlZycrKnzcCBA62aNWtaS5YssdauXWtdf/311lVXXWVlZ2d72nTt2tW68sorrbi4OCsuLs5q3Lix1b17d8/z2dnZVmRkpNWxY0dr7dq11pIlS6yaNWtagwYNKtR7mZSUZAFWUlJSoV4nIl7s5EnLAvM4edLuaMTL6XSRwjiZcdLiOSyewzqZoRNGpLQpaG5gazJoWZb19ttvW7Vr17b8/f2tZs2aWcuXL/c8d/fdd1vt2rXL0X7ZsmVW06ZNLX9/f6tOnTrW5MmTz9rmp59+ajVo0MDy8/OzLr/8cmv27NmF2q9lWZbb7baeffZZKzw83AoICLDatm1rbdq0KUebtLQ0a9CgQVblypWtoKAgq3v37tbevXtztPnzzz+tO++80woJCbFCQkKsO++80zp27FiONnv27LG6detmBQUFWZUrV7YGDRpkpaenF+Tt81AyKFIK6du9FIJOFykMJYMipVtBcwNb6wxK0VGdQZFSKCUFyv9VW/DkSQhW4Tg5N50uUhgpmSmUH2tOmJOjThLsrxNGpDQpaG6g6aNERERERETKICWDIiIiIiIiZZDtdQZFRCQP5crZHYGUIDpdpDDK+emEESnrlAyKiHir4GAzEEykAHS6SGEE+weT8oROGJGyTt1ERUREREREyiAlgyIiIiIiImWQkkEREW+Vng7duplHerrd0YiX0+kihZGenU63j7rR7aNupGfrhBEpqzRmUETEW7lcsGDB6WWRPOh0kcJwuV0s2L7AsywiZZPuDIqIiIiIiJRBSgZFRERERETKICWDIiIiIiIiZZCSQRERERERkTJIyaCIiIiIiEgZpNlESwnLsgBITk62ORIRKTIpKaeXk5M1RaTkSaeLFEZKZgr8VVEiOTkZl79OGJHS5FROcCpHOBeHlV8LKRH++OMPatWqZXcYIiIiIiLiJfbt20fNmjXP+bySwVLC7XZz4MABQkJCcDgcdocj+UhOTqZWrVrs27ePChUq2B2OFDMd77JDx7ps0fEuO3Ssy5bScLwty+LEiRNERETg43PukYHqJlpK+Pj45Jn1i3eqUKFCif2QkcLT8S47dKzLFh3vskPHumwp6cc7NDQ03zaaQEZERERERKQMUjIoIiIiIiJSBikZFLFBQEAAzz77LAEBAXaHIheAjnfZoWNdtuh4lx061mVLWTremkBGRERERESkDNKdQRERERERkTJIyaCIiIiIiEgZpGRQRERERESkDFIyKCIiIiIiUgYpGRTJxffff0+PHj2IiIjA4XDwxRdfnLPtgAEDcDgcvPbaaznWZ2Rk8MgjjxAWFkZwcDA9e/bkjz/+yNHm2LFjxMTEEBoaSmhoKDExMRw/fjxHm71799KjRw+Cg4MJCwtj8ODBZGZm5mizadMm2rVrR1BQEBdddBGjR49Gc0MVXEGO99atW+nZsyehoaGEhITQsmVL9u7d63lex7tkyO9Ynzx5kkGDBlGzZk2CgoJo2LAhkydPztFGx7pkGDt2LFdffTUhISFUq1aN3r178+uvv+ZoY1kWzz33HBEREQQFBdG+fXu2bNmSo42Od8mQ3/HOyspi5MiRNG7cmODgYCIiIujXrx8HDhzIsR0db+9XkL/tv9P3tHxYInKWBQsWWE8++aQ1e/ZsC7DmzJmTa7s5c+ZYV111lRUREWG9+uqrOZ4bOHCgddFFF1mLFy+21q5da3Xo0MG66qqrrOzsbE+brl27WpGRkdaqVausVatWWZGRkVb37t09z2dnZ1uRkZFWhw4drLVr11qLFy+2IiIirEGDBnnaJCUlWdWrV7f69Oljbdq0yZo9e7YVEhJiTZgwoUjfk9Isv+O9Y8cOq3LlytaIESOstWvXWjt37rTmzZtnHTp0yNNGx7tkyO9Y33fffdYll1xiLV261Nq1a5f1zjvvWE6n0/riiy88bXSsS4YuXbpY06dPtzZv3mytX7/e6tatm3XxxRdbJ0+e9LQZN26cFRISYs2ePdvatGmTFR0dbdWoUcNKTk72tNHxLhnyO97Hjx+3OnXqZH388cfWtm3brLi4OKtFixZWVFRUju3oeHu/gvxtn6LvaflTMiiSj3Mlg3/88Yd10UUXWZs3b7Zq166d40Pm+PHjlp+fnzVr1izPuv3791s+Pj7W119/bVmWZf3yyy8WYP3444+eNnFxcRZgbdu2zbIs88XVx8fH2r9/v6fNzJkzrYCAACspKcmyLMuaNGmSFRoaaqWnp3vajB071oqIiLDcbneRvAdlSW7HOzo62rrrrrvO+Rod75Ipt2N9xRVXWKNHj86xrlmzZtZTTz1lWZaOdUmWmJhoAdby5csty7Ist9tthYeHW+PGjfO0SU9Pt0JDQ60pU6ZYlqXjXZKdebxz8/PPP1uAtWfPHsuydLxLqnMda31PKxh1ExU5D263m5iYGEaMGMEVV1xx1vPx8fFkZWXRuXNnz7qIiAgiIyNZtWoVAHFxcYSGhtKiRQtPm5YtWxIaGpqjTWRkJBEREZ42Xbp0ISMjg/j4eE+bdu3a5SiM2qVLFw4cOMDu3buL9Pcui9xuN/Pnz+eyyy6jS5cuVKtWjRYtWuToXqjjXXpcd911zJ07l/3792NZFkuXLuW3336jS5cugI51SZaUlARA5cqVAdi1axcJCQk5jmVAQADt2rXzHCcd75LrzON9rjYOh4OKFSsCOt4lVW7HWt/TCk7JoMh5GD9+PL6+vgwePDjX5xMSEvD396dSpUo51levXp2EhARPm2rVqp312mrVquVoU7169RzPV6pUCX9//zzbnPr5VBs5f4mJiZw8eZJx48bRtWtXFi1axM0338wtt9zC8uXLAR3v0uSNN96gUaNG1KxZE39/f7p27cqkSZO47rrrAB3rksqyLIYOHcp1111HZGQkcPo9zO09/vsx0PEueXI73mdKT0/n8ccfp2/fvlSoUAHQ8S6JznWs9T2t4HztDkCkpImPj+f1119n7dq1OByOQr3Wsqwcr8nt9UXRxvprUHJh45Ozud1uAHr16sWQIUMAaNKkCatWrWLKlCm0a9funK/V8S553njjDX788Ufmzp1L7dq1+f7773nooYeoUaMGnTp1OufrdKy926BBg9i4cSMrV64867nc3uP83l8db++W1/EGM5lMnz59cLvdTJo0Kd/t6Xh7r9yOtb6nFY7uDIoU0ooVK0hMTOTiiy/G19cXX19f9uzZw7Bhw6hTpw4A4eHhZGZmcuzYsRyvTUxM9FwNCg8P59ChQ2dt//DhwznanHnV6NixY2RlZeXZJjExETj7ircUXlhYGL6+vjRq1CjH+oYNG3pmE9XxLh3S0tJ44oknmDhxIj169ODKK69k0KBBREdHM2HCBEDHuiR65JFHmDt3LkuXLqVmzZqe9eHh4cDZV+bPPJY63iXLuY73KVlZWdx+++3s2rWLxYsXe+4Kgo53SXOuY63vaYWjZFCkkGJiYti4cSPr16/3PCIiIhgxYgTffPMNAFFRUfj5+bF48WLP6w4ePMjmzZtp3bo1AK1atSIpKYmff/7Z0+ann34iKSkpR5vNmzdz8OBBT5tFixYREBBAVFSUp83333+fYxrjRYsWERER4fnQk/Pn7+/P1Vdffda01b/99hu1a9cGdLxLi6ysLLKysvDxyflfo9Pp9Nwh1rEuOSzLYtCgQXz++ed899131K1bN8fzdevWJTw8PMexzMzMZPny5Z7jpONdcuR3vOF0Irh9+3aWLFlClSpVcjyv410y5Hes9T2tkIp/jhqRkufEiRPWunXrrHXr1lmANXHiRGvdunWeGcfOdOYsVZZlpiyuWbOmtWTJEmvt2rXW9ddfn+uUxVdeeaUVFxdnxcXFWY0bN851yuKOHTtaa9eutZYsWWLVrFkzx5TFx48ft6pXr27dcccd1qZNm6zPP//cqlChgtdMWVwS5He8P//8c8vPz8+aOnWqtX37duvNN9+0nE6ntWLFCs82dLxLhvyOdbt27awrrrjCWrp0qfX7779b06dPtwIDA61JkyZ5tqFjXTI8+OCDVmhoqLVs2TLr4MGDnkdqaqqnzbhx46zQ0FDr888/tzZt2mTdcccduZaW0PH2fvkd76ysLKtnz55WzZo1rfXr1+dok5GR4dmOjrf3K8jf9pn0Pe3clAyK5GLp0qUWcNbj7rvvzrV9bh8yaWlp1qBBg6zKlStbQUFBVvfu3a29e/fmaPPnn39ad955pxUSEmKFhIRYd955p3Xs2LEcbfbs2WN169bNCgoKsipXrmwNGjQox/TElmVZGzdutNq0aWMFBARY4eHh1nPPPecV0xWXFAU53tOmTbMuvfRSKzAw0Lrqqqty1J2zLB3vkiK/Y33w4EGrf//+VkREhBUYGGg1aNDAeuWVV3K8vzrWJUNuxxmwpk+f7mnjdrutZ5991goPD7cCAgKstm3bWps2bcqxHR3vkiG/471r165ztlm6dKlnOzre3q8gf9tn0ve0c3NY1l8jGEVERERERKTM0JhBERERERGRMkjJoIiIiIiISBmkZFBERERERKQMUjIoIiIiIiJSBikZFBERERERKYOUDIqIiIiIiJRBSgZFRERERETKICWDIiIiIiIiZZCSQRERERERkTJIyaCIiMh56N+/Pw6HA4fDgZ+fH/Xq1WP48OGkpKTYHZqIiEiB+NodgIiISEnVtWtXpk+fTlZWFitWrOC+++4jJSWFyZMn2x3aBedyuXA4HPj46DqziEhJoU9sERGR8xQQEEB4eDi1atWib9++3HnnnXzxxRd88MEHNG/enJCQEMLDw+nbty+JiYme1x07dow777yTqlWrEhQURP369Zk+fToAmZmZDBo0iBo1ahAYGEidOnUYO3as57VJSUk88MADVKtWjQoVKnD99dezYcMGz/PPPfccTZo04f3336dOnTqEhobSp08fTpw44Wlz4sQJ7rzzToKDg6lRowavvvoq7du3JzY21tMmMzOTxx57jIsuuojg4GBatGjBsmXLPM/PmDGDihUrMm/ePBo1akRAQAB79uxh2bJlXHPNNQQHB1OxYkWuvfZa9uzZUwzvvoiI/FNKBkVERIpIUFAQWVlZZGZm8sILL7Bhwwa++OILdu3aRf/+/T3tnn76aX755RcWLlzI1q1bmTx5MmFhYQC88cYbzJ07l08++YRff/2VDz74gDp16gBgWRbdunUjISGBBQsWEB8fT7NmzejYsSNHjx71bH/nzp188cUXzJs3j3nz5rF8+XLGjRvneX7o0KH88MMPzJ07l8WLF7NixQrWrl2b43e55557+OGHH5g1axYbN27kX//6F127dmX79u2eNqmpqYwdO5b//ve/bNmyhcqVK9O7d2/atWvHxo0biYuL44EHHsDhcBTDuy0iIv+UuomKiIgUgZ9//pmPPvqIjh078u9//9uzvl69erzxxhtcc801nDx5kvLly7N3716aNm1K8+bNATzJHsDevXupX78+1113HQ6Hg9q1a3ueW7p0KZs2bSIxMZGAgAAAJkyYwBdffMFnn33GAw88AIDb7WbGjBmEhIQAEBMTw7fffsuLL77IiRMn+N///ueJFWD69OlERER49rNz505mzpzJH3/84Vk/fPhwvv76a6ZPn86YMWMAyMrKYtKkSVx11VUAHD16lKSkJLp3784ll1wCQMOGDYvuTRYRkSKlZFBEROQ8zZs3j/Lly5OdnU1WVha9evXizTffZN26dTz33HOsX7+eo0eP4na7AZPoNWrUiAcffJBbb72VtWvX0rlzZ3r37k3r1q0BMzHNDTfcQIMGDejatSvdu3enc+fOAMTHx3Py5EmqVKmSI460tDR27tzp+blOnTqeRBCgRo0anm6qv//+O1lZWVxzzTWe50NDQ2nQoIHn57Vr12JZFpdddlmO/WRkZOTYt7+/P1deeaXn58qVK9O/f3+6dOnCDTfcQKdOnbj99tupUaPG+b3BIiJSrJQMioiInKcOHTowefJk/Pz8iIiIwM/Pj5SUFDp37kznzp354IMPqFq1Knv37qVLly5kZmYCcOONN7Jnzx7mz5/PkiVL6NixIw8//DATJkygWbNm7Nq1i4ULF7JkyRJuv/12OnXqxGeffYbb7aZGjRo5xu6dUrFiRc+yn59fjuccDocnIbUsy7Pu706tB3Nn0el0Eh8fj9PpzNGufPnynuWgoKCztjN9+nQGDx7M119/zccff8xTTz3F4sWLadmyZQHfVRERuVCUDIqIiJyn4OBgLr300hzrtm3bxpEjRxg3bhy1atUCYM2aNWe9tmrVqvTv35/+/fvTpk0bRowYwYQJEwCoUKEC0dHRREdHc9ttt9G1a1eOHj1Ks2bNSEhIwNfXN0fX0sK45JJL8PPz4+eff/bEl5yczPbt22nXrh0ATZs2xeVykZiYSJs2bQq9j6ZNm9K0aVNGjRpFq1at+Oijj5QMioh4ISWDIiIiRejiiy/G39+fN998k4EDB7J582ZeeOGFHG2eeeYZoqKiuOKKK8jIyGDevHmesXWvvvoqNWrUoEmTJvj4+PDpp58SHh5OxYoV6dSpE61ataJ3796MHz+eBg0acODAARYsWEDv3r09YxDzEhISwt13382IESOoXLky1apV49lnn8XHx8dzl++yyy7jzjvvpF+/frzyyis0bdqUI0eO8N1339G4cWNuuummXLe9a9cupk6dSs+ePYmIiODXX3/lt99+o1+/fv/wXRURkeKg2URFRESKUNWqVZkxYwaffvopjRo1Yty4cZ47fqf4+/szatQorrzyStq2bYvT6WTWrFmA6YY5fvx4mjdvztVXX83u3btZsGCBJ1lbsGABbdu25d///jeXXXYZffr0Yffu3VSvXr3AMU6cOJFWrVrRvXt3OnXqxLXXXkvDhg0JDAz0tJk+fTr9+vVj2LBhNGjQgJ49e/LTTz957ibmply5cmzbto1bb72Vyy67jAceeIBBgwYxYMCAQr6LIiJyITisvw8SEBERkTInJSWFiy66iFdeeYV7773X7nBEROQCUTdRERGRMmbdunVs27aNa665hqSkJEaPHg1Ar169bI5MREQuJCWDIiIiZdCECRP49ddf8ff3JyoqihUrVngK34uISNmgbqIiIiIiIiJlkCaQERERERERKYOUDIqIiIiIiJRBSgZFRERERETKICWDIiIiIiIiZZCSQRERERERkTJIyaCIiIiIiEgZpGRQRERERESkDFIyKCIiIiIiUgb9P4gyeIyrSbEYAAAAAElFTkSuQmCC",
      "text/plain": [
       "<Figure size 1000x600 with 1 Axes>"
      ]
     },
     "metadata": {},
     "output_type": "display_data"
    }
   ],
   "source": [
    "# Confidence interval values\n",
    "confidence_interval = (162453.51554746, 207860.50368331)\n",
    "\n",
    "# Creating range of values for the x-axis\n",
    "x_values = np.linspace(confidence_interval[0] - 40000, confidence_interval[1] + 40000, 2000)\n",
    "\n",
    "# Calculating probabilities for the visualisation assuming that it is normally distributed\n",
    "pdf_values = st.norm.pdf(x_values, np.mean(confidence_interval), np.std(confidence_interval))\n",
    "\n",
    "\n",
    "plt.figure(figsize=(10, 6))  # Increase the figure size for better visibility\n",
    "plt.plot(x_values, pdf_values, color='blue', label='')\n",
    "\n",
    "# shading the confidence interval\n",
    "plt.fill_betweenx(y=[0, max(pdf_values)], x1=confidence_interval[0], x2=confidence_interval[1], color='skyblue', alpha=0.4, label='90% Confidence Interval')\n",
    "\n",
    "# Add labels for confidence interval values, alpha, and mean\n",
    "plt.axvline(x=confidence_interval[0], color='red', linestyle='--', label=f'Lower CI: {confidence_interval[0]:,.2f}')\n",
    "plt.axvline(x=confidence_interval[1], color='green', linestyle='--', label=f'Upper CI: {confidence_interval[1]:,.2f}')\n",
    "plt.axvline(x=np.mean(confidence_interval), color='blue', linestyle='--', label=f'Mean: {np.mean(confidence_interval):,.2f}')\n",
    "\n",
    "# Adding labels and title\n",
    "plt.xlabel('Passengers')\n",
    "plt.ylabel('Probability Density')\n",
    "plt.title('LUAS Passengers 2020 90% Confidence Interval')\n",
    "\n",
    "# Set x-axis limits to further expand the bell\n",
    "plt.xlim([confidence_interval[0] - 40000, confidence_interval[1] + 40000])\n",
    "# Set the y-axis ticklabel_format to exclude exponent notation\n",
    "plt.ticklabel_format(style='plain', axis='y')\n",
    "\n",
    "# Show the legend\n",
    "plt.legend(loc='upper right', bbox_to_anchor=(1, 1))\n",
    "# Show the plot\n",
    "plt.show()\n"
   ]
  },
  {
   "cell_type": "markdown",
   "id": "94f629c6",
   "metadata": {},
   "source": [
    "# We want to know the average of passengers for 2021. We will use 90% confidence"
   ]
  },
  {
   "cell_type": "code",
   "execution_count": null,
   "id": "81ac8206",
   "metadata": {},
   "outputs": [],
   "source": []
  },
  {
   "cell_type": "code",
<<<<<<< HEAD
   "execution_count": 25,
=======
   "execution_count": 32,
>>>>>>> 3ec44bd10c4a910d21461cd7bb1ae014452e0064
   "id": "7e4f8f67",
   "metadata": {},
   "outputs": [
    {
     "data": {
      "text/html": [
       "<div>\n",
       "<style scoped>\n",
       "    .dataframe tbody tr th:only-of-type {\n",
       "        vertical-align: middle;\n",
       "    }\n",
       "\n",
       "    .dataframe tbody tr th {\n",
       "        vertical-align: top;\n",
       "    }\n",
       "\n",
       "    .dataframe thead th {\n",
       "        text-align: right;\n",
       "    }\n",
       "</style>\n",
       "<table border=\"1\" class=\"dataframe\">\n",
       "  <thead>\n",
       "    <tr style=\"text-align: right;\">\n",
       "      <th></th>\n",
       "      <th>VALUE</th>\n",
       "      <th>Year</th>\n",
       "    </tr>\n",
       "  </thead>\n",
       "  <tbody>\n",
       "    <tr>\n",
       "      <th>count</th>\n",
       "      <td>104.000000</td>\n",
       "      <td>104.0</td>\n",
       "    </tr>\n",
       "    <tr>\n",
       "      <th>mean</th>\n",
       "      <td>187611.134615</td>\n",
       "      <td>2021.0</td>\n",
       "    </tr>\n",
       "    <tr>\n",
       "      <th>std</th>\n",
       "      <td>82667.596263</td>\n",
       "      <td>0.0</td>\n",
       "    </tr>\n",
       "    <tr>\n",
       "      <th>min</th>\n",
       "      <td>64278.000000</td>\n",
       "      <td>2021.0</td>\n",
       "    </tr>\n",
       "    <tr>\n",
       "      <th>25%</th>\n",
       "      <td>102652.500000</td>\n",
       "      <td>2021.0</td>\n",
       "    </tr>\n",
       "    <tr>\n",
       "      <th>50%</th>\n",
       "      <td>195341.500000</td>\n",
       "      <td>2021.0</td>\n",
       "    </tr>\n",
       "    <tr>\n",
       "      <th>75%</th>\n",
       "      <td>258089.000000</td>\n",
       "      <td>2021.0</td>\n",
       "    </tr>\n",
       "    <tr>\n",
       "      <th>max</th>\n",
       "      <td>327777.000000</td>\n",
       "      <td>2021.0</td>\n",
       "    </tr>\n",
       "  </tbody>\n",
       "</table>\n",
       "</div>"
      ],
      "text/plain": [
       "               VALUE    Year\n",
       "count     104.000000   104.0\n",
       "mean   187611.134615  2021.0\n",
       "std     82667.596263     0.0\n",
       "min     64278.000000  2021.0\n",
       "25%    102652.500000  2021.0\n",
       "50%    195341.500000  2021.0\n",
       "75%    258089.000000  2021.0\n",
       "max    327777.000000  2021.0"
      ]
     },
<<<<<<< HEAD
     "execution_count": 25,
=======
     "execution_count": 32,
>>>>>>> 3ec44bd10c4a910d21461cd7bb1ae014452e0064
     "metadata": {},
     "output_type": "execute_result"
    }
   ],
   "source": [
    "sdfa_2021.describe()"
   ]
  },
  {
   "cell_type": "code",
<<<<<<< HEAD
   "execution_count": 26,
=======
   "execution_count": 35,
>>>>>>> 3ec44bd10c4a910d21461cd7bb1ae014452e0064
   "id": "c3a85774",
   "metadata": {},
   "outputs": [],
   "source": [
    "X = sdfa_2021.iloc[:,2:3].values"
   ]
  },
  {
   "cell_type": "code",
<<<<<<< HEAD
   "execution_count": 27,
=======
   "execution_count": 36,
>>>>>>> 3ec44bd10c4a910d21461cd7bb1ae014452e0064
   "id": "4ff80438",
   "metadata": {},
   "outputs": [
    {
     "data": {
      "text/plain": [
       "(array([174156.56648787]), array([201065.7027429]))"
      ]
     },
<<<<<<< HEAD
     "execution_count": 27,
=======
     "execution_count": 36,
>>>>>>> 3ec44bd10c4a910d21461cd7bb1ae014452e0064
     "metadata": {},
     "output_type": "execute_result"
    }
   ],
   "source": [
    "#We create our confidence interval using Student's T at 90% confidence\n",
    "st.t.interval(confidence=0.90, df=len(X)-1, loc= np.mean(X), scale = st.sem(X))"
   ]
  },
  {
   "cell_type": "code",
<<<<<<< HEAD
   "execution_count": 28,
=======
   "execution_count": 38,
>>>>>>> 3ec44bd10c4a910d21461cd7bb1ae014452e0064
   "id": "8f1c45f7",
   "metadata": {},
   "outputs": [
    {
     "data": {
      "image/png": "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",
      "text/plain": [
       "<Figure size 1000x600 with 1 Axes>"
      ]
     },
     "metadata": {},
     "output_type": "display_data"
    }
   ],
   "source": [
    "# Confidence interval values\n",
    "confidence_interval = (174156.56648787, 201065.7027429)\n",
    "\n",
    "# Creating range of values for the x-axis\n",
    "x_values = np.linspace(confidence_interval[0] - 30000, confidence_interval[1] + 30000, 2000)\n",
    "\n",
    "# Calculating probabilities for the visualisation assuming that it is normally distributed\n",
    "pdf_values = st.norm.pdf(x_values, np.mean(confidence_interval), np.std(confidence_interval))\n",
    "\n",
    "\n",
    "plt.figure(figsize=(10, 6))  # Increase the figure size for better visibility\n",
    "plt.plot(x_values, pdf_values, color='blue', label='')\n",
    "\n",
    "# shading the confidence interval\n",
    "plt.fill_betweenx(y=[0, max(pdf_values)], x1=confidence_interval[0], x2=confidence_interval[1], color='skyblue', alpha=0.4, label='90% Confidence Interval')\n",
    "\n",
    "# Add labels for confidence interval values, alpha, and mean\n",
    "plt.axvline(x=confidence_interval[0], color='red', linestyle='--', label=f'Lower CI: {confidence_interval[0]:,.2f}')\n",
    "plt.axvline(x=confidence_interval[1], color='green', linestyle='--', label=f'Upper CI: {confidence_interval[1]:,.2f}')\n",
    "plt.axvline(x=np.mean(confidence_interval), color='blue', linestyle='--', label=f'Mean: {np.mean(confidence_interval):,.2f}')\n",
    "\n",
    "# Adding labels and title\n",
    "plt.xlabel('Passengers')\n",
    "plt.ylabel('Probability Density')\n",
    "plt.title('LUAS Passengers 2021 90% Confidence Interval')\n",
    "\n",
    "# Set x-axis limits to further expand the bell\n",
    "plt.xlim([confidence_interval[0] - 30000, confidence_interval[1] + 30000])\n",
    "# Set the y-axis ticklabel_format to exclude exponent notation\n",
    "plt.ticklabel_format(style='plain', axis='y')\n",
    "\n",
    "# Show the legend\n",
    "plt.legend(loc='upper right', bbox_to_anchor=(1, 1))\n",
    "# Show the plot\n",
    "plt.show()\n"
   ]
  },
  {
   "cell_type": "markdown",
   "id": "47024594",
   "metadata": {},
   "source": [
    "# We want to know the average of passengers for 2022. We will use 90% confidence"
   ]
  },
  {
   "cell_type": "code",
<<<<<<< HEAD
   "execution_count": 29,
=======
   "execution_count": 47,
>>>>>>> 3ec44bd10c4a910d21461cd7bb1ae014452e0064
   "id": "3ba1db2f",
   "metadata": {},
   "outputs": [
    {
     "data": {
      "text/html": [
       "<div>\n",
       "<style scoped>\n",
       "    .dataframe tbody tr th:only-of-type {\n",
       "        vertical-align: middle;\n",
       "    }\n",
       "\n",
       "    .dataframe tbody tr th {\n",
       "        vertical-align: top;\n",
       "    }\n",
       "\n",
       "    .dataframe thead th {\n",
       "        text-align: right;\n",
       "    }\n",
       "</style>\n",
       "<table border=\"1\" class=\"dataframe\">\n",
       "  <thead>\n",
       "    <tr style=\"text-align: right;\">\n",
       "      <th></th>\n",
       "      <th>VALUE</th>\n",
       "      <th>Year</th>\n",
       "    </tr>\n",
       "  </thead>\n",
       "  <tbody>\n",
       "    <tr>\n",
       "      <th>count</th>\n",
       "      <td>104.000000</td>\n",
       "      <td>104.0</td>\n",
       "    </tr>\n",
       "    <tr>\n",
       "      <th>mean</th>\n",
       "      <td>373602.250000</td>\n",
       "      <td>2022.0</td>\n",
       "    </tr>\n",
       "    <tr>\n",
       "      <th>std</th>\n",
       "      <td>90580.590311</td>\n",
       "      <td>0.0</td>\n",
       "    </tr>\n",
       "    <tr>\n",
       "      <th>min</th>\n",
       "      <td>161546.000000</td>\n",
       "      <td>2022.0</td>\n",
       "    </tr>\n",
       "    <tr>\n",
       "      <th>25%</th>\n",
       "      <td>306127.500000</td>\n",
       "      <td>2022.0</td>\n",
       "    </tr>\n",
       "    <tr>\n",
       "      <th>50%</th>\n",
       "      <td>354642.000000</td>\n",
       "      <td>2022.0</td>\n",
       "    </tr>\n",
       "    <tr>\n",
       "      <th>75%</th>\n",
       "      <td>442544.750000</td>\n",
       "      <td>2022.0</td>\n",
       "    </tr>\n",
       "    <tr>\n",
       "      <th>max</th>\n",
       "      <td>547010.000000</td>\n",
       "      <td>2022.0</td>\n",
       "    </tr>\n",
       "  </tbody>\n",
       "</table>\n",
       "</div>"
      ],
      "text/plain": [
       "               VALUE    Year\n",
       "count     104.000000   104.0\n",
       "mean   373602.250000  2022.0\n",
       "std     90580.590311     0.0\n",
       "min    161546.000000  2022.0\n",
       "25%    306127.500000  2022.0\n",
       "50%    354642.000000  2022.0\n",
       "75%    442544.750000  2022.0\n",
       "max    547010.000000  2022.0"
      ]
     },
<<<<<<< HEAD
     "execution_count": 29,
=======
     "execution_count": 47,
>>>>>>> 3ec44bd10c4a910d21461cd7bb1ae014452e0064
     "metadata": {},
     "output_type": "execute_result"
    }
   ],
   "source": [
    "sdfa_2022.describe()"
   ]
  },
  {
   "cell_type": "code",
<<<<<<< HEAD
   "execution_count": 30,
=======
   "execution_count": 48,
>>>>>>> 3ec44bd10c4a910d21461cd7bb1ae014452e0064
   "id": "802985c4",
   "metadata": {},
   "outputs": [],
   "source": [
    "X = sdfa_2022.iloc[:,2:3].values"
   ]
  },
  {
   "cell_type": "code",
<<<<<<< HEAD
   "execution_count": 31,
=======
   "execution_count": 49,
>>>>>>> 3ec44bd10c4a910d21461cd7bb1ae014452e0064
   "id": "7b4032e5",
   "metadata": {},
   "outputs": [
    {
     "data": {
      "text/plain": [
       "(array([358859.80219134]), array([388344.69780866]))"
      ]
     },
<<<<<<< HEAD
     "execution_count": 31,
=======
     "execution_count": 49,
>>>>>>> 3ec44bd10c4a910d21461cd7bb1ae014452e0064
     "metadata": {},
     "output_type": "execute_result"
    }
   ],
   "source": [
    "#We create our confidence interval using Student's T at 90% confidence\n",
    "st.t.interval(confidence=0.90, df=len(X)-1, loc= np.mean(X), scale = st.sem(X))"
   ]
  },
  {
   "cell_type": "code",
<<<<<<< HEAD
   "execution_count": 32,
=======
   "execution_count": 55,
>>>>>>> 3ec44bd10c4a910d21461cd7bb1ae014452e0064
   "id": "5f2be651",
   "metadata": {},
   "outputs": [
    {
     "data": {
      "image/png": "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",
      "text/plain": [
       "<Figure size 1000x600 with 1 Axes>"
      ]
     },
     "metadata": {},
     "output_type": "display_data"
    }
   ],
   "source": [
    "# Confidence interval values\n",
    "confidence_interval = (358859.80219134, 388344.69780866)\n",
    "\n",
    "# Creating range of values for the x-axis\n",
    "x_values = np.linspace(confidence_interval[0] - 35000, confidence_interval[1] + 35000, 2000)\n",
    "\n",
    "# Calculating probabilities for the visualisation assuming that it is normally distributed\n",
    "pdf_values = st.norm.pdf(x_values, np.mean(confidence_interval), np.std(confidence_interval))\n",
    "\n",
    "\n",
    "plt.figure(figsize=(10, 6))  # Increase the figure size for better visibility\n",
    "plt.plot(x_values, pdf_values, color='blue', label='')\n",
    "\n",
    "# shading the confidence interval\n",
    "plt.fill_betweenx(y=[0, max(pdf_values)], x1=confidence_interval[0], x2=confidence_interval[1], color='skyblue', alpha=0.4, label='90% Confidence Interval')\n",
    "\n",
    "# Add labels for confidence interval values, alpha, and mean\n",
    "plt.axvline(x=confidence_interval[0], color='red', linestyle='--', label=f'Lower CI: {confidence_interval[0]:,.2f}')\n",
    "plt.axvline(x=confidence_interval[1], color='green', linestyle='--', label=f'Upper CI: {confidence_interval[1]:,.2f}')\n",
    "plt.axvline(x=np.mean(confidence_interval), color='blue', linestyle='--', label=f'Mean: {np.mean(confidence_interval):,.2f}')\n",
    "\n",
    "# Adding labels and title\n",
    "plt.xlabel('Passengers')\n",
    "plt.ylabel('Probability Density')\n",
    "plt.title('LUAS Passengers 2022 90% Confidence Interval')\n",
    "\n",
    "# Set x-axis limits to further expand the bell\n",
    "plt.xlim([confidence_interval[0] - 35000, confidence_interval[1] + 35000])\n",
    "# Set the y-axis ticklabel_format to exclude exponent notation\n",
    "plt.ticklabel_format(style='plain', axis='y')\n",
    "\n",
    "# Show the legend\n",
    "plt.legend(loc='upper right', bbox_to_anchor=(1, 1))\n",
    "# Show the plot\n",
    "plt.show()\n"
   ]
  },
  {
   "cell_type": "markdown",
   "id": "18c33ddf",
   "metadata": {},
   "source": [
    "# We will perform a HT to compare the average passengers between Red and Green Luas lines for 2019"
   ]
  },
  {
   "cell_type": "code",
<<<<<<< HEAD
   "execution_count": 33,
=======
   "execution_count": 69,
>>>>>>> 3ec44bd10c4a910d21461cd7bb1ae014452e0064
   "id": "d2990128",
   "metadata": {},
   "outputs": [],
   "source": [
    "R = sdfa_2019.VALUE[sdfa_2019.Luas_Line == 'Red line']\n",
    "G = sdfa_2019.VALUE[sdfa_2019.Luas_Line == 'Green line']"
   ]
  },
  {
   "cell_type": "markdown",
   "id": "a9743c18",
   "metadata": {},
   "source": [
    "We work with data from the sample, so we can use a t test to verify whether the average charges is the same for both of them.<br>\n",
    "We need x bar, we need S and the sample size to perform the hypothesis test.<br>\n",
    "H0 : mu red luas = mu green luas<br>\n",
    "H1: mu red luas != mu green luas"
   ]
  },
  {
   "cell_type": "code",
<<<<<<< HEAD
   "execution_count": 34,
=======
   "execution_count": 70,
>>>>>>> 3ec44bd10c4a910d21461cd7bb1ae014452e0064
   "id": "bea1e686",
   "metadata": {},
   "outputs": [
    {
     "data": {
      "text/plain": [
       "count        52.000000\n",
       "mean     460492.461538\n",
       "std       55856.204280\n",
       "min      259211.000000\n",
       "25%      442274.750000\n",
       "50%      462205.500000\n",
       "75%      498051.500000\n",
       "max      556229.000000\n",
       "Name: VALUE, dtype: float64"
      ]
     },
<<<<<<< HEAD
     "execution_count": 34,
=======
     "execution_count": 70,
>>>>>>> 3ec44bd10c4a910d21461cd7bb1ae014452e0064
     "metadata": {},
     "output_type": "execute_result"
    }
   ],
   "source": [
    "R.describe()"
   ]
  },
  {
   "cell_type": "code",
<<<<<<< HEAD
   "execution_count": 35,
=======
   "execution_count": 71,
>>>>>>> 3ec44bd10c4a910d21461cd7bb1ae014452e0064
   "id": "b9b89513",
   "metadata": {},
   "outputs": [
    {
     "data": {
      "text/plain": [
       "count        52.000000\n",
       "mean     465440.346154\n",
       "std       61957.199702\n",
       "min      275394.000000\n",
       "25%      440231.750000\n",
       "50%      464353.000000\n",
       "75%      500782.750000\n",
       "max      622699.000000\n",
       "Name: VALUE, dtype: float64"
      ]
     },
<<<<<<< HEAD
     "execution_count": 35,
=======
     "execution_count": 71,
>>>>>>> 3ec44bd10c4a910d21461cd7bb1ae014452e0064
     "metadata": {},
     "output_type": "execute_result"
    }
   ],
   "source": [
    "G.describe()"
   ]
  },
  {
   "cell_type": "code",
<<<<<<< HEAD
   "execution_count": 36,
=======
   "execution_count": 72,
>>>>>>> 3ec44bd10c4a910d21461cd7bb1ae014452e0064
   "id": "36f195b2",
   "metadata": {},
   "outputs": [
    {
     "data": {
      "text/plain": [
       "Ttest_indResult(statistic=-0.4277204174837884, pvalue=0.6697659703442436)"
      ]
     },
     "metadata": {},
     "output_type": "display_data"
    }
   ],
   "source": [
    "#We perform the t test for two populations\n",
    "from scipy import stats\n",
    "\n",
    "t_test = stats.ttest_ind_from_stats(mean1 = 460492.461538, std1 =55856.204280, nobs1 = 52, mean2 = 465440.346154, std2 =  61957.199702, nobs2 = 52, equal_var = False)\n",
    "\n",
    "display(t_test)"
   ]
  },
  {
   "cell_type": "markdown",
   "id": "88eca727",
   "metadata": {},
   "source": [
    "As alpha was not given, we can assume 0.05 as alpha.<br>\n",
    "As p value < alpha, then we accept H0 <br>\n",
    "Interpretation: At a 5% significance level there is enough evidence to state that 2019 average passengers<br> for red and green luas lines are similar."
   ]
  },
  {
   "cell_type": "markdown",
   "id": "ac632dcc",
   "metadata": {},
   "source": [
    "# We will perform a HT to compare the average passengers between Red and Green Luas lines for 2020"
   ]
  },
  {
   "cell_type": "code",
<<<<<<< HEAD
   "execution_count": 37,
=======
   "execution_count": 73,
>>>>>>> 3ec44bd10c4a910d21461cd7bb1ae014452e0064
   "id": "55a8881e",
   "metadata": {},
   "outputs": [],
   "source": [
    "R = sdfa_2020.VALUE[sdfa_2020.Luas_Line == 'Red line']\n",
    "G = sdfa_2020.VALUE[sdfa_2020.Luas_Line == 'Green line']"
   ]
  },
  {
   "cell_type": "markdown",
   "id": "f855458b",
   "metadata": {},
   "source": [
    "We work with data from the sample, so we can use a t test to verify whether the average charges is the same for both of them.<br>\n",
    "We need x bar, we need S and the sample size to perform the hypothesis test.<br>\n",
    "H0 : mu red luas = mu green luas<br>\n",
    "H1: mu red luas != mu green luas"
   ]
  },
  {
   "cell_type": "code",
<<<<<<< HEAD
   "execution_count": 38,
=======
   "execution_count": 74,
>>>>>>> 3ec44bd10c4a910d21461cd7bb1ae014452e0064
   "id": "bb4de9e1",
   "metadata": {},
   "outputs": [
    {
     "data": {
      "text/plain": [
       "count        52.000000\n",
       "mean     187865.211538\n",
       "std      135942.731937\n",
       "min       29666.000000\n",
       "25%      100538.500000\n",
       "50%      155910.000000\n",
       "75%      200955.000000\n",
       "max      472655.000000\n",
       "Name: VALUE, dtype: float64"
      ]
     },
<<<<<<< HEAD
     "execution_count": 38,
=======
     "execution_count": 74,
>>>>>>> 3ec44bd10c4a910d21461cd7bb1ae014452e0064
     "metadata": {},
     "output_type": "execute_result"
    }
   ],
   "source": [
    "R.describe()"
   ]
  },
  {
   "cell_type": "code",
<<<<<<< HEAD
   "execution_count": 39,
=======
   "execution_count": 75,
>>>>>>> 3ec44bd10c4a910d21461cd7bb1ae014452e0064
   "id": "2a4a9e79",
   "metadata": {},
   "outputs": [
    {
     "data": {
      "text/plain": [
       "count        52.000000\n",
       "mean     182448.807692\n",
       "std      144235.232686\n",
       "min       19727.000000\n",
       "25%       82192.250000\n",
       "50%      148967.500000\n",
       "75%      206877.250000\n",
       "max      482333.000000\n",
       "Name: VALUE, dtype: float64"
      ]
     },
<<<<<<< HEAD
     "execution_count": 39,
=======
     "execution_count": 75,
>>>>>>> 3ec44bd10c4a910d21461cd7bb1ae014452e0064
     "metadata": {},
     "output_type": "execute_result"
    }
   ],
   "source": [
    "G.describe()"
   ]
  },
  {
   "cell_type": "code",
<<<<<<< HEAD
   "execution_count": 40,
=======
   "execution_count": 78,
>>>>>>> 3ec44bd10c4a910d21461cd7bb1ae014452e0064
   "id": "221ba027",
   "metadata": {},
   "outputs": [
    {
     "data": {
      "text/plain": [
       "Ttest_indResult(statistic=0.19706232126254775, pvalue=0.8441722800045101)"
      ]
     },
     "metadata": {},
     "output_type": "display_data"
    }
   ],
   "source": [
    "#We perform the t test for two populations\n",
    "from scipy import stats\n",
    "\n",
    "t_test = stats.ttest_ind_from_stats(mean1 = 187865.211538, std1 =135942.731937, nobs1 = 52, mean2 = 182448.807692, std2 =  144235.232686, nobs2 = 52, equal_var = False)\n",
    "\n",
    "display(t_test)"
   ]
  },
  {
   "cell_type": "markdown",
   "id": "a01dd1e2",
   "metadata": {},
   "source": [
    "As alpha was not given, we can assume 0.05 as alpha.<br>\n",
    "As p value > alpha, then we reject H0 <br>\n",
    "Interpretation: At a 5% significance level there is enough evidence to state that 2020 average passengers<br> for red and green luas lines are different.\n"
   ]
  },
  {
   "cell_type": "code",
   "execution_count": null,
   "id": "fd2662f1",
   "metadata": {},
   "outputs": [],
   "source": []
  },
  {
   "cell_type": "markdown",
   "id": "f3682094",
   "metadata": {},
   "source": [
    "# 3.3.\tInferential statistics\n",
    "# 3.3.1.\tParametric\n",
    "# 3.3.1.1.\tT-test\n",
    "# 3.3.1.2.\tAnova\n",
    "# 3.3.1.3.\tChi-squared test\t\n",
    "# 3.3.2.\tNon-parametric\n",
    "# 3.3.2.1.\tKruskal-Wallis\n",
    "# 3.3.2.2.\tU-Mann Whitman\n"
   ]
  },
  {
   "cell_type": "code",
<<<<<<< HEAD
   "execution_count": 41,
   "id": "c74846ce",
   "metadata": {},
   "outputs": [],
   "source": [
    "#Getting European passengers flight data to perfom analysis in this section"
   ]
  },
  {
   "cell_type": "code",
   "execution_count": 43,
   "id": "5d218134",
   "metadata": {},
   "outputs": [],
   "source": [
    "sdf1 = pd.read_csv('estat_avia_tf_apal_en.csv', low_memory=False)"
   ]
  },
  {
   "cell_type": "code",
   "execution_count": 44,
   "id": "2e43ae5d",
   "metadata": {},
   "outputs": [
    {
     "data": {
      "text/html": [
       "<div>\n",
       "<style scoped>\n",
       "    .dataframe tbody tr th:only-of-type {\n",
       "        vertical-align: middle;\n",
       "    }\n",
       "\n",
       "    .dataframe tbody tr th {\n",
       "        vertical-align: top;\n",
       "    }\n",
       "\n",
       "    .dataframe thead th {\n",
       "        text-align: right;\n",
       "    }\n",
       "</style>\n",
       "<table border=\"1\" class=\"dataframe\">\n",
       "  <thead>\n",
       "    <tr style=\"text-align: right;\">\n",
       "      <th></th>\n",
       "      <th>DATAFLOW</th>\n",
       "      <th>LAST UPDATE</th>\n",
       "      <th>freq</th>\n",
       "      <th>unit</th>\n",
       "      <th>tra_meas</th>\n",
       "      <th>airline</th>\n",
       "      <th>rep_airp</th>\n",
       "      <th>TIME_PERIOD</th>\n",
       "      <th>OBS_VALUE</th>\n",
       "      <th>OBS_FLAG</th>\n",
       "    </tr>\n",
       "  </thead>\n",
       "  <tbody>\n",
       "    <tr>\n",
       "      <th>0</th>\n",
       "      <td>ESTAT:AVIA_TF_APAL(1.0)</td>\n",
       "      <td>28/11/23 23:00:00</td>\n",
       "      <td>A</td>\n",
       "      <td>MOVE</td>\n",
       "      <td>ACM</td>\n",
       "      <td>LIC_EU</td>\n",
       "      <td>BA_LQSA</td>\n",
       "      <td>2021</td>\n",
       "      <td>49167.0</td>\n",
       "      <td>NaN</td>\n",
       "    </tr>\n",
       "    <tr>\n",
       "      <th>1</th>\n",
       "      <td>ESTAT:AVIA_TF_APAL(1.0)</td>\n",
       "      <td>28/11/23 23:00:00</td>\n",
       "      <td>A</td>\n",
       "      <td>MOVE</td>\n",
       "      <td>ACM</td>\n",
       "      <td>LIC_EU</td>\n",
       "      <td>BA_LQTZ</td>\n",
       "      <td>2021</td>\n",
       "      <td>3019.0</td>\n",
       "      <td>NaN</td>\n",
       "    </tr>\n",
       "    <tr>\n",
       "      <th>2</th>\n",
       "      <td>ESTAT:AVIA_TF_APAL(1.0)</td>\n",
       "      <td>28/11/23 23:00:00</td>\n",
       "      <td>A</td>\n",
       "      <td>MOVE</td>\n",
       "      <td>ACM</td>\n",
       "      <td>LIC_EU</td>\n",
       "      <td>BG_LBBG</td>\n",
       "      <td>2007</td>\n",
       "      <td>6603.0</td>\n",
       "      <td>NaN</td>\n",
       "    </tr>\n",
       "    <tr>\n",
       "      <th>3</th>\n",
       "      <td>ESTAT:AVIA_TF_APAL(1.0)</td>\n",
       "      <td>28/11/23 23:00:00</td>\n",
       "      <td>A</td>\n",
       "      <td>MOVE</td>\n",
       "      <td>ACM</td>\n",
       "      <td>LIC_EU</td>\n",
       "      <td>BG_LBBG</td>\n",
       "      <td>2008</td>\n",
       "      <td>5714.0</td>\n",
       "      <td>NaN</td>\n",
       "    </tr>\n",
       "    <tr>\n",
       "      <th>4</th>\n",
       "      <td>ESTAT:AVIA_TF_APAL(1.0)</td>\n",
       "      <td>28/11/23 23:00:00</td>\n",
       "      <td>A</td>\n",
       "      <td>MOVE</td>\n",
       "      <td>ACM</td>\n",
       "      <td>LIC_EU</td>\n",
       "      <td>BG_LBBG</td>\n",
       "      <td>2009</td>\n",
       "      <td>4809.0</td>\n",
       "      <td>NaN</td>\n",
       "    </tr>\n",
       "  </tbody>\n",
       "</table>\n",
       "</div>"
      ],
      "text/plain": [
       "                  DATAFLOW        LAST UPDATE freq  unit tra_meas airline  \\\n",
       "0  ESTAT:AVIA_TF_APAL(1.0)  28/11/23 23:00:00    A  MOVE      ACM  LIC_EU   \n",
       "1  ESTAT:AVIA_TF_APAL(1.0)  28/11/23 23:00:00    A  MOVE      ACM  LIC_EU   \n",
       "2  ESTAT:AVIA_TF_APAL(1.0)  28/11/23 23:00:00    A  MOVE      ACM  LIC_EU   \n",
       "3  ESTAT:AVIA_TF_APAL(1.0)  28/11/23 23:00:00    A  MOVE      ACM  LIC_EU   \n",
       "4  ESTAT:AVIA_TF_APAL(1.0)  28/11/23 23:00:00    A  MOVE      ACM  LIC_EU   \n",
       "\n",
       "  rep_airp TIME_PERIOD  OBS_VALUE OBS_FLAG  \n",
       "0  BA_LQSA        2021    49167.0      NaN  \n",
       "1  BA_LQTZ        2021     3019.0      NaN  \n",
       "2  BG_LBBG        2007     6603.0      NaN  \n",
       "3  BG_LBBG        2008     5714.0      NaN  \n",
       "4  BG_LBBG        2009     4809.0      NaN  "
      ]
     },
     "execution_count": 44,
     "metadata": {},
     "output_type": "execute_result"
    }
   ],
   "source": [
    "sdf1.head()"
   ]
  },
  {
   "cell_type": "code",
   "execution_count": 45,
   "id": "63c71dc8",
   "metadata": {},
   "outputs": [
    {
     "name": "stdout",
     "output_type": "stream",
     "text": [
      "<class 'pandas.core.frame.DataFrame'>\n",
      "RangeIndex: 1548473 entries, 0 to 1548472\n",
      "Data columns (total 10 columns):\n",
      " #   Column       Non-Null Count    Dtype  \n",
      "---  ------       --------------    -----  \n",
      " 0   DATAFLOW     1548473 non-null  object \n",
      " 1   LAST UPDATE  1548473 non-null  object \n",
      " 2   freq         1548473 non-null  object \n",
      " 3   unit         1548473 non-null  object \n",
      " 4   tra_meas     1548473 non-null  object \n",
      " 5   airline      1548473 non-null  object \n",
      " 6   rep_airp     1548473 non-null  object \n",
      " 7   TIME_PERIOD  1548473 non-null  object \n",
      " 8   OBS_VALUE    1548473 non-null  float64\n",
      " 9   OBS_FLAG     6 non-null        object \n",
      "dtypes: float64(1), object(9)\n",
      "memory usage: 118.1+ MB\n"
     ]
    }
   ],
   "source": [
    "sdf1.info()"
   ]
  },
  {
   "cell_type": "code",
   "execution_count": 47,
   "id": "4c7a0e57",
   "metadata": {},
   "outputs": [],
   "source": [
    "import eurostat"
   ]
  },
  {
   "cell_type": "code",
   "execution_count": 48,
   "id": "12b7e460",
   "metadata": {},
   "outputs": [],
   "source": [
    "data = eurostat.get_data_df('AVIA_GOOA',True) #It takes time to load"
   ]
  },
  {
   "cell_type": "code",
   "execution_count": 53,
   "id": "24cbed47",
   "metadata": {},
   "outputs": [],
   "source": [
    "backup_data = data.copy()# backup"
   ]
  },
  {
   "cell_type": "code",
   "execution_count": 49,
   "id": "d98ae3a1",
   "metadata": {},
   "outputs": [
    {
     "data": {
      "text/html": [
       "<div>\n",
       "<style scoped>\n",
       "    .dataframe tbody tr th:only-of-type {\n",
       "        vertical-align: middle;\n",
       "    }\n",
       "\n",
       "    .dataframe tbody tr th {\n",
       "        vertical-align: top;\n",
       "    }\n",
       "\n",
       "    .dataframe thead th {\n",
       "        text-align: right;\n",
       "    }\n",
       "</style>\n",
       "<table border=\"1\" class=\"dataframe\">\n",
       "  <thead>\n",
       "    <tr style=\"text-align: right;\">\n",
       "      <th></th>\n",
       "      <th>freq</th>\n",
       "      <th>unit</th>\n",
       "      <th>tra_meas</th>\n",
       "      <th>schedule</th>\n",
       "      <th>tra_cov</th>\n",
       "      <th>rep_airp\\TIME_PERIOD</th>\n",
       "      <th>1993_value</th>\n",
       "      <th>1993_flag</th>\n",
       "      <th>1993-01_value</th>\n",
       "      <th>1993-01_flag</th>\n",
       "      <th>...</th>\n",
       "      <th>2023-09_value</th>\n",
       "      <th>2023-09_flag</th>\n",
       "      <th>2023-10_value</th>\n",
       "      <th>2023-10_flag</th>\n",
       "      <th>2023-Q1_value</th>\n",
       "      <th>2023-Q1_flag</th>\n",
       "      <th>2023-Q2_value</th>\n",
       "      <th>2023-Q2_flag</th>\n",
       "      <th>2023-Q3_value</th>\n",
       "      <th>2023-Q3_flag</th>\n",
       "    </tr>\n",
       "  </thead>\n",
       "  <tbody>\n",
       "    <tr>\n",
       "      <th>0</th>\n",
       "      <td>A</td>\n",
       "      <td>FLIGHT</td>\n",
       "      <td>CAF_FRM</td>\n",
       "      <td>N_SCHED</td>\n",
       "      <td>INTL</td>\n",
       "      <td>AT_LOWG</td>\n",
       "      <td>NaN</td>\n",
       "      <td>:</td>\n",
       "      <td>NaN</td>\n",
       "      <td>:</td>\n",
       "      <td>...</td>\n",
       "      <td>NaN</td>\n",
       "      <td>:</td>\n",
       "      <td>NaN</td>\n",
       "      <td>:</td>\n",
       "      <td>NaN</td>\n",
       "      <td>:</td>\n",
       "      <td>NaN</td>\n",
       "      <td>:</td>\n",
       "      <td>NaN</td>\n",
       "      <td>:</td>\n",
       "    </tr>\n",
       "    <tr>\n",
       "      <th>1</th>\n",
       "      <td>A</td>\n",
       "      <td>FLIGHT</td>\n",
       "      <td>CAF_FRM</td>\n",
       "      <td>N_SCHED</td>\n",
       "      <td>INTL</td>\n",
       "      <td>AT_LOWI</td>\n",
       "      <td>NaN</td>\n",
       "      <td>:</td>\n",
       "      <td>NaN</td>\n",
       "      <td>:</td>\n",
       "      <td>...</td>\n",
       "      <td>NaN</td>\n",
       "      <td>:</td>\n",
       "      <td>NaN</td>\n",
       "      <td>:</td>\n",
       "      <td>NaN</td>\n",
       "      <td>:</td>\n",
       "      <td>NaN</td>\n",
       "      <td>:</td>\n",
       "      <td>NaN</td>\n",
       "      <td>:</td>\n",
       "    </tr>\n",
       "    <tr>\n",
       "      <th>2</th>\n",
       "      <td>A</td>\n",
       "      <td>FLIGHT</td>\n",
       "      <td>CAF_FRM</td>\n",
       "      <td>N_SCHED</td>\n",
       "      <td>INTL</td>\n",
       "      <td>AT_LOWK</td>\n",
       "      <td>NaN</td>\n",
       "      <td>:</td>\n",
       "      <td>NaN</td>\n",
       "      <td>:</td>\n",
       "      <td>...</td>\n",
       "      <td>NaN</td>\n",
       "      <td>:</td>\n",
       "      <td>NaN</td>\n",
       "      <td>:</td>\n",
       "      <td>NaN</td>\n",
       "      <td>:</td>\n",
       "      <td>NaN</td>\n",
       "      <td>:</td>\n",
       "      <td>NaN</td>\n",
       "      <td>:</td>\n",
       "    </tr>\n",
       "    <tr>\n",
       "      <th>3</th>\n",
       "      <td>A</td>\n",
       "      <td>FLIGHT</td>\n",
       "      <td>CAF_FRM</td>\n",
       "      <td>N_SCHED</td>\n",
       "      <td>INTL</td>\n",
       "      <td>AT_LOWL</td>\n",
       "      <td>386.0</td>\n",
       "      <td></td>\n",
       "      <td>NaN</td>\n",
       "      <td>:</td>\n",
       "      <td>...</td>\n",
       "      <td>NaN</td>\n",
       "      <td>:</td>\n",
       "      <td>NaN</td>\n",
       "      <td>:</td>\n",
       "      <td>NaN</td>\n",
       "      <td>:</td>\n",
       "      <td>NaN</td>\n",
       "      <td>:</td>\n",
       "      <td>NaN</td>\n",
       "      <td>:</td>\n",
       "    </tr>\n",
       "    <tr>\n",
       "      <th>4</th>\n",
       "      <td>A</td>\n",
       "      <td>FLIGHT</td>\n",
       "      <td>CAF_FRM</td>\n",
       "      <td>N_SCHED</td>\n",
       "      <td>INTL</td>\n",
       "      <td>AT_LOWS</td>\n",
       "      <td>NaN</td>\n",
       "      <td>:</td>\n",
       "      <td>NaN</td>\n",
       "      <td>:</td>\n",
       "      <td>...</td>\n",
       "      <td>NaN</td>\n",
       "      <td>:</td>\n",
       "      <td>NaN</td>\n",
       "      <td>:</td>\n",
       "      <td>NaN</td>\n",
       "      <td>:</td>\n",
       "      <td>NaN</td>\n",
       "      <td>:</td>\n",
       "      <td>NaN</td>\n",
       "      <td>:</td>\n",
       "    </tr>\n",
       "  </tbody>\n",
       "</table>\n",
       "<p>5 rows × 1052 columns</p>\n",
       "</div>"
      ],
      "text/plain": [
       "  freq    unit tra_meas schedule tra_cov rep_airp\\TIME_PERIOD  1993_value  \\\n",
       "0    A  FLIGHT  CAF_FRM  N_SCHED    INTL              AT_LOWG         NaN   \n",
       "1    A  FLIGHT  CAF_FRM  N_SCHED    INTL              AT_LOWI         NaN   \n",
       "2    A  FLIGHT  CAF_FRM  N_SCHED    INTL              AT_LOWK         NaN   \n",
       "3    A  FLIGHT  CAF_FRM  N_SCHED    INTL              AT_LOWL       386.0   \n",
       "4    A  FLIGHT  CAF_FRM  N_SCHED    INTL              AT_LOWS         NaN   \n",
       "\n",
       "  1993_flag  1993-01_value 1993-01_flag  ...  2023-09_value 2023-09_flag  \\\n",
       "0         :            NaN            :  ...            NaN            :   \n",
       "1         :            NaN            :  ...            NaN            :   \n",
       "2         :            NaN            :  ...            NaN            :   \n",
       "3                      NaN            :  ...            NaN            :   \n",
       "4         :            NaN            :  ...            NaN            :   \n",
       "\n",
       "   2023-10_value 2023-10_flag  2023-Q1_value 2023-Q1_flag  2023-Q2_value  \\\n",
       "0            NaN            :            NaN            :            NaN   \n",
       "1            NaN            :            NaN            :            NaN   \n",
       "2            NaN            :            NaN            :            NaN   \n",
       "3            NaN            :            NaN            :            NaN   \n",
       "4            NaN            :            NaN            :            NaN   \n",
       "\n",
       "  2023-Q2_flag  2023-Q3_value 2023-Q3_flag  \n",
       "0            :            NaN            :  \n",
       "1            :            NaN            :  \n",
       "2            :            NaN            :  \n",
       "3            :            NaN            :  \n",
       "4            :            NaN            :  \n",
       "\n",
       "[5 rows x 1052 columns]"
      ]
     },
     "execution_count": 49,
     "metadata": {},
     "output_type": "execute_result"
    }
   ],
   "source": [
    "data.head()"
   ]
  },
  {
   "cell_type": "code",
   "execution_count": 52,
   "id": "3352f078",
   "metadata": {},
   "outputs": [
    {
     "name": "stdout",
     "output_type": "stream",
     "text": [
      "<class 'pandas.core.frame.DataFrame'>\n",
      "RangeIndex: 244131 entries, 0 to 244130\n",
      "Columns: 1052 entries, freq to 2023-Q3_flag\n",
      "dtypes: float64(523), object(529)\n",
      "memory usage: 1.9+ GB\n"
     ]
    }
   ],
   "source": [
    "data.info()"
   ]
  },
  {
   "cell_type": "code",
   "execution_count": 56,
   "id": "7b96c6e2",
   "metadata": {},
   "outputs": [],
   "source": [
    "#Tyding up this dataset\n",
    "\n",
    "col_keep = ['freq', 'unit', 'tra_meas', 'schedule', 'tra_cov', 'rep_airp\\\\TIME_PERIOD']\n",
    "\n",
    "all_col_keep = col_keep + [col for col in data.columns if '2022' in col]\n",
    "\n",
    "data_final = data[all_col_keep]"
   ]
  },
  {
   "cell_type": "code",
   "execution_count": 57,
   "id": "3f8b17b7",
   "metadata": {},
   "outputs": [
    {
     "data": {
      "text/html": [
       "<div>\n",
       "<style scoped>\n",
       "    .dataframe tbody tr th:only-of-type {\n",
       "        vertical-align: middle;\n",
       "    }\n",
       "\n",
       "    .dataframe tbody tr th {\n",
       "        vertical-align: top;\n",
       "    }\n",
       "\n",
       "    .dataframe thead th {\n",
       "        text-align: right;\n",
       "    }\n",
       "</style>\n",
       "<table border=\"1\" class=\"dataframe\">\n",
       "  <thead>\n",
       "    <tr style=\"text-align: right;\">\n",
       "      <th></th>\n",
       "      <th>freq</th>\n",
       "      <th>unit</th>\n",
       "      <th>tra_meas</th>\n",
       "      <th>schedule</th>\n",
       "      <th>tra_cov</th>\n",
       "      <th>rep_airp\\TIME_PERIOD</th>\n",
       "      <th>2022_value</th>\n",
       "      <th>2022_flag</th>\n",
       "      <th>2022-01_value</th>\n",
       "      <th>2022-01_flag</th>\n",
       "      <th>...</th>\n",
       "      <th>2022-12_value</th>\n",
       "      <th>2022-12_flag</th>\n",
       "      <th>2022-Q1_value</th>\n",
       "      <th>2022-Q1_flag</th>\n",
       "      <th>2022-Q2_value</th>\n",
       "      <th>2022-Q2_flag</th>\n",
       "      <th>2022-Q3_value</th>\n",
       "      <th>2022-Q3_flag</th>\n",
       "      <th>2022-Q4_value</th>\n",
       "      <th>2022-Q4_flag</th>\n",
       "    </tr>\n",
       "  </thead>\n",
       "  <tbody>\n",
       "    <tr>\n",
       "      <th>0</th>\n",
       "      <td>A</td>\n",
       "      <td>FLIGHT</td>\n",
       "      <td>CAF_FRM</td>\n",
       "      <td>N_SCHED</td>\n",
       "      <td>INTL</td>\n",
       "      <td>AT_LOWG</td>\n",
       "      <td>15.0</td>\n",
       "      <td></td>\n",
       "      <td>NaN</td>\n",
       "      <td>:</td>\n",
       "      <td>...</td>\n",
       "      <td>NaN</td>\n",
       "      <td>:</td>\n",
       "      <td>NaN</td>\n",
       "      <td>:</td>\n",
       "      <td>NaN</td>\n",
       "      <td>:</td>\n",
       "      <td>NaN</td>\n",
       "      <td>:</td>\n",
       "      <td>NaN</td>\n",
       "      <td>:</td>\n",
       "    </tr>\n",
       "    <tr>\n",
       "      <th>1</th>\n",
       "      <td>A</td>\n",
       "      <td>FLIGHT</td>\n",
       "      <td>CAF_FRM</td>\n",
       "      <td>N_SCHED</td>\n",
       "      <td>INTL</td>\n",
       "      <td>AT_LOWI</td>\n",
       "      <td>NaN</td>\n",
       "      <td>:</td>\n",
       "      <td>NaN</td>\n",
       "      <td>:</td>\n",
       "      <td>...</td>\n",
       "      <td>NaN</td>\n",
       "      <td>:</td>\n",
       "      <td>NaN</td>\n",
       "      <td>:</td>\n",
       "      <td>NaN</td>\n",
       "      <td>:</td>\n",
       "      <td>NaN</td>\n",
       "      <td>:</td>\n",
       "      <td>NaN</td>\n",
       "      <td>:</td>\n",
       "    </tr>\n",
       "    <tr>\n",
       "      <th>2</th>\n",
       "      <td>A</td>\n",
       "      <td>FLIGHT</td>\n",
       "      <td>CAF_FRM</td>\n",
       "      <td>N_SCHED</td>\n",
       "      <td>INTL</td>\n",
       "      <td>AT_LOWK</td>\n",
       "      <td>NaN</td>\n",
       "      <td>:</td>\n",
       "      <td>NaN</td>\n",
       "      <td>:</td>\n",
       "      <td>...</td>\n",
       "      <td>NaN</td>\n",
       "      <td>:</td>\n",
       "      <td>NaN</td>\n",
       "      <td>:</td>\n",
       "      <td>NaN</td>\n",
       "      <td>:</td>\n",
       "      <td>NaN</td>\n",
       "      <td>:</td>\n",
       "      <td>NaN</td>\n",
       "      <td>:</td>\n",
       "    </tr>\n",
       "    <tr>\n",
       "      <th>3</th>\n",
       "      <td>A</td>\n",
       "      <td>FLIGHT</td>\n",
       "      <td>CAF_FRM</td>\n",
       "      <td>N_SCHED</td>\n",
       "      <td>INTL</td>\n",
       "      <td>AT_LOWL</td>\n",
       "      <td>1126.0</td>\n",
       "      <td></td>\n",
       "      <td>NaN</td>\n",
       "      <td>:</td>\n",
       "      <td>...</td>\n",
       "      <td>NaN</td>\n",
       "      <td>:</td>\n",
       "      <td>NaN</td>\n",
       "      <td>:</td>\n",
       "      <td>NaN</td>\n",
       "      <td>:</td>\n",
       "      <td>NaN</td>\n",
       "      <td>:</td>\n",
       "      <td>NaN</td>\n",
       "      <td>:</td>\n",
       "    </tr>\n",
       "    <tr>\n",
       "      <th>4</th>\n",
       "      <td>A</td>\n",
       "      <td>FLIGHT</td>\n",
       "      <td>CAF_FRM</td>\n",
       "      <td>N_SCHED</td>\n",
       "      <td>INTL</td>\n",
       "      <td>AT_LOWS</td>\n",
       "      <td>NaN</td>\n",
       "      <td>:</td>\n",
       "      <td>NaN</td>\n",
       "      <td>:</td>\n",
       "      <td>...</td>\n",
       "      <td>NaN</td>\n",
       "      <td>:</td>\n",
       "      <td>NaN</td>\n",
       "      <td>:</td>\n",
       "      <td>NaN</td>\n",
       "      <td>:</td>\n",
       "      <td>NaN</td>\n",
       "      <td>:</td>\n",
       "      <td>NaN</td>\n",
       "      <td>:</td>\n",
       "    </tr>\n",
       "    <tr>\n",
       "      <th>...</th>\n",
       "      <td>...</td>\n",
       "      <td>...</td>\n",
       "      <td>...</td>\n",
       "      <td>...</td>\n",
       "      <td>...</td>\n",
       "      <td>...</td>\n",
       "      <td>...</td>\n",
       "      <td>...</td>\n",
       "      <td>...</td>\n",
       "      <td>...</td>\n",
       "      <td>...</td>\n",
       "      <td>...</td>\n",
       "      <td>...</td>\n",
       "      <td>...</td>\n",
       "      <td>...</td>\n",
       "      <td>...</td>\n",
       "      <td>...</td>\n",
       "      <td>...</td>\n",
       "      <td>...</td>\n",
       "      <td>...</td>\n",
       "      <td>...</td>\n",
       "    </tr>\n",
       "    <tr>\n",
       "      <th>244126</th>\n",
       "      <td>Q</td>\n",
       "      <td>T</td>\n",
       "      <td>FRM_NLD</td>\n",
       "      <td>UNK</td>\n",
       "      <td>TOTAL</td>\n",
       "      <td>PT_LPPR</td>\n",
       "      <td>NaN</td>\n",
       "      <td>:</td>\n",
       "      <td>NaN</td>\n",
       "      <td>:</td>\n",
       "      <td>...</td>\n",
       "      <td>NaN</td>\n",
       "      <td>:</td>\n",
       "      <td>NaN</td>\n",
       "      <td>:</td>\n",
       "      <td>NaN</td>\n",
       "      <td>:</td>\n",
       "      <td>NaN</td>\n",
       "      <td>:</td>\n",
       "      <td>NaN</td>\n",
       "      <td>:</td>\n",
       "    </tr>\n",
       "    <tr>\n",
       "      <th>244127</th>\n",
       "      <td>Q</td>\n",
       "      <td>T</td>\n",
       "      <td>FRM_NLD</td>\n",
       "      <td>UNK</td>\n",
       "      <td>TOTAL</td>\n",
       "      <td>PT_LPPS</td>\n",
       "      <td>NaN</td>\n",
       "      <td>:</td>\n",
       "      <td>NaN</td>\n",
       "      <td>:</td>\n",
       "      <td>...</td>\n",
       "      <td>NaN</td>\n",
       "      <td>:</td>\n",
       "      <td>NaN</td>\n",
       "      <td>:</td>\n",
       "      <td>NaN</td>\n",
       "      <td>:</td>\n",
       "      <td>NaN</td>\n",
       "      <td>:</td>\n",
       "      <td>NaN</td>\n",
       "      <td>:</td>\n",
       "    </tr>\n",
       "    <tr>\n",
       "      <th>244128</th>\n",
       "      <td>Q</td>\n",
       "      <td>T</td>\n",
       "      <td>FRM_NLD</td>\n",
       "      <td>UNK</td>\n",
       "      <td>TOTAL</td>\n",
       "      <td>PT_LPPT</td>\n",
       "      <td>NaN</td>\n",
       "      <td>:</td>\n",
       "      <td>NaN</td>\n",
       "      <td>:</td>\n",
       "      <td>...</td>\n",
       "      <td>NaN</td>\n",
       "      <td>:</td>\n",
       "      <td>NaN</td>\n",
       "      <td>:</td>\n",
       "      <td>NaN</td>\n",
       "      <td>:</td>\n",
       "      <td>NaN</td>\n",
       "      <td>:</td>\n",
       "      <td>NaN</td>\n",
       "      <td>:</td>\n",
       "    </tr>\n",
       "    <tr>\n",
       "      <th>244129</th>\n",
       "      <td>Q</td>\n",
       "      <td>T</td>\n",
       "      <td>FRM_NLD</td>\n",
       "      <td>UNK</td>\n",
       "      <td>TOTAL</td>\n",
       "      <td>PT_LPSJ</td>\n",
       "      <td>NaN</td>\n",
       "      <td>:</td>\n",
       "      <td>NaN</td>\n",
       "      <td>:</td>\n",
       "      <td>...</td>\n",
       "      <td>NaN</td>\n",
       "      <td>:</td>\n",
       "      <td>NaN</td>\n",
       "      <td>:</td>\n",
       "      <td>NaN</td>\n",
       "      <td>:</td>\n",
       "      <td>NaN</td>\n",
       "      <td>:</td>\n",
       "      <td>NaN</td>\n",
       "      <td>:</td>\n",
       "    </tr>\n",
       "    <tr>\n",
       "      <th>244130</th>\n",
       "      <td>Q</td>\n",
       "      <td>T</td>\n",
       "      <td>FRM_NLD</td>\n",
       "      <td>UNK</td>\n",
       "      <td>TOTAL</td>\n",
       "      <td>PT_LPVR</td>\n",
       "      <td>NaN</td>\n",
       "      <td>:</td>\n",
       "      <td>NaN</td>\n",
       "      <td>:</td>\n",
       "      <td>...</td>\n",
       "      <td>NaN</td>\n",
       "      <td>:</td>\n",
       "      <td>NaN</td>\n",
       "      <td>:</td>\n",
       "      <td>NaN</td>\n",
       "      <td>:</td>\n",
       "      <td>NaN</td>\n",
       "      <td>:</td>\n",
       "      <td>NaN</td>\n",
       "      <td>:</td>\n",
       "    </tr>\n",
       "  </tbody>\n",
       "</table>\n",
       "<p>244131 rows × 40 columns</p>\n",
       "</div>"
      ],
      "text/plain": [
       "       freq    unit tra_meas schedule tra_cov rep_airp\\TIME_PERIOD  \\\n",
       "0         A  FLIGHT  CAF_FRM  N_SCHED    INTL              AT_LOWG   \n",
       "1         A  FLIGHT  CAF_FRM  N_SCHED    INTL              AT_LOWI   \n",
       "2         A  FLIGHT  CAF_FRM  N_SCHED    INTL              AT_LOWK   \n",
       "3         A  FLIGHT  CAF_FRM  N_SCHED    INTL              AT_LOWL   \n",
       "4         A  FLIGHT  CAF_FRM  N_SCHED    INTL              AT_LOWS   \n",
       "...     ...     ...      ...      ...     ...                  ...   \n",
       "244126    Q       T  FRM_NLD      UNK   TOTAL              PT_LPPR   \n",
       "244127    Q       T  FRM_NLD      UNK   TOTAL              PT_LPPS   \n",
       "244128    Q       T  FRM_NLD      UNK   TOTAL              PT_LPPT   \n",
       "244129    Q       T  FRM_NLD      UNK   TOTAL              PT_LPSJ   \n",
       "244130    Q       T  FRM_NLD      UNK   TOTAL              PT_LPVR   \n",
       "\n",
       "        2022_value 2022_flag  2022-01_value 2022-01_flag  ...  2022-12_value  \\\n",
       "0             15.0                      NaN            :  ...            NaN   \n",
       "1              NaN         :            NaN            :  ...            NaN   \n",
       "2              NaN         :            NaN            :  ...            NaN   \n",
       "3           1126.0                      NaN            :  ...            NaN   \n",
       "4              NaN         :            NaN            :  ...            NaN   \n",
       "...            ...       ...            ...          ...  ...            ...   \n",
       "244126         NaN         :            NaN            :  ...            NaN   \n",
       "244127         NaN         :            NaN            :  ...            NaN   \n",
       "244128         NaN         :            NaN            :  ...            NaN   \n",
       "244129         NaN         :            NaN            :  ...            NaN   \n",
       "244130         NaN         :            NaN            :  ...            NaN   \n",
       "\n",
       "       2022-12_flag  2022-Q1_value 2022-Q1_flag  2022-Q2_value 2022-Q2_flag  \\\n",
       "0                 :            NaN            :            NaN            :   \n",
       "1                 :            NaN            :            NaN            :   \n",
       "2                 :            NaN            :            NaN            :   \n",
       "3                 :            NaN            :            NaN            :   \n",
       "4                 :            NaN            :            NaN            :   \n",
       "...             ...            ...          ...            ...          ...   \n",
       "244126            :            NaN            :            NaN            :   \n",
       "244127            :            NaN            :            NaN            :   \n",
       "244128            :            NaN            :            NaN            :   \n",
       "244129            :            NaN            :            NaN            :   \n",
       "244130            :            NaN            :            NaN            :   \n",
       "\n",
       "        2022-Q3_value 2022-Q3_flag  2022-Q4_value 2022-Q4_flag  \n",
       "0                 NaN            :            NaN            :  \n",
       "1                 NaN            :            NaN            :  \n",
       "2                 NaN            :            NaN            :  \n",
       "3                 NaN            :            NaN            :  \n",
       "4                 NaN            :            NaN            :  \n",
       "...               ...          ...            ...          ...  \n",
       "244126            NaN            :            NaN            :  \n",
       "244127            NaN            :            NaN            :  \n",
       "244128            NaN            :            NaN            :  \n",
       "244129            NaN            :            NaN            :  \n",
       "244130            NaN            :            NaN            :  \n",
       "\n",
       "[244131 rows x 40 columns]"
      ]
     },
     "execution_count": 57,
     "metadata": {},
     "output_type": "execute_result"
    }
   ],
   "source": [
    "data_final"
   ]
  },
  {
   "cell_type": "code",
   "execution_count": 58,
   "id": "f1e07847",
   "metadata": {},
   "outputs": [],
   "source": [
    "AT_LOWG_rows = data_final[data_final['rep_airp\\\\TIME_PERIOD'] == 'AT_LOWG']\n",
    "AT_LOWG_rows.to_csv('AT_LOWG_rows.csv', index=False)"
   ]
  },
  {
   "cell_type": "code",
   "execution_count": 61,
   "id": "8eb3fbaa",
   "metadata": {},
   "outputs": [],
   "source": [
    "data1 = eurostat.get_data_df('AVIA_PAOA',True) # It takes time to read\n",
    "# SET FILTERS: \"tra_meas\" = PAS_CRD, \"schedule\" = TOT, \"tra_cov\\TIME_PERIOD\" = TOTAL\n"
   ]
  },
  {
   "cell_type": "code",
   "execution_count": 62,
   "id": "0a232a07",
   "metadata": {},
   "outputs": [
    {
     "data": {
      "text/html": [
       "<div>\n",
       "<style scoped>\n",
       "    .dataframe tbody tr th:only-of-type {\n",
       "        vertical-align: middle;\n",
       "    }\n",
       "\n",
       "    .dataframe tbody tr th {\n",
       "        vertical-align: top;\n",
       "    }\n",
       "\n",
       "    .dataframe thead th {\n",
       "        text-align: right;\n",
       "    }\n",
       "</style>\n",
       "<table border=\"1\" class=\"dataframe\">\n",
       "  <thead>\n",
       "    <tr style=\"text-align: right;\">\n",
       "      <th></th>\n",
       "      <th>freq</th>\n",
       "      <th>unit</th>\n",
       "      <th>tra_meas</th>\n",
       "      <th>rep_airp</th>\n",
       "      <th>schedule</th>\n",
       "      <th>tra_cov\\TIME_PERIOD</th>\n",
       "      <th>1993_value</th>\n",
       "      <th>1993_flag</th>\n",
       "      <th>1993-01_value</th>\n",
       "      <th>1993-01_flag</th>\n",
       "      <th>...</th>\n",
       "      <th>2023-09_value</th>\n",
       "      <th>2023-09_flag</th>\n",
       "      <th>2023-10_value</th>\n",
       "      <th>2023-10_flag</th>\n",
       "      <th>2023-Q1_value</th>\n",
       "      <th>2023-Q1_flag</th>\n",
       "      <th>2023-Q2_value</th>\n",
       "      <th>2023-Q2_flag</th>\n",
       "      <th>2023-Q3_value</th>\n",
       "      <th>2023-Q3_flag</th>\n",
       "    </tr>\n",
       "  </thead>\n",
       "  <tbody>\n",
       "    <tr>\n",
       "      <th>0</th>\n",
       "      <td>A</td>\n",
       "      <td>FLIGHT</td>\n",
       "      <td>CAF_PAS</td>\n",
       "      <td>AT_LOWG</td>\n",
       "      <td>N_SCHED</td>\n",
       "      <td>INTL</td>\n",
       "      <td>1956.0</td>\n",
       "      <td></td>\n",
       "      <td>NaN</td>\n",
       "      <td>:</td>\n",
       "      <td>...</td>\n",
       "      <td>NaN</td>\n",
       "      <td>:</td>\n",
       "      <td>NaN</td>\n",
       "      <td>:</td>\n",
       "      <td>NaN</td>\n",
       "      <td>:</td>\n",
       "      <td>NaN</td>\n",
       "      <td>:</td>\n",
       "      <td>NaN</td>\n",
       "      <td>:</td>\n",
       "    </tr>\n",
       "    <tr>\n",
       "      <th>1</th>\n",
       "      <td>A</td>\n",
       "      <td>FLIGHT</td>\n",
       "      <td>CAF_PAS</td>\n",
       "      <td>AT_LOWG</td>\n",
       "      <td>N_SCHED</td>\n",
       "      <td>INTL_IEU27_2020</td>\n",
       "      <td>NaN</td>\n",
       "      <td>:</td>\n",
       "      <td>NaN</td>\n",
       "      <td>:</td>\n",
       "      <td>...</td>\n",
       "      <td>NaN</td>\n",
       "      <td>:</td>\n",
       "      <td>NaN</td>\n",
       "      <td>:</td>\n",
       "      <td>NaN</td>\n",
       "      <td>:</td>\n",
       "      <td>NaN</td>\n",
       "      <td>:</td>\n",
       "      <td>NaN</td>\n",
       "      <td>:</td>\n",
       "    </tr>\n",
       "    <tr>\n",
       "      <th>2</th>\n",
       "      <td>A</td>\n",
       "      <td>FLIGHT</td>\n",
       "      <td>CAF_PAS</td>\n",
       "      <td>AT_LOWG</td>\n",
       "      <td>N_SCHED</td>\n",
       "      <td>INTL_IEU28</td>\n",
       "      <td>1525.0</td>\n",
       "      <td></td>\n",
       "      <td>NaN</td>\n",
       "      <td>:</td>\n",
       "      <td>...</td>\n",
       "      <td>NaN</td>\n",
       "      <td>:</td>\n",
       "      <td>NaN</td>\n",
       "      <td>:</td>\n",
       "      <td>NaN</td>\n",
       "      <td>:</td>\n",
       "      <td>NaN</td>\n",
       "      <td>:</td>\n",
       "      <td>NaN</td>\n",
       "      <td>:</td>\n",
       "    </tr>\n",
       "    <tr>\n",
       "      <th>3</th>\n",
       "      <td>A</td>\n",
       "      <td>FLIGHT</td>\n",
       "      <td>CAF_PAS</td>\n",
       "      <td>AT_LOWG</td>\n",
       "      <td>N_SCHED</td>\n",
       "      <td>INTL_XEU27_2020</td>\n",
       "      <td>NaN</td>\n",
       "      <td>:</td>\n",
       "      <td>NaN</td>\n",
       "      <td>:</td>\n",
       "      <td>...</td>\n",
       "      <td>NaN</td>\n",
       "      <td>:</td>\n",
       "      <td>NaN</td>\n",
       "      <td>:</td>\n",
       "      <td>NaN</td>\n",
       "      <td>:</td>\n",
       "      <td>NaN</td>\n",
       "      <td>:</td>\n",
       "      <td>NaN</td>\n",
       "      <td>:</td>\n",
       "    </tr>\n",
       "    <tr>\n",
       "      <th>4</th>\n",
       "      <td>A</td>\n",
       "      <td>FLIGHT</td>\n",
       "      <td>CAF_PAS</td>\n",
       "      <td>AT_LOWG</td>\n",
       "      <td>N_SCHED</td>\n",
       "      <td>INTL_XEU28</td>\n",
       "      <td>431.0</td>\n",
       "      <td></td>\n",
       "      <td>NaN</td>\n",
       "      <td>:</td>\n",
       "      <td>...</td>\n",
       "      <td>NaN</td>\n",
       "      <td>:</td>\n",
       "      <td>NaN</td>\n",
       "      <td>:</td>\n",
       "      <td>NaN</td>\n",
       "      <td>:</td>\n",
       "      <td>NaN</td>\n",
       "      <td>:</td>\n",
       "      <td>NaN</td>\n",
       "      <td>:</td>\n",
       "    </tr>\n",
       "    <tr>\n",
       "      <th>...</th>\n",
       "      <td>...</td>\n",
       "      <td>...</td>\n",
       "      <td>...</td>\n",
       "      <td>...</td>\n",
       "      <td>...</td>\n",
       "      <td>...</td>\n",
       "      <td>...</td>\n",
       "      <td>...</td>\n",
       "      <td>...</td>\n",
       "      <td>...</td>\n",
       "      <td>...</td>\n",
       "      <td>...</td>\n",
       "      <td>...</td>\n",
       "      <td>...</td>\n",
       "      <td>...</td>\n",
       "      <td>...</td>\n",
       "      <td>...</td>\n",
       "      <td>...</td>\n",
       "      <td>...</td>\n",
       "      <td>...</td>\n",
       "      <td>...</td>\n",
       "    </tr>\n",
       "    <tr>\n",
       "      <th>277197</th>\n",
       "      <td>Q</td>\n",
       "      <td>PAS</td>\n",
       "      <td>PAS_CRD_DEP</td>\n",
       "      <td>UK_EGTK</td>\n",
       "      <td>TOT</td>\n",
       "      <td>INTL</td>\n",
       "      <td>NaN</td>\n",
       "      <td>:</td>\n",
       "      <td>NaN</td>\n",
       "      <td>:</td>\n",
       "      <td>...</td>\n",
       "      <td>NaN</td>\n",
       "      <td>:</td>\n",
       "      <td>NaN</td>\n",
       "      <td>:</td>\n",
       "      <td>NaN</td>\n",
       "      <td>:</td>\n",
       "      <td>NaN</td>\n",
       "      <td>:</td>\n",
       "      <td>NaN</td>\n",
       "      <td>:</td>\n",
       "    </tr>\n",
       "    <tr>\n",
       "      <th>277198</th>\n",
       "      <td>Q</td>\n",
       "      <td>PAS</td>\n",
       "      <td>PAS_CRD_DEP</td>\n",
       "      <td>UK_EGTK</td>\n",
       "      <td>TOT</td>\n",
       "      <td>INTL_IEU28</td>\n",
       "      <td>NaN</td>\n",
       "      <td>:</td>\n",
       "      <td>NaN</td>\n",
       "      <td>:</td>\n",
       "      <td>...</td>\n",
       "      <td>NaN</td>\n",
       "      <td>:</td>\n",
       "      <td>NaN</td>\n",
       "      <td>:</td>\n",
       "      <td>NaN</td>\n",
       "      <td>:</td>\n",
       "      <td>NaN</td>\n",
       "      <td>:</td>\n",
       "      <td>NaN</td>\n",
       "      <td>:</td>\n",
       "    </tr>\n",
       "    <tr>\n",
       "      <th>277199</th>\n",
       "      <td>Q</td>\n",
       "      <td>PAS</td>\n",
       "      <td>PAS_CRD_DEP</td>\n",
       "      <td>UK_EGTK</td>\n",
       "      <td>TOT</td>\n",
       "      <td>INTL_XEU28</td>\n",
       "      <td>NaN</td>\n",
       "      <td>:</td>\n",
       "      <td>NaN</td>\n",
       "      <td>:</td>\n",
       "      <td>...</td>\n",
       "      <td>NaN</td>\n",
       "      <td>:</td>\n",
       "      <td>NaN</td>\n",
       "      <td>:</td>\n",
       "      <td>NaN</td>\n",
       "      <td>:</td>\n",
       "      <td>NaN</td>\n",
       "      <td>:</td>\n",
       "      <td>NaN</td>\n",
       "      <td>:</td>\n",
       "    </tr>\n",
       "    <tr>\n",
       "      <th>277200</th>\n",
       "      <td>Q</td>\n",
       "      <td>PAS</td>\n",
       "      <td>PAS_CRD_DEP</td>\n",
       "      <td>UK_EGTK</td>\n",
       "      <td>TOT</td>\n",
       "      <td>NAT</td>\n",
       "      <td>NaN</td>\n",
       "      <td>:</td>\n",
       "      <td>NaN</td>\n",
       "      <td>:</td>\n",
       "      <td>...</td>\n",
       "      <td>NaN</td>\n",
       "      <td>:</td>\n",
       "      <td>NaN</td>\n",
       "      <td>:</td>\n",
       "      <td>NaN</td>\n",
       "      <td>:</td>\n",
       "      <td>NaN</td>\n",
       "      <td>:</td>\n",
       "      <td>NaN</td>\n",
       "      <td>:</td>\n",
       "    </tr>\n",
       "    <tr>\n",
       "      <th>277201</th>\n",
       "      <td>Q</td>\n",
       "      <td>PAS</td>\n",
       "      <td>PAS_CRD_DEP</td>\n",
       "      <td>UK_EGTK</td>\n",
       "      <td>TOT</td>\n",
       "      <td>TOTAL</td>\n",
       "      <td>NaN</td>\n",
       "      <td>:</td>\n",
       "      <td>NaN</td>\n",
       "      <td>:</td>\n",
       "      <td>...</td>\n",
       "      <td>NaN</td>\n",
       "      <td>:</td>\n",
       "      <td>NaN</td>\n",
       "      <td>:</td>\n",
       "      <td>NaN</td>\n",
       "      <td>:</td>\n",
       "      <td>NaN</td>\n",
       "      <td>:</td>\n",
       "      <td>NaN</td>\n",
       "      <td>:</td>\n",
       "    </tr>\n",
       "  </tbody>\n",
       "</table>\n",
       "<p>277202 rows × 1052 columns</p>\n",
       "</div>"
      ],
      "text/plain": [
       "       freq    unit     tra_meas rep_airp schedule tra_cov\\TIME_PERIOD  \\\n",
       "0         A  FLIGHT      CAF_PAS  AT_LOWG  N_SCHED                INTL   \n",
       "1         A  FLIGHT      CAF_PAS  AT_LOWG  N_SCHED     INTL_IEU27_2020   \n",
       "2         A  FLIGHT      CAF_PAS  AT_LOWG  N_SCHED          INTL_IEU28   \n",
       "3         A  FLIGHT      CAF_PAS  AT_LOWG  N_SCHED     INTL_XEU27_2020   \n",
       "4         A  FLIGHT      CAF_PAS  AT_LOWG  N_SCHED          INTL_XEU28   \n",
       "...     ...     ...          ...      ...      ...                 ...   \n",
       "277197    Q     PAS  PAS_CRD_DEP  UK_EGTK      TOT                INTL   \n",
       "277198    Q     PAS  PAS_CRD_DEP  UK_EGTK      TOT          INTL_IEU28   \n",
       "277199    Q     PAS  PAS_CRD_DEP  UK_EGTK      TOT          INTL_XEU28   \n",
       "277200    Q     PAS  PAS_CRD_DEP  UK_EGTK      TOT                 NAT   \n",
       "277201    Q     PAS  PAS_CRD_DEP  UK_EGTK      TOT               TOTAL   \n",
       "\n",
       "        1993_value 1993_flag  1993-01_value 1993-01_flag  ...  2023-09_value  \\\n",
       "0           1956.0                      NaN            :  ...            NaN   \n",
       "1              NaN         :            NaN            :  ...            NaN   \n",
       "2           1525.0                      NaN            :  ...            NaN   \n",
       "3              NaN         :            NaN            :  ...            NaN   \n",
       "4            431.0                      NaN            :  ...            NaN   \n",
       "...            ...       ...            ...          ...  ...            ...   \n",
       "277197         NaN         :            NaN            :  ...            NaN   \n",
       "277198         NaN         :            NaN            :  ...            NaN   \n",
       "277199         NaN         :            NaN            :  ...            NaN   \n",
       "277200         NaN         :            NaN            :  ...            NaN   \n",
       "277201         NaN         :            NaN            :  ...            NaN   \n",
       "\n",
       "       2023-09_flag  2023-10_value 2023-10_flag  2023-Q1_value 2023-Q1_flag  \\\n",
       "0                 :            NaN            :            NaN            :   \n",
       "1                 :            NaN            :            NaN            :   \n",
       "2                 :            NaN            :            NaN            :   \n",
       "3                 :            NaN            :            NaN            :   \n",
       "4                 :            NaN            :            NaN            :   \n",
       "...             ...            ...          ...            ...          ...   \n",
       "277197            :            NaN            :            NaN            :   \n",
       "277198            :            NaN            :            NaN            :   \n",
       "277199            :            NaN            :            NaN            :   \n",
       "277200            :            NaN            :            NaN            :   \n",
       "277201            :            NaN            :            NaN            :   \n",
       "\n",
       "        2023-Q2_value 2023-Q2_flag  2023-Q3_value 2023-Q3_flag  \n",
       "0                 NaN            :            NaN            :  \n",
       "1                 NaN            :            NaN            :  \n",
       "2                 NaN            :            NaN            :  \n",
       "3                 NaN            :            NaN            :  \n",
       "4                 NaN            :            NaN            :  \n",
       "...               ...          ...            ...          ...  \n",
       "277197            NaN            :            NaN            :  \n",
       "277198            NaN            :            NaN            :  \n",
       "277199            NaN            :            NaN            :  \n",
       "277200            NaN            :            NaN            :  \n",
       "277201            NaN            :            NaN            :  \n",
       "\n",
       "[277202 rows x 1052 columns]"
      ]
     },
     "execution_count": 62,
     "metadata": {},
     "output_type": "execute_result"
    }
   ],
   "source": [
    "data1"
   ]
  },
  {
   "cell_type": "code",
   "execution_count": 63,
   "id": "900c20e1",
   "metadata": {},
   "outputs": [],
   "source": [
    "IE_EIDW_rows = data1[data1['rep_airp'] == 'IE_EIDW']\n",
    "IE_EIDW_rows.to_csv('IE_EIDW_rows.csv', index=False)"
   ]
  },
  {
   "cell_type": "code",
   "execution_count": null,
   "id": "d8098de8",
=======
   "execution_count": null,
   "id": "c74846ce",
>>>>>>> 3ec44bd10c4a910d21461cd7bb1ae014452e0064
   "metadata": {},
   "outputs": [],
   "source": []
  }
 ],
 "metadata": {
  "kernelspec": {
   "display_name": "Python 3 (ipykernel)",
   "language": "python",
   "name": "python3"
  },
  "language_info": {
   "codemirror_mode": {
    "name": "ipython",
    "version": 3
   },
   "file_extension": ".py",
   "mimetype": "text/x-python",
   "name": "python",
   "nbconvert_exporter": "python",
   "pygments_lexer": "ipython3",
   "version": "3.11.5"
  }
 },
 "nbformat": 4,
 "nbformat_minor": 5
}
