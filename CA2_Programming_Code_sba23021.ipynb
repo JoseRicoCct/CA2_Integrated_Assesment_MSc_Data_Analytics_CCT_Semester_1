{
 "cells": [
  {
   "cell_type": "code",
   "execution_count": 82,
   "id": "7fc7dd28",
   "metadata": {},
   "outputs": [],
   "source": [
    "import pandas as pd\n",
    "import requests\n",
    "import matplotlib.pyplot as plt\n",
    "import matplotlib.image as mpimg\n",
    "import eurostat"
   ]
  },
  {
   "cell_type": "markdown",
   "id": "67b55899",
   "metadata": {},
   "source": [
    "# 1. Programming\n",
    "\n",
    "The project must be explored programmatically: this means that you must implement suitable Python tools (code and/or libraries) to complete the analysis required. All of this is to be implemented in a Jupyter Notebook.\n",
    "\n",
    "[0-20]"
   ]
  },
  {
   "cell_type": "markdown",
   "id": "2ab7054c",
   "metadata": {},
   "source": [
    "## Answer\n",
    "\n",
    "I organized the project into five Jupyter Notebooks: `CA2_ML_Code.ipynb`, `CA2_Programming_Code.ipynb`, `CA2_Statistics_Code.ipynb`, and `CA2_Data_Visualisation.ipynb`. The project is programmatically explored using Python, emphasizing modularity and narrative-style programming.\n"
   ]
  },
  {
   "cell_type": "markdown",
   "id": "feb37a77",
   "metadata": {},
   "source": [
    "# 2. Data Structures\n",
    "\n",
    "You are required to gather and process data that has been stored in at least two distinct formats. For example, this can be data in a CSV file, from a MySQL database, or from a web API in JSON format.\n",
    "\n",
    "\\[0-20\\]\n"
   ]
  },
  {
   "cell_type": "markdown",
   "id": "e963ffa2",
   "metadata": {},
   "source": [
    "# Formats\n",
    "## From a CSV file:"
   ]
  },
  {
   "cell_type": "code",
   "execution_count": 23,
   "id": "883e2f11",
   "metadata": {},
   "outputs": [],
   "source": [
    "# Passenger Journeys by Luas\n",
    "# Source: https://data.gov.ie/dataset/tii03-passenger-journeys-by-luas\n",
    "# Unit: Weekly passenger number\n",
    "# Licence: https://creativecommons.org/licenses/by/4.0/\n",
    "prdf = pd.read_csv('TII03.20231227215009.csv')"
   ]
  },
  {
   "cell_type": "code",
   "execution_count": 24,
   "id": "4d1cbcf4",
   "metadata": {},
   "outputs": [
    {
     "data": {
      "text/html": [
       "<div>\n",
       "<style scoped>\n",
       "    .dataframe tbody tr th:only-of-type {\n",
       "        vertical-align: middle;\n",
       "    }\n",
       "\n",
       "    .dataframe tbody tr th {\n",
       "        vertical-align: top;\n",
       "    }\n",
       "\n",
       "    .dataframe thead th {\n",
       "        text-align: right;\n",
       "    }\n",
       "</style>\n",
       "<table border=\"1\" class=\"dataframe\">\n",
       "  <thead>\n",
       "    <tr style=\"text-align: right;\">\n",
       "      <th></th>\n",
       "      <th>STATISTIC</th>\n",
       "      <th>Statistic Label</th>\n",
       "      <th>TLIST(W1)</th>\n",
       "      <th>Week</th>\n",
       "      <th>C03132V03784</th>\n",
       "      <th>Luas Line</th>\n",
       "      <th>UNIT</th>\n",
       "      <th>VALUE</th>\n",
       "    </tr>\n",
       "  </thead>\n",
       "  <tbody>\n",
       "    <tr>\n",
       "      <th>0</th>\n",
       "      <td>TII03C01</td>\n",
       "      <td>Passenger Journeys</td>\n",
       "      <td>2019W01</td>\n",
       "      <td>2019 Week 01</td>\n",
       "      <td>-</td>\n",
       "      <td>All Luas lines</td>\n",
       "      <td>Number</td>\n",
       "      <td>549533.0</td>\n",
       "    </tr>\n",
       "    <tr>\n",
       "      <th>1</th>\n",
       "      <td>TII03C01</td>\n",
       "      <td>Passenger Journeys</td>\n",
       "      <td>2019W01</td>\n",
       "      <td>2019 Week 01</td>\n",
       "      <td>1</td>\n",
       "      <td>Red line</td>\n",
       "      <td>Number</td>\n",
       "      <td>274139.0</td>\n",
       "    </tr>\n",
       "    <tr>\n",
       "      <th>2</th>\n",
       "      <td>TII03C01</td>\n",
       "      <td>Passenger Journeys</td>\n",
       "      <td>2019W01</td>\n",
       "      <td>2019 Week 01</td>\n",
       "      <td>2</td>\n",
       "      <td>Green line</td>\n",
       "      <td>Number</td>\n",
       "      <td>275394.0</td>\n",
       "    </tr>\n",
       "    <tr>\n",
       "      <th>3</th>\n",
       "      <td>TII03C01</td>\n",
       "      <td>Passenger Journeys</td>\n",
       "      <td>2019W02</td>\n",
       "      <td>2019 Week 02</td>\n",
       "      <td>-</td>\n",
       "      <td>All Luas lines</td>\n",
       "      <td>Number</td>\n",
       "      <td>839022.0</td>\n",
       "    </tr>\n",
       "    <tr>\n",
       "      <th>4</th>\n",
       "      <td>TII03C01</td>\n",
       "      <td>Passenger Journeys</td>\n",
       "      <td>2019W02</td>\n",
       "      <td>2019 Week 02</td>\n",
       "      <td>1</td>\n",
       "      <td>Red line</td>\n",
       "      <td>Number</td>\n",
       "      <td>408199.0</td>\n",
       "    </tr>\n",
       "  </tbody>\n",
       "</table>\n",
       "</div>"
      ],
      "text/plain": [
       "  STATISTIC     Statistic Label TLIST(W1)          Week C03132V03784  \\\n",
       "0  TII03C01  Passenger Journeys   2019W01  2019 Week 01            -   \n",
       "1  TII03C01  Passenger Journeys   2019W01  2019 Week 01            1   \n",
       "2  TII03C01  Passenger Journeys   2019W01  2019 Week 01            2   \n",
       "3  TII03C01  Passenger Journeys   2019W02  2019 Week 02            -   \n",
       "4  TII03C01  Passenger Journeys   2019W02  2019 Week 02            1   \n",
       "\n",
       "        Luas Line    UNIT     VALUE  \n",
       "0  All Luas lines  Number  549533.0  \n",
       "1        Red line  Number  274139.0  \n",
       "2      Green line  Number  275394.0  \n",
       "3  All Luas lines  Number  839022.0  \n",
       "4        Red line  Number  408199.0  "
      ]
     },
     "execution_count": 24,
     "metadata": {},
     "output_type": "execute_result"
    }
   ],
   "source": [
    "prdf.head()"
   ]
  },
  {
   "cell_type": "markdown",
   "id": "e41658a2",
   "metadata": {},
   "source": [
    "# From web API in CSV format:"
   ]
  },
  {
   "cell_type": "code",
   "execution_count": 27,
   "id": "b7fbbcb7",
   "metadata": {},
   "outputs": [],
   "source": [
    "# Passenger Journeys by Luas\n",
    "# Source: https://data.gov.ie/dataset/tii03-passenger-journeys-by-luas\n",
    "# Unit: Weekly passenger number\n",
    "# Licence: https://creativecommons.org/licenses/by/4.0/\n",
    "prdf1 = pd.read_csv('https://ws.cso.ie/public/api.restful/PxStat.Data.Cube_API.ReadDataset/TII03/CSV/1.0/en')"
   ]
  },
  {
   "cell_type": "code",
   "execution_count": 28,
   "id": "16bdce93",
   "metadata": {},
   "outputs": [
    {
     "data": {
      "text/html": [
       "<div>\n",
       "<style scoped>\n",
       "    .dataframe tbody tr th:only-of-type {\n",
       "        vertical-align: middle;\n",
       "    }\n",
       "\n",
       "    .dataframe tbody tr th {\n",
       "        vertical-align: top;\n",
       "    }\n",
       "\n",
       "    .dataframe thead th {\n",
       "        text-align: right;\n",
       "    }\n",
       "</style>\n",
       "<table border=\"1\" class=\"dataframe\">\n",
       "  <thead>\n",
       "    <tr style=\"text-align: right;\">\n",
       "      <th></th>\n",
       "      <th>STATISTIC</th>\n",
       "      <th>Statistic Label</th>\n",
       "      <th>TLIST(W1)</th>\n",
       "      <th>Week</th>\n",
       "      <th>C03132V03784</th>\n",
       "      <th>Luas Line</th>\n",
       "      <th>UNIT</th>\n",
       "      <th>VALUE</th>\n",
       "    </tr>\n",
       "  </thead>\n",
       "  <tbody>\n",
       "    <tr>\n",
       "      <th>0</th>\n",
       "      <td>TII03C01</td>\n",
       "      <td>Passenger Journeys</td>\n",
       "      <td>2019W01</td>\n",
       "      <td>2019 Week 01</td>\n",
       "      <td>-</td>\n",
       "      <td>All Luas lines</td>\n",
       "      <td>Number</td>\n",
       "      <td>549533.0</td>\n",
       "    </tr>\n",
       "    <tr>\n",
       "      <th>1</th>\n",
       "      <td>TII03C01</td>\n",
       "      <td>Passenger Journeys</td>\n",
       "      <td>2019W01</td>\n",
       "      <td>2019 Week 01</td>\n",
       "      <td>1</td>\n",
       "      <td>Red line</td>\n",
       "      <td>Number</td>\n",
       "      <td>274139.0</td>\n",
       "    </tr>\n",
       "    <tr>\n",
       "      <th>2</th>\n",
       "      <td>TII03C01</td>\n",
       "      <td>Passenger Journeys</td>\n",
       "      <td>2019W01</td>\n",
       "      <td>2019 Week 01</td>\n",
       "      <td>2</td>\n",
       "      <td>Green line</td>\n",
       "      <td>Number</td>\n",
       "      <td>275394.0</td>\n",
       "    </tr>\n",
       "    <tr>\n",
       "      <th>3</th>\n",
       "      <td>TII03C01</td>\n",
       "      <td>Passenger Journeys</td>\n",
       "      <td>2019W02</td>\n",
       "      <td>2019 Week 02</td>\n",
       "      <td>-</td>\n",
       "      <td>All Luas lines</td>\n",
       "      <td>Number</td>\n",
       "      <td>839022.0</td>\n",
       "    </tr>\n",
       "    <tr>\n",
       "      <th>4</th>\n",
       "      <td>TII03C01</td>\n",
       "      <td>Passenger Journeys</td>\n",
       "      <td>2019W02</td>\n",
       "      <td>2019 Week 02</td>\n",
       "      <td>1</td>\n",
       "      <td>Red line</td>\n",
       "      <td>Number</td>\n",
       "      <td>408199.0</td>\n",
       "    </tr>\n",
       "  </tbody>\n",
       "</table>\n",
       "</div>"
      ],
      "text/plain": [
       "  STATISTIC     Statistic Label TLIST(W1)          Week C03132V03784  \\\n",
       "0  TII03C01  Passenger Journeys   2019W01  2019 Week 01            -   \n",
       "1  TII03C01  Passenger Journeys   2019W01  2019 Week 01            1   \n",
       "2  TII03C01  Passenger Journeys   2019W01  2019 Week 01            2   \n",
       "3  TII03C01  Passenger Journeys   2019W02  2019 Week 02            -   \n",
       "4  TII03C01  Passenger Journeys   2019W02  2019 Week 02            1   \n",
       "\n",
       "        Luas Line    UNIT     VALUE  \n",
       "0  All Luas lines  Number  549533.0  \n",
       "1        Red line  Number  274139.0  \n",
       "2      Green line  Number  275394.0  \n",
       "3  All Luas lines  Number  839022.0  \n",
       "4        Red line  Number  408199.0  "
      ]
     },
     "execution_count": 28,
     "metadata": {},
     "output_type": "execute_result"
    }
   ],
   "source": [
    "prdf1.head()"
   ]
  },
  {
   "cell_type": "markdown",
   "id": "f462e236",
   "metadata": {},
   "source": [
    "# From web API in JSON format:"
   ]
  },
  {
   "cell_type": "code",
   "execution_count": 55,
   "id": "300e329f",
   "metadata": {},
   "outputs": [],
   "source": [
    "# Requesting JSON data from the API\n",
    "response = requests.get('https://ws.cso.ie/public/api.restful/PxStat.Data.Cube_API.ReadDataset/THA25/JSON-stat/1.0/en')"
   ]
  },
  {
   "cell_type": "code",
   "execution_count": 56,
   "id": "2ac2c00a",
   "metadata": {},
   "outputs": [],
   "source": [
    "# Loading JSON data into a Python dictionary\n",
    "prdf2 = response.json()"
   ]
  },
  {
   "cell_type": "markdown",
   "id": "85d8af20",
   "metadata": {},
   "source": [
    "Before parsing JSON data, we need to understand its structure."
   ]
  },
  {
   "cell_type": "code",
   "execution_count": 58,
   "id": "44283414",
   "metadata": {},
   "outputs": [],
   "source": [
    "# Read the PNG image\n",
    "img = mpimg.imread('json_codebeautify_input.png')\n",
    "# Read the PNG image\n",
    "img1 = mpimg.imread('json_codebeautify_output.png')"
   ]
  },
  {
   "cell_type": "code",
   "execution_count": 59,
   "id": "b699308d",
   "metadata": {},
   "outputs": [
    {
     "data": {
      "image/png": "[encoded data removed]",
      "text/plain": [
       "<Figure size 640x480 with 1 Axes>"
      ]
     },
     "metadata": {},
     "output_type": "display_data"
    }
   ],
   "source": [
    "# Display the image\n",
    "plt.imshow(img)\n",
    "plt.axis('off')  # Turning off axis labels\n",
    "plt.show()"
   ]
  },
  {
   "cell_type": "code",
   "execution_count": 60,
   "id": "ec28f921",
   "metadata": {},
   "outputs": [
    {
     "data": {
      "image/png": "[encoded data removed]",
      "text/plain": [
       "<Figure size 640x480 with 1 Axes>"
      ]
     },
     "metadata": {},
     "output_type": "display_data"
    }
   ],
   "source": [
    "# Display the image\n",
    "plt.imshow(img1)\n",
    "plt.axis('off')  # Turning off axis labels\n",
    "plt.show()"
   ]
  },
  {
   "cell_type": "markdown",
   "id": "09810d3e",
   "metadata": {},
   "source": [
    "Once we understand the structure, we can begin parsing it."
   ]
  },
  {
   "cell_type": "code",
   "execution_count": 62,
   "id": "848d4fff",
   "metadata": {},
   "outputs": [],
   "source": [
    "# Extracting statistic label 'Passenger Journeys'\n",
    "statistic_label = [prdf2['dataset']['dimension']['STATISTIC']['category']['label']['THA25C01']]"
   ]
  },
  {
   "cell_type": "markdown",
   "id": "176338de",
   "metadata": {},
   "source": [
    "- **`prdf2`**: This is the variable representing the Python dictionary containing the JSON data obtained from the API response.\n",
    "\n",
    "- **`['dataset']`**: This accesses the 'dataset' key within the dictionary.\n",
    "\n",
    "- **`['dimension']`**: This accesses the 'dimension' key within the 'dataset' part of the dictionary.\n",
    "\n",
    "- **`['STATISTIC']`**: This accesses the 'STATISTIC' key within the 'dimension' part of the dictionary.\n",
    "\n",
    "- **`['category']`**: This accesses the 'category' key within the 'STATISTIC' part of the dictionary.\n",
    "\n",
    "- **`['label']`**: This accesses the 'label' key within the 'category' part of the dictionary.\n",
    "\n",
    "- **`['THA25C01']`**: This accesses the specific label with the key 'THA25C01' within the 'label' part of the dictionary.\n",
    "\n",
    "- **`[...]`**: This entire expression is enclosed in square brackets (`[]`), creating a list. In this case, it's a list containing a single element, which is the value corresponding to the 'THA25C01' key.\n",
    "\n",
    "**week_index**, **week_label**, **transmode_index** and **transmode_label** will follow the same logic."
   ]
  },
  {
   "cell_type": "code",
   "execution_count": 63,
   "id": "e6682539",
   "metadata": {},
   "outputs": [],
   "source": [
    "# Extracting the labels and indices for the 'Week' dimension\n",
    "week_index = list(prdf2['dataset']['dimension']['TLIST(W1)']['category']['index'].values())\n",
    "week_label = list(prdf2['dataset']['dimension']['TLIST(W1)']['category']['label'].values())"
   ]
  },
  {
   "cell_type": "code",
   "execution_count": 33,
   "id": "9a55d7cb",
   "metadata": {},
   "outputs": [],
   "source": [
    "# Extracting the labels and indices for the 'Mode of Transport' dimension\n",
    "transmode_index = list(prdf2['dataset']['dimension']['C03935V04687']['category']['index'].keys())\n",
    "transmode_label = list(prdf2['dataset']['dimension']['C03935V04687']['category']['label'].values())"
   ]
  },
  {
   "cell_type": "code",
   "execution_count": null,
   "id": "daa48e5e",
   "metadata": {},
   "outputs": [],
   "source": [
    "# Creating a MultiIndex for the DataFrame\n",
    "index = pd.MultiIndex.from_product([statistic_label, week_label, transmode_label], names=['Statistic', 'Week', 'Mode_of_Transport'])"
   ]
  },
  {
   "cell_type": "markdown",
   "id": "2bbd0c15",
   "metadata": {},
   "source": [
    "**`pd.MultiIndex.from_product`:** This is a method provided by the Pandas library for creating a MultiIndex. A MultiIndex is an index structure that allows you to have multiple levels of indexing in a DataFrame.\n",
    "\n",
    "**`[statistic_label, week_label, transmode_label]`:** This part creates a list containing three elements: `statistic_label`, `week_label`, and `transmode_label`. Each of these represents a label associated with a specific dimension. For example, `statistic_label` might be something like ['Passenger Journeys'].\n",
    "\n",
    "**`names=['Statistic', 'Week', 'Mode_of_Transport']`:** This specifies the names for each level of the MultiIndex. In this case, the levels are named 'Statistic', 'Week', and 'Mode_of_Transport'. These names can be used later to reference the levels in the DataFrame.\n",
    "\n",
    "**`index = pd.MultiIndex.from_product(...)`:** This is assigning the created MultiIndex to the variable `index`. It will be used as the index for the DataFrame.\n",
    "\n",
    "In summary, this line of code is creating a MultiIndex for a DataFrame with three levels: 'Statistic', 'Week', and 'Mode_of_Transport'. The values for each level come from the lists `statistic_label`, `week_label`, and `transmode_label`. This MultiIndex will be used to set the hierarchical index of the DataFrame.\n"
   ]
  },
  {
   "cell_type": "code",
   "execution_count": 67,
   "id": "30b335bb",
   "metadata": {},
   "outputs": [
    {
     "data": {
      "text/html": [
       "<div>\n",
       "<style scoped>\n",
       "    .dataframe tbody tr th:only-of-type {\n",
       "        vertical-align: middle;\n",
       "    }\n",
       "\n",
       "    .dataframe tbody tr th {\n",
       "        vertical-align: top;\n",
       "    }\n",
       "\n",
       "    .dataframe thead th {\n",
       "        text-align: right;\n",
       "    }\n",
       "</style>\n",
       "<table border=\"1\" class=\"dataframe\">\n",
       "  <thead>\n",
       "    <tr style=\"text-align: right;\">\n",
       "      <th></th>\n",
       "      <th>Statistic</th>\n",
       "      <th>Week</th>\n",
       "      <th>Mode_of_Transport</th>\n",
       "      <th>VALUE</th>\n",
       "    </tr>\n",
       "  </thead>\n",
       "  <tbody>\n",
       "    <tr>\n",
       "      <th>0</th>\n",
       "      <td>Passenger Journeys</td>\n",
       "      <td>2019 Week 01</td>\n",
       "      <td>Dublin Metro Bus</td>\n",
       "      <td>1987891.0</td>\n",
       "    </tr>\n",
       "    <tr>\n",
       "      <th>1</th>\n",
       "      <td>Passenger Journeys</td>\n",
       "      <td>2019 Week 01</td>\n",
       "      <td>Bus, excluding Dublin Metro</td>\n",
       "      <td>497598.0</td>\n",
       "    </tr>\n",
       "    <tr>\n",
       "      <th>2</th>\n",
       "      <td>Passenger Journeys</td>\n",
       "      <td>2019 Week 01</td>\n",
       "      <td>Rail</td>\n",
       "      <td>NaN</td>\n",
       "    </tr>\n",
       "    <tr>\n",
       "      <th>3</th>\n",
       "      <td>Passenger Journeys</td>\n",
       "      <td>2019 Week 01</td>\n",
       "      <td>All public transport, excluding LUAS</td>\n",
       "      <td>2485489.0</td>\n",
       "    </tr>\n",
       "    <tr>\n",
       "      <th>4</th>\n",
       "      <td>Passenger Journeys</td>\n",
       "      <td>2019 Week 02</td>\n",
       "      <td>Dublin Metro Bus</td>\n",
       "      <td>2709579.0</td>\n",
       "    </tr>\n",
       "  </tbody>\n",
       "</table>\n",
       "</div>"
      ],
      "text/plain": [
       "            Statistic          Week                     Mode_of_Transport  \\\n",
       "0  Passenger Journeys  2019 Week 01                      Dublin Metro Bus   \n",
       "1  Passenger Journeys  2019 Week 01           Bus, excluding Dublin Metro   \n",
       "2  Passenger Journeys  2019 Week 01                                  Rail   \n",
       "3  Passenger Journeys  2019 Week 01  All public transport, excluding LUAS   \n",
       "4  Passenger Journeys  2019 Week 02                      Dublin Metro Bus   \n",
       "\n",
       "       VALUE  \n",
       "0  1987891.0  \n",
       "1   497598.0  \n",
       "2        NaN  \n",
       "3  2485489.0  \n",
       "4  2709579.0  "
      ]
     },
     "execution_count": 67,
     "metadata": {},
     "output_type": "execute_result"
    }
   ],
   "source": [
    "# Extracting the values information\n",
    "values = prdf2['dataset']['value']\n",
    "\n",
    "# Creating the DataFrame\n",
    "prdf2 = pd.DataFrame(values, columns=['VALUE'], index=index)\n",
    "\n",
    "# Resetting index to convert MultiIndex to columns\n",
    "prdf2.reset_index(inplace=True)\n",
    "\n",
    "# Display 5 first rows\n",
    "prdf2.head()"
   ]
  },
  {
   "cell_type": "markdown",
   "id": "588702a3",
   "metadata": {},
   "source": [
    "# From eurostat module:\n",
    "The **eurostat** package is a Python library designed to facilitate the retrieval and manipulation of data from the Eurostat database.\n",
    "\n",
    "The **eurostat** package simplifies the process of accessing Eurostat data by providing a convenient interface for querying and retrieving datasets directly into a Pandas DataFrame."
   ]
  },
  {
   "cell_type": "code",
   "execution_count": 86,
   "id": "38ec4196",
   "metadata": {},
   "outputs": [
    {
     "data": {
      "text/html": [
       "<div>\n",
       "<style scoped>\n",
       "    .dataframe tbody tr th:only-of-type {\n",
       "        vertical-align: middle;\n",
       "    }\n",
       "\n",
       "    .dataframe tbody tr th {\n",
       "        vertical-align: top;\n",
       "    }\n",
       "\n",
       "    .dataframe thead th {\n",
       "        text-align: right;\n",
       "    }\n",
       "</style>\n",
       "<table border=\"1\" class=\"dataframe\">\n",
       "  <thead>\n",
       "    <tr style=\"text-align: right;\">\n",
       "      <th></th>\n",
       "      <th>freq</th>\n",
       "      <th>unit</th>\n",
       "      <th>vehicle</th>\n",
       "      <th>geo\\TIME_PERIOD</th>\n",
       "      <th>1990_value</th>\n",
       "      <th>1990_flag</th>\n",
       "      <th>1991_value</th>\n",
       "      <th>1991_flag</th>\n",
       "      <th>1992_value</th>\n",
       "      <th>1992_flag</th>\n",
       "      <th>...</th>\n",
       "      <th>2017_value</th>\n",
       "      <th>2017_flag</th>\n",
       "      <th>2018_value</th>\n",
       "      <th>2018_flag</th>\n",
       "      <th>2019_value</th>\n",
       "      <th>2019_flag</th>\n",
       "      <th>2020_value</th>\n",
       "      <th>2020_flag</th>\n",
       "      <th>2021_value</th>\n",
       "      <th>2021_flag</th>\n",
       "    </tr>\n",
       "  </thead>\n",
       "  <tbody>\n",
       "    <tr>\n",
       "      <th>0</th>\n",
       "      <td>A</td>\n",
       "      <td>PC</td>\n",
       "      <td>BUS_TOT</td>\n",
       "      <td>AT</td>\n",
       "      <td>11.0</td>\n",
       "      <td></td>\n",
       "      <td>10.6</td>\n",
       "      <td></td>\n",
       "      <td>10.5</td>\n",
       "      <td></td>\n",
       "      <td>...</td>\n",
       "      <td>10.0</td>\n",
       "      <td></td>\n",
       "      <td>9.5</td>\n",
       "      <td>be</td>\n",
       "      <td>9.7</td>\n",
       "      <td>e</td>\n",
       "      <td>9.3</td>\n",
       "      <td>e</td>\n",
       "      <td>9.0</td>\n",
       "      <td>e</td>\n",
       "    </tr>\n",
       "    <tr>\n",
       "      <th>1</th>\n",
       "      <td>A</td>\n",
       "      <td>PC</td>\n",
       "      <td>BUS_TOT</td>\n",
       "      <td>BE</td>\n",
       "      <td>10.6</td>\n",
       "      <td>e</td>\n",
       "      <td>10.7</td>\n",
       "      <td>e</td>\n",
       "      <td>10.7</td>\n",
       "      <td>e</td>\n",
       "      <td>...</td>\n",
       "      <td>10.2</td>\n",
       "      <td>e</td>\n",
       "      <td>10.3</td>\n",
       "      <td>e</td>\n",
       "      <td>10.4</td>\n",
       "      <td>e</td>\n",
       "      <td>8.2</td>\n",
       "      <td>e</td>\n",
       "      <td>8.2</td>\n",
       "      <td>e</td>\n",
       "    </tr>\n",
       "    <tr>\n",
       "      <th>2</th>\n",
       "      <td>A</td>\n",
       "      <td>PC</td>\n",
       "      <td>BUS_TOT</td>\n",
       "      <td>BG</td>\n",
       "      <td>NaN</td>\n",
       "      <td>:</td>\n",
       "      <td>NaN</td>\n",
       "      <td>:</td>\n",
       "      <td>NaN</td>\n",
       "      <td>:</td>\n",
       "      <td>...</td>\n",
       "      <td>13.1</td>\n",
       "      <td>e</td>\n",
       "      <td>12.0</td>\n",
       "      <td>e</td>\n",
       "      <td>13.0</td>\n",
       "      <td>e</td>\n",
       "      <td>8.6</td>\n",
       "      <td>e</td>\n",
       "      <td>8.0</td>\n",
       "      <td>e</td>\n",
       "    </tr>\n",
       "    <tr>\n",
       "      <th>3</th>\n",
       "      <td>A</td>\n",
       "      <td>PC</td>\n",
       "      <td>BUS_TOT</td>\n",
       "      <td>CH</td>\n",
       "      <td>3.7</td>\n",
       "      <td></td>\n",
       "      <td>3.9</td>\n",
       "      <td></td>\n",
       "      <td>4.0</td>\n",
       "      <td></td>\n",
       "      <td>...</td>\n",
       "      <td>5.9</td>\n",
       "      <td>e</td>\n",
       "      <td>5.9</td>\n",
       "      <td>e</td>\n",
       "      <td>6.1</td>\n",
       "      <td>e</td>\n",
       "      <td>5.8</td>\n",
       "      <td>e</td>\n",
       "      <td>5.9</td>\n",
       "      <td>e</td>\n",
       "    </tr>\n",
       "    <tr>\n",
       "      <th>4</th>\n",
       "      <td>A</td>\n",
       "      <td>PC</td>\n",
       "      <td>BUS_TOT</td>\n",
       "      <td>CY</td>\n",
       "      <td>NaN</td>\n",
       "      <td>:</td>\n",
       "      <td>NaN</td>\n",
       "      <td>:</td>\n",
       "      <td>NaN</td>\n",
       "      <td>:</td>\n",
       "      <td>...</td>\n",
       "      <td>19.0</td>\n",
       "      <td>e</td>\n",
       "      <td>18.9</td>\n",
       "      <td>e</td>\n",
       "      <td>18.5</td>\n",
       "      <td>e</td>\n",
       "      <td>12.6</td>\n",
       "      <td>e</td>\n",
       "      <td>12.7</td>\n",
       "      <td>e</td>\n",
       "    </tr>\n",
       "  </tbody>\n",
       "</table>\n",
       "<p>5 rows × 68 columns</p>\n",
       "</div>"
      ],
      "text/plain": [
       "  freq unit  vehicle geo\\TIME_PERIOD  1990_value 1990_flag  1991_value  \\\n",
       "0    A   PC  BUS_TOT              AT        11.0                  10.6   \n",
       "1    A   PC  BUS_TOT              BE        10.6         e        10.7   \n",
       "2    A   PC  BUS_TOT              BG         NaN         :         NaN   \n",
       "3    A   PC  BUS_TOT              CH         3.7                   3.9   \n",
       "4    A   PC  BUS_TOT              CY         NaN         :         NaN   \n",
       "\n",
       "  1991_flag  1992_value 1992_flag  ...  2017_value 2017_flag  2018_value  \\\n",
       "0                  10.5            ...        10.0                   9.5   \n",
       "1         e        10.7         e  ...        10.2         e        10.3   \n",
       "2         :         NaN         :  ...        13.1         e        12.0   \n",
       "3                   4.0            ...         5.9         e         5.9   \n",
       "4         :         NaN         :  ...        19.0         e        18.9   \n",
       "\n",
       "  2018_flag  2019_value 2019_flag  2020_value 2020_flag  2021_value 2021_flag  \n",
       "0        be         9.7         e         9.3         e         9.0         e  \n",
       "1         e        10.4         e         8.2         e         8.2         e  \n",
       "2         e        13.0         e         8.6         e         8.0         e  \n",
       "3         e         6.1         e         5.8         e         5.9         e  \n",
       "4         e        18.5         e        12.6         e        12.7         e  \n",
       "\n",
       "[5 rows x 68 columns]"
      ]
     },
     "execution_count": 86,
     "metadata": {},
     "output_type": "execute_result"
    }
   ],
   "source": [
    "# Modal split of inland passenger transport\n",
    "# Unit of measure (% based on passenger-kilometres) : one passenger-km is one passenger transported over one kilometre\n",
    "# https://ec.europa.eu/eurostat/databrowser/view/TRAN_HV_PSMOD__custom_2638259/bookmark/table?lang=en&bookmarkId=2d735f97-a7d6-4b24-bc27-a6c8e21db6a7\n",
    "# Licence: https://ec.europa.eu/eurostat/about-us/policies/copyright\n",
    "prdf3 = eurostat.get_data_df('TRAN_HV_PSMOD',True)                                                                 \n",
    "prdf3.head()"
   ]
  },
  {
   "cell_type": "code",
   "execution_count": 87,
   "id": "c3b02fb1",
   "metadata": {},
   "outputs": [],
   "source": [
    "prdf3.to_csv('TRAN_HV_PSMOD.csv', index=False)"
   ]
  },
  {
   "cell_type": "code",
   "execution_count": null,
   "id": "2a5f0026",
   "metadata": {},
   "outputs": [],
   "source": []
  },
  {
   "cell_type": "code",
   "execution_count": null,
   "id": "8b4621c3",
   "metadata": {},
   "outputs": [],
   "source": []
  },
  {
   "cell_type": "code",
   "execution_count": null,
   "id": "69c348b7",
   "metadata": {},
   "outputs": [],
   "source": []
  }
 ],
 "metadata": {
  "kernelspec": {
   "display_name": "Python 3 (ipykernel)",
   "language": "python",
   "name": "python3"
  },
  "language_info": {
   "codemirror_mode": {
    "name": "ipython",
    "version": 3
   },
   "file_extension": ".py",
   "mimetype": "text/x-python",
   "name": "python",
   "nbconvert_exporter": "python",
   "pygments_lexer": "ipython3",
   "version": "3.11.5"
  }
 },
 "nbformat": 4,
 "nbformat_minor": 5
}
